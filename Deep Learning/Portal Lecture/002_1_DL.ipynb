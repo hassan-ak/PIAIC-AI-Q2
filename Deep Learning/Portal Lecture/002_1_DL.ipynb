{
 "cells": [
  {
   "cell_type": "markdown",
   "metadata": {},
   "source": [
    "# Deep Learning - 2"
   ]
  },
  {
   "cell_type": "markdown",
   "metadata": {},
   "source": [
    "## 2.1 Building Blocks of Neural Networks\n",
    "- all data to be processed be in vector form\n",
    "- Topics\n",
    "    - A basic example of neural network\n",
    "    - Tensor\n",
    "    - Tensor Operations\n",
    "    - Howneural network works\n",
    "    - Backpropagation\n",
    "    - gradient descent"
   ]
  },
  {
   "cell_type": "markdown",
   "metadata": {},
   "source": [
    "## 2.2 Classes and Labels\n",
    "- In machine learning, a category in a classification problem is called a class. Data points are called samples. The class associated with a specific sample is called a label."
   ]
  },
  {
   "cell_type": "markdown",
   "metadata": {},
   "source": [
    "## 2.3 Machine Learning Problems\n",
    "- Classification Problem\n",
    "    - A classification problem is when the output variable is a category"
   ]
  },
  {
   "cell_type": "markdown",
   "metadata": {},
   "source": [
    "## 2.4 Discuss Datasets for Practical"
   ]
  },
  {
   "cell_type": "markdown",
   "metadata": {},
   "source": [
    "## 2.5 Setting up local environment\n",
    "- `pip install --upgrade tensorflow`"
   ]
  },
  {
   "cell_type": "markdown",
   "metadata": {},
   "source": [
    "## 2.6 Introduction Of Google Colab\n",
    "- `!pip install -- upgrade tensorflow`\n"
   ]
  }
 ],
 "metadata": {
  "language_info": {
   "name": "python"
  },
  "orig_nbformat": 4
 },
 "nbformat": 4,
 "nbformat_minor": 2
}
