{
  "cells": [
    {
      "cell_type": "markdown",
      "metadata": {},
      "source": [
        "# Deep Learning - 2"
      ]
    },
    {
      "cell_type": "markdown",
      "metadata": {
        "id": "PpBkTS_KMfVP"
      },
      "source": [
        "## 2.7 Practical Example with Mnist Dataset"
      ]
    },
    {
      "cell_type": "code",
      "execution_count": 1,
      "metadata": {
        "id": "gp87GnocMfVe"
      },
      "outputs": [],
      "source": [
        "# Listing 2.1 Loading the MNIST dataset in Keras\n",
        "\n",
        "    # grayscale images\n",
        "    # 28 * 28 pixcels\n",
        "    # 10 classes\n",
        "    # 60000 training\n",
        "    # 10000 testing\n",
        "\n",
        "# import mnist data set from keras\n",
        "from tensorflow.keras.datasets import mnist"
      ]
    },
    {
      "cell_type": "code",
      "execution_count": 2,
      "metadata": {
        "id": "aFSjlLrgMfVf"
      },
      "outputs": [],
      "source": [
        "# Listing 2.1 Loading the MNIST dataset in Keras\n",
        "\n",
        "# split data to training and testing data sets\n",
        "# data\n",
        "    # images\n",
        "    # labels\n",
        "# train_images and train_labels form the training set,\n",
        "# test set, test_images and test_labels\n",
        "(train_images, train_labels), (test_images, test_labels) = mnist.load_data()\n",
        "# The images are encoded as Numpy arrays\n",
        "# labels are an array of digits, ranging from 0 to 9. \n",
        "# The images and labels have a one-to-one correspondence."
      ]
    },
    {
      "cell_type": "code",
      "execution_count": 3,
      "metadata": {
        "colab": {
          "base_uri": "https://localhost:8080/"
        },
        "id": "rakMNB1eMfVh",
        "outputId": "1cab7879-5a93-4a8e-bd09-60a1b101f379"
      },
      "outputs": [
        {
          "name": "stdout",
          "output_type": "stream",
          "text": [
            "Shape of training images :  (60000, 28, 28)\n",
            "Shape of training images labels :  (60000,)\n",
            "Labels of training images :  [5 0 4 ... 5 6 8]\n"
          ]
        }
      ],
      "source": [
        "# training data\n",
        "print(\"Shape of training images : \",train_images.shape)\n",
        "print(\"Shape of training images labels : \",train_labels.shape)\n",
        "print(\"Labels of training images : \",train_labels)"
      ]
    },
    {
      "cell_type": "code",
      "execution_count": 4,
      "metadata": {
        "colab": {
          "base_uri": "https://localhost:8080/"
        },
        "id": "zMUNneR2MfVi",
        "outputId": "792d1d98-1943-479e-c4b4-4a96338dac08"
      },
      "outputs": [
        {
          "name": "stdout",
          "output_type": "stream",
          "text": [
            "Shape of test images :  (10000, 28, 28)\n",
            "Shape of test images labels :  (10000,)\n",
            "Labels of test images :  [7 2 1 ... 4 5 6]\n"
          ]
        }
      ],
      "source": [
        "# testing data\n",
        "print(\"Shape of test images : \",test_images.shape)\n",
        "print(\"Shape of test images labels : \",test_labels.shape)\n",
        "print(\"Labels of test images : \",test_labels)"
      ]
    },
    {
      "cell_type": "code",
      "execution_count": 5,
      "metadata": {
        "colab": {
          "base_uri": "https://localhost:8080/",
          "height": 466
        },
        "id": "yAEPkwASMfVl",
        "outputId": "5f1992b6-dbf3-4977-f391-67a1f1741b12"
      },
      "outputs": [
        {
          "data": {
            "image/png": "[encoded data removed]",
            "text/plain": [
              "<Figure size 576x576 with 1 Axes>"
            ]
          },
          "metadata": {
            "needs_background": "light"
          },
          "output_type": "display_data"
        }
      ],
      "source": [
        "# Check one of the image\n",
        "import matplotlib.pylab as plt\n",
        "def plti(im, h=8, **kwargs):\n",
        "    \"\"\"\n",
        "    Helper function to plot an image.\n",
        "    \"\"\"\n",
        "    y = im.shape[0]\n",
        "    x = im.shape[1]\n",
        "    w = (y/x) * h\n",
        "    plt.figure(figsize=(w, h))\n",
        "    plt.imshow(im, interpolation=\"none\", **kwargs)\n",
        "    plt.axis('off')\n",
        "plti(train_images[0])"
      ]
    },
    {
      "cell_type": "code",
      "execution_count": 6,
      "metadata": {
        "id": "70ri_cdfMfVn"
      },
      "outputs": [],
      "source": [
        "# Listing 2.2 The network architecture\n",
        "\n",
        "# import model and layers\n",
        "from tensorflow import keras\n",
        "from tensorflow.keras import layers\n",
        "\n",
        "# Define network and layers\n",
        "model = keras.Sequential([\n",
        "    layers.Dense(512,activation=\"relu\"),\n",
        "    layers.Dense(10,activation=\"softmax\")\n",
        "])"
      ]
    },
    {
      "cell_type": "code",
      "execution_count": 7,
      "metadata": {
        "id": "9bQ0LnxLMfVp"
      },
      "outputs": [],
      "source": [
        "# Listing 2.3 The compilation step\n",
        "\n",
        "model.compile(\n",
        "        optimizer=\"rmsprop\",\n",
        "        loss=\"sparse_categorical_crossentropy\",\n",
        "        metrics=[\"accuracy\"]\n",
        "    )"
      ]
    },
    {
      "cell_type": "code",
      "execution_count": 8,
      "metadata": {
        "id": "_ObNB5fFMfVq"
      },
      "outputs": [],
      "source": [
        "# Listing 2.4 Preparing the image data\n",
        "\n",
        "# We need to reshape our data as it is of shape (60000,28,28) \n",
        "# on the other hand we need to use this data as initial nodes\n",
        "# thus data is reshaped to (60000,28*28)\n",
        "train_images = train_images.reshape((60000, 28 * 28))\n",
        "test_images = test_images.reshape((10000, 28 * 28))\n",
        "# Initally values are between interval [0,225]\n",
        "# scale them to be in interval [0,1]\n",
        "train_images = train_images.astype(\"float32\") / 255\n",
        "test_images = test_images.astype(\"float32\") / 255"
      ]
    },
    {
      "cell_type": "code",
      "execution_count": 9,
      "metadata": {
        "id": "AzaaLeOFMfVq"
      },
      "outputs": [],
      "source": [
        "# One hot encoding\n",
        "\n",
        "#       A*  A   B*  B   C   D   F\n",
        "#   A*  1   0   0   0   0   0   0\n",
        "#   A   0   1   0   0   0   0   0\n",
        "#   B*  0   0   1   0   0   0   0\n",
        "#   B   0   0   0   1   0   0   0\n",
        "#   C   0   0   0   0   1   0   0\n",
        "#   D   0   0   0   0   0   1   0\n",
        "#   F   0   0   0   0   0   0   1"
      ]
    },
    {
      "cell_type": "code",
      "execution_count": 10,
      "metadata": {
        "id": "j5t-EmNyMfVr"
      },
      "outputs": [],
      "source": [
        "# print(train_labels[0])\n",
        "# # Not as such required in latest version \n",
        "# from tensorflow.keras.utils import to_categorical\n",
        "# train_labels = to_categorical(train_labels)\n",
        "# test_labels = to_categorical(test_labels)\n",
        "# print(train_labels[0])"
      ]
    },
    {
      "cell_type": "code",
      "execution_count": 11,
      "metadata": {
        "colab": {
          "base_uri": "https://localhost:8080/"
        },
        "id": "sDJsHOpzMfVr",
        "outputId": "9bcc88d7-20a6-4e3f-adfd-74b7c391d4a8"
      },
      "outputs": [
        {
          "name": "stdout",
          "output_type": "stream",
          "text": [
            "Epoch 1/5\n",
            "469/469 [==============================] - 11s 20ms/step - loss: 0.2554 - accuracy: 0.9262\n",
            "Epoch 2/5\n",
            "469/469 [==============================] - 9s 19ms/step - loss: 0.1045 - accuracy: 0.9687\n",
            "Epoch 3/5\n",
            "469/469 [==============================] - 5s 11ms/step - loss: 0.0688 - accuracy: 0.9799\n",
            "Epoch 4/5\n",
            "469/469 [==============================] - 5s 11ms/step - loss: 0.0492 - accuracy: 0.9853\n",
            "Epoch 5/5\n",
            "469/469 [==============================] - 5s 11ms/step - loss: 0.0377 - accuracy: 0.9887\n"
          ]
        },
        {
          "data": {
            "text/plain": [
              "<keras.callbacks.History at 0x7fd50e385cd0>"
            ]
          },
          "execution_count": 11,
          "metadata": {},
          "output_type": "execute_result"
        }
      ],
      "source": [
        "# Listing 2.5 “Fitting” the model\n",
        "# train the model, \n",
        "    # we fit the model to its training data.\n",
        "model.fit(train_images, train_labels, epochs=5, batch_size=128)\n",
        "# Accuracy and loss is over the training data"
      ]
    },
    {
      "cell_type": "code",
      "execution_count": 12,
      "metadata": {
        "colab": {
          "base_uri": "https://localhost:8080/"
        },
        "id": "B-jYICJwMfVs",
        "outputId": "3c21578f-409c-4b1c-f024-ba0a9c36db71"
      },
      "outputs": [
        {
          "name": "stdout",
          "output_type": "stream",
          "text": [
            "(10,)\n"
          ]
        },
        {
          "data": {
            "text/plain": [
              "array([2.5061636e-08, 1.8423772e-10, 3.8960752e-06, 9.5133502e-05,\n",
              "       4.3010400e-12, 2.5220203e-07, 3.5580954e-14, 9.9989963e-01,\n",
              "       1.5831378e-07, 8.7709481e-07], dtype=float32)"
            ]
          },
          "execution_count": 12,
          "metadata": {},
          "output_type": "execute_result"
        }
      ],
      "source": [
        "# Listing 2.6 Using the model to make predictions\n",
        "\n",
        "import numpy as np\n",
        "# Take first 10 images from the test images\n",
        "test_digits = test_images[0:10]\n",
        "# predict the model behaviour on the slice of test images\n",
        "predictions = model.predict(test_digits)\n",
        "# check predictio of first test digit\n",
        "print(np.shape(predictions[0]))\n",
        "# Each prdiction is probability of ten classes\n",
        "predictions[0]"
      ]
    },
    {
      "cell_type": "code",
      "execution_count": 13,
      "metadata": {
        "colab": {
          "base_uri": "https://localhost:8080/"
        },
        "id": "zO5Hyx8IMfVt",
        "outputId": "fa640043-5a71-4a7f-dd1d-790c9df848c6"
      },
      "outputs": [
        {
          "data": {
            "text/plain": [
              "7"
            ]
          },
          "execution_count": 13,
          "metadata": {},
          "output_type": "execute_result"
        }
      ],
      "source": [
        "# find index of the higest probability which crosponds to the same label as index\n",
        "predictions[0].argmax()"
      ]
    },
    {
      "cell_type": "code",
      "execution_count": 14,
      "metadata": {
        "colab": {
          "base_uri": "https://localhost:8080/"
        },
        "id": "nNfMaz5jMfVu",
        "outputId": "48862818-c04c-4663-eaf7-4d1a2b7182de"
      },
      "outputs": [
        {
          "data": {
            "text/plain": [
              "0.9998996"
            ]
          },
          "execution_count": 14,
          "metadata": {},
          "output_type": "execute_result"
        }
      ],
      "source": [
        "# higest probability\n",
        "predictions[0][7]"
      ]
    },
    {
      "cell_type": "code",
      "execution_count": 15,
      "metadata": {
        "colab": {
          "base_uri": "https://localhost:8080/"
        },
        "id": "CeyPGU0TMfVv",
        "outputId": "e5eab973-c8da-4add-eca8-e9bf9f2214cf"
      },
      "outputs": [
        {
          "data": {
            "text/plain": [
              "7"
            ]
          },
          "execution_count": 15,
          "metadata": {},
          "output_type": "execute_result"
        }
      ],
      "source": [
        "# Check the label from the test tabels\n",
        "test_labels[0]"
      ]
    },
    {
      "cell_type": "code",
      "execution_count": 16,
      "metadata": {
        "colab": {
          "base_uri": "https://localhost:8080/"
        },
        "id": "RMWEsXK9MfVv",
        "outputId": "14f81ada-2226-41b9-a87d-4f5e4ad8da26"
      },
      "outputs": [
        {
          "name": "stdout",
          "output_type": "stream",
          "text": [
            "313/313 [==============================] - 1s 3ms/step - loss: 0.0677 - accuracy: 0.9809\n",
            "test_acc: 0.98089998960495\n",
            "test_loss: 0.06767154484987259\n"
          ]
        }
      ],
      "source": [
        "# Listing 2.7 Evaluating the model on new data\n",
        "\n",
        "# compute average accuracy over the entire test set\n",
        "test_loss, test_acc = model.evaluate(test_images, test_labels)\n",
        "print(f\"test_acc: {test_acc}\")\n",
        "print(f\"test_loss: {test_loss}\")"
      ]
    },
    {
      "cell_type": "code",
      "execution_count": 17,
      "metadata": {
        "id": "zChP3_djMfVw"
      },
      "outputs": [],
      "source": [
        "# gap between training accuracy and test accuracy is an example of overfitting"
      ]
    }
  ],
  "metadata": {
    "accelerator": "TPU",
    "colab": {
      "collapsed_sections": [],
      "name": "1.ipynb",
      "provenance": []
    },
    "interpreter": {
      "hash": "916dbcbb3f70747c44a77c7bcd40155683ae19c65e1c03b4aa3499c5328201f1"
    },
    "kernelspec": {
      "display_name": "Python 3.8.10 64-bit",
      "language": "python",
      "name": "python3"
    },
    "language_info": {
      "codemirror_mode": {
        "name": "ipython",
        "version": 3
      },
      "file_extension": ".py",
      "mimetype": "text/x-python",
      "name": "python",
      "nbconvert_exporter": "python",
      "pygments_lexer": "ipython3",
      "version": "3.8.10"
    },
    "orig_nbformat": 4
  },
  "nbformat": 4,
  "nbformat_minor": 0
}
