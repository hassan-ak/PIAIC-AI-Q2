{
  "cells": [
    {
      "cell_type": "markdown",
      "metadata": {
        "id": "MaAq9blCOklI"
      },
      "source": [
        "# Deep Learning - 3"
      ]
    },
    {
      "cell_type": "markdown",
      "metadata": {},
      "source": [
        "## 3.6 IMDB Practical Part-1"
      ]
    },
    {
      "cell_type": "code",
      "execution_count": 1,
      "metadata": {
        "id": "EOHwpHw2OYsl"
      },
      "outputs": [],
      "source": [
        "# Listing 4.1 Loading the IMDB dataset\n",
        "from tensorflow.keras.datasets import imdb\n",
        "(train_data, train_labels), (test_data, test_labels) = imdb.load_data(num_words=10000)"
      ]
    },
    {
      "cell_type": "code",
      "execution_count": 2,
      "metadata": {
        "colab": {
          "base_uri": "https://localhost:8080/"
        },
        "id": "lGInlix8aMRr",
        "outputId": "6a5ce132-6c05-46b9-cb69-817b11f4636d"
      },
      "outputs": [
        {
          "name": "stdout",
          "output_type": "stream",
          "text": [
            "Shape of training data :  (25000,)\n",
            "Shape of training labels :  (25000,)\n",
            "Shape of testing data :  (25000,)\n",
            "Shape of training labels :  (25000,)\n"
          ]
        }
      ],
      "source": [
        "# shape of data\n",
        "print(\"Shape of training data : \",train_data.shape)\n",
        "print(\"Shape of training labels : \",train_labels.shape)\n",
        "print(\"Shape of testing data : \",test_data.shape)\n",
        "print(\"Shape of training labels : \",train_labels.shape)"
      ]
    },
    {
      "cell_type": "code",
      "execution_count": 3,
      "metadata": {
        "colab": {
          "base_uri": "https://localhost:8080/"
        },
        "id": "ymOmrgUMa3M2",
        "outputId": "c5e86f5f-a940-4b8e-a7af-e0997201f3f2"
      },
      "outputs": [
        {
          "name": "stdout",
          "output_type": "stream",
          "text": [
            "1st review from training data :  [1, 14, 22, 16, 43, 530, 973, 1622, 1385, 65, 458, 4468, 66, 3941, 4, 173, 36, 256, 5, 25, 100, 43, 838, 112, 50, 670, 2, 9, 35, 480, 284, 5, 150, 4, 172, 112, 167, 2, 336, 385, 39, 4, 172, 4536, 1111, 17, 546, 38, 13, 447, 4, 192, 50, 16, 6, 147, 2025, 19, 14, 22, 4, 1920, 4613, 469, 4, 22, 71, 87, 12, 16, 43, 530, 38, 76, 15, 13, 1247, 4, 22, 17, 515, 17, 12, 16, 626, 18, 2, 5, 62, 386, 12, 8, 316, 8, 106, 5, 4, 2223, 5244, 16, 480, 66, 3785, 33, 4, 130, 12, 16, 38, 619, 5, 25, 124, 51, 36, 135, 48, 25, 1415, 33, 6, 22, 12, 215, 28, 77, 52, 5, 14, 407, 16, 82, 2, 8, 4, 107, 117, 5952, 15, 256, 4, 2, 7, 3766, 5, 723, 36, 71, 43, 530, 476, 26, 400, 317, 46, 7, 4, 2, 1029, 13, 104, 88, 4, 381, 15, 297, 98, 32, 2071, 56, 26, 141, 6, 194, 7486, 18, 4, 226, 22, 21, 134, 476, 26, 480, 5, 144, 30, 5535, 18, 51, 36, 28, 224, 92, 25, 104, 4, 226, 65, 16, 38, 1334, 88, 12, 16, 283, 5, 16, 4472, 113, 103, 32, 15, 16, 5345, 19, 178, 32]\n",
            "1st label from training data :  1\n",
            "1st review from testing data :  [1, 591, 202, 14, 31, 6, 717, 10, 10, 2, 2, 5, 4, 360, 7, 4, 177, 5760, 394, 354, 4, 123, 9, 1035, 1035, 1035, 10, 10, 13, 92, 124, 89, 488, 7944, 100, 28, 1668, 14, 31, 23, 27, 7479, 29, 220, 468, 8, 124, 14, 286, 170, 8, 157, 46, 5, 27, 239, 16, 179, 2, 38, 32, 25, 7944, 451, 202, 14, 6, 717]\n",
            "1st label from testing data :  0\n"
          ]
        }
      ],
      "source": [
        "# samples of data\n",
        "print(\"1st review from training data : \",train_data[0])\n",
        "print(\"1st label from training data : \",train_labels[0])\n",
        "print(\"1st review from testing data : \",test_data[0])\n",
        "print(\"1st label from testing data : \",test_labels[0])\n"
      ]
    },
    {
      "cell_type": "code",
      "execution_count": 4,
      "metadata": {
        "colab": {
          "base_uri": "https://localhost:8080/"
        },
        "id": "C2430tENeFvF",
        "outputId": "4acb8b5a-7467-48ea-daef-05d810a6d69b"
      },
      "outputs": [
        {
          "name": "stdout",
          "output_type": "stream",
          "text": [
            "Maximum number in any sequence :  9999\n"
          ]
        }
      ],
      "source": [
        "# find max value from sequence\n",
        "print(\"Maximum number in any sequence : \",max([max(sequence) for sequence in train_data]))"
      ]
    },
    {
      "cell_type": "code",
      "execution_count": 5,
      "metadata": {
        "colab": {
          "base_uri": "https://localhost:8080/"
        },
        "id": "DrtqnWVrb88s",
        "outputId": "dd477942-8531-4606-9d13-c082fa227d3f"
      },
      "outputs": [
        {
          "name": "stdout",
          "output_type": "stream",
          "text": [
            "1st review from training data :  ? this film was just brilliant casting location scenery story direction everyone's really suited the part they played and you could just imagine being there robert ? is an amazing actor and now the same being director ? father came from the same scottish island as myself so i loved the fact there was a real connection with this film the witty remarks throughout the film were great it was just brilliant so much that i bought the film as soon as it was released for ? and would recommend it to everyone to watch and the fly fishing was amazing really cried at the end it was so sad and you know what they say if you cry at a film it must have been good and this definitely was also ? to the two little boy's that played the ? of norman and paul they were just brilliant children are often left out of the ? list i think because the stars that play them all grown up are such a big profile for the whole film but these children are amazing and should be praised for what they have done don't you think the whole story was so lovely because it was true and was someone's life after all that was shared with us all\n"
          ]
        }
      ],
      "source": [
        "# Listing 4.2 Decoding reviews back to text\n",
        "# load word index\n",
        "word_index = imdb.get_word_index()\n",
        "# reverse the dic so numbers come first and then word\n",
        "reverse_word_index = dict([(value, key) for (key, value) in word_index.items()]) \n",
        "# indices are offset by 3\n",
        "# 0, 1, and 2 are reserved indices for “padding,” “start of sequence,” and “unknown.”\n",
        "decoded_review = \" \".join([reverse_word_index.get(i-3, \"?\") for i in train_data[0]])\n",
        "print(\"1st review from training data : \",decoded_review)"
      ]
    },
    {
      "cell_type": "code",
      "execution_count": 2,
      "metadata": {
        "id": "BYc2w0-ejJ6Y"
      },
      "outputs": [],
      "source": [
        "# Listing 4.3 Encoding the integer sequences via multi-hot encoding\n",
        "import numpy as np \n",
        "def vectorize_sequences(sequences, dimension=10000):\n",
        "  results = np.zeros((len(sequences), dimension))\n",
        "  for i, sequence in enumerate(sequences):\n",
        "    for j in sequence:\n",
        "      results[i, j] = 1.\n",
        "  return results\n",
        "x_train = vectorize_sequences(train_data)\n",
        "x_test = vectorize_sequences(test_data) "
      ]
    },
    {
      "cell_type": "code",
      "execution_count": 3,
      "metadata": {
        "id": "x39KNA3kmdtq"
      },
      "outputs": [],
      "source": [
        "# vectorize labels\n",
        "y_train = np.asarray(train_labels).astype(\"float32\")\n",
        "y_test = np.asarray(test_labels).astype(\"float32\")"
      ]
    },
    {
      "cell_type": "code",
      "execution_count": 8,
      "metadata": {
        "colab": {
          "base_uri": "https://localhost:8080/"
        },
        "id": "uKUeALpFmkJr",
        "outputId": "a652909a-7f0f-41f4-a300-5498d49eaf09"
      },
      "outputs": [
        {
          "name": "stdout",
          "output_type": "stream",
          "text": [
            "1st review from training data after vectorization :  [0. 1. 1. ... 0. 0. 0.]\n",
            "1st label from training data after vectorization:  1.0\n",
            "1st review from testing data after vectorization:  [0. 1. 1. ... 0. 0. 0.]\n",
            "1st label from testing data after vectorization:  0.0\n"
          ]
        }
      ],
      "source": [
        "# samples of data\n",
        "print(\"1st review from training data after vectorization : \",x_train[0])\n",
        "print(\"1st label from training data after vectorization: \",y_train[0])\n",
        "print(\"1st review from testing data after vectorization: \",x_test[0])\n",
        "print(\"1st label from testing data after vectorization: \",y_test[0])"
      ]
    },
    {
      "cell_type": "markdown",
      "metadata": {
        "id": "pgIr-3VRnWVI"
      },
      "source": [
        "## 3.7 IMDB Practical Part-2"
      ]
    },
    {
      "cell_type": "code",
      "execution_count": 9,
      "metadata": {
        "id": "rnPdE0OrnXhs"
      },
      "outputs": [],
      "source": [
        "# Listing 4.4 Model definition\n",
        "from tensorflow import keras \n",
        "from tensorflow.keras import layers\n",
        " \n",
        "model = keras.Sequential([\n",
        "  layers.Dense(16, activation=\"relu\"),\n",
        "  layers.Dense(16, activation=\"relu\"),\n",
        "  layers.Dense(1, activation=\"sigmoid\")\n",
        "])"
      ]
    },
    {
      "cell_type": "code",
      "execution_count": 10,
      "metadata": {
        "id": "3aip1j1cGfmt"
      },
      "outputs": [],
      "source": [
        "# isting 4.5 Compiling the model\n",
        "model.compile(\n",
        "    optimizer=\"rmsprop\",\n",
        "    loss=\"binary_crossentropy\",\n",
        "    metrics=[\"accuracy\"])"
      ]
    },
    {
      "cell_type": "code",
      "execution_count": 4,
      "metadata": {
        "id": "sRiZD4BOHNLk"
      },
      "outputs": [],
      "source": [
        "# Listing 4.6 Setting aside a validation set\n",
        "x_val = x_train[:10000]\n",
        "partial_x_train = x_train[10000:]\n",
        "y_val = y_train[:10000]\n",
        "partial_y_train = y_train[10000:]"
      ]
    },
    {
      "cell_type": "code",
      "execution_count": 12,
      "metadata": {
        "colab": {
          "base_uri": "https://localhost:8080/"
        },
        "id": "xFG3orrYH-aa",
        "outputId": "e2dbcbfa-f4e1-4ffd-ea3c-b696de704118"
      },
      "outputs": [
        {
          "name": "stdout",
          "output_type": "stream",
          "text": [
            "Epoch 1/20\n",
            "30/30 [==============================] - 2s 43ms/step - loss: 0.5368 - accuracy: 0.7882 - val_loss: 0.4194 - val_accuracy: 0.8436\n",
            "Epoch 2/20\n",
            "30/30 [==============================] - 1s 21ms/step - loss: 0.3225 - accuracy: 0.8952 - val_loss: 0.3121 - val_accuracy: 0.8844\n",
            "Epoch 3/20\n",
            "30/30 [==============================] - 1s 21ms/step - loss: 0.2340 - accuracy: 0.9235 - val_loss: 0.2815 - val_accuracy: 0.8905\n",
            "Epoch 4/20\n",
            "30/30 [==============================] - 1s 21ms/step - loss: 0.1836 - accuracy: 0.9401 - val_loss: 0.3116 - val_accuracy: 0.8740\n",
            "Epoch 5/20\n",
            "30/30 [==============================] - 1s 25ms/step - loss: 0.1503 - accuracy: 0.9521 - val_loss: 0.2825 - val_accuracy: 0.8870\n",
            "Epoch 6/20\n",
            "30/30 [==============================] - 1s 20ms/step - loss: 0.1261 - accuracy: 0.9613 - val_loss: 0.3125 - val_accuracy: 0.8803\n",
            "Epoch 7/20\n",
            "30/30 [==============================] - 1s 22ms/step - loss: 0.1024 - accuracy: 0.9695 - val_loss: 0.3105 - val_accuracy: 0.8827\n",
            "Epoch 8/20\n",
            "30/30 [==============================] - 1s 20ms/step - loss: 0.0859 - accuracy: 0.9756 - val_loss: 0.3337 - val_accuracy: 0.8787\n",
            "Epoch 9/20\n",
            "30/30 [==============================] - 1s 20ms/step - loss: 0.0719 - accuracy: 0.9799 - val_loss: 0.3440 - val_accuracy: 0.8822\n",
            "Epoch 10/20\n",
            "30/30 [==============================] - 1s 21ms/step - loss: 0.0586 - accuracy: 0.9841 - val_loss: 0.3714 - val_accuracy: 0.8811\n",
            "Epoch 11/20\n",
            "30/30 [==============================] - 1s 21ms/step - loss: 0.0492 - accuracy: 0.9869 - val_loss: 0.3964 - val_accuracy: 0.8804\n",
            "Epoch 12/20\n",
            "30/30 [==============================] - 1s 20ms/step - loss: 0.0387 - accuracy: 0.9919 - val_loss: 0.4980 - val_accuracy: 0.8636\n",
            "Epoch 13/20\n",
            "30/30 [==============================] - 1s 23ms/step - loss: 0.0323 - accuracy: 0.9937 - val_loss: 0.4944 - val_accuracy: 0.8694\n",
            "Epoch 14/20\n",
            "30/30 [==============================] - 1s 24ms/step - loss: 0.0262 - accuracy: 0.9952 - val_loss: 0.4832 - val_accuracy: 0.8718\n",
            "Epoch 15/20\n",
            "30/30 [==============================] - 1s 28ms/step - loss: 0.0198 - accuracy: 0.9968 - val_loss: 0.5543 - val_accuracy: 0.8686\n",
            "Epoch 16/20\n",
            "30/30 [==============================] - 1s 27ms/step - loss: 0.0173 - accuracy: 0.9973 - val_loss: 0.5506 - val_accuracy: 0.8704\n",
            "Epoch 17/20\n",
            "30/30 [==============================] - 1s 34ms/step - loss: 0.0144 - accuracy: 0.9975 - val_loss: 0.5804 - val_accuracy: 0.8690\n",
            "Epoch 18/20\n",
            "30/30 [==============================] - 1s 32ms/step - loss: 0.0083 - accuracy: 0.9995 - val_loss: 0.6185 - val_accuracy: 0.8679\n",
            "Epoch 19/20\n",
            "30/30 [==============================] - 1s 37ms/step - loss: 0.0092 - accuracy: 0.9988 - val_loss: 0.6533 - val_accuracy: 0.8668\n",
            "Epoch 20/20\n",
            "30/30 [==============================] - 1s 31ms/step - loss: 0.0082 - accuracy: 0.9984 - val_loss: 0.7027 - val_accuracy: 0.8634\n"
          ]
        }
      ],
      "source": [
        "#  Listing 4.7 Training your model\n",
        "history = model.fit(\n",
        "    partial_x_train,\n",
        "    partial_y_train,\n",
        "    epochs=20,\n",
        "    batch_size=512,\n",
        "    validation_data=(x_val, y_val)\n",
        ")"
      ]
    },
    {
      "cell_type": "code",
      "execution_count": 13,
      "metadata": {
        "colab": {
          "base_uri": "https://localhost:8080/"
        },
        "id": "rxXfSs-aIW9o",
        "outputId": "dbeeab33-bbdc-4c86-edbc-0a93e0c69d90"
      },
      "outputs": [
        {
          "name": "stdout",
          "output_type": "stream",
          "text": [
            "History of model fitting : \n",
            "{'loss': [0.5368212461471558, 0.32247278094291687, 0.2340405136346817, 0.18363220989704132, 0.15032555162906647, 0.12610067427158356, 0.10235955566167831, 0.08585911989212036, 0.07194250822067261, 0.05861682444810867, 0.04916830360889435, 0.03873392567038536, 0.032270368188619614, 0.026231376454234123, 0.019800540059804916, 0.017280997708439827, 0.014368715696036816, 0.008346964605152607, 0.00918675772845745, 0.008237346075475216], 'accuracy': [0.7882000207901001, 0.8952000141143799, 0.9235333204269409, 0.9400666952133179, 0.9521333575248718, 0.9613333344459534, 0.9694666862487793, 0.975600004196167, 0.9798666834831238, 0.9841333627700806, 0.9869333505630493, 0.9919333457946777, 0.9937333464622498, 0.995199978351593, 0.9968000054359436, 0.9972666501998901, 0.9975333213806152, 0.9995333552360535, 0.9987999796867371, 0.9983999729156494], 'val_loss': [0.41944965720176697, 0.31210950016975403, 0.2814846336841583, 0.3115677237510681, 0.2825174629688263, 0.31246161460876465, 0.310464084148407, 0.33368274569511414, 0.34400850534439087, 0.37139609456062317, 0.39643043279647827, 0.4979766607284546, 0.49438008666038513, 0.48320960998535156, 0.5543276071548462, 0.5506027340888977, 0.5804405212402344, 0.6185322403907776, 0.6532915234565735, 0.7026618123054504], 'val_accuracy': [0.8435999751091003, 0.8844000101089478, 0.890500009059906, 0.8740000128746033, 0.8870000243186951, 0.880299985408783, 0.8827000260353088, 0.8787000179290771, 0.8822000026702881, 0.8810999989509583, 0.8804000020027161, 0.8636000156402588, 0.8694000244140625, 0.8718000054359436, 0.8686000108718872, 0.8704000115394592, 0.8690000176429749, 0.867900013923645, 0.8668000102043152, 0.8633999824523926]}\n",
            "dictonary keys : \n",
            "dict_keys(['loss', 'accuracy', 'val_loss', 'val_accuracy'])\n"
          ]
        }
      ],
      "source": [
        "# check history object\n",
        "print(\"History of model fitting : \")\n",
        "history_dict = history.history\n",
        "print(history_dict)\n",
        "print(\"dictonary keys : \")\n",
        "print(history_dict.keys())"
      ]
    },
    {
      "cell_type": "code",
      "execution_count": 5,
      "metadata": {
        "id": "z3HQomaPJRFN"
      },
      "outputs": [],
      "source": [
        "# Listing 4.8 Plotting the training and validation loss\n",
        "import matplotlib.pyplot as plt\n",
        "def plot_loss(historyDic):\n",
        "  history_dict = historyDic.history\n",
        "  loss_values = history_dict[\"loss\"]\n",
        "  val_loss_values = history_dict[\"val_loss\"]\n",
        "  epochs = range(1, len(loss_values) + 1)\n",
        "  plt.clf()\n",
        "  plt.plot(epochs, loss_values, \"bo\", label=\"Training loss\")\n",
        "  plt.plot(epochs, val_loss_values, \"b\", label=\"Validation loss\")\n",
        "  plt.title(\"Training and validation loss\")\n",
        "  plt.xlabel(\"Epochs\")\n",
        "  plt.ylabel(\"Loss\")\n",
        "  plt.legend()\n",
        "  plt.show()"
      ]
    },
    {
      "cell_type": "code",
      "execution_count": 15,
      "metadata": {
        "colab": {
          "base_uri": "https://localhost:8080/",
          "height": 295
        },
        "id": "SMXdScxcYaaw",
        "outputId": "7e6bb927-9a9f-4e58-b5b4-959359db5e6e"
      },
      "outputs": [
        {
          "data": {
            "image/png": "[encoded data removed]",
            "text/plain": [
              "<Figure size 432x288 with 1 Axes>"
            ]
          },
          "metadata": {
            "needs_background": "light"
          },
          "output_type": "display_data"
        }
      ],
      "source": [
        "plot_loss(history)"
      ]
    },
    {
      "cell_type": "code",
      "execution_count": 6,
      "metadata": {
        "id": "hq2y_akkJ8sO"
      },
      "outputs": [],
      "source": [
        "# Listing 4.9 Plotting the training and validation accuracy\n",
        "def plot_acc(historyDic):\n",
        "  history_dict = historyDic.history\n",
        "  acc = history_dict[\"accuracy\"]\n",
        "  val_acc = history_dict[\"val_accuracy\"]\n",
        "  epochs = range(1, len(acc) + 1)\n",
        "  plt.clf()\n",
        "  plt.plot(epochs, acc, \"bo\", label=\"Training acc\")\n",
        "  plt.plot(epochs, val_acc, \"b\", label=\"Validation acc\")\n",
        "  plt.title(\"Training and validation accuracy\")\n",
        "  plt.xlabel(\"Epochs\")\n",
        "  plt.ylabel(\"Accuracy\")\n",
        "  plt.legend()\n",
        "  plt.show()"
      ]
    },
    {
      "cell_type": "code",
      "execution_count": 17,
      "metadata": {
        "colab": {
          "base_uri": "https://localhost:8080/",
          "height": 295
        },
        "id": "a165CL5bYcAg",
        "outputId": "7e110ae4-fbe3-4dac-ba62-29fed0e3cc8f"
      },
      "outputs": [
        {
          "data": {
            "image/png": "[encoded data removed]",
            "text/plain": [
              "<Figure size 432x288 with 1 Axes>"
            ]
          },
          "metadata": {
            "needs_background": "light"
          },
          "output_type": "display_data"
        }
      ],
      "source": [
        "plot_acc(history)"
      ]
    },
    {
      "cell_type": "code",
      "execution_count": 18,
      "metadata": {
        "colab": {
          "base_uri": "https://localhost:8080/"
        },
        "id": "SLv8IRPiPECg",
        "outputId": "3bc34202-dd3c-482e-bd3a-6c34eb35b1ab"
      },
      "outputs": [
        {
          "name": "stdout",
          "output_type": "stream",
          "text": [
            "Epoch 1/5\n",
            "49/49 [==============================] - 1s 13ms/step - loss: 0.4564 - accuracy: 0.8157\n",
            "Epoch 2/5\n",
            "49/49 [==============================] - 1s 13ms/step - loss: 0.2583 - accuracy: 0.9106\n",
            "Epoch 3/5\n",
            "49/49 [==============================] - 1s 13ms/step - loss: 0.2007 - accuracy: 0.9300\n",
            "Epoch 4/5\n",
            "49/49 [==============================] - 1s 13ms/step - loss: 0.1682 - accuracy: 0.9406\n",
            "Epoch 5/5\n",
            "49/49 [==============================] - 1s 18ms/step - loss: 0.1432 - accuracy: 0.9502\n"
          ]
        }
      ],
      "source": [
        "# Listing 4.10 Retraining a model from scratch\n",
        "model = keras.Sequential([\n",
        "    layers.Dense(16, activation=\"relu\"),\n",
        "    layers.Dense(16, activation=\"relu\"),\n",
        "    layers.Dense(1, activation=\"sigmoid\")\n",
        "])\n",
        "model.compile(\n",
        "    optimizer=\"rmsprop\",\n",
        "    loss=\"binary_crossentropy\",\n",
        "    metrics=[\"accuracy\"])\n",
        "history = model.fit(x_train, y_train, epochs=5, batch_size=512)"
      ]
    },
    {
      "cell_type": "code",
      "execution_count": 19,
      "metadata": {
        "colab": {
          "base_uri": "https://localhost:8080/"
        },
        "id": "UjPw5uXjPn95",
        "outputId": "870b2c27-0d65-4eee-f79f-b515fdf1dd69"
      },
      "outputs": [
        {
          "name": "stdout",
          "output_type": "stream",
          "text": [
            "782/782 [==============================] - 3s 3ms/step - loss: 0.3410 - accuracy: 0.8694\n"
          ]
        }
      ],
      "source": [
        "# evaluate on test data\n",
        "results = model.evaluate(x_test, y_test)"
      ]
    },
    {
      "cell_type": "code",
      "execution_count": 20,
      "metadata": {
        "colab": {
          "base_uri": "https://localhost:8080/"
        },
        "id": "PDEmf2X8QOBA",
        "outputId": "345303d3-076a-464b-9ee8-69335e1e2e86"
      },
      "outputs": [
        {
          "data": {
            "text/plain": [
              "[0.3409577012062073, 0.8693600296974182]"
            ]
          },
          "execution_count": 20,
          "metadata": {},
          "output_type": "execute_result"
        }
      ],
      "source": [
        "results"
      ]
    },
    {
      "cell_type": "markdown",
      "metadata": {
        "id": "c_-vSkZZQHD2"
      },
      "source": [
        "- results in an accuracy of 88%"
      ]
    }
  ],
  "metadata": {
    "accelerator": "GPU",
    "colab": {
      "collapsed_sections": [],
      "name": "4.ipynb",
      "provenance": []
    },
    "kernelspec": {
      "display_name": "Python 3",
      "name": "python3"
    },
    "language_info": {
      "name": "python"
    }
  },
  "nbformat": 4,
  "nbformat_minor": 0
}
