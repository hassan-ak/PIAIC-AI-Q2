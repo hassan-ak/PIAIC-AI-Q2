{
 "cells": [
  {
   "cell_type": "markdown",
   "metadata": {},
   "source": [
    "# Deep Learning - 2"
   ]
  },
  {
   "cell_type": "markdown",
   "metadata": {},
   "source": [
    "## 2.8 Practical Example with Mnist_Fashion Dat"
   ]
  },
  {
   "cell_type": "code",
   "execution_count": 1,
   "metadata": {},
   "outputs": [
    {
     "name": "stderr",
     "output_type": "stream",
     "text": [
      "2022-05-02 21:04:26.487627: W tensorflow/stream_executor/platform/default/dso_loader.cc:64] Could not load dynamic library 'libcudart.so.11.0'; dlerror: libcudart.so.11.0: cannot open shared object file: No such file or directory\n",
      "2022-05-02 21:04:26.487657: I tensorflow/stream_executor/cuda/cudart_stub.cc:29] Ignore above cudart dlerror if you do not have a GPU set up on your machine.\n"
     ]
    }
   ],
   "source": [
    "# Load mnist fashion data and split it into test and train\n",
    "from tensorflow.keras.datasets import fashion_mnist\n",
    "(train_images,train_labels),(test_images,test_labels) = fashion_mnist.load_data()"
   ]
  },
  {
   "cell_type": "code",
   "execution_count": 2,
   "metadata": {},
   "outputs": [
    {
     "name": "stdout",
     "output_type": "stream",
     "text": [
      "Shape of train data :  (60000, 28, 28)\n",
      "Shape of train labels :  (60000,)\n",
      "Shape of test data :  (10000, 28, 28)\n",
      "Shape of test labels :  (10000,)\n",
      "labels :  [9 2 1 ... 8 1 5]\n",
      "unique labels :  [0 1 2 3 4 5 6 7 8 9]\n",
      "unique labels size :  10\n"
     ]
    }
   ],
   "source": [
    "# Inspect data\n",
    "# display shape of images and labels\n",
    "import numpy as np\n",
    "print(\"Shape of train data : \",train_images.shape)\n",
    "print(\"Shape of train labels : \",train_labels.shape)\n",
    "print(\"Shape of test data : \",test_images.shape)\n",
    "print(\"Shape of test labels : \",test_labels.shape)\n",
    "print(\"labels : \",test_labels)\n",
    "print(\"unique labels : \",np.unique(test_labels))\n",
    "print(\"unique labels size : \",np.unique(test_labels).size)"
   ]
  },
  {
   "cell_type": "code",
   "execution_count": 3,
   "metadata": {},
   "outputs": [
    {
     "name": "stdout",
     "output_type": "stream",
     "text": [
      "0    T-shirt/top\n",
      "1        Trouser\n",
      "2       Pullover\n",
      "3          Dress\n",
      "4           Coat\n",
      "5         Sandal\n",
      "6          Shirt\n",
      "7        Sneaker\n",
      "8            Bag\n",
      "9     Ankle boot\n",
      "Name: Labels Description, dtype: object\n"
     ]
    }
   ],
   "source": [
    "# create an array of labels description\n",
    "import pandas as pd\n",
    "labels_description = pd.Series([\"T-shirt/top\",\"Trouser\",\"Pullover\",\"Dress\",\"Coat\",\"Sandal\",\"Shirt\",\"Sneaker\",\"Bag\",\"Ankle boot\"],name=\"Labels Description\")\n",
    "print(labels_description)"
   ]
  },
  {
   "cell_type": "code",
   "execution_count": 4,
   "metadata": {},
   "outputs": [
    {
     "name": "stdout",
     "output_type": "stream",
     "text": [
      "0 T-shirt/top\n"
     ]
    },
    {
     "data": {
      "image/png": "[encoded data removed]",
      "text/plain": [
       "<Figure size 432x288 with 1 Axes>"
      ]
     },
     "metadata": {
      "needs_background": "light"
     },
     "output_type": "display_data"
    }
   ],
   "source": [
    "# display data and labels \n",
    "import matplotlib.pyplot as plt\n",
    "print(train_labels[1],labels_description[train_labels[1]])\n",
    "plt.imshow(train_images[1], cmap=plt.cm.binary)\n",
    "plt.show()"
   ]
  },
  {
   "cell_type": "code",
   "execution_count": 5,
   "metadata": {},
   "outputs": [
    {
     "name": "stderr",
     "output_type": "stream",
     "text": [
      "2022-05-02 21:04:29.595400: I tensorflow/stream_executor/cuda/cuda_gpu_executor.cc:936] successful NUMA node read from SysFS had negative value (-1), but there must be at least one NUMA node, so returning NUMA node zero\n",
      "2022-05-02 21:04:29.596219: W tensorflow/stream_executor/platform/default/dso_loader.cc:64] Could not load dynamic library 'libcudart.so.11.0'; dlerror: libcudart.so.11.0: cannot open shared object file: No such file or directory\n",
      "2022-05-02 21:04:29.596311: W tensorflow/stream_executor/platform/default/dso_loader.cc:64] Could not load dynamic library 'libcublas.so.11'; dlerror: libcublas.so.11: cannot open shared object file: No such file or directory\n",
      "2022-05-02 21:04:29.596400: W tensorflow/stream_executor/platform/default/dso_loader.cc:64] Could not load dynamic library 'libcublasLt.so.11'; dlerror: libcublasLt.so.11: cannot open shared object file: No such file or directory\n",
      "2022-05-02 21:04:29.598692: W tensorflow/stream_executor/platform/default/dso_loader.cc:64] Could not load dynamic library 'libcusolver.so.11'; dlerror: libcusolver.so.11: cannot open shared object file: No such file or directory\n",
      "2022-05-02 21:04:29.598821: W tensorflow/stream_executor/platform/default/dso_loader.cc:64] Could not load dynamic library 'libcusparse.so.11'; dlerror: libcusparse.so.11: cannot open shared object file: No such file or directory\n",
      "2022-05-02 21:04:29.598931: W tensorflow/stream_executor/platform/default/dso_loader.cc:64] Could not load dynamic library 'libcudnn.so.8'; dlerror: libcudnn.so.8: cannot open shared object file: No such file or directory\n",
      "2022-05-02 21:04:29.598950: W tensorflow/core/common_runtime/gpu/gpu_device.cc:1850] Cannot dlopen some GPU libraries. Please make sure the missing libraries mentioned above are installed properly if you would like to use GPU. Follow the guide at https://www.tensorflow.org/install/gpu for how to download and setup the required libraries for your platform.\n",
      "Skipping registering GPU devices...\n"
     ]
    }
   ],
   "source": [
    "# Model Creation\n",
    "\n",
    "from tensorflow import keras\n",
    "from tensorflow.keras import layers\n",
    "\n",
    "model = keras.Sequential([\n",
    "    layers.Dense(512,activation=\"relu\"),\n",
    "    layers.Dense(256,activation=\"relu\"),\n",
    "    layers.Dense(128,activation=\"relu\"),\n",
    "    layers.Dense(10,activation=\"softmax\")\n",
    "])"
   ]
  },
  {
   "cell_type": "code",
   "execution_count": 6,
   "metadata": {},
   "outputs": [],
   "source": [
    "# Model Compilation\n",
    "model.compile(\n",
    "    optimizer=\"rmsprop\",\n",
    "    loss=\"sparse_categorical_crossentropy\",\n",
    "    metrics=[\"accuracy\"]\n",
    ")"
   ]
  },
  {
   "cell_type": "code",
   "execution_count": 7,
   "metadata": {},
   "outputs": [],
   "source": [
    "# Prepare data\n",
    "train_images = train_images.reshape((60000, 28 * 28))\n",
    "test_images = test_images.reshape((10000, 28 * 28))\n",
    "train_images = train_images.astype(\"float32\") / 255\n",
    "test_images = test_images.astype(\"float32\") / 255"
   ]
  },
  {
   "cell_type": "code",
   "execution_count": 8,
   "metadata": {},
   "outputs": [
    {
     "name": "stdout",
     "output_type": "stream",
     "text": [
      "Epoch 1/25\n"
     ]
    },
    {
     "name": "stderr",
     "output_type": "stream",
     "text": [
      "2022-05-02 21:04:29.848723: W tensorflow/core/framework/cpu_allocator_impl.cc:82] Allocation of 188160000 exceeds 10% of free system memory.\n"
     ]
    },
    {
     "name": "stdout",
     "output_type": "stream",
     "text": [
      "469/469 [==============================] - 5s 10ms/step - loss: 0.5587 - accuracy: 0.7943\n",
      "Epoch 2/25\n",
      "469/469 [==============================] - 5s 10ms/step - loss: 0.3847 - accuracy: 0.8592\n",
      "Epoch 3/25\n",
      "469/469 [==============================] - 5s 10ms/step - loss: 0.3396 - accuracy: 0.8747\n",
      "Epoch 4/25\n",
      "469/469 [==============================] - 5s 10ms/step - loss: 0.3167 - accuracy: 0.8824\n",
      "Epoch 5/25\n",
      "469/469 [==============================] - 5s 10ms/step - loss: 0.2968 - accuracy: 0.8907\n",
      "Epoch 6/25\n",
      "469/469 [==============================] - 5s 10ms/step - loss: 0.2850 - accuracy: 0.8943\n",
      "Epoch 7/25\n",
      "469/469 [==============================] - 5s 10ms/step - loss: 0.2721 - accuracy: 0.8988\n",
      "Epoch 8/25\n",
      "469/469 [==============================] - 5s 10ms/step - loss: 0.2631 - accuracy: 0.9025\n",
      "Epoch 9/25\n",
      "469/469 [==============================] - 4s 10ms/step - loss: 0.2556 - accuracy: 0.9044\n",
      "Epoch 10/25\n",
      "469/469 [==============================] - 4s 10ms/step - loss: 0.2484 - accuracy: 0.9079\n",
      "Epoch 11/25\n",
      "469/469 [==============================] - 5s 10ms/step - loss: 0.2456 - accuracy: 0.9099\n",
      "Epoch 12/25\n",
      "469/469 [==============================] - 5s 10ms/step - loss: 0.2392 - accuracy: 0.9111\n",
      "Epoch 13/25\n",
      "469/469 [==============================] - 5s 10ms/step - loss: 0.2338 - accuracy: 0.9133\n",
      "Epoch 14/25\n",
      "469/469 [==============================] - 5s 10ms/step - loss: 0.2299 - accuracy: 0.9161\n",
      "Epoch 15/25\n",
      "469/469 [==============================] - 4s 10ms/step - loss: 0.2275 - accuracy: 0.9157\n",
      "Epoch 16/25\n",
      "469/469 [==============================] - 5s 10ms/step - loss: 0.2232 - accuracy: 0.9177\n",
      "Epoch 17/25\n",
      "469/469 [==============================] - 5s 10ms/step - loss: 0.2242 - accuracy: 0.9192\n",
      "Epoch 18/25\n",
      "469/469 [==============================] - 5s 10ms/step - loss: 0.2167 - accuracy: 0.9210\n",
      "Epoch 19/25\n",
      "469/469 [==============================] - 4s 10ms/step - loss: 0.2122 - accuracy: 0.9217\n",
      "Epoch 20/25\n",
      "469/469 [==============================] - 5s 10ms/step - loss: 0.2138 - accuracy: 0.9232\n",
      "Epoch 21/25\n",
      "469/469 [==============================] - 5s 10ms/step - loss: 0.2101 - accuracy: 0.9227\n",
      "Epoch 22/25\n",
      "469/469 [==============================] - 5s 10ms/step - loss: 0.2082 - accuracy: 0.9250\n",
      "Epoch 23/25\n",
      "469/469 [==============================] - 5s 10ms/step - loss: 0.2070 - accuracy: 0.9263\n",
      "Epoch 24/25\n",
      "469/469 [==============================] - 5s 10ms/step - loss: 0.2081 - accuracy: 0.9254\n",
      "Epoch 25/25\n",
      "469/469 [==============================] - 5s 10ms/step - loss: 0.2021 - accuracy: 0.9285\n"
     ]
    },
    {
     "data": {
      "text/plain": [
       "<keras.callbacks.History at 0x7f2418b5eb80>"
      ]
     },
     "execution_count": 8,
     "metadata": {},
     "output_type": "execute_result"
    }
   ],
   "source": [
    "# “Fitting” the model\n",
    "model.fit(train_images, train_labels, epochs=25, batch_size=128)"
   ]
  },
  {
   "cell_type": "code",
   "execution_count": 9,
   "metadata": {},
   "outputs": [],
   "source": [
    "# make predictions\n",
    "# first 10 images from test dataset \n",
    "# prdict based test snaps\n",
    "test_snaps = test_images[0:10]\n",
    "predictions = model.predict(test_snaps)"
   ]
  },
  {
   "cell_type": "code",
   "execution_count": 10,
   "metadata": {},
   "outputs": [
    {
     "name": "stdout",
     "output_type": "stream",
     "text": [
      "Prediction for 6th image from the data set\n"
     ]
    },
    {
     "data": {
      "text/plain": [
       "array([0.0000000e+00, 1.0000000e+00, 0.0000000e+00, 0.0000000e+00,\n",
       "       0.0000000e+00, 0.0000000e+00, 1.6521988e-35, 0.0000000e+00,\n",
       "       0.0000000e+00, 0.0000000e+00], dtype=float32)"
      ]
     },
     "execution_count": 10,
     "metadata": {},
     "output_type": "execute_result"
    }
   ],
   "source": [
    "# display perdiction of 6th image\n",
    "print(\"Prediction for 6th image from the data set\")\n",
    "predictions[5]"
   ]
  },
  {
   "cell_type": "code",
   "execution_count": 11,
   "metadata": {},
   "outputs": [
    {
     "name": "stdout",
     "output_type": "stream",
     "text": [
      "Index of higest probbability :  1\n",
      "Higest probbability :  1.0\n"
     ]
    }
   ],
   "source": [
    "# index of the maximum probability and also the probability related to it\n",
    "print(\"Index of higest probbability : \",predictions[5].argmax())\n",
    "print(\"Higest probbability : \",predictions[5][predictions[5].argmax()])"
   ]
  },
  {
   "cell_type": "code",
   "execution_count": 12,
   "metadata": {},
   "outputs": [
    {
     "name": "stdout",
     "output_type": "stream",
     "text": [
      "Actual label : 1 Trouser\n",
      "Predicted label : 1 Trouser\n"
     ]
    },
    {
     "data": {
      "image/png": "[encoded data removed]",
      "text/plain": [
       "<Figure size 432x288 with 1 Axes>"
      ]
     },
     "metadata": {
      "needs_background": "light"
     },
     "output_type": "display_data"
    }
   ],
   "source": [
    "# print predicted data\n",
    "print(\"Actual label :\", test_labels[5],labels_description[test_labels[5]])\n",
    "print(\"Predicted label :\", predictions[5].argmax(),labels_description[predictions[5].argmax()])\n",
    "check = test_snaps[5].reshape(28,28)\n",
    "plt.imshow(check, cmap=plt.cm.binary)\n",
    "plt.show()\n"
   ]
  },
  {
   "cell_type": "code",
   "execution_count": 13,
   "metadata": {},
   "outputs": [
    {
     "name": "stdout",
     "output_type": "stream",
     "text": [
      "313/313 [==============================] - 1s 3ms/step - loss: 0.6716 - accuracy: 0.8745\n",
      "test_acc: 0.8744999766349792\n",
      "test_loss: 0.6716268062591553\n"
     ]
    }
   ],
   "source": [
    "# Evaluating the model on new data\n",
    "test_loss, test_acc = model.evaluate(test_images, test_labels)\n",
    "print(f\"test_acc: {test_acc}\")\n",
    "print(f\"test_loss: {test_loss}\")"
   ]
  }
 ],
 "metadata": {
  "interpreter": {
   "hash": "916dbcbb3f70747c44a77c7bcd40155683ae19c65e1c03b4aa3499c5328201f1"
  },
  "kernelspec": {
   "display_name": "Python 3.8.10 64-bit",
   "language": "python",
   "name": "python3"
  },
  "language_info": {
   "codemirror_mode": {
    "name": "ipython",
    "version": 3
   },
   "file_extension": ".py",
   "mimetype": "text/x-python",
   "name": "python",
   "nbconvert_exporter": "python",
   "pygments_lexer": "ipython3",
   "version": "3.8.10"
  },
  "orig_nbformat": 4
 },
 "nbformat": 4,
 "nbformat_minor": 2
}
