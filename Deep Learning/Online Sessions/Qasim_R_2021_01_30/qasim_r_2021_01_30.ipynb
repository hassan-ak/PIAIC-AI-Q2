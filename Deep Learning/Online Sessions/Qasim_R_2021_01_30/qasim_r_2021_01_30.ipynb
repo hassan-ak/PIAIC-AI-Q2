{
 "cells": [
  {
   "cell_type": "markdown",
   "metadata": {},
   "source": [
    "# Deep Learning - Muhammad Qasim - 2021/01/30"
   ]
  },
  {
   "cell_type": "markdown",
   "metadata": {},
   "source": [
    "# 1 What is deep learning?"
   ]
  },
  {
   "cell_type": "markdown",
   "metadata": {},
   "source": [
    "## 1.1 Artificial intelligence, machine learning, and deep learning\n",
    "\n",
    "![Artificial intelligence, machine learning, and deep learning](./snaps/one.PNG)"
   ]
  },
  {
   "cell_type": "markdown",
   "metadata": {},
   "source": [
    "### 1.1.1 Artificial intelligence\n",
    "- AI can be described as the effort to automate intellectual tasks normally performed by humans.\n",
    "    - Symbolic AI\n",
    "    - Machine Learning"
   ]
  },
  {
   "cell_type": "markdown",
   "metadata": {},
   "source": [
    "### 1.1.2 Machine learning\n",
    "- Analytical Engine: the first-known general-purpose mechanical computer\n",
    "- The Analytical Engine has no pretensions whatever to originate anything. It can do whatever we know how to order it to perform. . . . Its province is to assist us in making available what we’re already acquainted with.\n",
    "- Turing test\n",
    "- the machine looks at the input data and the corresponding answers, and figures out what the rules should be\n",
    "- A machine learning system is trained rather than explicitly programmed.\n",
    "- When dealing with large, complex datasets - classical statistical analysis such as Bayesian analysis would be impractical"
   ]
  },
  {
   "cell_type": "markdown",
   "metadata": {},
   "source": [
    "![Machine learning: a new programming paradigm](./snaps/two.PNG)"
   ]
  },
  {
   "cell_type": "markdown",
   "metadata": {},
   "source": [
    "### 1.1.3 Learning rules and representations from data\n",
    "- deep learning\n",
    "- what machine learning algorithms do\n",
    "- Requirements for machine learning\n",
    "    - Input data points\n",
    "        - For instance, if the task is speech recognition, these data points could be sound files of people speaking. If the task is image tagging, they could be pictures.\n",
    "    - Examples of the expected output\n",
    "        - In a speech-recognition task, these could be human-generated transcripts of sound files. In an image task, expected outputs could be tags such as “dog,” “cat,” and so on.\n",
    "    - A way to measure whether the algorithm is doing a good job\n",
    "        - This is necessary in order to determine the distance between the algorithm’s current output and its expected output. The measurement is used as a feedback signal to adjust the way the algorithm works. This adjustment step is what we call learning.\n",
    "- machine learning model transforms its input data into meaningful outputs\n",
    "- the central problem in machine learning and deep learning is to meaningfully transform data\n",
    "    - representations\n",
    "        - a different way to look at data\n",
    "        - to represent or encode data.\n",
    "    - Machine learning models are all about finding appropriate representations for their input data\n",
    "- Learning\n",
    "    - in the context of machine learning, describes an automatic search process for data transformations that produce useful representations\n",
    "- Machine learning algorithms aren’t usually creative in finding these transformations; they’re merely searching through a predefined set of operations, called a hypothesis space.\n",
    "- searching for useful representations and rules over some input data, within a predefined space of possibilities, using guidance from a feedback signal"
   ]
  },
  {
   "cell_type": "markdown",
   "metadata": {},
   "source": [
    "### 1.1.4 The “deep” in “deep learning”\n",
    "- successive layers\n",
    "- “deep” in “deep learning”\n",
    "    - stands for this idea of successive layers of representations\n",
    "- layered representations learning or hierarchical representations learning\n",
    "- shallow learning\n",
    "- neural networks\n",
    "- deep learning is a mathematical framework for learning representations from data\n",
    "- purified"
   ]
  },
  {
   "cell_type": "markdown",
   "metadata": {},
   "source": [
    "### 1.1.5 Understanding how deep learning works, in three figures\n",
    "- layer does to its input data is stored in the layer’s weights\n",
    "- transformation\n",
    "    - parameterized by its weights\n",
    "- learning means finding a set of values for the weights of all layers in a network\n",
    "- loss function / objective function / cost function.\n",
    "- optimizer / Backpropagation \n",
    "- training loop"
   ]
  },
  {
   "cell_type": "markdown",
   "metadata": {},
   "source": [
    "![The loss score is used as a feedback signal to adjust the weights.](./snaps/three.PNG)"
   ]
  },
  {
   "cell_type": "markdown",
   "metadata": {},
   "source": [
    "### 1.1.6 What deep learning has achieved so far\n",
    "- Near-human-level image classification\n",
    "- Near-human-level speech transcription\n",
    "- Near-human-level handwriting transcription\n",
    "- Dramatically improved machine translation\n",
    "- Dramatically improved text-to-speech conversion\n",
    "- Digital assistants such as Google Assistant and Amazon Alexa\n",
    "- Near-human-level autonomous driving\n",
    "- Improved ad targeting, as used by Google, Baidu, or Bing\n",
    "- Improved search results on the web\n",
    "- Ability to answer natural language questions\n",
    "- Superhuman Go playing"
   ]
  },
  {
   "cell_type": "markdown",
   "metadata": {},
   "source": [
    "### 1.1.7 Don’t believe the short-term hype"
   ]
  },
  {
   "cell_type": "markdown",
   "metadata": {},
   "source": [
    "### 1.1.8 The promise of AI"
   ]
  }
 ],
 "metadata": {
  "language_info": {
   "name": "python"
  },
  "orig_nbformat": 4
 },
 "nbformat": 4,
 "nbformat_minor": 2
}
