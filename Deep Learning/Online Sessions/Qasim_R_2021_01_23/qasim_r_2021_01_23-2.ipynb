{
 "cells": [
  {
   "cell_type": "markdown",
   "metadata": {},
   "source": [
    "# Deep Learning - Muhammad Qasim - 2021/01/23"
   ]
  },
  {
   "cell_type": "markdown",
   "metadata": {},
   "source": [
    "# Linear Regression"
   ]
  },
  {
   "cell_type": "code",
   "execution_count": 1,
   "metadata": {},
   "outputs": [],
   "source": [
    "import pandas as pd\n",
    "import numpy as np\n",
    "import matplotlib.pyplot as plt"
   ]
  },
  {
   "cell_type": "code",
   "execution_count": 2,
   "metadata": {},
   "outputs": [
    {
     "name": "stdout",
     "output_type": "stream",
     "text": [
      "<class 'pandas.core.frame.DataFrame'>\n",
      "RangeIndex: 10000 entries, 0 to 9999\n",
      "Data columns (total 3 columns):\n",
      " #   Column  Non-Null Count  Dtype  \n",
      "---  ------  --------------  -----  \n",
      " 0   Gender  10000 non-null  object \n",
      " 1   Height  10000 non-null  float64\n",
      " 2   Weight  10000 non-null  float64\n",
      "dtypes: float64(2), object(1)\n",
      "memory usage: 234.5+ KB\n"
     ]
    }
   ],
   "source": [
    "df = pd.read_csv(\"weight-height.csv\")\n",
    "df.info()"
   ]
  },
  {
   "cell_type": "code",
   "execution_count": 3,
   "metadata": {},
   "outputs": [
    {
     "data": {
      "text/html": [
       "<div>\n",
       "<style scoped>\n",
       "    .dataframe tbody tr th:only-of-type {\n",
       "        vertical-align: middle;\n",
       "    }\n",
       "\n",
       "    .dataframe tbody tr th {\n",
       "        vertical-align: top;\n",
       "    }\n",
       "\n",
       "    .dataframe thead th {\n",
       "        text-align: right;\n",
       "    }\n",
       "</style>\n",
       "<table border=\"1\" class=\"dataframe\">\n",
       "  <thead>\n",
       "    <tr style=\"text-align: right;\">\n",
       "      <th></th>\n",
       "      <th>Gender</th>\n",
       "      <th>Height</th>\n",
       "      <th>Weight</th>\n",
       "    </tr>\n",
       "  </thead>\n",
       "  <tbody>\n",
       "    <tr>\n",
       "      <th>0</th>\n",
       "      <td>Male</td>\n",
       "      <td>73.847017</td>\n",
       "      <td>241.893563</td>\n",
       "    </tr>\n",
       "    <tr>\n",
       "      <th>1</th>\n",
       "      <td>Male</td>\n",
       "      <td>68.781904</td>\n",
       "      <td>162.310473</td>\n",
       "    </tr>\n",
       "    <tr>\n",
       "      <th>2</th>\n",
       "      <td>Male</td>\n",
       "      <td>74.110105</td>\n",
       "      <td>212.740856</td>\n",
       "    </tr>\n",
       "    <tr>\n",
       "      <th>3</th>\n",
       "      <td>Male</td>\n",
       "      <td>71.730978</td>\n",
       "      <td>220.042470</td>\n",
       "    </tr>\n",
       "    <tr>\n",
       "      <th>4</th>\n",
       "      <td>Male</td>\n",
       "      <td>69.881796</td>\n",
       "      <td>206.349801</td>\n",
       "    </tr>\n",
       "  </tbody>\n",
       "</table>\n",
       "</div>"
      ],
      "text/plain": [
       "  Gender     Height      Weight\n",
       "0   Male  73.847017  241.893563\n",
       "1   Male  68.781904  162.310473\n",
       "2   Male  74.110105  212.740856\n",
       "3   Male  71.730978  220.042470\n",
       "4   Male  69.881796  206.349801"
      ]
     },
     "execution_count": 3,
     "metadata": {},
     "output_type": "execute_result"
    }
   ],
   "source": [
    "df.head()"
   ]
  },
  {
   "cell_type": "code",
   "execution_count": 4,
   "metadata": {},
   "outputs": [
    {
     "data": {
      "text/plain": [
       "array([73.84701702, 68.78190405, 74.11010539, 71.7309784 , 69.88179586])"
      ]
     },
     "execution_count": 4,
     "metadata": {},
     "output_type": "execute_result"
    }
   ],
   "source": [
    "X = df.Height.values\n",
    "X[0:5]"
   ]
  },
  {
   "cell_type": "code",
   "execution_count": 5,
   "metadata": {},
   "outputs": [
    {
     "data": {
      "text/plain": [
       "array([241.89356318, 162.31047252, 212.74085556, 220.0424703 ,\n",
       "       206.34980062])"
      ]
     },
     "execution_count": 5,
     "metadata": {},
     "output_type": "execute_result"
    }
   ],
   "source": [
    "y_true = df.Weight.values\n",
    "y_true[0:5]"
   ]
  },
  {
   "cell_type": "markdown",
   "metadata": {},
   "source": [
    "# wX+b\n",
    "- X provide by user (input)\n",
    "- W, b try to find these weights through machine learning algoritham\n"
   ]
  },
  {
   "cell_type": "code",
   "execution_count": 6,
   "metadata": {},
   "outputs": [],
   "source": [
    "#Line Equation\n",
    "def line(x, w=0, b=0):\n",
    "    return x * w + b\n",
    "\n",
    "# Cost Function\n",
    "def mean_squared_error(y_true, y_pred):\n",
    "    s = (y_true - y_pred) ** 2\n",
    "    return np.sqrt(s.mean())\n",
    "\n",
    "#1) real-predic\n",
    "#2) power\n",
    "#3) Average\n",
    "#4) sqrt\n"
   ]
  },
  {
   "cell_type": "code",
   "execution_count": 7,
   "metadata": {},
   "outputs": [
    {
     "data": {
      "text/plain": [
       "Text(0, 0.5, 'Loss')"
      ]
     },
     "execution_count": 7,
     "metadata": {},
     "output_type": "execute_result"
    },
    {
     "data": {
      "image/png": "[encoded data removed]",
      "text/plain": [
       "<Figure size 720x360 with 2 Axes>"
      ]
     },
     "metadata": {
      "needs_background": "light"
     },
     "output_type": "display_data"
    }
   ],
   "source": [
    "plt.figure(figsize=(10,5))\n",
    "ax1 = plt.subplot(121)#row, column, select cell\n",
    "df.plot(kind='scatter',\n",
    "       x=\"Height\",\n",
    "       y=\"Weight\",\n",
    "       ax=ax1,\n",
    "       title=\"Height Vs Weigth\")\n",
    "\n",
    "bs = np.array([-100,-50, 0, 50,100, 150])\n",
    "\n",
    "mses = []# we will store loss value for each line\n",
    "for b in bs:\n",
    "    y_pred = line(X, w=2, b=b)\n",
    "    mse = mean_squared_error(y_true, y_pred)\n",
    "    mses.append(mse) # each line error/loss\n",
    "    plt.plot(X, y_pred)\n",
    "\n",
    "ax2 = plt.subplot(122) \n",
    "plt.plot(bs,mses, 'o-')\n",
    "plt.title(\"Cost function for each line\")\n",
    "plt.xlabel(\"b\")\n",
    "plt.ylabel(\"Loss\")"
   ]
  },
  {
   "cell_type": "code",
   "execution_count": 8,
   "metadata": {},
   "outputs": [
    {
     "name": "stdout",
     "output_type": "stream",
     "text": [
      "[241.89356318 162.31047252 212.74085556 ... 128.47531878 163.85246135\n",
      " 113.64910268]\n",
      "[297.69403404 287.56380809 298.22021078 ... 277.73598443 288.06848626\n",
      " 273.88849176]\n"
     ]
    }
   ],
   "source": [
    "print(y_true)\n",
    "print(y_pred)"
   ]
  },
  {
   "cell_type": "markdown",
   "metadata": {},
   "source": [
    "# Try to find w and b (weights) with Deep learning"
   ]
  },
  {
   "cell_type": "code",
   "execution_count": 9,
   "metadata": {},
   "outputs": [
    {
     "name": "stderr",
     "output_type": "stream",
     "text": [
      "2022-04-30 22:43:49.332618: W tensorflow/stream_executor/platform/default/dso_loader.cc:64] Could not load dynamic library 'libcudart.so.11.0'; dlerror: libcudart.so.11.0: cannot open shared object file: No such file or directory\n",
      "2022-04-30 22:43:49.332647: I tensorflow/stream_executor/cuda/cudart_stub.cc:29] Ignore above cudart dlerror if you do not have a GPU set up on your machine.\n"
     ]
    }
   ],
   "source": [
    "from tensorflow.keras.models import Sequential # Sequential/Functional Api\n",
    "from tensorflow.keras.layers import Dense # type of layer\n",
    "from tensorflow.keras.optimizers import Adam, SGD"
   ]
  },
  {
   "cell_type": "code",
   "execution_count": 10,
   "metadata": {},
   "outputs": [
    {
     "name": "stdout",
     "output_type": "stream",
     "text": [
      "[73.84701702 68.78190405]\n",
      "\n",
      "[241.89356318 162.31047252]\n"
     ]
    }
   ],
   "source": [
    "X = df.Height.values\n",
    "y_true = df.Weight.values\n",
    "\n",
    "print(X[:2],y_true[:2], sep=\"\\n\\n\")"
   ]
  },
  {
   "cell_type": "code",
   "execution_count": 11,
   "metadata": {},
   "outputs": [
    {
     "data": {
      "text/plain": [
       "(10000,)"
      ]
     },
     "execution_count": 11,
     "metadata": {},
     "output_type": "execute_result"
    }
   ],
   "source": [
    "X.shape"
   ]
  },
  {
   "cell_type": "code",
   "execution_count": 12,
   "metadata": {},
   "outputs": [
    {
     "name": "stderr",
     "output_type": "stream",
     "text": [
      "2022-04-30 22:43:51.137101: I tensorflow/stream_executor/cuda/cuda_gpu_executor.cc:936] successful NUMA node read from SysFS had negative value (-1), but there must be at least one NUMA node, so returning NUMA node zero\n",
      "2022-04-30 22:43:51.137563: W tensorflow/stream_executor/platform/default/dso_loader.cc:64] Could not load dynamic library 'libcudart.so.11.0'; dlerror: libcudart.so.11.0: cannot open shared object file: No such file or directory\n",
      "2022-04-30 22:43:51.137627: W tensorflow/stream_executor/platform/default/dso_loader.cc:64] Could not load dynamic library 'libcublas.so.11'; dlerror: libcublas.so.11: cannot open shared object file: No such file or directory\n",
      "2022-04-30 22:43:51.137688: W tensorflow/stream_executor/platform/default/dso_loader.cc:64] Could not load dynamic library 'libcublasLt.so.11'; dlerror: libcublasLt.so.11: cannot open shared object file: No such file or directory\n",
      "2022-04-30 22:43:51.137748: W tensorflow/stream_executor/platform/default/dso_loader.cc:64] Could not load dynamic library 'libcufft.so.10'; dlerror: libcufft.so.10: cannot open shared object file: No such file or directory\n",
      "2022-04-30 22:43:51.137806: W tensorflow/stream_executor/platform/default/dso_loader.cc:64] Could not load dynamic library 'libcurand.so.10'; dlerror: libcurand.so.10: cannot open shared object file: No such file or directory\n",
      "2022-04-30 22:43:51.137863: W tensorflow/stream_executor/platform/default/dso_loader.cc:64] Could not load dynamic library 'libcusolver.so.11'; dlerror: libcusolver.so.11: cannot open shared object file: No such file or directory\n",
      "2022-04-30 22:43:51.137922: W tensorflow/stream_executor/platform/default/dso_loader.cc:64] Could not load dynamic library 'libcusparse.so.11'; dlerror: libcusparse.so.11: cannot open shared object file: No such file or directory\n",
      "2022-04-30 22:43:51.137981: W tensorflow/stream_executor/platform/default/dso_loader.cc:64] Could not load dynamic library 'libcudnn.so.8'; dlerror: libcudnn.so.8: cannot open shared object file: No such file or directory\n",
      "2022-04-30 22:43:51.137994: W tensorflow/core/common_runtime/gpu/gpu_device.cc:1850] Cannot dlopen some GPU libraries. Please make sure the missing libraries mentioned above are installed properly if you would like to use GPU. Follow the guide at https://www.tensorflow.org/install/gpu for how to download and setup the required libraries for your platform.\n",
      "Skipping registering GPU devices...\n"
     ]
    }
   ],
   "source": [
    "#Model Structure\n",
    "model = Sequential()\n",
    "model.add(Dense(1, input_shape=(1,)))"
   ]
  },
  {
   "cell_type": "code",
   "execution_count": 13,
   "metadata": {},
   "outputs": [
    {
     "name": "stdout",
     "output_type": "stream",
     "text": [
      "Model: \"sequential\"\n",
      "_________________________________________________________________\n",
      " Layer (type)                Output Shape              Param #   \n",
      "=================================================================\n",
      " dense (Dense)               (None, 1)                 2         \n",
      "                                                                 \n",
      "=================================================================\n",
      "Total params: 2\n",
      "Trainable params: 2\n",
      "Non-trainable params: 0\n",
      "_________________________________________________________________\n"
     ]
    }
   ],
   "source": [
    "model.summary()"
   ]
  },
  {
   "cell_type": "code",
   "execution_count": 14,
   "metadata": {},
   "outputs": [],
   "source": [
    "#compilation steps\n",
    "model.compile(Adam(learning_rate=0.8), 'mean_squared_error')"
   ]
  },
  {
   "cell_type": "code",
   "execution_count": 15,
   "metadata": {},
   "outputs": [
    {
     "name": "stdout",
     "output_type": "stream",
     "text": [
      "Epoch 1/40\n",
      "313/313 [==============================] - 1s 1ms/step - loss: 1424.2565\n",
      "Epoch 2/40\n",
      "313/313 [==============================] - 0s 1ms/step - loss: 565.6185\n",
      "Epoch 3/40\n",
      "313/313 [==============================] - 0s 951us/step - loss: 547.3058\n",
      "Epoch 4/40\n",
      "313/313 [==============================] - 0s 1ms/step - loss: 497.8027\n",
      "Epoch 5/40\n",
      "313/313 [==============================] - 0s 1ms/step - loss: 466.0864\n",
      "Epoch 6/40\n",
      "313/313 [==============================] - 0s 1ms/step - loss: 426.8657\n",
      "Epoch 7/40\n",
      "313/313 [==============================] - 0s 1ms/step - loss: 392.9170\n",
      "Epoch 8/40\n",
      "313/313 [==============================] - 0s 1ms/step - loss: 348.5427\n",
      "Epoch 9/40\n",
      "313/313 [==============================] - 0s 1ms/step - loss: 318.3227\n",
      "Epoch 10/40\n",
      "313/313 [==============================] - 0s 1ms/step - loss: 292.0180\n",
      "Epoch 11/40\n",
      "313/313 [==============================] - 0s 1ms/step - loss: 275.2511\n",
      "Epoch 12/40\n",
      "313/313 [==============================] - 0s 1ms/step - loss: 260.4248\n",
      "Epoch 13/40\n",
      "313/313 [==============================] - 0s 1ms/step - loss: 234.6329\n",
      "Epoch 14/40\n",
      "313/313 [==============================] - 0s 1ms/step - loss: 219.1739\n",
      "Epoch 15/40\n",
      "313/313 [==============================] - 0s 1ms/step - loss: 209.8013\n",
      "Epoch 16/40\n",
      "313/313 [==============================] - 0s 1ms/step - loss: 204.7326\n",
      "Epoch 17/40\n",
      "313/313 [==============================] - 0s 1ms/step - loss: 202.2593\n",
      "Epoch 18/40\n",
      "313/313 [==============================] - 0s 1ms/step - loss: 193.6519\n",
      "Epoch 19/40\n",
      "313/313 [==============================] - 0s 974us/step - loss: 183.0450\n",
      "Epoch 20/40\n",
      "313/313 [==============================] - 0s 1ms/step - loss: 192.6221\n",
      "Epoch 21/40\n",
      "313/313 [==============================] - 0s 1ms/step - loss: 191.3066\n",
      "Epoch 22/40\n",
      "313/313 [==============================] - 0s 1ms/step - loss: 189.4467\n",
      "Epoch 23/40\n",
      "313/313 [==============================] - 0s 1ms/step - loss: 182.0305\n",
      "Epoch 24/40\n",
      "313/313 [==============================] - 0s 1ms/step - loss: 179.7207\n",
      "Epoch 25/40\n",
      "313/313 [==============================] - 0s 1ms/step - loss: 184.2561\n",
      "Epoch 26/40\n",
      "313/313 [==============================] - 0s 1ms/step - loss: 192.1731\n",
      "Epoch 27/40\n",
      "313/313 [==============================] - 0s 1ms/step - loss: 187.6377\n",
      "Epoch 28/40\n",
      "313/313 [==============================] - 0s 1ms/step - loss: 169.8501\n",
      "Epoch 29/40\n",
      "313/313 [==============================] - 0s 1ms/step - loss: 182.4247\n",
      "Epoch 30/40\n",
      "313/313 [==============================] - 0s 1ms/step - loss: 190.1957\n",
      "Epoch 31/40\n",
      "313/313 [==============================] - 0s 1ms/step - loss: 174.9962\n",
      "Epoch 32/40\n",
      "313/313 [==============================] - 0s 1ms/step - loss: 175.2115\n",
      "Epoch 33/40\n",
      "313/313 [==============================] - 0s 1ms/step - loss: 179.4651\n",
      "Epoch 34/40\n",
      "313/313 [==============================] - 0s 1ms/step - loss: 176.6246\n",
      "Epoch 35/40\n",
      "313/313 [==============================] - 0s 1ms/step - loss: 179.5538\n",
      "Epoch 36/40\n",
      "313/313 [==============================] - 0s 1ms/step - loss: 171.9870\n",
      "Epoch 37/40\n",
      "313/313 [==============================] - 0s 999us/step - loss: 179.7177\n",
      "Epoch 38/40\n",
      "313/313 [==============================] - 0s 1ms/step - loss: 172.6640\n",
      "Epoch 39/40\n",
      "313/313 [==============================] - 0s 1ms/step - loss: 190.5676\n",
      "Epoch 40/40\n",
      "313/313 [==============================] - 0s 1ms/step - loss: 186.4259\n"
     ]
    },
    {
     "data": {
      "text/plain": [
       "<keras.callbacks.History at 0x7fed202c9df0>"
      ]
     },
     "execution_count": 15,
     "metadata": {},
     "output_type": "execute_result"
    }
   ],
   "source": [
    "#Model Training\n",
    "model.fit(X, y_true, epochs=40)"
   ]
  },
  {
   "cell_type": "code",
   "execution_count": 16,
   "metadata": {},
   "outputs": [
    {
     "data": {
      "text/plain": [
       "array([[215.58884],\n",
       "       [176.95663],\n",
       "       [217.59549],\n",
       "       ...,\n",
       "       [139.47763],\n",
       "       [178.8812 ],\n",
       "       [124.80496]], dtype=float32)"
      ]
     },
     "execution_count": 16,
     "metadata": {},
     "output_type": "execute_result"
    }
   ],
   "source": [
    "y_pred = model.predict(X)\n",
    "y_pred"
   ]
  },
  {
   "cell_type": "code",
   "execution_count": 17,
   "metadata": {},
   "outputs": [
    {
     "data": {
      "text/plain": [
       "[<matplotlib.lines.Line2D at 0x7fed20137250>]"
      ]
     },
     "execution_count": 17,
     "metadata": {},
     "output_type": "execute_result"
    },
    {
     "data": {
      "image/png": "[encoded data removed]",
      "text/plain": [
       "<Figure size 432x288 with 1 Axes>"
      ]
     },
     "metadata": {
      "needs_background": "light"
     },
     "output_type": "display_data"
    }
   ],
   "source": [
    "df.plot(kind='scatter',\n",
    "       x=\"Height\",\n",
    "       y=\"Weight\",\n",
    "       title=\"Height Vs Weight with Deep learning\")\n",
    "plt.plot(X, y_pred, color=\"red\", linewidth=3)"
   ]
  },
  {
   "cell_type": "code",
   "execution_count": 18,
   "metadata": {},
   "outputs": [
    {
     "name": "stdout",
     "output_type": "stream",
     "text": [
      "[[7.62712]] [-347.6512]\n"
     ]
    }
   ],
   "source": [
    "w, b = model.get_weights()\n",
    "print(w,b)"
   ]
  },
  {
   "cell_type": "code",
   "execution_count": 19,
   "metadata": {},
   "outputs": [
    {
     "data": {
      "text/plain": [
       "array([[567.60315]], dtype=float32)"
      ]
     },
     "execution_count": 19,
     "metadata": {},
     "output_type": "execute_result"
    }
   ],
   "source": [
    "model.predict([[120]])"
   ]
  },
  {
   "cell_type": "code",
   "execution_count": 20,
   "metadata": {},
   "outputs": [
    {
     "data": {
      "text/plain": [
       "<matplotlib.collections.PathCollection at 0x7fed18792130>"
      ]
     },
     "execution_count": 20,
     "metadata": {},
     "output_type": "execute_result"
    },
    {
     "data": {
      "image/png": "[encoded data removed]",
      "text/plain": [
       "<Figure size 432x288 with 1 Axes>"
      ]
     },
     "metadata": {
      "needs_background": "light"
     },
     "output_type": "display_data"
    }
   ],
   "source": [
    "i = int(input(\"Enter Height in Number\"))\n",
    "j = model.predict([[i]])\n",
    "\n",
    "df.plot(kind='scatter',\n",
    "       x=\"Height\",\n",
    "       y=\"Weight\",\n",
    "       title=\"Height Vs Weight with Deep learning\")\n",
    "plt.plot(X, y_pred, color=\"red\", linewidth=3)\n",
    "plt.scatter(i,j, color='green')"
   ]
  },
  {
   "cell_type": "code",
   "execution_count": 21,
   "metadata": {},
   "outputs": [],
   "source": [
    "#colab.com\n",
    "#import tensorflow\n",
    "#tensorflow.__version__\n",
    "#pip install --upgrade tensorflow\n",
    "#tensorflow.__version__"
   ]
  },
  {
   "cell_type": "code",
   "execution_count": 22,
   "metadata": {},
   "outputs": [],
   "source": [
    "model.save(\"./weight_height_model.h5\")"
   ]
  }
 ],
 "metadata": {
  "kernelspec": {
   "display_name": "Python 3",
   "language": "python",
   "name": "python3"
  },
  "language_info": {
   "codemirror_mode": {
    "name": "ipython",
    "version": 3
   },
   "file_extension": ".py",
   "mimetype": "text/x-python",
   "name": "python",
   "nbconvert_exporter": "python",
   "pygments_lexer": "ipython3",
   "version": "3.8.10"
  }
 },
 "nbformat": 4,
 "nbformat_minor": 4
}
