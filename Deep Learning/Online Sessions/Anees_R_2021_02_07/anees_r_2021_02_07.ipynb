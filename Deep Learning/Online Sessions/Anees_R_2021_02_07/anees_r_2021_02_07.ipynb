{
 "cells": [
  {
   "cell_type": "markdown",
   "metadata": {},
   "source": [
    "# Deep Learning - Anees Ahmad - 2021/02/07"
   ]
  },
  {
   "cell_type": "markdown",
   "metadata": {},
   "source": [
    "# 1 What is deep learning?"
   ]
  },
  {
   "cell_type": "markdown",
   "metadata": {},
   "source": [
    "## 1.1 Artificial intelligence, machine learning, and deep learning\n",
    "\n",
    "![Artificial intelligence, machine learning, and deep learning](./snaps/one.PNG)"
   ]
  }
 ],
 "metadata": {
  "language_info": {
   "name": "python"
  },
  "orig_nbformat": 4
 },
 "nbformat": 4,
 "nbformat_minor": 2
}
