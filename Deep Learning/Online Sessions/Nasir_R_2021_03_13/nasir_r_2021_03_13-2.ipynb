{
  "cells": [
    {
      "cell_type": "markdown",
      "metadata": {},
      "source": [
        "# Deep Learning - Nasir Hussain - 2021/03/13"
      ]
    },
    {
      "cell_type": "markdown",
      "metadata": {
        "id": "ndHZlSAPrRNC"
      },
      "source": [
        "# 5 Fundamentals of machine learning"
      ]
    },
    {
      "cell_type": "markdown",
      "metadata": {
        "id": "_MuxlN4SpX_5"
      },
      "source": [
        "## 5.3 Improving model fit"
      ]
    },
    {
      "cell_type": "markdown",
      "metadata": {
        "id": "8Z4wlpqRpZLd"
      },
      "source": [
        "- steps \n",
        "  - first overfit\n",
        "  - refine generalization by fighting overfitting\n",
        "- three common problems\n",
        "  - Training doesn’t get started: your training loss doesn’t go down over time.\n",
        "  - Training gets started just fine, but your model doesn’t meaningfully generalize: you can’t beat the common-sense baseline you set.\n",
        "  - Training and validation loss both go down over time, and you can beat your baseline, but you don’t seem to be able to overfit, which indicates you’re still underfitting.\n"
      ]
    },
    {
      "cell_type": "markdown",
      "metadata": {
        "id": "1D80rbHeqDQW"
      },
      "source": [
        "### 5.3.1 Tuning key gradient descent parameters\n",
        "- Sometimes training doesn’t get started, or it stalls too early.\n",
        "  - Your loss is stuck. \n",
        "  - fit a model to random data\n",
        "  - Reasons\n",
        "    - configuration of the gradient descent process \n",
        "      - choice of optimizer\n",
        "      - the distribution of initial values\n",
        "      - learning rate\n",
        "      - batch size \n",
        "  - Solution\n",
        "    - tune\n",
        "      - learning rate\n",
        "        - Lowering or increasing the learning rate. A learning rate that is too high may lead to updates that vastly overshoot a proper fit, like in the preceding example, and a learning rate that is too low may make training so slow that it appears to stall.\n",
        "      - batch size\n",
        "        - Increasing the batch size. A batch with more samples will lead to gradients that are more informative and less noisy (lower variance)."
      ]
    },
    {
      "cell_type": "code",
      "execution_count": 1,
      "metadata": {
        "id": "nji0-kp6remX"
      },
      "outputs": [],
      "source": [
        "from tensorflow.keras.datasets import mnist\n",
        "from tensorflow import keras \n",
        "from tensorflow.keras import layers"
      ]
    },
    {
      "cell_type": "code",
      "execution_count": 2,
      "metadata": {
        "colab": {
          "base_uri": "https://localhost:8080/"
        },
        "id": "NTDDPxqErWHd",
        "outputId": "c41f2bad-9cce-4b23-d70f-f56882439937"
      },
      "outputs": [
        {
          "name": "stdout",
          "output_type": "stream",
          "text": [
            "Downloading data from https://storage.googleapis.com/tensorflow/tf-keras-datasets/mnist.npz\n",
            "11493376/11490434 [==============================] - 0s 0us/step\n",
            "11501568/11490434 [==============================] - 0s 0us/step\n",
            "Epoch 1/10\n",
            "375/375 [==============================] - 6s 4ms/step - loss: 520.6833 - accuracy: 0.3016 - val_loss: 2.2709 - val_accuracy: 0.1943\n",
            "Epoch 2/10\n",
            "375/375 [==============================] - 1s 3ms/step - loss: 3.2275 - accuracy: 0.2320 - val_loss: 2.2048 - val_accuracy: 0.2344\n",
            "Epoch 3/10\n",
            "375/375 [==============================] - 1s 3ms/step - loss: 2.7367 - accuracy: 0.2323 - val_loss: 2.3790 - val_accuracy: 0.2064\n",
            "Epoch 4/10\n",
            "375/375 [==============================] - 1s 3ms/step - loss: 3.6080 - accuracy: 0.2461 - val_loss: 2.6200 - val_accuracy: 0.2072\n",
            "Epoch 5/10\n",
            "375/375 [==============================] - 1s 3ms/step - loss: 2.6839 - accuracy: 0.2260 - val_loss: 2.1962 - val_accuracy: 0.2202\n",
            "Epoch 6/10\n",
            "375/375 [==============================] - 1s 3ms/step - loss: 2.4999 - accuracy: 0.2313 - val_loss: 2.7546 - val_accuracy: 0.2503\n",
            "Epoch 7/10\n",
            "375/375 [==============================] - 1s 3ms/step - loss: 2.5368 - accuracy: 0.2453 - val_loss: 2.5972 - val_accuracy: 0.2344\n",
            "Epoch 8/10\n",
            "375/375 [==============================] - 1s 3ms/step - loss: 2.3521 - accuracy: 0.2480 - val_loss: 2.2968 - val_accuracy: 0.2674\n",
            "Epoch 9/10\n",
            "375/375 [==============================] - 1s 3ms/step - loss: 2.4208 - accuracy: 0.2596 - val_loss: 2.0768 - val_accuracy: 0.2177\n",
            "Epoch 10/10\n",
            "375/375 [==============================] - 1s 3ms/step - loss: 2.4838 - accuracy: 0.2278 - val_loss: 2.2791 - val_accuracy: 0.2006\n"
          ]
        },
        {
          "data": {
            "text/plain": [
              "<keras.callbacks.History at 0x7f19305a4650>"
            ]
          },
          "execution_count": 2,
          "metadata": {},
          "output_type": "execute_result"
        }
      ],
      "source": [
        "# Listing 5.7 Training an MNIST model with an incorrectly high learning rate\n",
        "(train_images, train_labels), _ = mnist.load_data()\n",
        "train_images = train_images.reshape((60000, 28 * 28))\n",
        "train_images = train_images.astype(\"float32\") / 255\n",
        " \n",
        "model = keras.Sequential([\n",
        "  layers.Dense(512, activation=\"relu\"),\n",
        "  layers.Dense(10, activation=\"softmax\")\n",
        "])\n",
        "model.compile(\n",
        "    optimizer=keras.optimizers.RMSprop(1.),\n",
        "    loss=\"sparse_categorical_crossentropy\",\n",
        "    metrics=[\"accuracy\"])\n",
        "model.fit(\n",
        "  train_images, \n",
        "  train_labels,\n",
        "  epochs=10,\n",
        "  batch_size=128,\n",
        "  validation_split=0.2)"
      ]
    },
    {
      "cell_type": "code",
      "execution_count": 3,
      "metadata": {
        "colab": {
          "base_uri": "https://localhost:8080/"
        },
        "id": "jMqeSqyqsIr6",
        "outputId": "d535dc53-9820-4d53-bf26-56c16de1fb2d"
      },
      "outputs": [
        {
          "name": "stdout",
          "output_type": "stream",
          "text": [
            "Epoch 1/10\n",
            "375/375 [==============================] - 2s 3ms/step - loss: 0.3876 - accuracy: 0.9115 - val_loss: 0.1454 - val_accuracy: 0.9587\n",
            "Epoch 2/10\n",
            "375/375 [==============================] - 1s 3ms/step - loss: 0.1384 - accuracy: 0.9644 - val_loss: 0.1575 - val_accuracy: 0.9668\n",
            "Epoch 3/10\n",
            "375/375 [==============================] - 1s 3ms/step - loss: 0.1099 - accuracy: 0.9736 - val_loss: 0.1731 - val_accuracy: 0.9683\n",
            "Epoch 4/10\n",
            "375/375 [==============================] - 1s 3ms/step - loss: 0.0951 - accuracy: 0.9790 - val_loss: 0.1829 - val_accuracy: 0.9721\n",
            "Epoch 5/10\n",
            "375/375 [==============================] - 1s 3ms/step - loss: 0.0885 - accuracy: 0.9821 - val_loss: 0.2786 - val_accuracy: 0.9647\n",
            "Epoch 6/10\n",
            "375/375 [==============================] - 1s 3ms/step - loss: 0.0859 - accuracy: 0.9841 - val_loss: 0.2155 - val_accuracy: 0.9709\n",
            "Epoch 7/10\n",
            "375/375 [==============================] - 1s 3ms/step - loss: 0.0759 - accuracy: 0.9861 - val_loss: 0.2245 - val_accuracy: 0.9734\n",
            "Epoch 8/10\n",
            "375/375 [==============================] - 1s 3ms/step - loss: 0.0633 - accuracy: 0.9880 - val_loss: 0.2747 - val_accuracy: 0.9715\n",
            "Epoch 9/10\n",
            "375/375 [==============================] - 1s 3ms/step - loss: 0.0583 - accuracy: 0.9898 - val_loss: 0.2666 - val_accuracy: 0.9747\n",
            "Epoch 10/10\n",
            "375/375 [==============================] - 1s 3ms/step - loss: 0.0662 - accuracy: 0.9899 - val_loss: 0.3018 - val_accuracy: 0.9742\n"
          ]
        },
        {
          "data": {
            "text/plain": [
              "<keras.callbacks.History at 0x7f1943aa3090>"
            ]
          },
          "execution_count": 3,
          "metadata": {},
          "output_type": "execute_result"
        }
      ],
      "source": [
        "# Listing 5.8 The same model with a more appropriate learning rate\n",
        "model = keras.Sequential([\n",
        "    layers.Dense(512, activation=\"relu\"),\n",
        "    layers.Dense(10, activation=\"softmax\")\n",
        "])\n",
        "model.compile(optimizer=keras.optimizers.RMSprop(1e-2),\n",
        "              loss=\"sparse_categorical_crossentropy\",\n",
        "              metrics=[\"accuracy\"])\n",
        "model.fit(train_images, train_labels,\n",
        "          epochs=10,\n",
        "          batch_size=128,\n",
        "          validation_split=0.2)"
      ]
    },
    {
      "cell_type": "markdown",
      "metadata": {
        "id": "hsw5l23JswD5"
      },
      "source": [
        "### 5.3.2 Leveraging better architecture priors\n",
        "- model fits\n",
        "- validation metrics aren’t improving at all\n",
        "- model trains but doesn’t generalize\n",
        "- Reasons\n",
        "  - fundamentally wrong with your approach\n",
        "- Solutions\n",
        "  - input data dosen't contain sufficient information\n",
        "    - no solution\n",
        "  - model not suited for the problem\n",
        "    - change the model"
      ]
    },
    {
      "cell_type": "markdown",
      "metadata": {
        "id": "VKO3ihYFt5td"
      },
      "source": [
        "### 5.3.3 Increasing model capacity\n",
        "- model fits\n",
        "- validation metrics are going down\n",
        "- Reason\n",
        "  - sone thing wrong with representational power of your model\n",
        "- Solution\n",
        "  - need a bigger model\n",
        "  - one with more capacity\n",
        "  - one able to store more information\n",
        "  - increase representational power\n",
        "    - adding more layers\n",
        "    - using bigger layers\n",
        "    - using kinds of layers that are more appropriate\n"
      ]
    },
    {
      "cell_type": "code",
      "execution_count": 4,
      "metadata": {
        "colab": {
          "base_uri": "https://localhost:8080/"
        },
        "id": "BSPv4YL6uMq9",
        "outputId": "84b6996c-f0d7-48b7-8a8c-5614cd4a7013"
      },
      "outputs": [
        {
          "name": "stdout",
          "output_type": "stream",
          "text": [
            "Epoch 1/20\n",
            "375/375 [==============================] - 1s 3ms/step - loss: 0.6740 - accuracy: 0.8348 - val_loss: 0.3573 - val_accuracy: 0.9038\n",
            "Epoch 2/20\n",
            "375/375 [==============================] - 1s 3ms/step - loss: 0.3517 - accuracy: 0.9024 - val_loss: 0.3086 - val_accuracy: 0.9128\n",
            "Epoch 3/20\n",
            "375/375 [==============================] - 1s 3ms/step - loss: 0.3157 - accuracy: 0.9114 - val_loss: 0.2912 - val_accuracy: 0.9162\n",
            "Epoch 4/20\n",
            "375/375 [==============================] - 1s 3ms/step - loss: 0.2997 - accuracy: 0.9158 - val_loss: 0.2821 - val_accuracy: 0.9215\n",
            "Epoch 5/20\n",
            "375/375 [==============================] - 1s 3ms/step - loss: 0.2898 - accuracy: 0.9191 - val_loss: 0.2774 - val_accuracy: 0.9215\n",
            "Epoch 6/20\n",
            "375/375 [==============================] - 1s 3ms/step - loss: 0.2829 - accuracy: 0.9210 - val_loss: 0.2710 - val_accuracy: 0.9246\n",
            "Epoch 7/20\n",
            "375/375 [==============================] - 1s 3ms/step - loss: 0.2781 - accuracy: 0.9225 - val_loss: 0.2685 - val_accuracy: 0.9256\n",
            "Epoch 8/20\n",
            "375/375 [==============================] - 1s 3ms/step - loss: 0.2743 - accuracy: 0.9232 - val_loss: 0.2667 - val_accuracy: 0.9275\n",
            "Epoch 9/20\n",
            "375/375 [==============================] - 1s 3ms/step - loss: 0.2714 - accuracy: 0.9244 - val_loss: 0.2645 - val_accuracy: 0.9280\n",
            "Epoch 10/20\n",
            "375/375 [==============================] - 1s 3ms/step - loss: 0.2687 - accuracy: 0.9258 - val_loss: 0.2655 - val_accuracy: 0.9287\n",
            "Epoch 11/20\n",
            "375/375 [==============================] - 1s 3ms/step - loss: 0.2664 - accuracy: 0.9263 - val_loss: 0.2671 - val_accuracy: 0.9275\n",
            "Epoch 12/20\n",
            "375/375 [==============================] - 1s 3ms/step - loss: 0.2646 - accuracy: 0.9270 - val_loss: 0.2650 - val_accuracy: 0.9294\n",
            "Epoch 13/20\n",
            "375/375 [==============================] - 1s 3ms/step - loss: 0.2633 - accuracy: 0.9270 - val_loss: 0.2624 - val_accuracy: 0.9301\n",
            "Epoch 14/20\n",
            "375/375 [==============================] - 1s 3ms/step - loss: 0.2617 - accuracy: 0.9281 - val_loss: 0.2626 - val_accuracy: 0.9295\n",
            "Epoch 15/20\n",
            "375/375 [==============================] - 1s 3ms/step - loss: 0.2601 - accuracy: 0.9282 - val_loss: 0.2655 - val_accuracy: 0.9280\n",
            "Epoch 16/20\n",
            "375/375 [==============================] - 1s 3ms/step - loss: 0.2593 - accuracy: 0.9288 - val_loss: 0.2631 - val_accuracy: 0.9298\n",
            "Epoch 17/20\n",
            "375/375 [==============================] - 1s 3ms/step - loss: 0.2582 - accuracy: 0.9286 - val_loss: 0.2617 - val_accuracy: 0.9301\n",
            "Epoch 18/20\n",
            "375/375 [==============================] - 1s 3ms/step - loss: 0.2569 - accuracy: 0.9295 - val_loss: 0.2607 - val_accuracy: 0.9309\n",
            "Epoch 19/20\n",
            "375/375 [==============================] - 1s 3ms/step - loss: 0.2563 - accuracy: 0.9296 - val_loss: 0.2609 - val_accuracy: 0.9308\n",
            "Epoch 20/20\n",
            "375/375 [==============================] - 1s 3ms/step - loss: 0.2556 - accuracy: 0.9296 - val_loss: 0.2608 - val_accuracy: 0.9319\n"
          ]
        }
      ],
      "source": [
        "# Listing 5.9 A simple logistic regression on MNIST\n",
        "model = keras.Sequential([layers.Dense(10, activation=\"softmax\")])\n",
        "model.compile(optimizer=\"rmsprop\",\n",
        "              loss=\"sparse_categorical_crossentropy\",\n",
        "              metrics=[\"accuracy\"])\n",
        "history_small_model = model.fit(\n",
        "    train_images, train_labels,\n",
        "    epochs=20,\n",
        "    batch_size=128,\n",
        "    validation_split=0.2)"
      ]
    },
    {
      "cell_type": "code",
      "execution_count": 5,
      "metadata": {
        "colab": {
          "base_uri": "https://localhost:8080/",
          "height": 312
        },
        "id": "y4DkKyGqucUq",
        "outputId": "510b9452-17b5-46cd-cff9-7cd4e9b4f88f"
      },
      "outputs": [
        {
          "data": {
            "text/plain": [
              "<matplotlib.legend.Legend at 0x7f18c6796310>"
            ]
          },
          "execution_count": 5,
          "metadata": {},
          "output_type": "execute_result"
        },
        {
          "data": {
            "image/png": "[encoded data removed]",
            "text/plain": [
              "<Figure size 432x288 with 1 Axes>"
            ]
          },
          "metadata": {
            "needs_background": "light"
          },
          "output_type": "display_data"
        }
      ],
      "source": [
        "# plot the curve\n",
        "import matplotlib.pyplot as plt\n",
        "val_loss = history_small_model.history[\"val_loss\"]\n",
        "epochs = range(1, 21)\n",
        "plt.plot(epochs, val_loss, \"b--\",\n",
        " label=\"Validation loss\")\n",
        "plt.title(\"Effect of insufficient model capacity on validation loss\")\n",
        "plt.xlabel(\"Epochs\")\n",
        "plt.ylabel(\"Loss\")\n",
        "plt.legend()"
      ]
    },
    {
      "cell_type": "markdown",
      "metadata": {
        "id": "85vK2XOmt-YB"
      },
      "source": [
        "- model fit but not overfitt"
      ]
    },
    {
      "cell_type": "code",
      "execution_count": 6,
      "metadata": {
        "colab": {
          "base_uri": "https://localhost:8080/"
        },
        "id": "dFe9CaVJvYHc",
        "outputId": "e99bd1fd-0902-4a70-c56d-1098d4b6d12a"
      },
      "outputs": [
        {
          "name": "stdout",
          "output_type": "stream",
          "text": [
            "Epoch 1/20\n",
            "375/375 [==============================] - 2s 4ms/step - loss: 0.3619 - accuracy: 0.8983 - val_loss: 0.1826 - val_accuracy: 0.9479\n",
            "Epoch 2/20\n",
            "375/375 [==============================] - 2s 5ms/step - loss: 0.1613 - accuracy: 0.9529 - val_loss: 0.1342 - val_accuracy: 0.9608\n",
            "Epoch 3/20\n",
            "375/375 [==============================] - 3s 7ms/step - loss: 0.1135 - accuracy: 0.9660 - val_loss: 0.1196 - val_accuracy: 0.9649\n",
            "Epoch 4/20\n",
            "375/375 [==============================] - 2s 6ms/step - loss: 0.0880 - accuracy: 0.9736 - val_loss: 0.1071 - val_accuracy: 0.9702\n",
            "Epoch 5/20\n",
            "375/375 [==============================] - 2s 5ms/step - loss: 0.0699 - accuracy: 0.9791 - val_loss: 0.1039 - val_accuracy: 0.9703\n",
            "Epoch 6/20\n",
            "375/375 [==============================] - 1s 4ms/step - loss: 0.0577 - accuracy: 0.9832 - val_loss: 0.1015 - val_accuracy: 0.9723\n",
            "Epoch 7/20\n",
            "375/375 [==============================] - 2s 5ms/step - loss: 0.0488 - accuracy: 0.9851 - val_loss: 0.0973 - val_accuracy: 0.9747\n",
            "Epoch 8/20\n",
            "375/375 [==============================] - 1s 4ms/step - loss: 0.0398 - accuracy: 0.9879 - val_loss: 0.0995 - val_accuracy: 0.9738\n",
            "Epoch 9/20\n",
            "375/375 [==============================] - 1s 3ms/step - loss: 0.0333 - accuracy: 0.9900 - val_loss: 0.1066 - val_accuracy: 0.9724\n",
            "Epoch 10/20\n",
            "375/375 [==============================] - 1s 3ms/step - loss: 0.0276 - accuracy: 0.9913 - val_loss: 0.1018 - val_accuracy: 0.9744\n",
            "Epoch 11/20\n",
            "375/375 [==============================] - 1s 3ms/step - loss: 0.0233 - accuracy: 0.9929 - val_loss: 0.1125 - val_accuracy: 0.9743\n",
            "Epoch 12/20\n",
            "375/375 [==============================] - 1s 3ms/step - loss: 0.0203 - accuracy: 0.9937 - val_loss: 0.1049 - val_accuracy: 0.9751\n",
            "Epoch 13/20\n",
            "375/375 [==============================] - 1s 3ms/step - loss: 0.0166 - accuracy: 0.9946 - val_loss: 0.1203 - val_accuracy: 0.9732\n",
            "Epoch 14/20\n",
            "375/375 [==============================] - 1s 3ms/step - loss: 0.0140 - accuracy: 0.9957 - val_loss: 0.1190 - val_accuracy: 0.9758\n",
            "Epoch 15/20\n",
            "375/375 [==============================] - 1s 4ms/step - loss: 0.0121 - accuracy: 0.9962 - val_loss: 0.1459 - val_accuracy: 0.9690\n",
            "Epoch 16/20\n",
            "375/375 [==============================] - 1s 3ms/step - loss: 0.0105 - accuracy: 0.9967 - val_loss: 0.1387 - val_accuracy: 0.9758\n",
            "Epoch 17/20\n",
            "375/375 [==============================] - 1s 3ms/step - loss: 0.0090 - accuracy: 0.9974 - val_loss: 0.1323 - val_accuracy: 0.9738\n",
            "Epoch 18/20\n",
            "375/375 [==============================] - 1s 3ms/step - loss: 0.0077 - accuracy: 0.9975 - val_loss: 0.1347 - val_accuracy: 0.9754\n",
            "Epoch 19/20\n",
            "375/375 [==============================] - 1s 4ms/step - loss: 0.0066 - accuracy: 0.9979 - val_loss: 0.1427 - val_accuracy: 0.9762\n",
            "Epoch 20/20\n",
            "375/375 [==============================] - 1s 3ms/step - loss: 0.0059 - accuracy: 0.9981 - val_loss: 0.1469 - val_accuracy: 0.9752\n"
          ]
        }
      ],
      "source": [
        "# A simple logistic regression on MNIST with 96 units\n",
        "model = keras.Sequential([\n",
        "    layers.Dense(96, activation=\"relu\"),\n",
        "    layers.Dense(96, activation=\"relu\"),\n",
        "    layers.Dense(10, activation=\"softmax\"),\n",
        "])\n",
        "model.compile(optimizer=\"rmsprop\",\n",
        "              loss=\"sparse_categorical_crossentropy\",\n",
        "              metrics=[\"accuracy\"])\n",
        "history_large_model = model.fit(\n",
        "    train_images, train_labels,\n",
        "    epochs=20,\n",
        "    batch_size=128,\n",
        "    validation_split=0.2)"
      ]
    },
    {
      "cell_type": "code",
      "execution_count": 7,
      "metadata": {
        "colab": {
          "base_uri": "https://localhost:8080/",
          "height": 312
        },
        "id": "gtonD7YIvmjo",
        "outputId": "d74e59db-e10e-47be-8a4f-2c46cc1900cb"
      },
      "outputs": [
        {
          "data": {
            "text/plain": [
              "<matplotlib.legend.Legend at 0x7f18c6074ed0>"
            ]
          },
          "execution_count": 7,
          "metadata": {},
          "output_type": "execute_result"
        },
        {
          "data": {
            "image/png": "[encoded data removed]",
            "text/plain": [
              "<Figure size 432x288 with 1 Axes>"
            ]
          },
          "metadata": {
            "needs_background": "light"
          },
          "output_type": "display_data"
        }
      ],
      "source": [
        "# plot the curve\n",
        "import matplotlib.pyplot as plt\n",
        "val_loss = history_large_model.history[\"val_loss\"]\n",
        "epochs = range(1, 21)\n",
        "plt.plot(epochs, val_loss, \"b--\",\n",
        " label=\"Validation loss\")\n",
        "plt.title(\"Effect of sufficient model capacity on validation loss\")\n",
        "plt.xlabel(\"Epochs\")\n",
        "plt.ylabel(\"Loss\")\n",
        "plt.legend()"
      ]
    },
    {
      "cell_type": "markdown",
      "metadata": {
        "id": "ae_UwXeS0bWf"
      },
      "source": [
        "## 5.0.3 Data preprocessing, feature engineering, and feature learning"
      ]
    },
    {
      "cell_type": "markdown",
      "metadata": {
        "id": "KgSUhqXM0p7o"
      },
      "source": [
        "### 5.0.3.1 Data preprocessing for neural networks"
      ]
    },
    {
      "cell_type": "markdown",
      "metadata": {
        "id": "XqGTsyzL03aZ"
      },
      "source": [
        "- vectorization\n",
        "  - turning data into tensors of floating point\n",
        "- normalization\n",
        "  - data\n",
        "    - large values / heterogeneous\n",
        "      - can trigger large gradient updates\n",
        "        - prevent the network from converging\n",
        "    - Take small values\n",
        "      - Typically, most values should be in the 0–1 range.\n",
        "    - Be homogenous\n",
        "      - all features should take values in roughly the same range.\n",
        "  - solution\n",
        "    - Normalize each feature independently to have a mean of 0.\n",
        "    - Normalize each feature independently to have a standard deviation of 1. \n",
        "- handling missing values\n",
        "  - input missing values as 0\n",
        "  - artificially generate training samples with missing entries\n",
        "    - copy some training samples several times, and drop some of the features that you expect are likely to be missing in the test dat\n",
        "- feature extraction"
      ]
    }
  ],
  "metadata": {
    "accelerator": "GPU",
    "colab": {
      "collapsed_sections": [],
      "name": "5_1.ipynb",
      "provenance": []
    },
    "kernelspec": {
      "display_name": "Python 3",
      "name": "python3"
    },
    "language_info": {
      "name": "python"
    }
  },
  "nbformat": 4,
  "nbformat_minor": 0
}
