{
  "cells": [
    {
      "cell_type": "markdown",
      "metadata": {},
      "source": [
        "# Deep Learning - Nasir Hussain - 2021/03/13"
      ]
    },
    {
      "cell_type": "markdown",
      "metadata": {
        "id": "ndHZlSAPrRNC"
      },
      "source": [
        "# 5 Fundamentals of machine learning"
      ]
    },
    {
      "cell_type": "markdown",
      "metadata": {
        "id": "eiR2RRYErcBo"
      },
      "source": [
        "- central problem of machine learning\n",
        "  - overfitting"
      ]
    },
    {
      "cell_type": "markdown",
      "metadata": {
        "id": "iQgkZwwtrqK5"
      },
      "source": [
        "## 5.0.1 Four branches of machine learning"
      ]
    },
    {
      "cell_type": "markdown",
      "metadata": {
        "id": "MsuFPez3rtUO"
      },
      "source": [
        "- Three specific types of machine-learning problems (supervised learning)\n",
        "  - binary classification\n",
        "  - multiclass classification\n",
        "  - scalar regression"
      ]
    },
    {
      "cell_type": "markdown",
      "metadata": {
        "id": "jHmhgUqesRGu"
      },
      "source": [
        "- Four broad categories Machine-learning\n",
        "  - Supervised learning\n",
        "  - Unsupervised learning\n",
        "  - Self-supervised learning\n",
        "  - Reinforcement learning"
      ]
    },
    {
      "cell_type": "markdown",
      "metadata": {
        "id": "I_I7rHDssqiS"
      },
      "source": [
        "### 5.0.1.1 Supervised learning"
      ]
    },
    {
      "cell_type": "markdown",
      "metadata": {
        "id": "iBd2EPU7tJNm"
      },
      "source": [
        "- Supervised learning\n",
        "  - map input data to known targets/annotations\n",
        "  - Categories\n",
        "    - classification\n",
        "    - regression\n",
        "    - Sequence generation\n",
        "      - Given a picture, predict a caption describing it. Sequence generation can sometimes be reformulated as a series of classification problems (such as repeatedly predicting a word or token in a sequence).\n",
        "    - Syntax tree prediction\n",
        "      - Given a sentence, predict its decomposition into a syntax tree\n",
        "    - Object detection\n",
        "      - Given a picture, draw a bounding box around certain objects inside the picture. This can also be expressed as a classification problem (given many candidate bounding boxes, classify the contents of each one) or as a joint classification and regression problem, where the bounding-box coordinates are predicted via vector regression.\n",
        "    - Image segmentation\n",
        "      - Given a picture, draw a pixel-level mask on a specific object."
      ]
    },
    {
      "cell_type": "markdown",
      "metadata": {
        "id": "YoXC0vVmuU6L"
      },
      "source": [
        "### 5.0.1.2 Unsupervised learning"
      ]
    },
    {
      "cell_type": "markdown",
      "metadata": {
        "id": "gitC3Gt5ubTy"
      },
      "source": [
        "- Unsupervised learning\n",
        "  - finding interesting transformations of the input data without the help of any targets\n",
        "  - purposes \n",
        "    - data visualization\n",
        "    - data compression\n",
        "    - data denoising\n",
        "    - to better understand the correlations present in the data at hand.\n",
        "  - Categories\n",
        "    - Dimensionality reduction\n",
        "    - clustering"
      ]
    },
    {
      "cell_type": "markdown",
      "metadata": {
        "id": "nGuGMvqWvZxo"
      },
      "source": [
        "### 5.0.1.3 Self-supervised learning"
      ]
    },
    {
      "cell_type": "markdown",
      "metadata": {
        "id": "ILWrakRyve1p"
      },
      "source": [
        "- Self-supervised learning / temporally supervised learning\n",
        "  - supervised learning without human-annotated labels\n",
        "  - supervision comes from future input data\n",
        "  - labels generated from the input data (heuristic algorithm)\n",
        "  - Examples\n",
        "    - autoencoders\n",
        "      - generated targets are the input, unmodified\n",
        "    - predict the next frame in a video, given past frames\n",
        "    - predict the the next word in a text, given previous words"
      ]
    },
    {
      "cell_type": "markdown",
      "metadata": {
        "id": "Pfqc5GYexKgW"
      },
      "source": [
        "### 5.0.1.4 Reinforcement learning\n",
        "- an agent receives information about its environment and learns to choose actions that will maximize some reward"
      ]
    },
    {
      "cell_type": "markdown",
      "metadata": {
        "id": "2QhVy761xhr-"
      },
      "source": [
        "### Notes"
      ]
    },
    {
      "cell_type": "markdown",
      "metadata": {
        "id": "G9pWwfe6xkzL"
      },
      "source": [
        "- Classification and regression glossary\n",
        "  - Sample or input\n",
        "    - One data point that goes into your model\n",
        "  - Prediction or output\n",
        "    - What comes out of your model.\n",
        "  - Target\n",
        "    - The truth. What your model should ideally have predicted, according to an external source of data.\n",
        "  - Prediction error or loss value\n",
        "    - A measure of the distance between your model’s prediction and the target.\n",
        "  - Classes\n",
        "    - A set of possible labels to choose from in a classification problem.\n",
        "  - Label\n",
        "    - A specific instance of a class annotation in a classification problem.\n",
        "  - Ground-truth or annotations\n",
        "    - All targets for a dataset, typically collected by humans.\n",
        "  - Binary classification\n",
        "    - A classification task where each input sample should be categorized into two exclusive categories.\n",
        "  - Multiclass classification\n",
        "    - A classification task where each input sample should be categorized into more than two categories\n",
        "  - Multilabel classification\n",
        "    - A classification task where each input sample can be assigned multiple labels.\n",
        "  - Scalar regression\n",
        "    - A task where the target is a continuous scalar value.\n",
        "  - Vector regression\n",
        "    - A task where the target is a set of continuous values\n",
        "  - Mini-batch or batch\n",
        "    - A small set of samples that are processed simultaneously by the model.\n"
      ]
    },
    {
      "cell_type": "markdown",
      "metadata": {
        "id": "nnOuTwi7FVum"
      },
      "source": [
        "## 5.1 Generalization: The goal of machine learning"
      ]
    },
    {
      "cell_type": "markdown",
      "metadata": {
        "id": "_sh4TgVMFXOd"
      },
      "source": [
        "- split the data into\n",
        "  - a training set\n",
        "  - a validation set\n",
        "  - a test set\n",
        "- reason not to evaluate the models on the same data\n",
        "  - after just a few epochs, performance on never-before-seen data started diverging from performance on the training data, which always improves as training progresses.\n",
        "-  optimization and generalization\n",
        "  - Optimization\n",
        "    - process of adjusting a model to get the best performance possible on the training data\n",
        "  - generalization\n",
        "    - how well the trained model performs on data it has never seen before. \n",
        "  - regularization\n",
        "    - process of fighting overfitting \n",
        "- The goal \n",
        "  - good generalization \n",
        "    - can’t control generalization\n",
        "    - can only fit the model to its training data\n",
        "      - too well\n",
        "        - overfitting kicks\n",
        "        - generalization suffers"
      ]
    },
    {
      "cell_type": "markdown",
      "metadata": {
        "id": "vi_RreI8IynL"
      },
      "source": [
        "### 5.1.1 Underfitting and overfitting"
      ]
    },
    {
      "cell_type": "markdown",
      "metadata": {
        "id": "1HunhwWXJDw4"
      },
      "source": [
        "![](./snaps/5.1.PNG)"
      ]
    },
    {
      "cell_type": "markdown",
      "metadata": {
        "id": "n3TtFN3nj86o"
      },
      "source": [
        "- Training cycle\n",
        "  - beginning\n",
        "    - optimization and generalization are correlated\n",
        "      - the lower the loss on training data, the lower the loss on test data.\n",
        "    - underfit\n",
        "  - after some iterations\n",
        "    - generalization stops improving\n",
        "    - validation metrics stall and then begin to degrade \n",
        "    - the model is starting to overfit\n",
        "      - beginning to learn patterns that are specific to the training\n",
        "- Overfitting occur when \n",
        "  - data is noisy\n",
        "  - involves uncertainty\n",
        "  - includes rare features"
      ]
    },
    {
      "cell_type": "markdown",
      "metadata": {
        "id": "D-DpE351lVm_"
      },
      "source": [
        "#### NOISY TRAINING DATA"
      ]
    },
    {
      "cell_type": "markdown",
      "metadata": {
        "id": "zbCN6gE4los9"
      },
      "source": [
        "  - data is noisy (distortion)\n",
        "  - targets are mislabeled\n",
        "    - generalization performance will degrade"
      ]
    },
    {
      "cell_type": "markdown",
      "metadata": {
        "id": "6hjGtqkkmAhC"
      },
      "source": [
        "#### AMBIGUOUS FEATURES"
      ]
    },
    {
      "cell_type": "markdown",
      "metadata": {
        "id": "-muP2ad-mE0I"
      },
      "source": [
        "- problem involves uncertainty and ambiguity\n",
        "- robust fit can solve this issue\n",
        "\n",
        "    ![](./snaps/5.2.PNG)"
      ]
    },
    {
      "cell_type": "markdown",
      "metadata": {
        "id": "zwsCk9GwnBBc"
      },
      "source": [
        "#### RARE FEATURES AND SPURIOUS CORRELATIONS"
      ]
    },
    {
      "cell_type": "markdown",
      "metadata": {
        "id": "1-3DLYXPnEUH"
      },
      "source": [
        "- rare feature values are highly susceptible to overfitting\n",
        "- features are wrongly classified in data\n",
        "- model will learn pattern rather than train"
      ]
    },
    {
      "cell_type": "markdown",
      "metadata": {
        "id": "NqZ8mDKro8O5"
      },
      "source": [
        "#### MNIST with Noise"
      ]
    },
    {
      "cell_type": "markdown",
      "metadata": {
        "id": "Vq_uPkm0pQOF"
      },
      "source": [
        "- Take MNIST\n",
        "  - add noise\n",
        "    - concatenate 784 white noise dimensions to the existing 784 dimensions of the data\n",
        "      - half of the data is now noise\n",
        "    - concatenate 784 all-zeros dimensions\n",
        "  - concatenation of meaningless features does not at all affect the information content of the data"
      ]
    },
    {
      "cell_type": "code",
      "execution_count": 1,
      "metadata": {
        "colab": {
          "base_uri": "https://localhost:8080/"
        },
        "id": "WWrLIhYIpQtC",
        "outputId": "4fc0e833-231d-4812-cdda-f9b247e15644"
      },
      "outputs": [
        {
          "name": "stdout",
          "output_type": "stream",
          "text": [
            "Downloading data from https://storage.googleapis.com/tensorflow/tf-keras-datasets/mnist.npz\n",
            "11493376/11490434 [==============================] - 0s 0us/step\n",
            "11501568/11490434 [==============================] - 0s 0us/step\n"
          ]
        }
      ],
      "source": [
        "# Listing 5.1 Adding white noise channels or all-zeros channels to MNIST\n",
        "\n",
        "from tensorflow.keras.datasets import mnist\n",
        "import numpy as np\n",
        "\n",
        "(train_images, train_labels), _ = mnist.load_data()\n",
        "train_images = train_images.reshape((60000, 28 * 28))\n",
        "train_images = train_images.astype(\"float32\") / 255\n",
        "\n",
        "train_images_with_noise_channels = np.concatenate(\n",
        "    [train_images, np.random.random((len(train_images), 784))], axis=1)\n",
        "\n",
        "train_images_with_zeros_channels = np.concatenate(\n",
        "    [train_images, np.zeros((len(train_images), 784))], axis=1)"
      ]
    },
    {
      "cell_type": "code",
      "execution_count": 2,
      "metadata": {
        "colab": {
          "base_uri": "https://localhost:8080/"
        },
        "id": "KGy67RCZq6l_",
        "outputId": "8afe581b-04da-4dbb-c577-c9861a244b11"
      },
      "outputs": [
        {
          "name": "stdout",
          "output_type": "stream",
          "text": [
            "Epoch 1/10\n",
            "375/375 [==============================] - 5s 4ms/step - loss: 0.6190 - accuracy: 0.8106 - val_loss: 0.3124 - val_accuracy: 0.9063\n",
            "Epoch 2/10\n",
            "375/375 [==============================] - 1s 4ms/step - loss: 0.2522 - accuracy: 0.9230 - val_loss: 0.2369 - val_accuracy: 0.9291\n",
            "Epoch 3/10\n",
            "375/375 [==============================] - 1s 4ms/step - loss: 0.1618 - accuracy: 0.9500 - val_loss: 0.1429 - val_accuracy: 0.9587\n",
            "Epoch 4/10\n",
            "375/375 [==============================] - 1s 3ms/step - loss: 0.1164 - accuracy: 0.9640 - val_loss: 0.1374 - val_accuracy: 0.9598\n",
            "Epoch 5/10\n",
            "375/375 [==============================] - 1s 3ms/step - loss: 0.0852 - accuracy: 0.9733 - val_loss: 0.1402 - val_accuracy: 0.9602\n",
            "Epoch 6/10\n",
            "375/375 [==============================] - 1s 3ms/step - loss: 0.0632 - accuracy: 0.9798 - val_loss: 0.1243 - val_accuracy: 0.9647\n",
            "Epoch 7/10\n",
            "375/375 [==============================] - 1s 3ms/step - loss: 0.0479 - accuracy: 0.9845 - val_loss: 0.1382 - val_accuracy: 0.9629\n",
            "Epoch 8/10\n",
            "375/375 [==============================] - 1s 4ms/step - loss: 0.0362 - accuracy: 0.9886 - val_loss: 0.1201 - val_accuracy: 0.9680\n",
            "Epoch 9/10\n",
            "375/375 [==============================] - 1s 4ms/step - loss: 0.0268 - accuracy: 0.9915 - val_loss: 0.1371 - val_accuracy: 0.9669\n",
            "Epoch 10/10\n",
            "375/375 [==============================] - 1s 3ms/step - loss: 0.0206 - accuracy: 0.9936 - val_loss: 0.1306 - val_accuracy: 0.9695\n",
            "Epoch 1/10\n",
            "375/375 [==============================] - 2s 4ms/step - loss: 0.2804 - accuracy: 0.9186 - val_loss: 0.1431 - val_accuracy: 0.9563\n",
            "Epoch 2/10\n",
            "375/375 [==============================] - 1s 3ms/step - loss: 0.1178 - accuracy: 0.9645 - val_loss: 0.1077 - val_accuracy: 0.9689\n",
            "Epoch 3/10\n",
            "375/375 [==============================] - 1s 3ms/step - loss: 0.0773 - accuracy: 0.9765 - val_loss: 0.0916 - val_accuracy: 0.9732\n",
            "Epoch 4/10\n",
            "375/375 [==============================] - 1s 4ms/step - loss: 0.0553 - accuracy: 0.9836 - val_loss: 0.0862 - val_accuracy: 0.9758\n",
            "Epoch 5/10\n",
            "375/375 [==============================] - 1s 4ms/step - loss: 0.0418 - accuracy: 0.9883 - val_loss: 0.0831 - val_accuracy: 0.9764\n",
            "Epoch 6/10\n",
            "375/375 [==============================] - 1s 3ms/step - loss: 0.0317 - accuracy: 0.9900 - val_loss: 0.0835 - val_accuracy: 0.9773\n",
            "Epoch 7/10\n",
            "375/375 [==============================] - 1s 4ms/step - loss: 0.0243 - accuracy: 0.9926 - val_loss: 0.0788 - val_accuracy: 0.9804\n",
            "Epoch 8/10\n",
            "375/375 [==============================] - 1s 4ms/step - loss: 0.0180 - accuracy: 0.9950 - val_loss: 0.0858 - val_accuracy: 0.9786\n",
            "Epoch 9/10\n",
            "375/375 [==============================] - 1s 3ms/step - loss: 0.0139 - accuracy: 0.9960 - val_loss: 0.0821 - val_accuracy: 0.9813\n",
            "Epoch 10/10\n",
            "375/375 [==============================] - 1s 3ms/step - loss: 0.0107 - accuracy: 0.9969 - val_loss: 0.0882 - val_accuracy: 0.9794\n"
          ]
        }
      ],
      "source": [
        "# Listing 5.2 Training the same model on MNIST data with noise channels or all-zero channels\n",
        "\n",
        "from tensorflow import keras\n",
        "from tensorflow.keras import layers\n",
        "\n",
        "def get_model():\n",
        "    model = keras.Sequential([\n",
        "        layers.Dense(512, activation=\"relu\"),\n",
        "        layers.Dense(10, activation=\"softmax\")\n",
        "    ])\n",
        "    model.compile(optimizer=\"rmsprop\",\n",
        "                  loss=\"sparse_categorical_crossentropy\",\n",
        "                  metrics=[\"accuracy\"])\n",
        "    return model\n",
        "\n",
        "model = get_model()\n",
        "history_noise = model.fit(\n",
        "    train_images_with_noise_channels, train_labels,\n",
        "    epochs=10,\n",
        "    batch_size=128,\n",
        "    validation_split=0.2)\n",
        "\n",
        "model = get_model()\n",
        "history_zeros = model.fit(\n",
        "    train_images_with_zeros_channels, train_labels,\n",
        "    epochs=10,\n",
        "    batch_size=128,\n",
        "    validation_split=0.2)"
      ]
    },
    {
      "cell_type": "code",
      "execution_count": 3,
      "metadata": {
        "colab": {
          "base_uri": "https://localhost:8080/",
          "height": 312
        },
        "id": "2G3IS2xgq_f1",
        "outputId": "e2d01e25-b661-4f32-ac22-ef5cea5e97ae"
      },
      "outputs": [
        {
          "data": {
            "text/plain": [
              "<matplotlib.legend.Legend at 0x7fd3f4084410>"
            ]
          },
          "execution_count": 3,
          "metadata": {},
          "output_type": "execute_result"
        },
        {
          "data": {
            "image/png": "[encoded data removed]",
            "text/plain": [
              "<Figure size 432x288 with 1 Axes>"
            ]
          },
          "metadata": {
            "needs_background": "light"
          },
          "output_type": "display_data"
        }
      ],
      "source": [
        "# Listing 5.3 Plotting a validation accuracy comparison\n",
        "import matplotlib.pyplot as plt\n",
        "val_acc_noise = history_noise.history[\"val_accuracy\"]\n",
        "val_acc_zeros = history_zeros.history[\"val_accuracy\"]\n",
        "epochs = range(1, 11)\n",
        "plt.plot(epochs, val_acc_noise, \"b-\",\n",
        "         label=\"Validation accuracy with noise channels\")\n",
        "plt.plot(epochs, val_acc_zeros, \"b--\",\n",
        "         label=\"Validation accuracy with zeros channels\")\n",
        "plt.title(\"Effect of noise channels on validation accuracy\")\n",
        "plt.xlabel(\"Epochs\")\n",
        "plt.ylabel(\"Accuracy\")\n",
        "plt.legend()"
      ]
    },
    {
      "cell_type": "markdown",
      "metadata": {
        "id": "ExBIMhGmrid9"
      },
      "source": [
        "- the validation accuracy of the model trained with noise channels ends up about one percentage point lower"
      ]
    },
    {
      "cell_type": "markdown",
      "metadata": {
        "id": "4s9QnLckr9zd"
      },
      "source": [
        "- To neglect noisy data\n",
        "  - feature selection\n",
        "    - compute some usefulness score for each feature available\n",
        "    - a measure of how informative the feature is with respect to the task\n",
        "    - keep features that are above some threshold"
      ]
    },
    {
      "cell_type": "markdown",
      "metadata": {
        "id": "X2HqTHo_q_Ou"
      },
      "source": [
        "### 5.1.2 The nature of generalization in deep learning"
      ]
    },
    {
      "cell_type": "markdown",
      "metadata": {
        "id": "UqyoKaIhszCx"
      },
      "source": [
        "- deep learning models can be trained to fit anything\n",
        "- shuffle the MNIST labels and train a model\n",
        "- no relationship between the inputs and the shuffled labels\n",
        "  - the training loss goes down just fine\n",
        "  - the validation loss does not improve at all over time"
      ]
    },
    {
      "cell_type": "code",
      "execution_count": 4,
      "metadata": {
        "colab": {
          "base_uri": "https://localhost:8080/"
        },
        "id": "HPx98k4Zwhpn",
        "outputId": "eeb4ca5f-c7f6-492c-f161-315326eeb20b"
      },
      "outputs": [
        {
          "name": "stdout",
          "output_type": "stream",
          "text": [
            "Epoch 1/100\n",
            "375/375 [==============================] - 2s 4ms/step - loss: 2.3173 - accuracy: 0.1037 - val_loss: 2.3045 - val_accuracy: 0.1054\n",
            "Epoch 2/100\n",
            "375/375 [==============================] - 1s 3ms/step - loss: 2.2999 - accuracy: 0.1161 - val_loss: 2.3122 - val_accuracy: 0.0989\n",
            "Epoch 3/100\n",
            "375/375 [==============================] - 1s 3ms/step - loss: 2.2896 - accuracy: 0.1289 - val_loss: 2.3193 - val_accuracy: 0.0997\n",
            "Epoch 4/100\n",
            "375/375 [==============================] - 1s 3ms/step - loss: 2.2751 - accuracy: 0.1409 - val_loss: 2.3283 - val_accuracy: 0.0967\n",
            "Epoch 5/100\n",
            "375/375 [==============================] - 1s 3ms/step - loss: 2.2573 - accuracy: 0.1556 - val_loss: 2.3388 - val_accuracy: 0.1001\n",
            "Epoch 6/100\n",
            "375/375 [==============================] - 1s 3ms/step - loss: 2.2357 - accuracy: 0.1680 - val_loss: 2.3595 - val_accuracy: 0.0993\n",
            "Epoch 7/100\n",
            "375/375 [==============================] - 1s 3ms/step - loss: 2.2115 - accuracy: 0.1854 - val_loss: 2.3811 - val_accuracy: 0.0966\n",
            "Epoch 8/100\n",
            "375/375 [==============================] - 1s 3ms/step - loss: 2.1847 - accuracy: 0.2010 - val_loss: 2.3955 - val_accuracy: 0.0991\n",
            "Epoch 9/100\n",
            "375/375 [==============================] - 1s 3ms/step - loss: 2.1540 - accuracy: 0.2156 - val_loss: 2.4187 - val_accuracy: 0.0979\n",
            "Epoch 10/100\n",
            "375/375 [==============================] - 1s 3ms/step - loss: 2.1224 - accuracy: 0.2340 - val_loss: 2.4271 - val_accuracy: 0.0997\n",
            "Epoch 11/100\n",
            "375/375 [==============================] - 1s 3ms/step - loss: 2.0903 - accuracy: 0.2483 - val_loss: 2.4578 - val_accuracy: 0.0965\n",
            "Epoch 12/100\n",
            "375/375 [==============================] - 1s 3ms/step - loss: 2.0541 - accuracy: 0.2646 - val_loss: 2.4835 - val_accuracy: 0.0994\n",
            "Epoch 13/100\n",
            "375/375 [==============================] - 1s 3ms/step - loss: 2.0207 - accuracy: 0.2817 - val_loss: 2.5135 - val_accuracy: 0.0972\n",
            "Epoch 14/100\n",
            "375/375 [==============================] - 1s 3ms/step - loss: 1.9858 - accuracy: 0.2940 - val_loss: 2.5497 - val_accuracy: 0.1005\n",
            "Epoch 15/100\n",
            "375/375 [==============================] - 1s 3ms/step - loss: 1.9502 - accuracy: 0.3103 - val_loss: 2.5805 - val_accuracy: 0.0929\n",
            "Epoch 16/100\n",
            "375/375 [==============================] - 1s 3ms/step - loss: 1.9142 - accuracy: 0.3238 - val_loss: 2.5984 - val_accuracy: 0.1008\n",
            "Epoch 17/100\n",
            "375/375 [==============================] - 1s 3ms/step - loss: 1.8814 - accuracy: 0.3390 - val_loss: 2.6372 - val_accuracy: 0.1004\n",
            "Epoch 18/100\n",
            "375/375 [==============================] - 1s 3ms/step - loss: 1.8453 - accuracy: 0.3543 - val_loss: 2.6872 - val_accuracy: 0.0948\n",
            "Epoch 19/100\n",
            "375/375 [==============================] - 1s 3ms/step - loss: 1.8134 - accuracy: 0.3639 - val_loss: 2.7011 - val_accuracy: 0.0979\n",
            "Epoch 20/100\n",
            "375/375 [==============================] - 1s 3ms/step - loss: 1.7808 - accuracy: 0.3789 - val_loss: 2.7398 - val_accuracy: 0.0990\n",
            "Epoch 21/100\n",
            "375/375 [==============================] - 1s 3ms/step - loss: 1.7485 - accuracy: 0.3888 - val_loss: 2.7797 - val_accuracy: 0.0963\n",
            "Epoch 22/100\n",
            "375/375 [==============================] - 1s 3ms/step - loss: 1.7166 - accuracy: 0.4026 - val_loss: 2.8096 - val_accuracy: 0.0950\n",
            "Epoch 23/100\n",
            "375/375 [==============================] - 1s 3ms/step - loss: 1.6854 - accuracy: 0.4130 - val_loss: 2.8689 - val_accuracy: 0.0975\n",
            "Epoch 24/100\n",
            "375/375 [==============================] - 1s 3ms/step - loss: 1.6555 - accuracy: 0.4270 - val_loss: 2.8894 - val_accuracy: 0.0958\n",
            "Epoch 25/100\n",
            "375/375 [==============================] - 1s 3ms/step - loss: 1.6246 - accuracy: 0.4369 - val_loss: 2.9593 - val_accuracy: 0.0972\n",
            "Epoch 26/100\n",
            "375/375 [==============================] - 1s 3ms/step - loss: 1.5971 - accuracy: 0.4469 - val_loss: 2.9898 - val_accuracy: 0.0972\n",
            "Epoch 27/100\n",
            "375/375 [==============================] - 1s 3ms/step - loss: 1.5666 - accuracy: 0.4615 - val_loss: 3.0384 - val_accuracy: 0.0975\n",
            "Epoch 28/100\n",
            "375/375 [==============================] - 1s 3ms/step - loss: 1.5407 - accuracy: 0.4712 - val_loss: 3.0571 - val_accuracy: 0.1004\n",
            "Epoch 29/100\n",
            "375/375 [==============================] - 1s 3ms/step - loss: 1.5136 - accuracy: 0.4808 - val_loss: 3.1081 - val_accuracy: 0.0985\n",
            "Epoch 30/100\n",
            "375/375 [==============================] - 1s 3ms/step - loss: 1.4856 - accuracy: 0.4895 - val_loss: 3.1578 - val_accuracy: 0.0975\n",
            "Epoch 31/100\n",
            "375/375 [==============================] - 1s 3ms/step - loss: 1.4607 - accuracy: 0.4996 - val_loss: 3.2036 - val_accuracy: 0.0975\n",
            "Epoch 32/100\n",
            "375/375 [==============================] - 1s 3ms/step - loss: 1.4363 - accuracy: 0.5059 - val_loss: 3.2470 - val_accuracy: 0.0987\n",
            "Epoch 33/100\n",
            "375/375 [==============================] - 1s 3ms/step - loss: 1.4103 - accuracy: 0.5168 - val_loss: 3.3042 - val_accuracy: 0.1001\n",
            "Epoch 34/100\n",
            "375/375 [==============================] - 1s 3ms/step - loss: 1.3854 - accuracy: 0.5270 - val_loss: 3.3356 - val_accuracy: 0.0981\n",
            "Epoch 35/100\n",
            "375/375 [==============================] - 1s 3ms/step - loss: 1.3644 - accuracy: 0.5369 - val_loss: 3.3767 - val_accuracy: 0.0945\n",
            "Epoch 36/100\n",
            "375/375 [==============================] - 1s 3ms/step - loss: 1.3389 - accuracy: 0.5461 - val_loss: 3.4564 - val_accuracy: 0.0937\n",
            "Epoch 37/100\n",
            "375/375 [==============================] - 1s 3ms/step - loss: 1.3177 - accuracy: 0.5523 - val_loss: 3.4818 - val_accuracy: 0.0982\n",
            "Epoch 38/100\n",
            "375/375 [==============================] - 1s 3ms/step - loss: 1.2964 - accuracy: 0.5598 - val_loss: 3.5203 - val_accuracy: 0.0941\n",
            "Epoch 39/100\n",
            "375/375 [==============================] - 1s 3ms/step - loss: 1.2733 - accuracy: 0.5697 - val_loss: 3.5974 - val_accuracy: 0.0975\n",
            "Epoch 40/100\n",
            "375/375 [==============================] - 1s 3ms/step - loss: 1.2530 - accuracy: 0.5756 - val_loss: 3.6379 - val_accuracy: 0.0985\n",
            "Epoch 41/100\n",
            "375/375 [==============================] - 1s 3ms/step - loss: 1.2305 - accuracy: 0.5840 - val_loss: 3.6539 - val_accuracy: 0.0972\n",
            "Epoch 42/100\n",
            "375/375 [==============================] - 1s 3ms/step - loss: 1.2109 - accuracy: 0.5893 - val_loss: 3.7376 - val_accuracy: 0.0959\n",
            "Epoch 43/100\n",
            "375/375 [==============================] - 1s 3ms/step - loss: 1.1906 - accuracy: 0.5956 - val_loss: 3.7957 - val_accuracy: 0.0997\n",
            "Epoch 44/100\n",
            "375/375 [==============================] - 1s 3ms/step - loss: 1.1714 - accuracy: 0.6057 - val_loss: 3.8851 - val_accuracy: 0.0972\n",
            "Epoch 45/100\n",
            "375/375 [==============================] - 1s 3ms/step - loss: 1.1538 - accuracy: 0.6110 - val_loss: 3.9099 - val_accuracy: 0.0966\n",
            "Epoch 46/100\n",
            "375/375 [==============================] - 1s 3ms/step - loss: 1.1344 - accuracy: 0.6172 - val_loss: 3.9567 - val_accuracy: 0.0952\n",
            "Epoch 47/100\n",
            "375/375 [==============================] - 1s 3ms/step - loss: 1.1166 - accuracy: 0.6247 - val_loss: 4.0118 - val_accuracy: 0.0987\n",
            "Epoch 48/100\n",
            "375/375 [==============================] - 1s 3ms/step - loss: 1.0983 - accuracy: 0.6289 - val_loss: 4.0700 - val_accuracy: 0.0955\n",
            "Epoch 49/100\n",
            "375/375 [==============================] - 1s 3ms/step - loss: 1.0804 - accuracy: 0.6358 - val_loss: 4.1319 - val_accuracy: 0.0979\n",
            "Epoch 50/100\n",
            "375/375 [==============================] - 1s 3ms/step - loss: 1.0620 - accuracy: 0.6442 - val_loss: 4.1814 - val_accuracy: 0.0952\n",
            "Epoch 51/100\n",
            "375/375 [==============================] - 1s 3ms/step - loss: 1.0476 - accuracy: 0.6484 - val_loss: 4.2194 - val_accuracy: 0.0958\n",
            "Epoch 52/100\n",
            "375/375 [==============================] - 1s 3ms/step - loss: 1.0309 - accuracy: 0.6546 - val_loss: 4.2715 - val_accuracy: 0.0991\n",
            "Epoch 53/100\n",
            "375/375 [==============================] - 1s 3ms/step - loss: 1.0132 - accuracy: 0.6606 - val_loss: 4.3508 - val_accuracy: 0.0988\n",
            "Epoch 54/100\n",
            "375/375 [==============================] - 1s 3ms/step - loss: 0.9959 - accuracy: 0.6671 - val_loss: 4.3971 - val_accuracy: 0.0982\n",
            "Epoch 55/100\n",
            "375/375 [==============================] - 1s 3ms/step - loss: 0.9793 - accuracy: 0.6728 - val_loss: 4.4769 - val_accuracy: 0.0972\n",
            "Epoch 56/100\n",
            "375/375 [==============================] - 1s 3ms/step - loss: 0.9663 - accuracy: 0.6767 - val_loss: 4.5216 - val_accuracy: 0.0987\n",
            "Epoch 57/100\n",
            "375/375 [==============================] - 1s 3ms/step - loss: 0.9501 - accuracy: 0.6845 - val_loss: 4.5934 - val_accuracy: 0.0967\n",
            "Epoch 58/100\n",
            "375/375 [==============================] - 1s 3ms/step - loss: 0.9368 - accuracy: 0.6882 - val_loss: 4.6178 - val_accuracy: 0.0943\n",
            "Epoch 59/100\n",
            "375/375 [==============================] - 1s 3ms/step - loss: 0.9217 - accuracy: 0.6941 - val_loss: 4.6803 - val_accuracy: 0.0956\n",
            "Epoch 60/100\n",
            "375/375 [==============================] - 1s 3ms/step - loss: 0.9076 - accuracy: 0.6995 - val_loss: 4.7419 - val_accuracy: 0.0960\n",
            "Epoch 61/100\n",
            "375/375 [==============================] - 1s 3ms/step - loss: 0.8927 - accuracy: 0.7043 - val_loss: 4.7899 - val_accuracy: 0.0968\n",
            "Epoch 62/100\n",
            "375/375 [==============================] - 1s 3ms/step - loss: 0.8773 - accuracy: 0.7092 - val_loss: 4.8801 - val_accuracy: 0.0988\n",
            "Epoch 63/100\n",
            "375/375 [==============================] - 1s 3ms/step - loss: 0.8670 - accuracy: 0.7125 - val_loss: 4.9456 - val_accuracy: 0.0985\n",
            "Epoch 64/100\n",
            "375/375 [==============================] - 1s 3ms/step - loss: 0.8526 - accuracy: 0.7181 - val_loss: 4.9656 - val_accuracy: 0.0992\n",
            "Epoch 65/100\n",
            "375/375 [==============================] - 1s 3ms/step - loss: 0.8397 - accuracy: 0.7234 - val_loss: 5.0832 - val_accuracy: 0.0952\n",
            "Epoch 66/100\n",
            "375/375 [==============================] - 1s 3ms/step - loss: 0.8287 - accuracy: 0.7262 - val_loss: 5.1185 - val_accuracy: 0.0957\n",
            "Epoch 67/100\n",
            "375/375 [==============================] - 1s 3ms/step - loss: 0.8154 - accuracy: 0.7296 - val_loss: 5.2088 - val_accuracy: 0.0989\n",
            "Epoch 68/100\n",
            "375/375 [==============================] - 1s 3ms/step - loss: 0.8003 - accuracy: 0.7353 - val_loss: 5.2695 - val_accuracy: 0.0961\n",
            "Epoch 69/100\n",
            "375/375 [==============================] - 1s 3ms/step - loss: 0.7899 - accuracy: 0.7380 - val_loss: 5.2555 - val_accuracy: 0.0993\n",
            "Epoch 70/100\n",
            "375/375 [==============================] - 1s 3ms/step - loss: 0.7773 - accuracy: 0.7440 - val_loss: 5.3482 - val_accuracy: 0.0978\n",
            "Epoch 71/100\n",
            "375/375 [==============================] - 1s 3ms/step - loss: 0.7673 - accuracy: 0.7476 - val_loss: 5.4408 - val_accuracy: 0.0962\n",
            "Epoch 72/100\n",
            "375/375 [==============================] - 1s 3ms/step - loss: 0.7549 - accuracy: 0.7524 - val_loss: 5.4951 - val_accuracy: 0.0952\n",
            "Epoch 73/100\n",
            "375/375 [==============================] - 1s 3ms/step - loss: 0.7429 - accuracy: 0.7557 - val_loss: 5.5516 - val_accuracy: 0.0954\n",
            "Epoch 74/100\n",
            "375/375 [==============================] - 1s 3ms/step - loss: 0.7321 - accuracy: 0.7611 - val_loss: 5.5944 - val_accuracy: 0.0995\n",
            "Epoch 75/100\n",
            "375/375 [==============================] - 1s 3ms/step - loss: 0.7205 - accuracy: 0.7644 - val_loss: 5.7429 - val_accuracy: 0.0994\n",
            "Epoch 76/100\n",
            "375/375 [==============================] - 1s 3ms/step - loss: 0.7108 - accuracy: 0.7681 - val_loss: 5.7330 - val_accuracy: 0.0971\n",
            "Epoch 77/100\n",
            "375/375 [==============================] - 1s 3ms/step - loss: 0.7016 - accuracy: 0.7708 - val_loss: 5.7898 - val_accuracy: 0.0983\n",
            "Epoch 78/100\n",
            "375/375 [==============================] - 1s 3ms/step - loss: 0.6888 - accuracy: 0.7721 - val_loss: 5.8724 - val_accuracy: 0.0980\n",
            "Epoch 79/100\n",
            "375/375 [==============================] - 1s 3ms/step - loss: 0.6791 - accuracy: 0.7784 - val_loss: 5.9545 - val_accuracy: 0.0938\n",
            "Epoch 80/100\n",
            "375/375 [==============================] - 1s 3ms/step - loss: 0.6695 - accuracy: 0.7828 - val_loss: 6.0155 - val_accuracy: 0.0983\n",
            "Epoch 81/100\n",
            "375/375 [==============================] - 1s 3ms/step - loss: 0.6610 - accuracy: 0.7832 - val_loss: 6.0766 - val_accuracy: 0.0984\n",
            "Epoch 82/100\n",
            "375/375 [==============================] - 1s 3ms/step - loss: 0.6494 - accuracy: 0.7881 - val_loss: 6.1273 - val_accuracy: 0.0980\n",
            "Epoch 83/100\n",
            "375/375 [==============================] - 1s 3ms/step - loss: 0.6427 - accuracy: 0.7904 - val_loss: 6.2168 - val_accuracy: 0.0972\n",
            "Epoch 84/100\n",
            "375/375 [==============================] - 1s 4ms/step - loss: 0.6295 - accuracy: 0.7957 - val_loss: 6.2563 - val_accuracy: 0.0997\n",
            "Epoch 85/100\n",
            "375/375 [==============================] - 1s 3ms/step - loss: 0.6226 - accuracy: 0.7960 - val_loss: 6.3417 - val_accuracy: 0.0972\n",
            "Epoch 86/100\n",
            "375/375 [==============================] - 1s 3ms/step - loss: 0.6114 - accuracy: 0.8029 - val_loss: 6.4025 - val_accuracy: 0.1007\n",
            "Epoch 87/100\n",
            "375/375 [==============================] - 1s 3ms/step - loss: 0.6048 - accuracy: 0.8033 - val_loss: 6.4551 - val_accuracy: 0.1004\n",
            "Epoch 88/100\n",
            "375/375 [==============================] - 1s 3ms/step - loss: 0.5950 - accuracy: 0.8073 - val_loss: 6.5194 - val_accuracy: 0.0967\n",
            "Epoch 89/100\n",
            "375/375 [==============================] - 1s 3ms/step - loss: 0.5875 - accuracy: 0.8091 - val_loss: 6.5800 - val_accuracy: 0.1006\n",
            "Epoch 90/100\n",
            "375/375 [==============================] - 1s 3ms/step - loss: 0.5772 - accuracy: 0.8138 - val_loss: 6.7092 - val_accuracy: 0.0999\n",
            "Epoch 91/100\n",
            "375/375 [==============================] - 1s 3ms/step - loss: 0.5713 - accuracy: 0.8174 - val_loss: 6.7142 - val_accuracy: 0.0967\n",
            "Epoch 92/100\n",
            "375/375 [==============================] - 1s 3ms/step - loss: 0.5619 - accuracy: 0.8192 - val_loss: 6.8142 - val_accuracy: 0.0998\n",
            "Epoch 93/100\n",
            "375/375 [==============================] - 1s 3ms/step - loss: 0.5543 - accuracy: 0.8199 - val_loss: 6.8581 - val_accuracy: 0.0978\n",
            "Epoch 94/100\n",
            "375/375 [==============================] - 1s 3ms/step - loss: 0.5477 - accuracy: 0.8241 - val_loss: 6.9764 - val_accuracy: 0.1008\n",
            "Epoch 95/100\n",
            "375/375 [==============================] - 1s 3ms/step - loss: 0.5390 - accuracy: 0.8250 - val_loss: 6.9986 - val_accuracy: 0.0993\n",
            "Epoch 96/100\n",
            "375/375 [==============================] - 1s 3ms/step - loss: 0.5324 - accuracy: 0.8279 - val_loss: 7.0678 - val_accuracy: 0.0998\n",
            "Epoch 97/100\n",
            "375/375 [==============================] - 1s 3ms/step - loss: 0.5243 - accuracy: 0.8316 - val_loss: 7.1634 - val_accuracy: 0.0984\n",
            "Epoch 98/100\n",
            "375/375 [==============================] - 1s 3ms/step - loss: 0.5165 - accuracy: 0.8327 - val_loss: 7.2158 - val_accuracy: 0.1006\n",
            "Epoch 99/100\n",
            "375/375 [==============================] - 1s 3ms/step - loss: 0.5077 - accuracy: 0.8358 - val_loss: 7.2786 - val_accuracy: 0.0990\n",
            "Epoch 100/100\n",
            "375/375 [==============================] - 1s 3ms/step - loss: 0.5005 - accuracy: 0.8403 - val_loss: 7.3836 - val_accuracy: 0.0969\n"
          ]
        }
      ],
      "source": [
        "# Listing 5.4 Fitting an MNIST model with randomly shuffled labels\n",
        "(train_images, train_labels), _ = mnist.load_data()\n",
        "train_images = train_images.reshape((60000, 28 * 28))\n",
        "train_images = train_images.astype(\"float32\") / 255\n",
        "\n",
        "random_train_labels = train_labels[:]\n",
        "np.random.shuffle(random_train_labels)\n",
        "\n",
        "model = keras.Sequential([\n",
        "    layers.Dense(512, activation=\"relu\"),\n",
        "    layers.Dense(10, activation=\"softmax\")\n",
        "])\n",
        "model.compile(optimizer=\"rmsprop\",\n",
        "              loss=\"sparse_categorical_crossentropy\",\n",
        "              metrics=[\"accuracy\"])\n",
        "history = model.fit(train_images, random_train_labels,\n",
        "          epochs=100,\n",
        "          batch_size=128,\n",
        "          validation_split=0.2)"
      ]
    },
    {
      "cell_type": "code",
      "execution_count": 5,
      "metadata": {
        "colab": {
          "base_uri": "https://localhost:8080/",
          "height": 312
        },
        "id": "wgULuQ_KyPJ7",
        "outputId": "a3c52d3a-9e17-4a66-bb64-19fd5a1648ed"
      },
      "outputs": [
        {
          "data": {
            "text/plain": [
              "<matplotlib.legend.Legend at 0x7fd3e07f9850>"
            ]
          },
          "execution_count": 5,
          "metadata": {},
          "output_type": "execute_result"
        },
        {
          "data": {
            "image/png": "[encoded data removed]",
            "text/plain": [
              "<Figure size 432x288 with 1 Axes>"
            ]
          },
          "metadata": {
            "needs_background": "light"
          },
          "output_type": "display_data"
        }
      ],
      "source": [
        "# Plotting a validation and training accuracy comparison\n",
        "import matplotlib.pyplot as plt\n",
        "training_accuracy = history_noise.history[\"accuracy\"]\n",
        "validation_accuracy = history_zeros.history[\"accuracy\"]\n",
        "epochs = range(1, 11)\n",
        "plt.plot(epochs, training_accuracy, \"b-\",\n",
        "         label=\"Training accuracy\")\n",
        "plt.plot(epochs, validation_accuracy, \"b--\",\n",
        "         label=\"Validation accuracy\")\n",
        "plt.title(\"Effect of random labels on accuracy\")\n",
        "plt.xlabel(\"Epochs\")\n",
        "plt.ylabel(\"Accuracy\")\n",
        "plt.legend()"
      ]
    },
    {
      "cell_type": "markdown",
      "metadata": {
        "id": "eWV2eMfr0GoP"
      },
      "source": [
        "#### THE MANIFOLD HYPOTHESIS"
      ]
    },
    {
      "cell_type": "markdown",
      "metadata": {
        "id": "-TSSFhLL1qCE"
      },
      "source": [
        "- A “manifold” is a lower-dimensional subspace of some parent space that is locally similar to a linear (Euclidian) space\n",
        "- manifold hypothesis implies\n",
        "  - Machine learning models only have to fit following within their potential input space\n",
        "    - relatively simple\n",
        "    - low-dimensional\n",
        "    - highly structured subspaces\n",
        "  - Within one of these manifolds, it’s always possible to interpolate between two inputs, that is to say,\n",
        "morph one into another via a continuous path along which all points fall on the manifold."
      ]
    },
    {
      "cell_type": "markdown",
      "metadata": {
        "id": "_bf4nvZi2EFK"
      },
      "source": [
        "#### INTERPOLATION AS A SOURCE OF GENERALIZATION"
      ]
    },
    {
      "cell_type": "markdown",
      "metadata": {
        "id": "HZLoJJV_3Jvn"
      },
      "source": [
        "- If data points can be interpolated\n",
        "  - you can start making sense of points you’ve never seen before by relating them to other points that lie close on the manifold\n",
        "  - you can make sense of the totality of the space using only a sample of the space\n",
        "  - use interpolation to fill in the blanks\n",
        "- Difference between linear interpolation and interpolation on the latent manifold. Every point on the latent manifold of digits is a valid digit, but the average of two digits usually isn’t.\n",
        "\n",
        "  ![](./snaps/5.3.PNG)\n",
        "\n",
        "-  learning achieves generalization via interpolation on a learned approximation of the data manifold\n",
        "- interpolation is not only there for generalization\n",
        "  - it enables local generalization"
      ]
    },
    {
      "cell_type": "markdown",
      "metadata": {
        "id": "6F0yabDG6ssq"
      },
      "source": [
        "#### WHY DEEP LEARNING WORKS"
      ]
    },
    {
      "cell_type": "markdown",
      "metadata": {
        "id": "iXzgdCWT7B4b"
      },
      "source": [
        "![](./snaps/5.4.PNG)\n",
        "\n",
        "- a crumbeled paper is a 2d manifold in 3d space\n",
        "- A deep learning model is a tool for uncrumpling paper balls\n",
        "- Deep learning model\n",
        "  - very high-dimensional differentiable curve\n",
        "    - curve that is smooth and continuous\n",
        "    - curve is fitted to data points via gradient descent, smoothly and incrementally.\n",
        "  - deep learning is about taking a big, complex curve, a manifold and incrementally adjusting its parameters until it fits some training data points."
      ]
    },
    {
      "cell_type": "markdown",
      "metadata": {
        "id": "DhJDew6tGPrb"
      },
      "source": [
        "- Going from a random model to an overfit model, and achieving a robust fit as an intermediate state\n",
        "\n",
        "  ![](./snaps/5.5.PNG)\n",
        "\n",
        "- properties of deep learning models that make them particularly well-suited to learning latent manifolds\n",
        "  - Deep learning models implement a smooth, continuous mapping from their inputs to their outputs. It has to be smooth and continuous because it must be differentiable, by necessity.This smoothness helps approximate latent manifolds, which follow the same properties.\n",
        "  - Deep learning models tend to be structured in a way that mirrors the “shape” of the information in their training data. This is particularly the case for image-processing models and sequence-processing models. More generally, deep neural networks structure their learned representations in a hierarchical and modular way, which echoes the way natural data is organized.\n"
      ]
    },
    {
      "cell_type": "markdown",
      "metadata": {
        "id": "3ookSBN9HJP9"
      },
      "source": [
        "#### TRAINING DATA IS PARAMOUNT"
      ]
    },
    {
      "cell_type": "markdown",
      "metadata": {
        "id": "Iu-VddA3HUgO"
      },
      "source": [
        "- only be able to generalize if your data forms a manifold where points can be interpolated\n",
        "-  trained on a dense sampling of its input space\n",
        "  - training data should densely cover the entirety of the input data manifold "
      ]
    },
    {
      "cell_type": "markdown",
      "metadata": {},
      "source": [
        "## 5.2 Evaluating machine learning models"
      ]
    },
    {
      "cell_type": "markdown",
      "metadata": {},
      "source": [
        "### 5.2 Evaluating machine learning models"
      ]
    },
    {
      "cell_type": "markdown",
      "metadata": {},
      "source": [
        "- split data into three sets\n",
        "  - training \n",
        "  - validation,\n",
        "  - test\n",
        "- hyperparameters are tuned (learning) based on feedback signal\n",
        "- learning\n",
        "  - search for a good configuration in some parameter space\n",
        "-  information leaks\n",
        "  - information about the validation data leaks into the model\n",
        "  - can be prevented by doing validations as less as possible\n",
        "- Little data\n",
        "  - simple holdout validation\n",
        "  - K-fold validation\n",
        "  - iterated K-fold validation with shuffling. "
      ]
    },
    {
      "cell_type": "markdown",
      "metadata": {},
      "source": [
        "#### SIMPLE HOLDOUT VALIDATION"
      ]
    },
    {
      "cell_type": "markdown",
      "metadata": {},
      "source": [
        "![](./snaps/5.6.PNG)"
      ]
    },
    {
      "cell_type": "markdown",
      "metadata": {},
      "source": [
        "- if little data is available, then your validation and test sets may contain too few samples to be statistically representative of the data at hand"
      ]
    },
    {
      "cell_type": "markdown",
      "metadata": {},
      "source": [
        "#### K-FOLD VALIDATION"
      ]
    },
    {
      "cell_type": "markdown",
      "metadata": {},
      "source": [
        "![](./snaps/5.7.PNG)"
      ]
    },
    {
      "cell_type": "markdown",
      "metadata": {},
      "source": [
        "#### ITERATED K-FOLD VALIDATION WITH SHUFFLING\n",
        "- apply K-fold validation multiple times, shuffling the data every time before splitting it K ways. \n",
        "- The final score is the average of the scores obtained at each run of K-fold validation."
      ]
    },
    {
      "cell_type": "markdown",
      "metadata": {},
      "source": [
        "### 5.2.2 Beating a common-sense baseline"
      ]
    },
    {
      "cell_type": "markdown",
      "metadata": {},
      "source": [
        "- only feedback you have is your validation metrics\n",
        "- always pick a trivial baseline that you’ll try to beat. \n",
        "- baseline could be\n",
        "    -  the performance of a random classifier\n",
        "    - the performance of the simplest non-machine learning technique you can imagine.\n"
      ]
    },
    {
      "cell_type": "markdown",
      "metadata": {},
      "source": [
        "### 5.2.3 Things to keep in mind about model evaluation\n",
        "- Data representativeness\n",
        "    - reshuffle data before split\n",
        "- The arrow of time\n",
        "    - for predictions use test set made up of samples from very past\n",
        "- Redundancy in your data\n",
        "    - training and testing data should be disjoint"
      ]
    }
  ],
  "metadata": {
    "accelerator": "GPU",
    "colab": {
      "collapsed_sections": [],
      "name": "5_1.ipynb",
      "provenance": []
    },
    "kernelspec": {
      "display_name": "Python 3",
      "name": "python3"
    },
    "language_info": {
      "name": "python"
    }
  },
  "nbformat": 4,
  "nbformat_minor": 0
}
