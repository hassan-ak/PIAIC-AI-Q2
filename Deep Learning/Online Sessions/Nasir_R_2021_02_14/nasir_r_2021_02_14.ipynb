{
 "cells": [
  {
   "cell_type": "markdown",
   "metadata": {},
   "source": [
    "# Deep Learning - Nasir Hussain - 2021/02/14"
   ]
  },
  {
   "cell_type": "markdown",
   "metadata": {},
   "source": [
    "# Chapter 02 - Before we begin: the mathematical building blocks of neural networks"
   ]
  },
  {
   "cell_type": "code",
   "execution_count": 1,
   "metadata": {},
   "outputs": [],
   "source": [
    "# Tensor\n",
    "    # Multidimesnion numpy arrays are known as tensors\n",
    "    # container of data\n",
    "# Tensor Operations\n",
    "    # Layers building blocks\n",
    "    # gears of neural networks\n",
    "# differentiation\n",
    "    # process of finding rate of change\n",
    "# gradient descent\n",
    "    # algorithm to minimize a function by moving in direction of steepest descent\n",
    "    # allows your model to learn from its training examples."
   ]
  },
  {
   "cell_type": "markdown",
   "metadata": {},
   "source": [
    "## 2.1 A first look at a neural network"
   ]
  },
  {
   "cell_type": "code",
   "execution_count": 2,
   "metadata": {},
   "outputs": [],
   "source": [
    "# a category in a classification problem is called a class. \n",
    "# Data points are called samples. \n",
    "# The class associated with a specific sample is called a label."
   ]
  },
  {
   "cell_type": "code",
   "execution_count": 3,
   "metadata": {},
   "outputs": [
    {
     "name": "stderr",
     "output_type": "stream",
     "text": [
      "2022-05-04 00:24:51.960775: W tensorflow/stream_executor/platform/default/dso_loader.cc:64] Could not load dynamic library 'libcudart.so.11.0'; dlerror: libcudart.so.11.0: cannot open shared object file: No such file or directory\n",
      "2022-05-04 00:24:51.960805: I tensorflow/stream_executor/cuda/cudart_stub.cc:29] Ignore above cudart dlerror if you do not have a GPU set up on your machine.\n"
     ]
    }
   ],
   "source": [
    "# Listing 2.1 Loading the MNIST dataset in Keras\n",
    "\n",
    "    # grayscale images\n",
    "    # 28 * 28 pixcels\n",
    "    # 10 classes\n",
    "    # 60000 training\n",
    "    # 10000 testing\n",
    "\n",
    "# import mnist data set from keras\n",
    "from tensorflow.keras.datasets import mnist"
   ]
  },
  {
   "cell_type": "code",
   "execution_count": 4,
   "metadata": {},
   "outputs": [],
   "source": [
    "# Listing 2.1 Loading the MNIST dataset in Keras\n",
    "\n",
    "# split data to training and testing data sets\n",
    "# data\n",
    "    # images\n",
    "    # labels\n",
    "# train_images and train_labels form the training set,\n",
    "# test set, test_images and test_labels\n",
    "(train_images, train_labels), (test_images, test_labels) = mnist.load_data()\n",
    "# The images are encoded as Numpy arrays\n",
    "# labels are an array of digits, ranging from 0 to 9. \n",
    "# The images and labels have a one-to-one correspondence."
   ]
  },
  {
   "cell_type": "code",
   "execution_count": 5,
   "metadata": {},
   "outputs": [
    {
     "name": "stdout",
     "output_type": "stream",
     "text": [
      "Shape of training images :  (60000, 28, 28)\n",
      "Shape of training images labels :  (60000,)\n",
      "Labels of training images :  [5 0 4 ... 5 6 8]\n"
     ]
    }
   ],
   "source": [
    "# training data\n",
    "print(\"Shape of training images : \",train_images.shape)\n",
    "print(\"Shape of training images labels : \",train_labels.shape)\n",
    "print(\"Labels of training images : \",train_labels)"
   ]
  },
  {
   "cell_type": "code",
   "execution_count": 6,
   "metadata": {},
   "outputs": [
    {
     "name": "stdout",
     "output_type": "stream",
     "text": [
      "Shape of test images :  (10000, 28, 28)\n",
      "Shape of test images labels :  (10000,)\n",
      "Labels of test images :  [7 2 1 ... 4 5 6]\n"
     ]
    }
   ],
   "source": [
    "# testing data\n",
    "print(\"Shape of test images : \",test_images.shape)\n",
    "print(\"Shape of test images labels : \",test_labels.shape)\n",
    "print(\"Labels of test images : \",test_labels)"
   ]
  },
  {
   "cell_type": "code",
   "execution_count": 7,
   "metadata": {},
   "outputs": [],
   "source": [
    "# WorkFlow\n",
    "    # feed the neural network the training data\n",
    "    # learn to associate images and labels\n",
    "    # ask the network to produce predictions for test_images\n",
    "    # verify whether these predictions match the labels from test_labels"
   ]
  },
  {
   "cell_type": "code",
   "execution_count": 8,
   "metadata": {},
   "outputs": [
    {
     "data": {
      "image/png": "[encoded data removed]",
      "text/plain": [
       "<Figure size 576x576 with 1 Axes>"
      ]
     },
     "metadata": {
      "needs_background": "light"
     },
     "output_type": "display_data"
    }
   ],
   "source": [
    "# Check one of the image\n",
    "import matplotlib.pylab as plt\n",
    "def plti(im, h=8, **kwargs):\n",
    "    \"\"\"\n",
    "    Helper function to plot an image.\n",
    "    \"\"\"\n",
    "    y = im.shape[0]\n",
    "    x = im.shape[1]\n",
    "    w = (y/x) * h\n",
    "    plt.figure(figsize=(w, h))\n",
    "    plt.imshow(im, interpolation=\"none\", **kwargs)\n",
    "    plt.axis('off')\n",
    "plti(train_images[0])"
   ]
  },
  {
   "cell_type": "code",
   "execution_count": 9,
   "metadata": {},
   "outputs": [],
   "source": [
    "# Layer\n",
    "    # The core building block of neural networks \n",
    "    # a data-processing module (filter).\n",
    "    # Some data goes in, and it comes out in a more use-ful form.\n",
    "    # Extract representations\n",
    "# Deep learning consists of channing together simple layers whihc forms data distillation\n",
    "# Model\n",
    "    # made of refined data filters"
   ]
  },
  {
   "cell_type": "code",
   "execution_count": 10,
   "metadata": {},
   "outputs": [
    {
     "name": "stderr",
     "output_type": "stream",
     "text": [
      "2022-05-04 00:24:55.736243: I tensorflow/stream_executor/cuda/cuda_gpu_executor.cc:936] successful NUMA node read from SysFS had negative value (-1), but there must be at least one NUMA node, so returning NUMA node zero\n",
      "2022-05-04 00:24:55.736993: W tensorflow/stream_executor/platform/default/dso_loader.cc:64] Could not load dynamic library 'libcudart.so.11.0'; dlerror: libcudart.so.11.0: cannot open shared object file: No such file or directory\n",
      "2022-05-04 00:24:55.737068: W tensorflow/stream_executor/platform/default/dso_loader.cc:64] Could not load dynamic library 'libcublas.so.11'; dlerror: libcublas.so.11: cannot open shared object file: No such file or directory\n",
      "2022-05-04 00:24:55.737134: W tensorflow/stream_executor/platform/default/dso_loader.cc:64] Could not load dynamic library 'libcublasLt.so.11'; dlerror: libcublasLt.so.11: cannot open shared object file: No such file or directory\n",
      "2022-05-04 00:24:55.738905: W tensorflow/stream_executor/platform/default/dso_loader.cc:64] Could not load dynamic library 'libcusolver.so.11'; dlerror: libcusolver.so.11: cannot open shared object file: No such file or directory\n",
      "2022-05-04 00:24:55.738986: W tensorflow/stream_executor/platform/default/dso_loader.cc:64] Could not load dynamic library 'libcusparse.so.11'; dlerror: libcusparse.so.11: cannot open shared object file: No such file or directory\n",
      "2022-05-04 00:24:55.739049: W tensorflow/stream_executor/platform/default/dso_loader.cc:64] Could not load dynamic library 'libcudnn.so.8'; dlerror: libcudnn.so.8: cannot open shared object file: No such file or directory\n",
      "2022-05-04 00:24:55.739064: W tensorflow/core/common_runtime/gpu/gpu_device.cc:1850] Cannot dlopen some GPU libraries. Please make sure the missing libraries mentioned above are installed properly if you would like to use GPU. Follow the guide at https://www.tensorflow.org/install/gpu for how to download and setup the required libraries for your platform.\n",
      "Skipping registering GPU devices...\n"
     ]
    }
   ],
   "source": [
    "# Listing 2.2 The network architecture\n",
    "\n",
    "# import model and layers\n",
    "from tensorflow import keras\n",
    "from tensorflow.keras import layers\n",
    "\n",
    "# Define network and layers\n",
    "model = keras.Sequential([\n",
    "    layers.Dense(512,activation=\"relu\"),\n",
    "    layers.Dense(10,activation=\"softmax\")\n",
    "])\n",
    "# sequential model process one layer at a time\n",
    "# Dense is type of neural network\n",
    "# input shape defines shape of input data if added to layer\n",
    "# initial number is shape of output data from a layer / nodes of layer\n",
    "# activation function \n",
    "    # transform linearity to non-linearity \n",
    "    # defines how weighted sum is transformed\n",
    "# relu is rectified linear unit it returns as it is if positive other wise zero\n",
    "# softmax predict a multinomial probability distribution"
   ]
  },
  {
   "cell_type": "code",
   "execution_count": 11,
   "metadata": {},
   "outputs": [],
   "source": [
    "# Compilation step\n",
    "# An optimizer\n",
    "    # The mechanism through which the model will update itself based on the training data it sees, \n",
    "    # so as to improve its performance.\n",
    "# A loss function\n",
    "    # How the model will be able to measure its performance on the training data, \n",
    "    # and thus how it will be able to steer itself in the right direction.\n",
    "# Metrics to monitor during training and testing\n",
    "    # Here, we’ll only care about accuracy (the fraction of the images that were correctly classified)."
   ]
  },
  {
   "cell_type": "code",
   "execution_count": 12,
   "metadata": {},
   "outputs": [],
   "source": [
    "# Listing 2.3 The compilation step\n",
    "\n",
    "model.compile(\n",
    "        optimizer=\"rmsprop\",\n",
    "        loss=\"sparse_categorical_crossentropy\",\n",
    "        metrics=[\"accuracy\"]\n",
    "    )\n",
    "# rmsprop\n",
    "    # Root Mean Squared Propagation\n",
    "    # The RMSprop optimizer restricts the oscillations in the vertical direction\n",
    "# sparse_categorical_crossentropy\n",
    "    # Use this crossentropy loss function when there are two or more label classes. \n",
    "    # We expect labels to be provided as integers."
   ]
  },
  {
   "cell_type": "code",
   "execution_count": 13,
   "metadata": {},
   "outputs": [],
   "source": [
    "# Listing 2.4 Preparing the image data\n",
    "\n",
    "# We need to reshape our data as it is of shape (60000,28,28) \n",
    "# on the other hand we need to use this data as initial nodes\n",
    "# thus data is reshaped to (60000,28*28)\n",
    "train_images = train_images.reshape((60000, 28 * 28))\n",
    "test_images = test_images.reshape((10000, 28 * 28))\n",
    "# Initally values are between interval [0,225]\n",
    "# scale them to be in interval [0,1]\n",
    "train_images = train_images.astype(\"float32\") / 255\n",
    "test_images = test_images.astype(\"float32\") / 255"
   ]
  },
  {
   "cell_type": "code",
   "execution_count": 14,
   "metadata": {},
   "outputs": [],
   "source": [
    "# Data\n",
    "    # Continous\n",
    "    # Discrete\n",
    "        # ordinal\n",
    "            # can be re-arranged\n",
    "        # nominal\n",
    "            # can't be re-arranged\n",
    "\n",
    "# One hot encoding can be used to transform data to catgorical format\n",
    "#       A*  A   B*  B   C   D   F\n",
    "#   A*  1   0   0   0   0   0   0\n",
    "#   A   0   1   0   0   0   0   0\n",
    "#   B*  0   0   1   0   0   0   0\n",
    "#   B   0   0   0   1   0   0   0\n",
    "#   C   0   0   0   0   1   0   0\n",
    "#   D   0   0   0   0   0   1   0\n",
    "#   F   0   0   0   0   0   0   1"
   ]
  },
  {
   "cell_type": "code",
   "execution_count": 15,
   "metadata": {},
   "outputs": [],
   "source": [
    "# print(train_labels[0])\n",
    "# # Not as such required in latest version \n",
    "# from tensorflow.keras.utils import to_categorical\n",
    "# train_labels = to_categorical(train_labels)\n",
    "# test_labels = to_categorical(test_labels)\n",
    "# print(train_labels[0])"
   ]
  },
  {
   "cell_type": "code",
   "execution_count": 16,
   "metadata": {},
   "outputs": [
    {
     "name": "stdout",
     "output_type": "stream",
     "text": [
      "Epoch 1/5\n",
      "469/469 [==============================] - 4s 8ms/step - loss: 0.2549 - accuracy: 0.9260\n",
      "Epoch 2/5\n",
      "469/469 [==============================] - 4s 8ms/step - loss: 0.1036 - accuracy: 0.9700\n",
      "Epoch 3/5\n",
      "469/469 [==============================] - 4s 8ms/step - loss: 0.0678 - accuracy: 0.9797\n",
      "Epoch 4/5\n",
      "469/469 [==============================] - 4s 8ms/step - loss: 0.0490 - accuracy: 0.9852\n",
      "Epoch 5/5\n",
      "469/469 [==============================] - 4s 8ms/step - loss: 0.0368 - accuracy: 0.9889\n"
     ]
    },
    {
     "data": {
      "text/plain": [
       "<keras.callbacks.History at 0x7f9fb4bdaf40>"
      ]
     },
     "execution_count": 16,
     "metadata": {},
     "output_type": "execute_result"
    }
   ],
   "source": [
    "# Listing 2.5 “Fitting” the model\n",
    "# train the model, \n",
    "    # we fit the model to its training data.\n",
    "model.fit(train_images, train_labels, epochs=5, batch_size=128)\n",
    "# Accuracy and loss is over the training data"
   ]
  },
  {
   "cell_type": "code",
   "execution_count": 17,
   "metadata": {},
   "outputs": [
    {
     "name": "stdout",
     "output_type": "stream",
     "text": [
      "(10,)\n"
     ]
    },
    {
     "data": {
      "text/plain": [
       "array([1.3593418e-09, 1.6998004e-10, 3.3544620e-07, 1.4652241e-05,\n",
       "       4.8254040e-12, 2.3962686e-08, 5.5623082e-15, 9.9998307e-01,\n",
       "       6.2424888e-08, 1.8089728e-06], dtype=float32)"
      ]
     },
     "execution_count": 17,
     "metadata": {},
     "output_type": "execute_result"
    }
   ],
   "source": [
    "# Listing 2.6 Using the model to make predictions\n",
    "\n",
    "import numpy as np\n",
    "# Take first 10 images from the test images\n",
    "test_digits = test_images[0:10]\n",
    "# predict the model behaviour on the slice of test images\n",
    "predictions = model.predict(test_digits)\n",
    "# check predictio of first test digit\n",
    "print(np.shape(predictions[0]))\n",
    "# Each prdiction is probability of ten classes\n",
    "predictions[0]"
   ]
  },
  {
   "cell_type": "code",
   "execution_count": 18,
   "metadata": {},
   "outputs": [
    {
     "data": {
      "text/plain": [
       "7"
      ]
     },
     "execution_count": 18,
     "metadata": {},
     "output_type": "execute_result"
    }
   ],
   "source": [
    "# find index of the higest probability whihc crosponds to the same label as index\n",
    "predictions[0].argmax()"
   ]
  },
  {
   "cell_type": "code",
   "execution_count": 19,
   "metadata": {},
   "outputs": [
    {
     "data": {
      "text/plain": [
       "0.9999831"
      ]
     },
     "execution_count": 19,
     "metadata": {},
     "output_type": "execute_result"
    }
   ],
   "source": [
    "# higest probability\n",
    "predictions[0][7]"
   ]
  },
  {
   "cell_type": "code",
   "execution_count": 20,
   "metadata": {},
   "outputs": [
    {
     "data": {
      "text/plain": [
       "7"
      ]
     },
     "execution_count": 20,
     "metadata": {},
     "output_type": "execute_result"
    }
   ],
   "source": [
    "# Check the label from the test tabels\n",
    "test_labels[0]"
   ]
  },
  {
   "cell_type": "code",
   "execution_count": 21,
   "metadata": {},
   "outputs": [
    {
     "name": "stdout",
     "output_type": "stream",
     "text": [
      "313/313 [==============================] - 1s 2ms/step - loss: 0.0663 - accuracy: 0.9817\n",
      "test_acc: 0.9817000031471252\n",
      "test_loss: 0.06630222499370575\n"
     ]
    }
   ],
   "source": [
    "# Listing 2.7 Evaluating the model on new data\n",
    "\n",
    "# compute average accuracy over the entire test set\n",
    "test_loss, test_acc = model.evaluate(test_images, test_labels)\n",
    "print(f\"test_acc: {test_acc}\")\n",
    "print(f\"test_loss: {test_loss}\")"
   ]
  },
  {
   "cell_type": "code",
   "execution_count": 22,
   "metadata": {},
   "outputs": [],
   "source": [
    "# gap between training accuracy and test accuracy is an example of overfitting"
   ]
  },
  {
   "cell_type": "markdown",
   "metadata": {},
   "source": [
    "## 2.2 Data representations for neural networks"
   ]
  },
  {
   "cell_type": "code",
   "execution_count": 23,
   "metadata": {},
   "outputs": [],
   "source": [
    "# tensors\n",
    "    # Multi-dimensional numpy array\n",
    "    # basic data structure for machine learning\n",
    "    # matrices are rank 2 tensors\n",
    "    # dimension is also termed as axis"
   ]
  },
  {
   "cell_type": "markdown",
   "metadata": {},
   "source": [
    "### 2.2.1 Scalars (rank-0 tensors)"
   ]
  },
  {
   "cell_type": "code",
   "execution_count": 24,
   "metadata": {},
   "outputs": [],
   "source": [
    "# A tensor that contains only one number is called a scalar\n",
    "    # scalar tensor\n",
    "    # rank-0 tensor\n",
    "    # 0D tensor\n",
    "# float32 or float64 number is a scalar tensor\n",
    "# a scalar tensor has 0 axes\n",
    "# axes == rank"
   ]
  },
  {
   "cell_type": "code",
   "execution_count": 25,
   "metadata": {},
   "outputs": [
    {
     "name": "stdout",
     "output_type": "stream",
     "text": [
      "X =  12\n",
      "axes =  0\n",
      "rank =  0\n"
     ]
    }
   ],
   "source": [
    "import numpy as np\n",
    "x = np.array(12)\n",
    "print(\"X = \",x)\n",
    "print(\"axes = \",x.ndim)\n",
    "print(\"rank = \",x.ndim)"
   ]
  },
  {
   "cell_type": "markdown",
   "metadata": {},
   "source": [
    "### 2.2.2 Vectors (rank-1 tensors)"
   ]
  },
  {
   "cell_type": "code",
   "execution_count": 26,
   "metadata": {},
   "outputs": [],
   "source": [
    "# array of numbers is called a vector,\n",
    "    # rank-1 tensor\n",
    "    # 1D tensor"
   ]
  },
  {
   "cell_type": "code",
   "execution_count": 27,
   "metadata": {},
   "outputs": [
    {
     "name": "stdout",
     "output_type": "stream",
     "text": [
      "X =  [12  3  6 14  7]\n",
      "axes =  1\n",
      "rank =  1\n"
     ]
    }
   ],
   "source": [
    "x = np.array([12, 3, 6, 14, 7])\n",
    "print(\"X = \",x)\n",
    "print(\"axes = \",x.ndim)\n",
    "print(\"rank = \",x.ndim)"
   ]
  },
  {
   "cell_type": "code",
   "execution_count": 28,
   "metadata": {},
   "outputs": [],
   "source": [
    "# a vector having five entries is 5-dimensional vector. \n",
    "# A 5D vector has only one axis and has five dimensions along its axis, \n",
    "# a 5D tensor has five axes\n",
    "# Dimensionality\n",
    "    # number of entries along a specific axis\n",
    "    # the number of axes in a tensor"
   ]
  },
  {
   "cell_type": "markdown",
   "metadata": {},
   "source": [
    "### 2.2.3 Matrices (rank-2 tensors)"
   ]
  },
  {
   "cell_type": "code",
   "execution_count": 29,
   "metadata": {},
   "outputs": [],
   "source": [
    "# array of vectors is a matrix\n",
    "    # rank-2 tensor\n",
    "    # 2D tensor. \n",
    "# A matrix has two axes\n",
    "    # rows\n",
    "    # columns"
   ]
  },
  {
   "cell_type": "code",
   "execution_count": 30,
   "metadata": {},
   "outputs": [
    {
     "name": "stdout",
     "output_type": "stream",
     "text": [
      "X =  [[ 5 78  2 34  0]\n",
      " [ 6 79  3 35  1]\n",
      " [ 7 80  4 36  2]]\n",
      "axes =  2\n",
      "rank =  2\n"
     ]
    }
   ],
   "source": [
    "x = np.array([[5, 78, 2, 34, 0],\n",
    "              [6, 79, 3, 35, 1],\n",
    "              [7, 80, 4, 36, 2]])\n",
    "print(\"X = \",x)\n",
    "print(\"axes = \",x.ndim)\n",
    "print(\"rank = \",x.ndim)"
   ]
  },
  {
   "cell_type": "markdown",
   "metadata": {},
   "source": [
    "### 2.2.4 Rank-3 and higher-rank tensors"
   ]
  },
  {
   "cell_type": "code",
   "execution_count": 31,
   "metadata": {},
   "outputs": [],
   "source": [
    "# pack of matrices in a array\n",
    "    # rank-3 tensor\n",
    "    # 3D tensor"
   ]
  },
  {
   "cell_type": "code",
   "execution_count": 32,
   "metadata": {},
   "outputs": [
    {
     "name": "stdout",
     "output_type": "stream",
     "text": [
      "X =  [[[ 5 78  2 34  0]\n",
      "  [ 6 79  3 35  1]\n",
      "  [ 7 80  4 36  2]]\n",
      "\n",
      " [[ 5 78  2 34  0]\n",
      "  [ 6 79  3 35  1]\n",
      "  [ 7 80  4 36  2]]\n",
      "\n",
      " [[ 5 78  2 34  0]\n",
      "  [ 6 79  3 35  1]\n",
      "  [ 7 80  4 36  2]]]\n",
      "axes =  3\n",
      "rank =  3\n"
     ]
    }
   ],
   "source": [
    "x = np.array([[[5, 78, 2, 34, 0],\n",
    "               [6, 79, 3, 35, 1],\n",
    "               [7, 80, 4, 36, 2]],\n",
    "              [[5, 78, 2, 34, 0],\n",
    "               [6, 79, 3, 35, 1],\n",
    "               [7, 80, 4, 36, 2]],\n",
    "              [[5, 78, 2, 34, 0],\n",
    "               [6, 79, 3, 35, 1],\n",
    "               [7, 80, 4, 36, 2]]])\n",
    "print(\"X = \",x)\n",
    "print(\"axes = \",x.ndim)\n",
    "print(\"rank = \",x.ndim)"
   ]
  },
  {
   "cell_type": "code",
   "execution_count": 33,
   "metadata": {},
   "outputs": [],
   "source": [
    "# packing rank-3 tensors in an array => rank-4 tensor\n",
    "# rank 5 if you process video data."
   ]
  },
  {
   "cell_type": "markdown",
   "metadata": {},
   "source": [
    "### 2.2.5 Key attributes"
   ]
  },
  {
   "cell_type": "code",
   "execution_count": 34,
   "metadata": {},
   "outputs": [],
   "source": [
    "# Number of axes (rank)\n",
    "    # ndim\n",
    "# Shape\n",
    "    # dimensions the tensor has along each axis\n",
    "# Data type"
   ]
  },
  {
   "cell_type": "code",
   "execution_count": 35,
   "metadata": {},
   "outputs": [],
   "source": [
    "# Load mnist data\n",
    "from tensorflow.keras.datasets import mnist\n",
    "(train_images, train_labels), (test_images, test_labels) = mnist.load_data()"
   ]
  },
  {
   "cell_type": "code",
   "execution_count": 36,
   "metadata": {},
   "outputs": [
    {
     "data": {
      "text/plain": [
       "3"
      ]
     },
     "execution_count": 36,
     "metadata": {},
     "output_type": "execute_result"
    }
   ],
   "source": [
    "# Dimension / axes / rank of the train images\n",
    "train_images.ndim\n",
    "# it is a 3D tensor"
   ]
  },
  {
   "cell_type": "code",
   "execution_count": 37,
   "metadata": {},
   "outputs": [
    {
     "data": {
      "text/plain": [
       "(60000, 28, 28)"
      ]
     },
     "execution_count": 37,
     "metadata": {},
     "output_type": "execute_result"
    }
   ],
   "source": [
    "# shape train images\n",
    "train_images.shape\n",
    "# it has 60000 matrices of 28*28 data"
   ]
  },
  {
   "cell_type": "code",
   "execution_count": 38,
   "metadata": {},
   "outputs": [
    {
     "data": {
      "text/plain": [
       "dtype('uint8')"
      ]
     },
     "execution_count": 38,
     "metadata": {},
     "output_type": "execute_result"
    }
   ],
   "source": [
    "# data type images\n",
    "train_images.dtype"
   ]
  },
  {
   "cell_type": "code",
   "execution_count": 39,
   "metadata": {},
   "outputs": [
    {
     "name": "stdout",
     "output_type": "stream",
     "text": [
      "9\n"
     ]
    },
    {
     "data": {
      "image/png": "[encoded data removed]",
      "text/plain": [
       "<Figure size 432x288 with 1 Axes>"
      ]
     },
     "metadata": {
      "needs_background": "light"
     },
     "output_type": "display_data"
    }
   ],
   "source": [
    "# Listing 2.8 Displaying the fourth image and its label\n",
    "\n",
    "import matplotlib.pyplot as plt\n",
    "digit = train_images[4]\n",
    "plt.imshow(digit, cmap=plt.cm.binary)\n",
    "print(train_labels[4])\n",
    "plt.show()"
   ]
  },
  {
   "cell_type": "markdown",
   "metadata": {},
   "source": [
    "### 2.2.6 Manipulating tensors in NumPy"
   ]
  },
  {
   "cell_type": "code",
   "execution_count": 40,
   "metadata": {},
   "outputs": [],
   "source": [
    "# tensor slicing\n",
    "    # Selecting specific elements in a tensor"
   ]
  },
  {
   "cell_type": "code",
   "execution_count": 41,
   "metadata": {},
   "outputs": [
    {
     "data": {
      "text/plain": [
       "(90, 28, 28)"
      ]
     },
     "execution_count": 41,
     "metadata": {},
     "output_type": "execute_result"
    }
   ],
   "source": [
    "# select image #10 to #100\n",
    "my_slice = train_images[10:100]\n",
    "my_slice.shape"
   ]
  },
  {
   "cell_type": "code",
   "execution_count": 42,
   "metadata": {},
   "outputs": [
    {
     "data": {
      "text/plain": [
       "(90, 28, 28)"
      ]
     },
     "execution_count": 42,
     "metadata": {},
     "output_type": "execute_result"
    }
   ],
   "source": [
    "# a little detailed way of slicing\n",
    "# : is equivalent to selecting the entire axis\n",
    "my_slice = train_images[10:100, :, :]\n",
    "my_slice.shape"
   ]
  },
  {
   "cell_type": "code",
   "execution_count": 43,
   "metadata": {},
   "outputs": [
    {
     "data": {
      "text/plain": [
       "(90, 28, 28)"
      ]
     },
     "execution_count": 43,
     "metadata": {},
     "output_type": "execute_result"
    }
   ],
   "source": [
    "# detailed way of slicing\n",
    "my_slice = train_images[10:100, 0:28, 0:28]\n",
    "my_slice.shape"
   ]
  },
  {
   "cell_type": "code",
   "execution_count": 44,
   "metadata": {},
   "outputs": [
    {
     "name": "stdout",
     "output_type": "stream",
     "text": [
      "9\n"
     ]
    },
    {
     "data": {
      "image/png": "[encoded data removed]",
      "text/plain": [
       "<Figure size 432x288 with 1 Axes>"
      ]
     },
     "metadata": {
      "needs_background": "light"
     },
     "output_type": "display_data"
    }
   ],
   "source": [
    "# we can select slices between any two indices along each tensor axis.\n",
    "# 14 × 14 pixels in the bottom-right corner of all images\n",
    "my_slice = train_images[:, 14:, 14:]\n",
    "digit = my_slice[4]\n",
    "plt.imshow(digit, cmap=plt.cm.binary)\n",
    "print(train_labels[4])\n",
    "plt.show()"
   ]
  },
  {
   "cell_type": "code",
   "execution_count": 45,
   "metadata": {},
   "outputs": [
    {
     "name": "stdout",
     "output_type": "stream",
     "text": [
      "9\n"
     ]
    },
    {
     "data": {
      "image/png": "[encoded data removed]",
      "text/plain": [
       "<Figure size 432x288 with 1 Axes>"
      ]
     },
     "metadata": {
      "needs_background": "light"
     },
     "output_type": "display_data"
    }
   ],
   "source": [
    "# possible to use negative indices\n",
    "# 14 × 14 pixels centered in the middle\n",
    "my_slice = train_images[:, 7:-7, 7:-7]\n",
    "digit = my_slice[4]\n",
    "plt.imshow(digit, cmap=plt.cm.binary)\n",
    "print(train_labels[4])\n",
    "plt.show()"
   ]
  },
  {
   "cell_type": "markdown",
   "metadata": {},
   "source": [
    "### 2.2.7 The notion of data batches"
   ]
  },
  {
   "cell_type": "code",
   "execution_count": 46,
   "metadata": {},
   "outputs": [],
   "source": [
    "# first axis / axis 0 in all data tensors \n",
    "    # samples axis\n",
    "    # samples dimension).\n",
    "# MNIST example\n",
    "    # “samples” are images of digits.\n",
    "# deep learning models don’t process entire dataset at once; they break the data in small batches"
   ]
  },
  {
   "cell_type": "code",
   "execution_count": 47,
   "metadata": {},
   "outputs": [
    {
     "data": {
      "text/plain": [
       "(128, 28, 28)"
      ]
     },
     "execution_count": 47,
     "metadata": {},
     "output_type": "execute_result"
    }
   ],
   "source": [
    "# first batch of size 128\n",
    "batch = train_images[:128]\n",
    "batch.shape"
   ]
  },
  {
   "cell_type": "code",
   "execution_count": 48,
   "metadata": {},
   "outputs": [
    {
     "data": {
      "text/plain": [
       "(128, 28, 28)"
      ]
     },
     "execution_count": 48,
     "metadata": {},
     "output_type": "execute_result"
    }
   ],
   "source": [
    "# second batch of size 128\n",
    "batch = train_images[128:256]\n",
    "batch.shape"
   ]
  },
  {
   "cell_type": "code",
   "execution_count": 49,
   "metadata": {},
   "outputs": [
    {
     "data": {
      "text/plain": [
       "(128, 28, 28)"
      ]
     },
     "execution_count": 49,
     "metadata": {},
     "output_type": "execute_result"
    }
   ],
   "source": [
    "# nth batch of size 128\n",
    "n = 8\n",
    "batch = train_images[128*n:128*(n+1)]\n",
    "batch.shape"
   ]
  },
  {
   "cell_type": "code",
   "execution_count": 50,
   "metadata": {},
   "outputs": [],
   "source": [
    "# in batch tensor the first axis (axis 0) is called the batch axis or batch dimension"
   ]
  },
  {
   "cell_type": "markdown",
   "metadata": {},
   "source": [
    "### 2.2.8 Real-world examples of data tensors"
   ]
  },
  {
   "cell_type": "code",
   "execution_count": 51,
   "metadata": {},
   "outputs": [],
   "source": [
    "# Vector data\n",
    "    # Rank-2 tensors\n",
    "    # shape (samples, features) , \n",
    "    # sample\n",
    "        # a vector of nu-merical attributes (“features”)\n",
    "# Timeseries data or sequence data\n",
    "    # Rank-3 tensors\n",
    "    # shape (samples, timesteps, features)\n",
    "    # sample\n",
    "        # a sequence (of length timesteps ) of feature vectors\n",
    "# Images—Rank\n",
    "    # 4 tensors\n",
    "    # shape (samples, height, width, channels)\n",
    "    # sample\n",
    "        # a 2D grid of pixels, and each pixel is represented by a vector of values (“channels”)\n",
    "# Video\n",
    "    # Rank-5 tensors\n",
    "        # shape (samples, frames, height, width, channels)\n",
    "        # sample\n",
    "            # a sequence (of length frames ) of images"
   ]
  },
  {
   "cell_type": "markdown",
   "metadata": {},
   "source": [
    "### 2.2.9 Vector data"
   ]
  },
  {
   "cell_type": "code",
   "execution_count": 52,
   "metadata": {},
   "outputs": [],
   "source": [
    "# each single data point can be encoded as a vector\n",
    "# a batch of data will be encoded as a rank-2 tensor \n",
    "# first axis is the samples axis and the second axis is the features axis."
   ]
  },
  {
   "cell_type": "markdown",
   "metadata": {},
   "source": [
    "### 2.2.10 Timeseries data or sequence data"
   ]
  },
  {
   "cell_type": "code",
   "execution_count": 53,
   "metadata": {},
   "outputs": [],
   "source": [
    "# Data conatins\n",
    "    # time \n",
    "    # the notion of sequence order\n",
    "    # stores in\n",
    "        # rank-3 tensor with an explicit time axis. \n",
    "# Each sample can be encoded as a sequence of vectors (a rank-2tensor)\n",
    "# a batch of data will be encoded as a rank-3 tensor\n",
    "# The time axis is always the second axis (axis of index 1) by convention"
   ]
  },
  {
   "cell_type": "markdown",
   "metadata": {},
   "source": [
    "### 2.2.11 Image data"
   ]
  },
  {
   "cell_type": "code",
   "execution_count": 54,
   "metadata": {},
   "outputs": [],
   "source": [
    "# Images\n",
    "    # three dimensions\n",
    "    # rank 3\n",
    "# Image data tensor\n",
    "    # rank 4\n",
    "    # channels-last convention\n",
    "    # channels-first convention"
   ]
  },
  {
   "cell_type": "markdown",
   "metadata": {},
   "source": [
    "### 2.2.12 Video data"
   ]
  },
  {
   "cell_type": "code",
   "execution_count": 55,
   "metadata": {},
   "outputs": [],
   "source": [
    "# Videos\n",
    "    # four dimensions\n",
    "    # rank 4\n",
    "# video data tensor\n",
    "    # rank 5"
   ]
  }
 ],
 "metadata": {
  "interpreter": {
   "hash": "916dbcbb3f70747c44a77c7bcd40155683ae19c65e1c03b4aa3499c5328201f1"
  },
  "kernelspec": {
   "display_name": "Python 3.8.10 64-bit",
   "language": "python",
   "name": "python3"
  },
  "language_info": {
   "codemirror_mode": {
    "name": "ipython",
    "version": 3
   },
   "file_extension": ".py",
   "mimetype": "text/x-python",
   "name": "python",
   "nbconvert_exporter": "python",
   "pygments_lexer": "ipython3",
   "version": "3.8.10"
  },
  "orig_nbformat": 4
 },
 "nbformat": 4,
 "nbformat_minor": 2
}
