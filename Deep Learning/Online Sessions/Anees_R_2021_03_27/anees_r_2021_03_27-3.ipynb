{
  "cells": [
    {
      "cell_type": "markdown",
      "metadata": {},
      "source": [
        "# Deep Learning - Anees Ahmad - 2021/03/27"
      ]
    },
    {
      "cell_type": "markdown",
      "metadata": {
        "id": "ndHZlSAPrRNC"
      },
      "source": [
        "# 5 Fundamentals of machine learning"
      ]
    },
    {
      "cell_type": "markdown",
      "metadata": {
        "id": "_MuxlN4SpX_5"
      },
      "source": [
        "## 5.4 Improving generalization"
      ]
    },
    {
      "cell_type": "markdown",
      "metadata": {
        "id": "ecfkX8SQelXE"
      },
      "source": [
        "### 5.4.1 Dataset curation\n",
        "-  generalization in deep learning originates from the latent structure of your data\n",
        "  - if for data it is possible to interpolate between samples, model can be trained generalizes. \n",
        "  - If overly noisy or fundamentally discrete deep learning will not help\n",
        "- dataset\n",
        "  - Make sure you have enough data. Remember that you need a dense sampling of the input-cross-output space. More data will yield a better model. Sometimes, problems that seem impossible at first become solvable with a larger dataset.\n",
        "  - Minimize labeling errors—visualize your inputs to check for anomalies, and proofread your labels.\n",
        "  - Clean your data and deal with missing values\n",
        "  - If you have many features and you aren’t sure which ones are actually useful, do feature selection.\n",
        "\n"
      ]
    },
    {
      "cell_type": "markdown",
      "metadata": {
        "id": "9V1T-x9SgYbp"
      },
      "source": [
        "### 5.4.2 Feature engineering"
      ]
    },
    {
      "cell_type": "markdown",
      "metadata": {
        "id": "alTgjdErgZpp"
      },
      "source": [
        "- process of using your own knowledge about the data and about the machine learning algorithm at hand to make the algorithm work better by applying hardcoded transformations to the data before it goes into the model\n",
        "- new algorithms don't need feature engineering but can be used for two cases\n",
        "  - Good features still allow you to solve problems more elegantly while using fewer resources\n",
        "  - Good features let you solve a problem with far less data. The ability of deep learning models to learn features on their own relies on having lots of training data available\n"
      ]
    },
    {
      "cell_type": "markdown",
      "metadata": {
        "id": "B0PMLokGembg"
      },
      "source": [
        "### 5.4.3 Using early stopping\n",
        "- always interrupt training long before you’ve reached the minimum possible training loss\n",
        "  - save model at the end of each epoch, and once best epoch is found, reuse the closest saved model. \n",
        "  - do this with an EarlyStopping callback, which will interrupt training as soon as validation metrics have stopped improving, while remembering the best known model state. "
      ]
    },
    {
      "cell_type": "markdown",
      "metadata": {
        "id": "BNG7SovxkC0u"
      },
      "source": [
        "### 5.4.4 Regularizing your model"
      ]
    },
    {
      "cell_type": "markdown",
      "metadata": {
        "id": "7GM8RMSGkgMO"
      },
      "source": [
        "- process of fighting overfitting\n",
        "- guided by an accurate evaluation procedure"
      ]
    },
    {
      "cell_type": "markdown",
      "metadata": {
        "id": "MaWzD8Gclb4s"
      },
      "source": [
        "#### REDUCING THE NETWORK’S SIZE\n",
        "  - model that is too small will not overfit\n",
        "  - to mitigate overfitting reduce the size of the model\n",
        "  - limited memorization resources won’t memorize training data"
      ]
    },
    {
      "cell_type": "code",
      "execution_count": 1,
      "metadata": {
        "colab": {
          "base_uri": "https://localhost:8080/"
        },
        "id": "HHFBIdRGmbuk",
        "outputId": "0ac8b12b-3854-42ad-aed9-912f0014e857"
      },
      "outputs": [
        {
          "name": "stdout",
          "output_type": "stream",
          "text": [
            "Downloading data from https://storage.googleapis.com/tensorflow/tf-keras-datasets/imdb.npz\n",
            "17465344/17464789 [==============================] - 0s 0us/step\n",
            "17473536/17464789 [==============================] - 0s 0us/step\n",
            "Epoch 1/20\n",
            "30/30 [==============================] - 5s 41ms/step - loss: 0.5026 - accuracy: 0.7838 - val_loss: 0.3725 - val_accuracy: 0.8753\n",
            "Epoch 2/20\n",
            "30/30 [==============================] - 1s 19ms/step - loss: 0.2970 - accuracy: 0.9055 - val_loss: 0.2982 - val_accuracy: 0.8889\n",
            "Epoch 3/20\n",
            "30/30 [==============================] - 1s 19ms/step - loss: 0.2179 - accuracy: 0.9304 - val_loss: 0.3008 - val_accuracy: 0.8758\n",
            "Epoch 4/20\n",
            "30/30 [==============================] - 1s 19ms/step - loss: 0.1753 - accuracy: 0.9443 - val_loss: 0.2868 - val_accuracy: 0.8841\n",
            "Epoch 5/20\n",
            "30/30 [==============================] - 1s 19ms/step - loss: 0.1426 - accuracy: 0.9542 - val_loss: 0.2849 - val_accuracy: 0.8872\n",
            "Epoch 6/20\n",
            "30/30 [==============================] - 1s 19ms/step - loss: 0.1188 - accuracy: 0.9619 - val_loss: 0.2952 - val_accuracy: 0.8856\n",
            "Epoch 7/20\n",
            "30/30 [==============================] - 1s 19ms/step - loss: 0.0994 - accuracy: 0.9705 - val_loss: 0.3152 - val_accuracy: 0.8837\n",
            "Epoch 8/20\n",
            "30/30 [==============================] - 1s 19ms/step - loss: 0.0855 - accuracy: 0.9743 - val_loss: 0.3298 - val_accuracy: 0.8811\n",
            "Epoch 9/20\n",
            "30/30 [==============================] - 1s 20ms/step - loss: 0.0702 - accuracy: 0.9815 - val_loss: 0.3528 - val_accuracy: 0.8803\n",
            "Epoch 10/20\n",
            "30/30 [==============================] - 1s 20ms/step - loss: 0.0596 - accuracy: 0.9845 - val_loss: 0.3852 - val_accuracy: 0.8745\n",
            "Epoch 11/20\n",
            "30/30 [==============================] - 1s 20ms/step - loss: 0.0474 - accuracy: 0.9891 - val_loss: 0.4036 - val_accuracy: 0.8779\n",
            "Epoch 12/20\n",
            "30/30 [==============================] - 1s 20ms/step - loss: 0.0435 - accuracy: 0.9889 - val_loss: 0.4307 - val_accuracy: 0.8755\n",
            "Epoch 13/20\n",
            "30/30 [==============================] - 1s 19ms/step - loss: 0.0340 - accuracy: 0.9917 - val_loss: 0.4622 - val_accuracy: 0.8724\n",
            "Epoch 14/20\n",
            "30/30 [==============================] - 1s 19ms/step - loss: 0.0270 - accuracy: 0.9945 - val_loss: 0.4944 - val_accuracy: 0.8693\n",
            "Epoch 15/20\n",
            "30/30 [==============================] - 1s 19ms/step - loss: 0.0220 - accuracy: 0.9964 - val_loss: 0.5335 - val_accuracy: 0.8663\n",
            "Epoch 16/20\n",
            "30/30 [==============================] - 1s 19ms/step - loss: 0.0202 - accuracy: 0.9961 - val_loss: 0.5612 - val_accuracy: 0.8690\n",
            "Epoch 17/20\n",
            "30/30 [==============================] - 1s 19ms/step - loss: 0.0141 - accuracy: 0.9979 - val_loss: 0.6090 - val_accuracy: 0.8664\n",
            "Epoch 18/20\n",
            "30/30 [==============================] - 1s 19ms/step - loss: 0.0120 - accuracy: 0.9979 - val_loss: 0.6369 - val_accuracy: 0.8639\n",
            "Epoch 19/20\n",
            "30/30 [==============================] - 1s 19ms/step - loss: 0.0080 - accuracy: 0.9993 - val_loss: 0.6586 - val_accuracy: 0.8644\n",
            "Epoch 20/20\n",
            "30/30 [==============================] - 1s 19ms/step - loss: 0.0075 - accuracy: 0.9990 - val_loss: 0.7044 - val_accuracy: 0.8650\n"
          ]
        }
      ],
      "source": [
        "import numpy as np\n",
        "from tensorflow.keras.datasets import imdb\n",
        "from tensorflow import keras \n",
        "from tensorflow.keras import layers\n",
        "\n",
        "# Listing 5.10 Original model\n",
        "from tensorflow.keras.datasets import imdb\n",
        "(train_data, train_labels), _ = imdb.load_data(num_words=10000)\n",
        " \n",
        "def vectorize_sequences(sequences, dimension=10000):\n",
        "  results = np.zeros((len(sequences), dimension))\n",
        "  for i, sequence in enumerate(sequences):\n",
        "    results[i, sequence] = 1.\n",
        "  return results\n",
        "\n",
        "train_data = vectorize_sequences(train_data)\n",
        " \n",
        "model = keras.Sequential([\n",
        "  layers.Dense(16, activation=\"relu\"),\n",
        "  layers.Dense(16, activation=\"relu\"),\n",
        "  layers.Dense(1, activation=\"sigmoid\")\n",
        "])\n",
        "\n",
        "model.compile(\n",
        "    optimizer=\"rmsprop\",\n",
        "    loss=\"binary_crossentropy\",\n",
        "    metrics=[\"accuracy\"])\n",
        "\n",
        "history_original = model.fit(\n",
        "    train_data,\n",
        "    train_labels,\n",
        "    epochs=20, \n",
        "    batch_size=512, \n",
        "    validation_split=0.4)"
      ]
    },
    {
      "cell_type": "code",
      "execution_count": 2,
      "metadata": {
        "colab": {
          "base_uri": "https://localhost:8080/"
        },
        "id": "WGLcAR2Am2bF",
        "outputId": "a77cfc8f-3a2d-48c2-cb60-a890eacb3410"
      },
      "outputs": [
        {
          "name": "stdout",
          "output_type": "stream",
          "text": [
            "Epoch 1/20\n",
            "30/30 [==============================] - 2s 33ms/step - loss: 0.6327 - accuracy: 0.6383 - val_loss: 0.5897 - val_accuracy: 0.7182\n",
            "Epoch 2/20\n",
            "30/30 [==============================] - 1s 19ms/step - loss: 0.5535 - accuracy: 0.7622 - val_loss: 0.5465 - val_accuracy: 0.8126\n",
            "Epoch 3/20\n",
            "30/30 [==============================] - 1s 19ms/step - loss: 0.5071 - accuracy: 0.8269 - val_loss: 0.5163 - val_accuracy: 0.8030\n",
            "Epoch 4/20\n",
            "30/30 [==============================] - 1s 23ms/step - loss: 0.4725 - accuracy: 0.8633 - val_loss: 0.4998 - val_accuracy: 0.8056\n",
            "Epoch 5/20\n",
            "30/30 [==============================] - 1s 19ms/step - loss: 0.4453 - accuracy: 0.8861 - val_loss: 0.4792 - val_accuracy: 0.8514\n",
            "Epoch 6/20\n",
            "30/30 [==============================] - 1s 19ms/step - loss: 0.4223 - accuracy: 0.9062 - val_loss: 0.4677 - val_accuracy: 0.8634\n",
            "Epoch 7/20\n",
            "30/30 [==============================] - 1s 19ms/step - loss: 0.4018 - accuracy: 0.9197 - val_loss: 0.4642 - val_accuracy: 0.8553\n",
            "Epoch 8/20\n",
            "30/30 [==============================] - 1s 19ms/step - loss: 0.3836 - accuracy: 0.9308 - val_loss: 0.4531 - val_accuracy: 0.8701\n",
            "Epoch 9/20\n",
            "30/30 [==============================] - 1s 19ms/step - loss: 0.3673 - accuracy: 0.9387 - val_loss: 0.4536 - val_accuracy: 0.8659\n",
            "Epoch 10/20\n",
            "30/30 [==============================] - 1s 19ms/step - loss: 0.3522 - accuracy: 0.9479 - val_loss: 0.4560 - val_accuracy: 0.8642\n",
            "Epoch 11/20\n",
            "30/30 [==============================] - 1s 20ms/step - loss: 0.3380 - accuracy: 0.9552 - val_loss: 0.4667 - val_accuracy: 0.8565\n",
            "Epoch 12/20\n",
            "30/30 [==============================] - 1s 19ms/step - loss: 0.3251 - accuracy: 0.9602 - val_loss: 0.4566 - val_accuracy: 0.8663\n",
            "Epoch 13/20\n",
            "30/30 [==============================] - 1s 19ms/step - loss: 0.3126 - accuracy: 0.9670 - val_loss: 0.4440 - val_accuracy: 0.8760\n",
            "Epoch 14/20\n",
            "30/30 [==============================] - 1s 23ms/step - loss: 0.3015 - accuracy: 0.9711 - val_loss: 0.4574 - val_accuracy: 0.8699\n",
            "Epoch 15/20\n",
            "30/30 [==============================] - 1s 19ms/step - loss: 0.2913 - accuracy: 0.9747 - val_loss: 0.4957 - val_accuracy: 0.8558\n",
            "Epoch 16/20\n",
            "30/30 [==============================] - 1s 19ms/step - loss: 0.2805 - accuracy: 0.9775 - val_loss: 0.4805 - val_accuracy: 0.8650\n",
            "Epoch 17/20\n",
            "30/30 [==============================] - 1s 19ms/step - loss: 0.2713 - accuracy: 0.9811 - val_loss: 0.4860 - val_accuracy: 0.8640\n",
            "Epoch 18/20\n",
            "30/30 [==============================] - 1s 19ms/step - loss: 0.2631 - accuracy: 0.9825 - val_loss: 0.5142 - val_accuracy: 0.8611\n",
            "Epoch 19/20\n",
            "30/30 [==============================] - 1s 19ms/step - loss: 0.2543 - accuracy: 0.9839 - val_loss: 0.5250 - val_accuracy: 0.8610\n",
            "Epoch 20/20\n",
            "30/30 [==============================] - 1s 19ms/step - loss: 0.2465 - accuracy: 0.9849 - val_loss: 0.5304 - val_accuracy: 0.8614\n"
          ]
        }
      ],
      "source": [
        "# Listing 5.11 Version of the model with lower capacity\n",
        "model = keras.Sequential([\n",
        "  layers.Dense(4, activation=\"relu\"),\n",
        "  layers.Dense(4, activation=\"relu\"),\n",
        "  layers.Dense(1, activation=\"sigmoid\")\n",
        "])\n",
        "\n",
        "model.compile(\n",
        "    optimizer=\"rmsprop\",\n",
        "    loss=\"binary_crossentropy\",\n",
        "    metrics=[\"accuracy\"])\n",
        "\n",
        "history_smaller_model = model.fit(\n",
        "  train_data,\n",
        "  train_labels,\n",
        "  epochs=20,\n",
        "  batch_size=512, \n",
        "  validation_split=0.4)\n"
      ]
    },
    {
      "cell_type": "code",
      "execution_count": 3,
      "metadata": {
        "colab": {
          "base_uri": "https://localhost:8080/"
        },
        "id": "gsurkidkpt5s",
        "outputId": "12196f8d-f8a3-478b-8485-e5cd19a77f70"
      },
      "outputs": [
        {
          "name": "stdout",
          "output_type": "stream",
          "text": [
            "Epoch 1/20\n",
            "30/30 [==============================] - 2s 39ms/step - loss: 0.5554 - accuracy: 0.7523 - val_loss: 0.3069 - val_accuracy: 0.8812\n",
            "Epoch 2/20\n",
            "30/30 [==============================] - 1s 24ms/step - loss: 0.2599 - accuracy: 0.8987 - val_loss: 0.3314 - val_accuracy: 0.8562\n",
            "Epoch 3/20\n",
            "30/30 [==============================] - 1s 27ms/step - loss: 0.1511 - accuracy: 0.9427 - val_loss: 0.3402 - val_accuracy: 0.8775\n",
            "Epoch 4/20\n",
            "30/30 [==============================] - 1s 23ms/step - loss: 0.0698 - accuracy: 0.9769 - val_loss: 0.4085 - val_accuracy: 0.8809\n",
            "Epoch 5/20\n",
            "30/30 [==============================] - 1s 23ms/step - loss: 0.0997 - accuracy: 0.9746 - val_loss: 0.3592 - val_accuracy: 0.8900\n",
            "Epoch 6/20\n",
            "30/30 [==============================] - 1s 22ms/step - loss: 0.0047 - accuracy: 0.9995 - val_loss: 0.4930 - val_accuracy: 0.8883\n",
            "Epoch 7/20\n",
            "30/30 [==============================] - 1s 22ms/step - loss: 8.5650e-04 - accuracy: 0.9999 - val_loss: 0.6339 - val_accuracy: 0.8865\n",
            "Epoch 8/20\n",
            "30/30 [==============================] - 1s 22ms/step - loss: 1.0870e-04 - accuracy: 1.0000 - val_loss: 0.7299 - val_accuracy: 0.8859\n",
            "Epoch 9/20\n",
            "30/30 [==============================] - 1s 22ms/step - loss: 1.6784e-05 - accuracy: 1.0000 - val_loss: 0.8351 - val_accuracy: 0.8863\n",
            "Epoch 10/20\n",
            "30/30 [==============================] - 1s 22ms/step - loss: 3.4550e-06 - accuracy: 1.0000 - val_loss: 0.9365 - val_accuracy: 0.8858\n",
            "Epoch 11/20\n",
            "30/30 [==============================] - 1s 22ms/step - loss: 9.7168e-07 - accuracy: 1.0000 - val_loss: 1.0231 - val_accuracy: 0.8853\n",
            "Epoch 12/20\n",
            "30/30 [==============================] - 1s 22ms/step - loss: 2.9257e-07 - accuracy: 1.0000 - val_loss: 1.0937 - val_accuracy: 0.8858\n",
            "Epoch 13/20\n",
            "30/30 [==============================] - 1s 22ms/step - loss: 1.0172e-07 - accuracy: 1.0000 - val_loss: 1.1700 - val_accuracy: 0.8839\n",
            "Epoch 14/20\n",
            "30/30 [==============================] - 1s 22ms/step - loss: 4.4894e-08 - accuracy: 1.0000 - val_loss: 1.2087 - val_accuracy: 0.8855\n",
            "Epoch 15/20\n",
            "30/30 [==============================] - 1s 22ms/step - loss: 2.5989e-08 - accuracy: 1.0000 - val_loss: 1.2366 - val_accuracy: 0.8854\n",
            "Epoch 16/20\n",
            "30/30 [==============================] - 1s 22ms/step - loss: 1.7970e-08 - accuracy: 1.0000 - val_loss: 1.2562 - val_accuracy: 0.8855\n",
            "Epoch 17/20\n",
            "30/30 [==============================] - 1s 23ms/step - loss: 1.3722e-08 - accuracy: 1.0000 - val_loss: 1.2713 - val_accuracy: 0.8854\n",
            "Epoch 18/20\n",
            "30/30 [==============================] - 1s 22ms/step - loss: 1.1112e-08 - accuracy: 1.0000 - val_loss: 1.2844 - val_accuracy: 0.8853\n",
            "Epoch 19/20\n",
            "30/30 [==============================] - 1s 22ms/step - loss: 9.3351e-09 - accuracy: 1.0000 - val_loss: 1.2951 - val_accuracy: 0.8854\n",
            "Epoch 20/20\n",
            "30/30 [==============================] - 1s 22ms/step - loss: 8.0576e-09 - accuracy: 1.0000 - val_loss: 1.3043 - val_accuracy: 0.8856\n"
          ]
        }
      ],
      "source": [
        "# Listing 5.12 Version of the model with higher capacity\n",
        "model = keras.Sequential([\n",
        "  layers.Dense(512, activation=\"relu\"),\n",
        "  layers.Dense(512, activation=\"relu\"),\n",
        "  layers.Dense(1, activation=\"sigmoid\")\n",
        "])\n",
        "model.compile(\n",
        "    optimizer=\"rmsprop\",\n",
        "    loss=\"binary_crossentropy\",\n",
        "    metrics=[\"accuracy\"])\n",
        "history_larger_model = model.fit(\n",
        "  train_data,\n",
        "  train_labels,\n",
        "  epochs=20, \n",
        "  batch_size=512, \n",
        "  validation_split=0.4)"
      ]
    },
    {
      "cell_type": "code",
      "execution_count": 4,
      "metadata": {
        "colab": {
          "base_uri": "https://localhost:8080/",
          "height": 312
        },
        "id": "0nEG__FNoHg2",
        "outputId": "ee69f35a-af66-4228-9f2a-4b498c464661"
      },
      "outputs": [
        {
          "data": {
            "text/plain": [
              "<matplotlib.legend.Legend at 0x7f1f9099fc10>"
            ]
          },
          "execution_count": 4,
          "metadata": {},
          "output_type": "execute_result"
        },
        {
          "data": {
            "image/png": "[encoded data removed]",
            "text/plain": [
              "<Figure size 432x288 with 1 Axes>"
            ]
          },
          "metadata": {
            "needs_background": "light"
          },
          "output_type": "display_data"
        }
      ],
      "source": [
        "# plot\n",
        "import matplotlib.pyplot as plt\n",
        "val_loss_original = history_original.history[\"val_loss\"]\n",
        "val_loss_smaller_model = history_smaller_model.history[\"val_loss\"]\n",
        "val_loss_larger_model = history_larger_model.history[\"val_loss\"]\n",
        "epochs = range(1, 21)\n",
        "plt.plot(epochs, val_loss_original, \"b-\",\n",
        " label=\"Validation loss of original model\")\n",
        "plt.plot(epochs, val_loss_smaller_model, \"b--\",\n",
        " label=\"Validation loss of smaller model\")\n",
        "plt.plot(epochs, val_loss_larger_model, \"b:\",label=\"Validation loss of larger model\")\n",
        "plt.title(\"validation losses\")\n",
        "plt.xlabel(\"Epochs\")\n",
        "plt.ylabel(\"Loss\")\n",
        "plt.legend()\n"
      ]
    },
    {
      "cell_type": "markdown",
      "metadata": {
        "id": "iwWqGWSbqRRr"
      },
      "source": [
        "- smaller model starts overfitting later than the reference model its performance degrades more slowly once it starts overfitting.\n",
        "- bigger model starts overfitting almost immediately overfits much more severely.\n",
        "- The more capacity the model has, the more quickly it can model the training data (resulting in a low training loss), but the more susceptible it is to overfitting (resulting in a large difference between the training and validation loss).\n"
      ]
    },
    {
      "cell_type": "markdown",
      "metadata": {
        "id": "kiYib-ybrPj9"
      },
      "source": [
        "#### ADDING WEIGHT REGULARIZATION"
      ]
    },
    {
      "cell_type": "markdown",
      "metadata": {
        "id": "_G8_mWD5uUmu"
      },
      "source": [
        "-  Simpler models are less likely to overfit than complex ones.\n",
        "- A simple model \n",
        "  - a model where the distribution of parameter values has less entropy\n",
        "- weight regularization\n",
        "  - put constraints on the complexity of a model which makes the distribution of weight values more regular.\n",
        "  - it’s done by adding to the loss function of the model a cost associated with having large weights\n",
        "- Cost\n",
        "  - L1 regularization\n",
        "    - The cost added is proportional to the absolute value of the weight coefficients\n",
        "  - L2 regularization\n",
        "    - The cost added is proportional to the square of the value of the weight coefficients\n",
        "    - L2 regularization is also called weight decay in the context of neural networks."
      ]
    },
    {
      "cell_type": "code",
      "execution_count": 5,
      "metadata": {
        "colab": {
          "base_uri": "https://localhost:8080/"
        },
        "id": "WlOGD0nOvjL-",
        "outputId": "6414a5a9-4cd1-4114-c79a-3ee3615784a2"
      },
      "outputs": [
        {
          "name": "stdout",
          "output_type": "stream",
          "text": [
            "Epoch 1/20\n",
            "30/30 [==============================] - 2s 49ms/step - loss: 0.6166 - accuracy: 0.7675 - val_loss: 0.5097 - val_accuracy: 0.8508\n",
            "Epoch 2/20\n",
            "30/30 [==============================] - 1s 19ms/step - loss: 0.4204 - accuracy: 0.8925 - val_loss: 0.4031 - val_accuracy: 0.8830\n",
            "Epoch 3/20\n",
            "30/30 [==============================] - 1s 19ms/step - loss: 0.3464 - accuracy: 0.9115 - val_loss: 0.3792 - val_accuracy: 0.8804\n",
            "Epoch 4/20\n",
            "30/30 [==============================] - 1s 19ms/step - loss: 0.3058 - accuracy: 0.9235 - val_loss: 0.3608 - val_accuracy: 0.8895\n",
            "Epoch 5/20\n",
            "30/30 [==============================] - 1s 19ms/step - loss: 0.2844 - accuracy: 0.9327 - val_loss: 0.3825 - val_accuracy: 0.8756\n",
            "Epoch 6/20\n",
            "30/30 [==============================] - 1s 20ms/step - loss: 0.2730 - accuracy: 0.9349 - val_loss: 0.3653 - val_accuracy: 0.8846\n",
            "Epoch 7/20\n",
            "30/30 [==============================] - 1s 19ms/step - loss: 0.2616 - accuracy: 0.9400 - val_loss: 0.3776 - val_accuracy: 0.8802\n",
            "Epoch 8/20\n",
            "30/30 [==============================] - 1s 19ms/step - loss: 0.2561 - accuracy: 0.9410 - val_loss: 0.3803 - val_accuracy: 0.8796\n",
            "Epoch 9/20\n",
            "30/30 [==============================] - 1s 20ms/step - loss: 0.2509 - accuracy: 0.9439 - val_loss: 0.4485 - val_accuracy: 0.8557\n",
            "Epoch 10/20\n",
            "30/30 [==============================] - 1s 19ms/step - loss: 0.2442 - accuracy: 0.9469 - val_loss: 0.3845 - val_accuracy: 0.8796\n",
            "Epoch 11/20\n",
            "30/30 [==============================] - 1s 19ms/step - loss: 0.2375 - accuracy: 0.9487 - val_loss: 0.4025 - val_accuracy: 0.8756\n",
            "Epoch 12/20\n",
            "30/30 [==============================] - 1s 19ms/step - loss: 0.2368 - accuracy: 0.9474 - val_loss: 0.3875 - val_accuracy: 0.8787\n",
            "Epoch 13/20\n",
            "30/30 [==============================] - 1s 19ms/step - loss: 0.2331 - accuracy: 0.9489 - val_loss: 0.4112 - val_accuracy: 0.8741\n",
            "Epoch 14/20\n",
            "30/30 [==============================] - 1s 19ms/step - loss: 0.2302 - accuracy: 0.9501 - val_loss: 0.3916 - val_accuracy: 0.8761\n",
            "Epoch 15/20\n",
            "30/30 [==============================] - 1s 19ms/step - loss: 0.2254 - accuracy: 0.9525 - val_loss: 0.3948 - val_accuracy: 0.8772\n",
            "Epoch 16/20\n",
            "30/30 [==============================] - 1s 20ms/step - loss: 0.2245 - accuracy: 0.9517 - val_loss: 0.3977 - val_accuracy: 0.8784\n",
            "Epoch 17/20\n",
            "30/30 [==============================] - 1s 19ms/step - loss: 0.2177 - accuracy: 0.9541 - val_loss: 0.4084 - val_accuracy: 0.8756\n",
            "Epoch 18/20\n",
            "30/30 [==============================] - 1s 19ms/step - loss: 0.2195 - accuracy: 0.9548 - val_loss: 0.4208 - val_accuracy: 0.8722\n",
            "Epoch 19/20\n",
            "30/30 [==============================] - 1s 19ms/step - loss: 0.2133 - accuracy: 0.9574 - val_loss: 0.4086 - val_accuracy: 0.8756\n",
            "Epoch 20/20\n",
            "30/30 [==============================] - 1s 19ms/step - loss: 0.2151 - accuracy: 0.9536 - val_loss: 0.4283 - val_accuracy: 0.8696\n"
          ]
        }
      ],
      "source": [
        "# Listing 5.13 Adding L2 weight regularization to the model\n",
        "from tensorflow.keras import regularizers\n",
        "model = keras.Sequential([\n",
        "  layers.Dense(16,kernel_regularizer=regularizers.l2(0.002),activation=\"relu\"),\n",
        "  layers.Dense(16,kernel_regularizer=regularizers.l2(0.002),activation=\"relu\"),\n",
        "  layers.Dense(1, activation=\"sigmoid\")\n",
        "])\n",
        "model.compile(\n",
        "    optimizer=\"rmsprop\",\n",
        "    loss=\"binary_crossentropy\",\n",
        "    metrics=[\"accuracy\"])\n",
        "history_l2_reg = model.fit(\n",
        "    train_data,\n",
        "    train_labels,\n",
        "    epochs=20,\n",
        "    batch_size=512,\n",
        "    validation_split=0.4)\n"
      ]
    },
    {
      "cell_type": "markdown",
      "metadata": {
        "id": "QpLvBmq0vimG"
      },
      "source": [
        "-  loss for this model will be much higher at training than at test time"
      ]
    },
    {
      "cell_type": "code",
      "execution_count": 6,
      "metadata": {
        "colab": {
          "base_uri": "https://localhost:8080/",
          "height": 312
        },
        "id": "4i5BZsfewNjg",
        "outputId": "921d1608-4115-4c48-bda8-6ce2cb2d99eb"
      },
      "outputs": [
        {
          "data": {
            "text/plain": [
              "<matplotlib.legend.Legend at 0x7f1f99c96c50>"
            ]
          },
          "execution_count": 6,
          "metadata": {},
          "output_type": "execute_result"
        },
        {
          "data": {
            "image/png": "[encoded data removed]",
            "text/plain": [
              "<Figure size 432x288 with 1 Axes>"
            ]
          },
          "metadata": {
            "needs_background": "light"
          },
          "output_type": "display_data"
        }
      ],
      "source": [
        "# plot\n",
        "import matplotlib.pyplot as plt\n",
        "val_loss_original = history_original.history[\"val_loss\"]\n",
        "val_loss_l2_model = history_l2_reg.history[\"val_loss\"]\n",
        "epochs = range(1, 21)\n",
        "plt.plot(epochs, val_loss_original, \"b-\",\n",
        " label=\"Validation loss of original model\")\n",
        "plt.plot(epochs, val_loss_smaller_model, \"b--\",\n",
        " label=\"Validation loss of l2 model\")\n",
        "plt.title(\"validation losses\")\n",
        "plt.xlabel(\"Epochs\")\n",
        "plt.ylabel(\"Loss\")\n",
        "plt.legend()"
      ]
    },
    {
      "cell_type": "markdown",
      "metadata": {
        "id": "JDOHm1Hiwes6"
      },
      "source": [
        "- small deep learning models\n",
        "  - regularizers\n",
        "- large deep learning models\n",
        "  - dropout"
      ]
    },
    {
      "cell_type": "markdown",
      "metadata": {
        "id": "o5rc8-FKwwZ3"
      },
      "source": [
        "#### ADDING DROPOUT\n",
        "- dropping out a number of output features of the layer during training\n",
        "-  The dropout rate is the fraction of the fea\u0002tures that are zeroed out"
      ]
    },
    {
      "cell_type": "code",
      "execution_count": 7,
      "metadata": {
        "colab": {
          "base_uri": "https://localhost:8080/"
        },
        "id": "Xtt8y1Jl1mVy",
        "outputId": "90133edf-70d9-4245-d759-1236e1db65e2"
      },
      "outputs": [
        {
          "name": "stdout",
          "output_type": "stream",
          "text": [
            "Epoch 1/20\n",
            "30/30 [==============================] - 2s 36ms/step - loss: 0.6313 - accuracy: 0.6331 - val_loss: 0.5195 - val_accuracy: 0.8392\n",
            "Epoch 2/20\n",
            "30/30 [==============================] - 1s 20ms/step - loss: 0.5129 - accuracy: 0.7735 - val_loss: 0.4003 - val_accuracy: 0.8732\n",
            "Epoch 3/20\n",
            "30/30 [==============================] - 1s 19ms/step - loss: 0.4288 - accuracy: 0.8267 - val_loss: 0.3383 - val_accuracy: 0.8852\n",
            "Epoch 4/20\n",
            "30/30 [==============================] - 1s 19ms/step - loss: 0.3565 - accuracy: 0.8667 - val_loss: 0.2981 - val_accuracy: 0.8891\n",
            "Epoch 5/20\n",
            "30/30 [==============================] - 1s 19ms/step - loss: 0.3102 - accuracy: 0.8913 - val_loss: 0.2794 - val_accuracy: 0.8904\n",
            "Epoch 6/20\n",
            "30/30 [==============================] - 1s 19ms/step - loss: 0.2685 - accuracy: 0.9091 - val_loss: 0.2728 - val_accuracy: 0.8910\n",
            "Epoch 7/20\n",
            "30/30 [==============================] - 1s 19ms/step - loss: 0.2295 - accuracy: 0.9248 - val_loss: 0.2767 - val_accuracy: 0.8924\n",
            "Epoch 8/20\n",
            "30/30 [==============================] - 1s 20ms/step - loss: 0.2084 - accuracy: 0.9321 - val_loss: 0.2890 - val_accuracy: 0.8874\n",
            "Epoch 9/20\n",
            "30/30 [==============================] - 1s 19ms/step - loss: 0.1882 - accuracy: 0.9382 - val_loss: 0.2989 - val_accuracy: 0.8912\n",
            "Epoch 10/20\n",
            "30/30 [==============================] - 1s 19ms/step - loss: 0.1685 - accuracy: 0.9456 - val_loss: 0.3155 - val_accuracy: 0.8904\n",
            "Epoch 11/20\n",
            "30/30 [==============================] - 1s 20ms/step - loss: 0.1510 - accuracy: 0.9507 - val_loss: 0.3432 - val_accuracy: 0.8894\n",
            "Epoch 12/20\n",
            "30/30 [==============================] - 1s 19ms/step - loss: 0.1392 - accuracy: 0.9533 - val_loss: 0.3650 - val_accuracy: 0.8896\n",
            "Epoch 13/20\n",
            "30/30 [==============================] - 1s 19ms/step - loss: 0.1250 - accuracy: 0.9597 - val_loss: 0.3799 - val_accuracy: 0.8885\n",
            "Epoch 14/20\n",
            "30/30 [==============================] - 1s 20ms/step - loss: 0.1205 - accuracy: 0.9615 - val_loss: 0.3904 - val_accuracy: 0.8880\n",
            "Epoch 15/20\n",
            "30/30 [==============================] - 1s 19ms/step - loss: 0.1063 - accuracy: 0.9641 - val_loss: 0.4432 - val_accuracy: 0.8854\n",
            "Epoch 16/20\n",
            "30/30 [==============================] - 1s 19ms/step - loss: 0.0988 - accuracy: 0.9677 - val_loss: 0.4573 - val_accuracy: 0.8873\n",
            "Epoch 17/20\n",
            "30/30 [==============================] - 1s 19ms/step - loss: 0.0976 - accuracy: 0.9680 - val_loss: 0.4954 - val_accuracy: 0.8843\n",
            "Epoch 18/20\n",
            "30/30 [==============================] - 1s 20ms/step - loss: 0.0926 - accuracy: 0.9688 - val_loss: 0.5155 - val_accuracy: 0.8853\n",
            "Epoch 19/20\n",
            "30/30 [==============================] - 1s 20ms/step - loss: 0.0846 - accuracy: 0.9709 - val_loss: 0.5535 - val_accuracy: 0.8855\n",
            "Epoch 20/20\n",
            "30/30 [==============================] - 1s 19ms/step - loss: 0.0835 - accuracy: 0.9723 - val_loss: 0.5780 - val_accuracy: 0.8852\n"
          ]
        }
      ],
      "source": [
        "# Listing 5.15 Adding dropout to the IMDB model\n",
        "model = keras.Sequential([\n",
        "  layers.Dense(16, activation=\"relu\"),layers.Dropout(0.5),\n",
        "  layers.Dense(16, activation=\"relu\"),layers.Dropout(0.5),\n",
        "  layers.Dense(1, activation=\"sigmoid\")\n",
        "])\n",
        "model.compile(\n",
        "    optimizer=\"rmsprop\",\n",
        "    loss=\"binary_crossentropy\",\n",
        "    metrics=[\"accuracy\"])\n",
        "history_dropout = model.fit(\n",
        "  train_data,\n",
        "  train_labels,\n",
        "  epochs=20, \n",
        "  batch_size=512, \n",
        "  validation_split=0.4)"
      ]
    },
    {
      "cell_type": "code",
      "execution_count": 8,
      "metadata": {
        "colab": {
          "base_uri": "https://localhost:8080/",
          "height": 312
        },
        "id": "mmVfb-qY13ur",
        "outputId": "a90892b9-1f99-4bdb-bedf-b6ba64a64e1b"
      },
      "outputs": [
        {
          "data": {
            "text/plain": [
              "<matplotlib.legend.Legend at 0x7f1f9b4b02d0>"
            ]
          },
          "execution_count": 8,
          "metadata": {},
          "output_type": "execute_result"
        },
        {
          "data": {
            "image/png": "[encoded data removed]",
            "text/plain": [
              "<Figure size 432x288 with 1 Axes>"
            ]
          },
          "metadata": {
            "needs_background": "light"
          },
          "output_type": "display_data"
        }
      ],
      "source": [
        "# plot\n",
        "import matplotlib.pyplot as plt\n",
        "val_loss_original = history_original.history[\"val_loss\"]\n",
        "val_loss_dropout_model = history_dropout.history[\"val_loss\"]\n",
        "epochs = range(1, 21)\n",
        "plt.plot(epochs, val_loss_original, \"b-\",\n",
        " label=\"Validation loss of original model\")\n",
        "plt.plot(epochs, val_loss_dropout_model, \"b--\",\n",
        " label=\"Validation loss of dropout model\")\n",
        "plt.title(\"validation losses\")\n",
        "plt.xlabel(\"Epochs\")\n",
        "plt.ylabel(\"Loss\")\n",
        "plt.legend()"
      ]
    },
    {
      "cell_type": "markdown",
      "metadata": {
        "id": "tvvi_smN2If0"
      },
      "source": [
        "- maximize generalization and prevent overfitting\n",
        "  - Get more training data, or better training data.\n",
        "  - Develop better features.\n",
        "  - Reduce the capacity of the model.\n",
        "  - Add weight regularization (for smaller models).\n",
        "  - Add dropout."
      ]
    },
    {
      "cell_type": "markdown",
      "metadata": {
        "id": "cPU7ruHD2PF1"
      },
      "source": [
        "## Summary\n",
        "- The purpose of a machine learning model is to generalize: to perform accurately on never-before-seen inputs. It’s harder than it seems.\n",
        "- A deep neural network achieves generalization by learning a parametric model that can successfully interpolate between training samples—such a model can be said to have learned the “latent manifold” of the training data. This is why deep learning models can only make sense of inputs that are very close to what they’ve seen during training.\n",
        "- The fundamental problem in machine learning is the tension between optimization and generalization: to attain generalization, you must first achieve a good fit to the training data, but improving your model’s fit to the training data will inevitably start hurting generalization after a while. Every single deep learning best practice deals with managing this tension. \n",
        "- The ability of deep learning models to generalize comes from the fact that they manage to learn to approximate the latent manifold of their data, and can thus make sense of new inputs via interpolation.\n",
        "- It’s essential to be able to accurately evaluate the generalization power of your model while you’re developing it. You have at your disposal an array of evaluation methods, from simple holdout validation to K-fold cross-validation and iterated K-fold cross-validation with shuffling. Remember to always keep a completely separate test set for final model evaluation, since information leaks from your validation data to your model may have occurred.\n",
        "- When you start working on a model, your goal is first to achieve a model that has some generalization power and that can overfit. Best practices for doing this include tuning your learning rate and batch size, leveraging better architecture priors, increasing model capacity, or simply training longer.\n",
        "- As your model starts overfitting, your goal switches to improving generalization through model regularization. You can reduce your model’s capacity add dropout or weight regularization, and use early stopping. And naturally, a larger or better dataset is always the number one way to help a model generalize."
      ]
    }
  ],
  "metadata": {
    "accelerator": "GPU",
    "colab": {
      "collapsed_sections": [],
      "name": "5_1.ipynb",
      "provenance": []
    },
    "kernelspec": {
      "display_name": "Python 3",
      "name": "python3"
    },
    "language_info": {
      "name": "python"
    }
  },
  "nbformat": 4,
  "nbformat_minor": 0
}
