{
  "cells": [
    {
      "cell_type": "markdown",
      "metadata": {},
      "source": [
        "# Deep Learning - Anees Ahmad - 2021/03/14"
      ]
    },
    {
      "cell_type": "markdown",
      "metadata": {
        "id": "JkY5wfTVcVhY"
      },
      "source": [
        "# 3 Introduction to Keras and TensorFlow"
      ]
    },
    {
      "cell_type": "markdown",
      "metadata": {
        "id": "x2DRlt90cpVQ"
      },
      "source": [
        "## 3.1 What’s TensorFlow?"
      ]
    },
    {
      "cell_type": "markdown",
      "metadata": {
        "id": "d7ruUtGGc1Cq"
      },
      "source": [
        "- Python-based, free, open source machine learning platform\n",
        "  - automatically compute the gradient of any differentiable expression, suitable for machine learning.\n",
        "  - can run on CPUs, GPUs and TPUs, highly parallel hardware accelerators.\n",
        "  - Computation can be easily distributed across many machines.\n",
        "  - programs can be exported to other runtimes,This makes TensorFlow applications easy to deploy in practical settings."
      ]
    },
    {
      "cell_type": "markdown",
      "metadata": {
        "id": "5tMl5fg4ePiC"
      },
      "source": [
        "### 3.2 What’s Keras?"
      ]
    },
    {
      "cell_type": "markdown",
      "metadata": {
        "id": "vjtCllRteQ0m"
      },
      "source": [
        "- Keras is a deep learning API for Python\n",
        "  - built on top of TensorFlow\n",
        "  - provides a convenient way to define and train any kind of deep learning model\n",
        "  - follows best practices for reducing cognitive load\n",
        "    - offers consistent and simple workflows\n",
        "    - minimizes the number of actions required for common use cases\n",
        "    - provides clear and actionable feedback\n",
        "upon user error"
      ]
    },
    {
      "cell_type": "markdown",
      "metadata": {
        "id": "ycv6vhxif0P1"
      },
      "source": [
        "### 3.3 Keras and TensorFlow: A brief history"
      ]
    },
    {
      "cell_type": "markdown",
      "metadata": {
        "id": "Z_PKcTA9f1oQ"
      },
      "source": [
        "### 3.4 Setting up a deep learning workspace"
      ]
    },
    {
      "cell_type": "markdown",
      "metadata": {
        "id": "7d_4wdCrgcf-"
      },
      "source": [
        "### 3.4.1 Jupyter notebooks: The preferred way to run deep learning experiments"
      ]
    },
    {
      "cell_type": "markdown",
      "metadata": {
        "id": "gEXJnYJchKVD"
      },
      "source": [
        "### 3.4.2 Using Colaboratory\n",
        "- `!pip install package_name`\n",
        "  - to install package in google colab"
      ]
    },
    {
      "cell_type": "markdown",
      "metadata": {
        "id": "h--8LAdHhbs8"
      },
      "source": [
        "## 3.5 First steps with TensorFlow"
      ]
    },
    {
      "cell_type": "markdown",
      "metadata": {
        "id": "hr_3swTTiAvH"
      },
      "source": [
        "- training a neural network revolves around the following concepts\n",
        "  - low-level tensor manipulation—the infrastructure that underlies all modern machine learning. This translates to TensorFlow APIs:\n",
        "    - Tensors, including special tensors that store the network’s state (variables)\n",
        "    - Tensor operations such as addition, relu , matmul\n",
        "    - Backpropagation, a way to compute the gradient of mathematical expressions (handled in TensorFlow via the GradientTape object)\n",
        "  - high-level deep learning concepts. This translates to Keras APIs:\n",
        "    - Layers, which are combined into a model\n",
        "    - A loss function, which defines the feedback signal used for learning\n",
        "    - An optimizer, which determines how learning proceeds\n",
        "    - Metrics to evaluate model performance, such as accuracy\n",
        "    - A training loop that performs mini-batch stochastic gradient descent\n"
      ]
    },
    {
      "cell_type": "markdown",
      "metadata": {
        "id": "JavYj1XXi-Gb"
      },
      "source": [
        "### 3.5.1 Constant tensors and variables"
      ]
    },
    {
      "cell_type": "code",
      "execution_count": 1,
      "metadata": {
        "colab": {
          "base_uri": "https://localhost:8080/"
        },
        "id": "w24U3WLsc0oo",
        "outputId": "dffb44b3-cec4-41c7-bc1e-1ecc9292cea0"
      },
      "outputs": [
        {
          "name": "stdout",
          "output_type": "stream",
          "text": [
            "***\n",
            "tf.Tensor(\n",
            "[[1.]\n",
            " [1.]], shape=(2, 1), dtype=float32)\n",
            "***\n",
            "tf.Tensor(\n",
            "[[0.]\n",
            " [0.]], shape=(2, 1), dtype=float32)\n",
            "***\n"
          ]
        }
      ],
      "source": [
        "# Listing 3.1 All-ones or all-zeros tensors\n",
        "import tensorflow as tf\n",
        "x = tf.ones(shape=(2, 1))\n",
        "print(\"***\")\n",
        "print(x)\n",
        "print(\"***\")\n",
        "x = tf.zeros(shape=(2, 1))\n",
        "print(x)\n",
        "print(\"***\")"
      ]
    },
    {
      "cell_type": "code",
      "execution_count": 2,
      "metadata": {
        "colab": {
          "base_uri": "https://localhost:8080/"
        },
        "id": "4bdwvjLDjoTG",
        "outputId": "b95e6cc0-e1cc-4f74-e515-712f5200d31a"
      },
      "outputs": [
        {
          "name": "stdout",
          "output_type": "stream",
          "text": [
            "***\n",
            "tf.Tensor(\n",
            "[[ 0.8923815 ]\n",
            " [-1.2115468 ]\n",
            " [-0.06103132]], shape=(3, 1), dtype=float32)\n",
            "***\n",
            "tf.Tensor(\n",
            "[[0.1802615 ]\n",
            " [0.6514535 ]\n",
            " [0.82816374]], shape=(3, 1), dtype=float32)\n",
            "***\n"
          ]
        }
      ],
      "source": [
        "# Listing 3.2 Random tensors\n",
        "x = tf.random.normal(shape=(3, 1), mean=0., stddev=1.)\n",
        "print(\"***\")\n",
        "print(x)\n",
        "print(\"***\")\n",
        "x = tf.random.uniform(shape=(3, 1), minval=0., maxval=1.)\n",
        "print(x)\n",
        "print(\"***\")\n"
      ]
    },
    {
      "cell_type": "markdown",
      "metadata": {
        "id": "oL2KV93zkASW"
      },
      "source": [
        "- NumPy arrays\n",
        "  - are assignable\n",
        "- TensorFlow tensors\n",
        "  - aren’t assignable: they’re constant.\n",
        "  - tf.Variable is the class meant to manage modifiable state in TensorFlow. "
      ]
    },
    {
      "cell_type": "code",
      "execution_count": 3,
      "metadata": {
        "id": "VUq-WLOwkPhg"
      },
      "outputs": [],
      "source": [
        "# Listing 3.3 NumPy arrays are assignable\n",
        "import numpy as np\n",
        "x = np.ones(shape=(2, 2))\n",
        "x[0, 0] = 0"
      ]
    },
    {
      "cell_type": "code",
      "execution_count": 4,
      "metadata": {
        "colab": {
          "base_uri": "https://localhost:8080/",
          "height": 35
        },
        "id": "fBJ6CQf8kUMT",
        "outputId": "2144b0dd-fa07-488c-c728-23cee6a9dd3d"
      },
      "outputs": [
        {
          "data": {
            "application/vnd.google.colaboratory.intrinsic+json": {
              "type": "string"
            },
            "text/plain": [
              "'\\nx = tf.ones(shape=(2, 2))\\nx[0, 0] = 0. \\n'"
            ]
          },
          "execution_count": 4,
          "metadata": {},
          "output_type": "execute_result"
        }
      ],
      "source": [
        "# Listing 3.4 TensorFlow tensors are not assignable\n",
        "# This will fail\n",
        "'''\n",
        "x = tf.ones(shape=(2, 2))\n",
        "x[0, 0] = 0. \n",
        "'''"
      ]
    },
    {
      "cell_type": "code",
      "execution_count": 5,
      "metadata": {
        "colab": {
          "base_uri": "https://localhost:8080/"
        },
        "id": "uOopxMKqk1iI",
        "outputId": "21f11082-60da-4e2e-b102-98727e017625"
      },
      "outputs": [
        {
          "name": "stdout",
          "output_type": "stream",
          "text": [
            "<tf.Variable 'Variable:0' shape=(3, 1) dtype=float32, numpy=\n",
            "array([[-0.74271345],\n",
            "       [-0.295384  ],\n",
            "       [-0.7715277 ]], dtype=float32)>\n"
          ]
        }
      ],
      "source": [
        "# Listing 3.5 Creating a TensorFlow variable\n",
        "v = tf.Variable(initial_value=tf.random.normal(shape=(3, 1)))\n",
        "print(v)"
      ]
    },
    {
      "cell_type": "code",
      "execution_count": 6,
      "metadata": {
        "colab": {
          "base_uri": "https://localhost:8080/"
        },
        "id": "tl2XAT9Lk657",
        "outputId": "b56657f0-de33-492d-f3d0-e60288c6009c"
      },
      "outputs": [
        {
          "data": {
            "text/plain": [
              "<tf.Variable 'UnreadVariable' shape=(3, 1) dtype=float32, numpy=\n",
              "array([[1.],\n",
              "       [1.],\n",
              "       [1.]], dtype=float32)>"
            ]
          },
          "execution_count": 6,
          "metadata": {},
          "output_type": "execute_result"
        }
      ],
      "source": [
        "# Listing 3.6 Assigning a value to a TensorFlow variable\n",
        "v.assign(tf.ones((3, 1)))"
      ]
    },
    {
      "cell_type": "code",
      "execution_count": 7,
      "metadata": {
        "colab": {
          "base_uri": "https://localhost:8080/"
        },
        "id": "T-BuLoAVlDa4",
        "outputId": "5e3a29e1-2b51-4e5b-fd7a-b09b8a569c49"
      },
      "outputs": [
        {
          "data": {
            "text/plain": [
              "<tf.Variable 'UnreadVariable' shape=(3, 1) dtype=float32, numpy=\n",
              "array([[3.],\n",
              "       [1.],\n",
              "       [1.]], dtype=float32)>"
            ]
          },
          "execution_count": 7,
          "metadata": {},
          "output_type": "execute_result"
        }
      ],
      "source": [
        "# Listing 3.7 Assigning a value to a subset of a TensorFlow variable\n",
        "v[0, 0].assign(3.)"
      ]
    },
    {
      "cell_type": "markdown",
      "metadata": {
        "id": "9Asbb2h9lMhi"
      },
      "source": [
        "- assign_add()\n",
        "  - +=\n",
        "- assign_sub()\n",
        "  - -="
      ]
    },
    {
      "cell_type": "code",
      "execution_count": 8,
      "metadata": {
        "colab": {
          "base_uri": "https://localhost:8080/"
        },
        "id": "5G9tY7KslXqQ",
        "outputId": "d00a1a7b-9e59-4918-99d8-fe244257934c"
      },
      "outputs": [
        {
          "data": {
            "text/plain": [
              "<tf.Variable 'UnreadVariable' shape=(3, 1) dtype=float32, numpy=\n",
              "array([[4.],\n",
              "       [2.],\n",
              "       [2.]], dtype=float32)>"
            ]
          },
          "execution_count": 8,
          "metadata": {},
          "output_type": "execute_result"
        }
      ],
      "source": [
        "# Listing 3.8 Using assign_add()\n",
        "v.assign_add(tf.ones((3, 1)))"
      ]
    },
    {
      "cell_type": "markdown",
      "metadata": {
        "id": "rwVdZ4c5sYt7"
      },
      "source": [
        "### 3.5.2 Tensor operations: Doing math in TensorFlow"
      ]
    },
    {
      "cell_type": "code",
      "execution_count": 9,
      "metadata": {
        "id": "q7A-sumpsd5I"
      },
      "outputs": [],
      "source": [
        "# Listing 3.9 A few basic math operations\n",
        "a = tf.ones((2, 2))\n",
        "b = tf.square(a)\n",
        "c = tf.sqrt(a)\n",
        "d = b + c\n",
        "e = tf.matmul(a, b)\n",
        "e *= d"
      ]
    },
    {
      "cell_type": "markdown",
      "metadata": {
        "id": "cuqzpOomtHIY"
      },
      "source": [
        "### 3.5.3 A second look at the GradientTape API"
      ]
    },
    {
      "cell_type": "code",
      "execution_count": 10,
      "metadata": {
        "id": "L0cjN8sUtH24"
      },
      "outputs": [],
      "source": [
        "# Listing 3.10 Using the GradientTape\n",
        "input_var = tf.Variable(initial_value=3.)\n",
        "with tf.GradientTape() as tape:\n",
        "   result = tf.square(input_var)\n",
        "gradient = tape.gradient(result, input_var)"
      ]
    },
    {
      "cell_type": "markdown",
      "metadata": {
        "id": "4ZWB-rTEtpFP"
      },
      "source": [
        "- only trainable variables are tracked by default. \n",
        "- With a constant tensor, manually mark it as being tracked by calling tape.watch() on it."
      ]
    },
    {
      "cell_type": "code",
      "execution_count": 11,
      "metadata": {
        "id": "RYtbqcWRtxxN"
      },
      "outputs": [],
      "source": [
        "# Listing 3.11 Using GradientTape with constant tensor inputs\n",
        "input_const = tf.constant(3.) \n",
        "with tf.GradientTape() as tape:\n",
        "  tape.watch(input_const)\n",
        "  result = tf.square(input_const)\n",
        "gradient = tape.gradient(result, input_const)"
      ]
    },
    {
      "cell_type": "markdown",
      "metadata": {
        "id": "dwTwoboeuQqN"
      },
      "source": [
        "- second-order gradients\n",
        "  - the gradient of a gradient.\n",
        "  - the gradient of the position of an object with regard to time is the speed of that object, and the second-order gradient is its acceleration."
      ]
    },
    {
      "cell_type": "code",
      "execution_count": 12,
      "metadata": {
        "id": "UKLQTlo9ufsp"
      },
      "outputs": [],
      "source": [
        "# Listing 3.12 Using nested gradient tapes to compute second-order gradients\n",
        "time = tf.Variable(0.) \n",
        "with tf.GradientTape() as outer_tape:\n",
        "  with tf.GradientTape() as inner_tape:\n",
        "    position = 4.9 * time ** 2\n",
        "    speed = inner_tape.gradient(position, time)\n",
        "acceleration = outer_tape.gradient(speed, time) "
      ]
    },
    {
      "cell_type": "markdown",
      "metadata": {
        "id": "tvqUH4wbuduO"
      },
      "source": [
        "### 3.5.4 An end-to-end example: A linear classifier in pure TensorFlow"
      ]
    },
    {
      "cell_type": "markdown",
      "metadata": {
        "id": "ou09LHiBu8p9"
      },
      "source": [
        "- requirements to build machine learning model based on gradient descent\n",
        "  - tensors\n",
        "  - variables\n",
        "  - tensor operations\n",
        "  - gradients"
      ]
    },
    {
      "cell_type": "markdown",
      "metadata": {
        "id": "uWEuk8F2vu1n"
      },
      "source": [
        "- linear classifier\n",
        "  - A linear classifier is an affine transformation trained to minimize the square of the difference between predictions and the targets.\n",
        "- Steps\n",
        "  - nicely linearly separable synthetic data\n",
        "    - two classes of points in a 2D plane. \n",
        "  - generate each class of points by drawing their coordinates from a random distribution with a specific covariance matrix and a specific mean. \n",
        "    - covariance matrix describes the shape of the point cloud\n",
        "    - mean describes its position in the plane "
      ]
    },
    {
      "cell_type": "code",
      "execution_count": 13,
      "metadata": {
        "id": "9bZfiUvMuoYG"
      },
      "outputs": [],
      "source": [
        "# Listing 3.13 Generating two classes of random points in a 2D plane\n",
        "num_samples_per_class = 1000\n",
        "negative_samples = np.random.multivariate_normal(\n",
        "    mean=[0, 3],\n",
        "    cov=[[1, 0.5],[0.5, 1]],\n",
        "    size=num_samples_per_class)\n",
        "positive_samples = np.random.multivariate_normal(\n",
        "    mean=[3, 0],\n",
        "    cov=[[1, 0.5],[0.5, 1]],\n",
        "    size=num_samples_per_class)"
      ]
    },
    {
      "cell_type": "code",
      "execution_count": 14,
      "metadata": {
        "id": "1gSyDscVwhGZ"
      },
      "outputs": [],
      "source": [
        "# Listing 3.14 Stacking the two classes into an array with shape (2000, 2)\n",
        "inputs = np.vstack((negative_samples, positive_samples)).astype(np.float32)"
      ]
    },
    {
      "cell_type": "code",
      "execution_count": 15,
      "metadata": {
        "id": "1rZ_fjK1wouh"
      },
      "outputs": [],
      "source": [
        "# Listing 3.15 Generating the corresponding targets (0 and 1)\n",
        "targets = np.vstack((\n",
        "    np.zeros((num_samples_per_class, 1), dtype=\"float32\"),\n",
        "    np.ones((num_samples_per_class, 1), dtype=\"float32\")))"
      ]
    },
    {
      "cell_type": "code",
      "execution_count": 16,
      "metadata": {
        "colab": {
          "base_uri": "https://localhost:8080/",
          "height": 265
        },
        "id": "m4RNl8OZwv4A",
        "outputId": "8b3f54dc-1b5b-4eb5-c121-98019ce6a4e0"
      },
      "outputs": [
        {
          "data": {
            "image/png": "[encoded data removed]",
            "text/plain": [
              "<Figure size 432x288 with 1 Axes>"
            ]
          },
          "metadata": {
            "needs_background": "light"
          },
          "output_type": "display_data"
        }
      ],
      "source": [
        "# Listing 3.16 Plotting the two point classes (see figure 3.6)\n",
        "import matplotlib.pyplot as plt\n",
        "plt.scatter(inputs[:, 0], inputs[:, 1], c=targets[:, 0])\n",
        "plt.show()"
      ]
    },
    {
      "cell_type": "code",
      "execution_count": 17,
      "metadata": {
        "id": "eimWGT2UxsIa"
      },
      "outputs": [],
      "source": [
        "# Listing 3.17 Creating the linear classifier variables\n",
        "input_dim = 2\n",
        "output_dim = 1\n",
        "W = tf.Variable(initial_value=tf.random.uniform(shape=(input_dim, output_dim)))\n",
        "b = tf.Variable(initial_value=tf.zeros(shape=(output_dim,)))"
      ]
    },
    {
      "cell_type": "code",
      "execution_count": 18,
      "metadata": {
        "id": "SIqAuQT1xxZJ"
      },
      "outputs": [],
      "source": [
        "# Listing 3.18 The forward pass function\n",
        "def model(inputs):\n",
        "  return tf.matmul(inputs, W) + b"
      ]
    },
    {
      "cell_type": "code",
      "execution_count": 19,
      "metadata": {
        "id": "1-1ZQlA0x8kt"
      },
      "outputs": [],
      "source": [
        "# Listing 3.19 The mean squared error loss function\n",
        "def square_loss(targets, predictions):\n",
        "    per_sample_losses = tf.square(targets - predictions)\n",
        "    return tf.reduce_mean(per_sample_losses)"
      ]
    },
    {
      "cell_type": "code",
      "execution_count": 20,
      "metadata": {
        "id": "6YUKV0lfydLA"
      },
      "outputs": [],
      "source": [
        "# Listing 3.20 The training step function\n",
        "learning_rate = 0.1\n",
        "\n",
        "def training_step(inputs, targets):\n",
        "    with tf.GradientTape() as tape:\n",
        "        predictions = model(inputs)\n",
        "        loss = square_loss(targets, predictions)\n",
        "    grad_loss_wrt_W, grad_loss_wrt_b = tape.gradient(loss, [W, b])\n",
        "    W.assign_sub(grad_loss_wrt_W * learning_rate)\n",
        "    b.assign_sub(grad_loss_wrt_b * learning_rate)\n",
        "    return loss"
      ]
    },
    {
      "cell_type": "code",
      "execution_count": 21,
      "metadata": {
        "colab": {
          "base_uri": "https://localhost:8080/"
        },
        "id": "hcwhJZfXy-kV",
        "outputId": "6b13ad7c-6d44-4170-ca81-66c2087e2834"
      },
      "outputs": [
        {
          "name": "stdout",
          "output_type": "stream",
          "text": [
            "Loss at step 0: 3.4214\n",
            "Loss at step 1: 0.2353\n",
            "Loss at step 2: 0.1216\n",
            "Loss at step 3: 0.1006\n",
            "Loss at step 4: 0.0928\n",
            "Loss at step 5: 0.0871\n",
            "Loss at step 6: 0.0821\n",
            "Loss at step 7: 0.0776\n",
            "Loss at step 8: 0.0735\n",
            "Loss at step 9: 0.0696\n",
            "Loss at step 10: 0.0662\n",
            "Loss at step 11: 0.0630\n",
            "Loss at step 12: 0.0600\n",
            "Loss at step 13: 0.0573\n",
            "Loss at step 14: 0.0548\n",
            "Loss at step 15: 0.0526\n",
            "Loss at step 16: 0.0505\n",
            "Loss at step 17: 0.0486\n",
            "Loss at step 18: 0.0468\n",
            "Loss at step 19: 0.0452\n",
            "Loss at step 20: 0.0438\n",
            "Loss at step 21: 0.0424\n",
            "Loss at step 22: 0.0412\n",
            "Loss at step 23: 0.0401\n",
            "Loss at step 24: 0.0390\n",
            "Loss at step 25: 0.0381\n",
            "Loss at step 26: 0.0372\n",
            "Loss at step 27: 0.0364\n",
            "Loss at step 28: 0.0356\n",
            "Loss at step 29: 0.0350\n",
            "Loss at step 30: 0.0343\n",
            "Loss at step 31: 0.0338\n",
            "Loss at step 32: 0.0333\n",
            "Loss at step 33: 0.0328\n",
            "Loss at step 34: 0.0323\n",
            "Loss at step 35: 0.0319\n",
            "Loss at step 36: 0.0316\n",
            "Loss at step 37: 0.0312\n",
            "Loss at step 38: 0.0309\n",
            "Loss at step 39: 0.0306\n"
          ]
        }
      ],
      "source": [
        "# Listing 3.21 The batch training loop\n",
        "for step in range(40):\n",
        "  loss = training_step(inputs, targets)\n",
        "  print(f\"Loss at step {step}: {loss:.4f}\")"
      ]
    },
    {
      "cell_type": "code",
      "execution_count": 22,
      "metadata": {
        "colab": {
          "base_uri": "https://localhost:8080/",
          "height": 265
        },
        "id": "XfBQwfEszB5V",
        "outputId": "4a4d767a-49ab-4f7a-ae26-d1a3b1c829ff"
      },
      "outputs": [
        {
          "data": {
            "image/png": "[encoded data removed]",
            "text/plain": [
              "<Figure size 432x288 with 1 Axes>"
            ]
          },
          "metadata": {
            "needs_background": "light"
          },
          "output_type": "display_data"
        }
      ],
      "source": [
        "# model’s predictions on the training inputs\n",
        "predictions = model(inputs)\n",
        "plt.scatter(inputs[:, 0], inputs[:, 1], c=predictions[:, 0] > 0.5)\n",
        "plt.show()"
      ]
    },
    {
      "cell_type": "code",
      "execution_count": 23,
      "metadata": {
        "colab": {
          "base_uri": "https://localhost:8080/",
          "height": 282
        },
        "id": "Zunx7SWozwOU",
        "outputId": "3b796626-921c-42ae-a250-7b613bdcfb50"
      },
      "outputs": [
        {
          "data": {
            "text/plain": [
              "<matplotlib.collections.PathCollection at 0x7f37b7687e90>"
            ]
          },
          "execution_count": 23,
          "metadata": {},
          "output_type": "execute_result"
        },
        {
          "data": {
            "image/png": "[encoded data removed]",
            "text/plain": [
              "<Figure size 432x288 with 1 Axes>"
            ]
          },
          "metadata": {
            "needs_background": "light"
          },
          "output_type": "display_data"
        }
      ],
      "source": [
        "# visualized as a line\n",
        "x = np.linspace(-2, 5, 100)\n",
        "y = - W[0] /  W[1] * x + (0.5 - b) / W[1]\n",
        "plt.plot(x, y, \"-r\")\n",
        "plt.scatter(inputs[:, 0], inputs[:, 1], c=predictions[:, 0] > 0.5)"
      ]
    },
    {
      "cell_type": "markdown",
      "metadata": {
        "id": "499JPiN81jPH"
      },
      "source": [
        "## 3.6 Anatomy of a neural network: Understanding core Keras API"
      ]
    },
    {
      "cell_type": "markdown",
      "metadata": {
        "id": "8DRjFvhF142k"
      },
      "source": [
        "- training a neural network revolves around the following objects:\n",
        "  - Layers, which are combined into a network (or model)\n",
        "  - The input data and corresponding targets\n",
        "  - The loss function, which defines the feedback signal used for learning\n",
        "  - The optimizer, which determines how learning proceeds"
      ]
    },
    {
      "cell_type": "markdown",
      "metadata": {
        "id": "3NKwtaEv2Sa3"
      },
      "source": [
        "### 3.6.1 Layers: the building blocks of deep learning"
      ]
    },
    {
      "cell_type": "markdown",
      "metadata": {
        "id": "1eNfpoy62cp0"
      },
      "source": [
        "- Layer\n",
        "  - a data processing module that takes as input one or more tensors and that outputs one or more tensors\n",
        "  - can be stateless or have a state\n",
        "  - state\n",
        "    - layer’s weights\n",
        "    - one or several tensors learned with stochastic gradient descent\n",
        "      - together contain the network’s knowledge\n",
        "  - Types of layers\n",
        "  - Vector data, rank-2 tensors\n",
        "    - densely connected layers\n",
        "  - Sequence data, rank-3 tensors\n",
        "    - recurrent layers,\n",
        "  - Image data, rank-4 tensors\n",
        "    - 2D convolution layers"
      ]
    },
    {
      "cell_type": "markdown",
      "metadata": {
        "id": "hflQvbIE4CkS"
      },
      "source": [
        "#### THE BASE LAYER CLASS IN KERAS"
      ]
    },
    {
      "cell_type": "code",
      "execution_count": 24,
      "metadata": {
        "id": "ZGnCQRUe5TfF"
      },
      "outputs": [],
      "source": [
        "# Listing 3.22 A Dense layer implemented as a Layer subclass\n",
        "from tensorflow import keras\n",
        "\n",
        "class SimpleDense(keras.layers.Layer):\n",
        "\n",
        "    def __init__(self, units, activation=None):\n",
        "        super().__init__()\n",
        "        self.units = units\n",
        "        self.activation = activation\n",
        "\n",
        "    def build(self, input_shape):\n",
        "        input_dim = input_shape[-1]\n",
        "        self.W = self.add_weight(shape=(input_dim, self.units),\n",
        "                                 initializer=\"random_normal\")\n",
        "        self.b = self.add_weight(shape=(self.units,),\n",
        "                                 initializer=\"zeros\")\n",
        "\n",
        "    def call(self, inputs):\n",
        "        y = tf.matmul(inputs, self.W) + self.b\n",
        "        if self.activation is not None:\n",
        "            y = self.activation(y)\n",
        "        return y"
      ]
    },
    {
      "cell_type": "code",
      "execution_count": 25,
      "metadata": {
        "colab": {
          "base_uri": "https://localhost:8080/"
        },
        "id": "J7c2BoSV592w",
        "outputId": "c74f0220-17ea-4d1e-e2ba-de8f1c6b2c60"
      },
      "outputs": [
        {
          "name": "stdout",
          "output_type": "stream",
          "text": [
            "(2, 32)\n"
          ]
        }
      ],
      "source": [
        "my_dense = SimpleDense(units=32, activation=tf.nn.relu)\n",
        "input_tensor = tf.ones(shape=(2, 784))\n",
        "output_tensor = my_dense(input_tensor)\n",
        "print(output_tensor.shape)"
      ]
    },
    {
      "cell_type": "markdown",
      "metadata": {
        "id": "9NpamSLl6axm"
      },
      "source": [
        "#### AUTOMATIC SHAPE INFERENCE: BUILDING LAYERS ON THE FLY"
      ]
    },
    {
      "cell_type": "code",
      "execution_count": 26,
      "metadata": {
        "id": "W3VHIqSc6b-J"
      },
      "outputs": [],
      "source": [
        "# A dense layer with 32 output units\n",
        "from tensorflow.keras import layers\n",
        "layer = layers.Dense(32, activation=\"relu\")"
      ]
    },
    {
      "cell_type": "code",
      "execution_count": 27,
      "metadata": {
        "id": "pmR-8Vze62XR"
      },
      "outputs": [],
      "source": [
        "# Multiple layers\n",
        "from tensorflow.keras import models\n",
        "from tensorflow.keras import layers\n",
        "model = models.Sequential([\n",
        "    layers.Dense(32, activation=\"relu\"),\n",
        "    layers.Dense(32)\n",
        "])"
      ]
    },
    {
      "cell_type": "code",
      "execution_count": 28,
      "metadata": {
        "colab": {
          "base_uri": "https://localhost:8080/",
          "height": 53
        },
        "id": "wSRrDUy_7Ev6",
        "outputId": "226729d3-f726-4271-901f-9a5d23262ac3"
      },
      "outputs": [
        {
          "data": {
            "application/vnd.google.colaboratory.intrinsic+json": {
              "type": "string"
            },
            "text/plain": [
              "'\\nmodel = NaiveSequential([\\n  NaiveDense(input_size=784, output_size=32, activation=\"relu\"),\\n  NaiveDense(input_size=32, output_size=64, activation=\"relu\"),\\n  NaiveDense(input_size=64, output_size=32, activation=\"relu\"),\\n  NaiveDense(input_size=32, output_size=10, activation=\"softmax\")\\n])\\n'"
            ]
          },
          "execution_count": 28,
          "metadata": {},
          "output_type": "execute_result"
        }
      ],
      "source": [
        "# we dont specify input shape if so we need to define for every layer as follows\n",
        "'''\n",
        "model = NaiveSequential([\n",
        "  NaiveDense(input_size=784, output_size=32, activation=\"relu\"),\n",
        "  NaiveDense(input_size=32, output_size=64, activation=\"relu\"),\n",
        "  NaiveDense(input_size=64, output_size=32, activation=\"relu\"),\n",
        "  NaiveDense(input_size=32, output_size=10, activation=\"softmax\")\n",
        "])\n",
        "'''"
      ]
    },
    {
      "cell_type": "code",
      "execution_count": 29,
      "metadata": {
        "colab": {
          "base_uri": "https://localhost:8080/",
          "height": 35
        },
        "id": "AQWHfvmc7r6A",
        "outputId": "d630a673-91bc-41f8-c9ce-3cd50b01cc87"
      },
      "outputs": [
        {
          "data": {
            "application/vnd.google.colaboratory.intrinsic+json": {
              "type": "string"
            },
            "text/plain": [
              "'\\ndef __call__(self, inputs):\\n  if not self.built:\\n    self.build(inputs.shape)\\n    self.built = True\\n  return self.call(inputs)\\n'"
            ]
          },
          "execution_count": 29,
          "metadata": {},
          "output_type": "execute_result"
        }
      ],
      "source": [
        "#  __call__() method of the base layer\n",
        "'''\n",
        "def __call__(self, inputs):\n",
        "  if not self.built:\n",
        "    self.build(inputs.shape)\n",
        "    self.built = True\n",
        "  return self.call(inputs)\n",
        "'''"
      ]
    },
    {
      "cell_type": "code",
      "execution_count": 30,
      "metadata": {
        "colab": {
          "base_uri": "https://localhost:8080/",
          "height": 53
        },
        "id": "-pPXHKWB8CkI",
        "outputId": "9d407449-75a9-4784-e23b-fcd66005ec2f"
      },
      "outputs": [
        {
          "data": {
            "application/vnd.google.colaboratory.intrinsic+json": {
              "type": "string"
            },
            "text/plain": [
              "'\\nmodel = keras.Sequential([\\n    SimpleDense(32, activation=\"relu\"),\\n    SimpleDense(64, activation=\"relu\"),\\n    SimpleDense(32, activation=\"relu\"),\\n    SimpleDense(10, activation=\"softmax\")\\n])\\n'"
            ]
          },
          "execution_count": 30,
          "metadata": {},
          "output_type": "execute_result"
        }
      ],
      "source": [
        "# not defining input shape models become\n",
        "'''\n",
        "model = keras.Sequential([\n",
        "    SimpleDense(32, activation=\"relu\"),\n",
        "    SimpleDense(64, activation=\"relu\"),\n",
        "    SimpleDense(32, activation=\"relu\"),\n",
        "    SimpleDense(10, activation=\"softmax\")\n",
        "])\n",
        "'''"
      ]
    },
    {
      "cell_type": "markdown",
      "metadata": {
        "id": "1tgfLI1E8ROs"
      },
      "source": [
        "### 3.6.2 From layers to models"
      ]
    },
    {
      "cell_type": "markdown",
      "metadata": {
        "id": "jLgE7jsT8THj"
      },
      "source": [
        "- A deep learning model is a graph of layers\n",
        "- network topologies\n",
        "  - Two-branch networks\n",
        "  - Multihead networks\n",
        "  - Residual connections\n",
        "- The topology of a model defines a hypothesis space\n"
      ]
    },
    {
      "cell_type": "markdown",
      "metadata": {
        "id": "AZ4gmrIL9swk"
      },
      "source": [
        "### 3.6.3 The “compile” step: Configuring the learning process"
      ]
    },
    {
      "cell_type": "markdown",
      "metadata": {
        "id": "Bm8Vj2vKBQwR"
      },
      "source": []
    },
    {
      "cell_type": "markdown",
      "metadata": {
        "id": "AQt8ZC2eBS4v"
      },
      "source": [
        "- Loss function (objective function)\n",
        "  - The quantity that will be minimized during training. It represents a measure of success for the task at hand.\n",
        "- Optimizer\n",
        "  - Determines how the network will be updated based on the loss function. It implements a specific variant of stochastic gradient descent (SGD).\n",
        "- Metrics\n",
        "  - The measures of success you want to monitor during training and validation, such as classification accuracy. Unlike the loss, training will not optimize directly for these metrics. As such, metrics don’t need to be differentiable.\n",
        "-  compile() and fit() methods to start training your model\n",
        "- The compile() method configures the training process It takes the arguments optimizer , loss , and metrics"
      ]
    },
    {
      "cell_type": "code",
      "execution_count": 31,
      "metadata": {
        "id": "WYAWso-mEeEK"
      },
      "outputs": [],
      "source": [
        "model = keras.Sequential([keras.layers.Dense(1)])\n",
        "model.compile(\n",
        "    optimizer=\"rmsprop\",\n",
        "    loss=\"mean_squared_error\",\n",
        "    metrics=[\"accuracy\"])"
      ]
    },
    {
      "cell_type": "code",
      "execution_count": 32,
      "metadata": {
        "colab": {
          "base_uri": "https://localhost:8080/",
          "height": 35
        },
        "id": "V5qRij2TB-GR",
        "outputId": "84d2b5fd-e62e-4b1a-864f-97adb8943fd4"
      },
      "outputs": [
        {
          "data": {
            "application/vnd.google.colaboratory.intrinsic+json": {
              "type": "string"
            },
            "text/plain": [
              "'\\nmodel.compile(\\n  optimizer=keras.optimizers.RMSprop(learning_rate=1e-4),\\n  loss=my_custom_loss,\\n  metrics=[my_custom_metric_1, my_custom_metric_2])\\n'"
            ]
          },
          "execution_count": 32,
          "metadata": {},
          "output_type": "execute_result"
        }
      ],
      "source": [
        "# Compilation\n",
        "'''\n",
        "model = keras.Sequential([keras.layers.Dense(1)])\n",
        "model.compile(\n",
        "  optimizer=\"rmsprop\",\n",
        "  loss=\"mean_squared_error\",\n",
        "  metrics=[\"accuracy\"])\n",
        "'''\n",
        "# or\n",
        "'''\n",
        "model.compile(\n",
        "  optimizer=keras.optimizers.RMSprop(),\n",
        "  loss=keras.losses.MeanSquaredError(),\n",
        "  metrics=[keras.metrics.BinaryAccuracy()])\n",
        "'''\n",
        "# Or\n",
        "'''\n",
        "model.compile(\n",
        "  optimizer=keras.optimizers.RMSprop(learning_rate=1e-4),\n",
        "  loss=my_custom_loss,\n",
        "  metrics=[my_custom_metric_1, my_custom_metric_2])\n",
        "'''"
      ]
    },
    {
      "cell_type": "markdown",
      "metadata": {
        "id": "u9xmrDZOCf5-"
      },
      "source": [
        "- Optimizers\n",
        "  - SGD\n",
        "  - RMSprop\n",
        "  - Adam\n",
        "  - Adagrad\n",
        "- Losses\n",
        "  - CategoricalCrossentropy\n",
        "  - SparseCategoricalCrossentropy\n",
        "  - BinaryCrossentropy\n",
        "  - MeanSquaredError\n",
        "  - KLDivergence\n",
        "  - CosineSimilarity\n",
        "- Metrics\n",
        "  - CategoricalAccuracy\n",
        "  - SparseCategoricalAccuracy\n",
        "  - BinaryAccuracy\n",
        "  - AUC\n",
        "  - Precision\n",
        "  - Recall"
      ]
    },
    {
      "cell_type": "markdown",
      "metadata": {
        "id": "EBqFQQE_DCi4"
      },
      "source": [
        "### 3.6.4 Picking a loss function"
      ]
    },
    {
      "cell_type": "markdown",
      "metadata": {
        "id": "4j_S659FDI3G"
      },
      "source": [
        "- binary crossentropy\n",
        "  - a two-class classification problem\n",
        "- categorical crossentropy \n",
        "  - many-class classification problem"
      ]
    },
    {
      "cell_type": "markdown",
      "metadata": {
        "id": "hgdcbVgoDv29"
      },
      "source": [
        "### 3.6.5 Understanding the fit() method"
      ]
    },
    {
      "cell_type": "markdown",
      "metadata": {
        "id": "XhAAj62oDxa9"
      },
      "source": [
        "- implements the training loop itself\n",
        "  - The data (inputs and targets) to train on. It will typically be passed either in the form of NumPy arrays or a TensorFlow Dataset object.\n",
        "  - The number of epochs to train for: how many times the training loop should iterate over the data passed.\n",
        "  - The batch size to use within each epoch of mini-batch gradient descent"
      ]
    },
    {
      "cell_type": "code",
      "execution_count": 33,
      "metadata": {
        "colab": {
          "base_uri": "https://localhost:8080/"
        },
        "id": "orrPLyQpEJ7U",
        "outputId": "c2ee112a-fb19-41b4-b577-da818a1b5a7c"
      },
      "outputs": [
        {
          "name": "stdout",
          "output_type": "stream",
          "text": [
            "Epoch 1/5\n",
            "16/16 [==============================] - 0s 3ms/step - loss: 5.5561 - accuracy: 0.4495\n",
            "Epoch 2/5\n",
            "16/16 [==============================] - 0s 2ms/step - loss: 5.2476 - accuracy: 0.4460\n",
            "Epoch 3/5\n",
            "16/16 [==============================] - 0s 1ms/step - loss: 4.9904 - accuracy: 0.4410\n",
            "Epoch 4/5\n",
            "16/16 [==============================] - 0s 2ms/step - loss: 4.7527 - accuracy: 0.4350\n",
            "Epoch 5/5\n",
            "16/16 [==============================] - 0s 2ms/step - loss: 4.5244 - accuracy: 0.4285\n"
          ]
        }
      ],
      "source": [
        "# Listing 3.23 Calling fit() with NumPy data\n",
        "history = model.fit(\n",
        "    inputs,\n",
        "    targets,\n",
        "    epochs=5,\n",
        "    batch_size=128\n",
        ")"
      ]
    },
    {
      "cell_type": "code",
      "execution_count": 34,
      "metadata": {
        "colab": {
          "base_uri": "https://localhost:8080/"
        },
        "id": "RVaM-HkdE7I8",
        "outputId": "64a430e8-b3a1-4698-c5f7-db1b7b9b641d"
      },
      "outputs": [
        {
          "data": {
            "text/plain": [
              "{'accuracy': [0.4494999945163727,\n",
              "  0.44600000977516174,\n",
              "  0.4410000145435333,\n",
              "  0.4350000023841858,\n",
              "  0.4284999966621399],\n",
              " 'loss': [5.556097507476807,\n",
              "  5.247644901275635,\n",
              "  4.990372180938721,\n",
              "  4.752741813659668,\n",
              "  4.524419784545898]}"
            ]
          },
          "execution_count": 34,
          "metadata": {},
          "output_type": "execute_result"
        }
      ],
      "source": [
        "history.history"
      ]
    },
    {
      "cell_type": "markdown",
      "metadata": {
        "id": "_M7yqlILFBEV"
      },
      "source": [
        "### 3.6.6 Monitoring loss and metrics on validation data"
      ]
    },
    {
      "cell_type": "markdown",
      "metadata": {
        "id": "ocAmBTPZFGA8"
      },
      "source": [
        "- Goal of machine learning is to obtain \n",
        "  - models that perform well on the training data\n",
        "  - models that perform well in general\n",
        "  - models that perform well on data points that the model has never encountered before."
      ]
    },
    {
      "cell_type": "code",
      "execution_count": 35,
      "metadata": {
        "colab": {
          "base_uri": "https://localhost:8080/"
        },
        "id": "1m_iNf9VFFmI",
        "outputId": "4963e1b0-245e-409f-aacd-126f9c087e3c"
      },
      "outputs": [
        {
          "name": "stdout",
          "output_type": "stream",
          "text": [
            "Epoch 1/5\n",
            "88/88 [==============================] - 1s 4ms/step - loss: 0.1817 - binary_accuracy: 0.9579 - val_loss: 0.0305 - val_binary_accuracy: 0.9950\n",
            "Epoch 2/5\n",
            "88/88 [==============================] - 0s 2ms/step - loss: 0.0735 - binary_accuracy: 0.9593 - val_loss: 0.1536 - val_binary_accuracy: 0.9467\n",
            "Epoch 3/5\n",
            "88/88 [==============================] - 0s 2ms/step - loss: 0.0667 - binary_accuracy: 0.9650 - val_loss: 0.1131 - val_binary_accuracy: 0.9533\n",
            "Epoch 4/5\n",
            "88/88 [==============================] - 0s 2ms/step - loss: 0.0780 - binary_accuracy: 0.9586 - val_loss: 0.0306 - val_binary_accuracy: 0.9967\n",
            "Epoch 5/5\n",
            "88/88 [==============================] - 0s 2ms/step - loss: 0.0736 - binary_accuracy: 0.9529 - val_loss: 0.0469 - val_binary_accuracy: 1.0000\n"
          ]
        },
        {
          "data": {
            "text/plain": [
              "<keras.callbacks.History at 0x7f37b74f3f10>"
            ]
          },
          "execution_count": 35,
          "metadata": {},
          "output_type": "execute_result"
        }
      ],
      "source": [
        "# Listing 3.24 Using the validation_data argument\n",
        "model = keras.Sequential([keras.layers.Dense(1)])\n",
        "model.compile(optimizer=keras.optimizers.RMSprop(learning_rate=0.1),\n",
        "              loss=keras.losses.MeanSquaredError(),\n",
        "              metrics=[keras.metrics.BinaryAccuracy()])\n",
        "\n",
        "indices_permutation = np.random.permutation(len(inputs))\n",
        "shuffled_inputs = inputs[indices_permutation]\n",
        "shuffled_targets = targets[indices_permutation]\n",
        "\n",
        "num_validation_samples = int(0.3 * len(inputs))\n",
        "val_inputs = shuffled_inputs[:num_validation_samples]\n",
        "val_targets = shuffled_targets[:num_validation_samples]\n",
        "training_inputs = shuffled_inputs[num_validation_samples:]\n",
        "training_targets = shuffled_targets[num_validation_samples:]\n",
        "model.fit(\n",
        "    training_inputs,\n",
        "    training_targets,\n",
        "    epochs=5,\n",
        "    batch_size=16,\n",
        "    validation_data=(val_inputs, val_targets)\n",
        ")"
      ]
    },
    {
      "cell_type": "code",
      "execution_count": 36,
      "metadata": {
        "colab": {
          "base_uri": "https://localhost:8080/"
        },
        "id": "-7lIHhjGG8Vv",
        "outputId": "121de6af-4bee-4d7a-e5ea-e87afa126596"
      },
      "outputs": [
        {
          "name": "stdout",
          "output_type": "stream",
          "text": [
            "5/5 [==============================] - 0s 2ms/step - loss: 0.0469 - binary_accuracy: 1.0000\n"
          ]
        }
      ],
      "source": [
        "# compute the validation loss and metrics\n",
        "loss_and_metrics = model.evaluate(val_inputs, val_targets, batch_size=128)"
      ]
    },
    {
      "cell_type": "markdown",
      "metadata": {
        "id": "ZBGPnOeuHMV8"
      },
      "source": [
        "### 3.6.7 Inference: Using a model after training"
      ]
    },
    {
      "cell_type": "code",
      "execution_count": 37,
      "metadata": {
        "colab": {
          "base_uri": "https://localhost:8080/"
        },
        "id": "bXHhWQBLHZia",
        "outputId": "821da00b-d518-4df1-850f-39ddebd146bd"
      },
      "outputs": [
        {
          "name": "stdout",
          "output_type": "stream",
          "text": [
            "[[0.22638872]\n",
            " [0.05863735]\n",
            " [0.8692137 ]\n",
            " [0.12290782]\n",
            " [1.0055432 ]\n",
            " [0.66214746]\n",
            " [0.17730835]\n",
            " [0.11579832]\n",
            " [0.7149893 ]\n",
            " [0.7100884 ]]\n"
          ]
        }
      ],
      "source": [
        "predictions = model.predict(val_inputs)\n",
        "print(predictions[:10])"
      ]
    },
    {
      "cell_type": "code",
      "execution_count": 38,
      "metadata": {
        "colab": {
          "base_uri": "https://localhost:8080/"
        },
        "id": "BlSDj1vRHaZ9",
        "outputId": "b962c47b-17a0-4779-8604-406523b24628"
      },
      "outputs": [
        {
          "name": "stdout",
          "output_type": "stream",
          "text": [
            "[[0.22638872]\n",
            " [0.05863735]\n",
            " [0.8692137 ]\n",
            " [0.12290782]\n",
            " [1.0055432 ]\n",
            " [0.66214746]\n",
            " [0.17730835]\n",
            " [0.11579832]\n",
            " [0.7149893 ]\n",
            " [0.7100884 ]]\n"
          ]
        }
      ],
      "source": [
        "predictions = model.predict(val_inputs, batch_size=128)\n",
        "print(predictions[:10])"
      ]
    },
    {
      "cell_type": "markdown",
      "metadata": {
        "id": "RR0iFi1PHQPx"
      },
      "source": [
        "## Summary"
      ]
    },
    {
      "cell_type": "markdown",
      "metadata": {
        "id": "S2gj9HTSH3Hl"
      },
      "source": [
        "- TensorFlow is an industry-strength numerical computing framework that can run on CPU, GPU, or TPU. It can automatically compute the gradient of any differentiable expression, it can be distributed to many devices, and it can export programs to various external runtimes—even JavaScript.\n",
        "- Keras is the standard API for doing deep learning with TensorFlow.\n",
        "- Key TensorFlow objects include tensors, variables, tensor operations, and the gradient tape.\n",
        "- The central class of Keras is the Layer . A layer encapsulates some weights and some computation. Layers are assembled into models.\n",
        "- Before you start training a model, you need to pick an optimizer, a loss, and some metrics, which you specify via the model.compile() method.\n",
        "- To train a model, you can use the fit() method, which runs mini-batch gradient descent for you. You can also use it to monitor your loss and metrics on validation data, a set of inputs that the model doesn’t see during training.\n",
        "- Once your model is trained, you use the model.predict() method to generate predictions on new inputs."
      ]
    },
    {
      "cell_type": "markdown",
      "metadata": {
        "id": "z3gaUxa-IWtW"
      },
      "source": [
        "### END"
      ]
    }
  ],
  "metadata": {
    "accelerator": "TPU",
    "colab": {
      "collapsed_sections": [],
      "name": "3.ipynb",
      "provenance": []
    },
    "kernelspec": {
      "display_name": "Python 3",
      "name": "python3"
    },
    "language_info": {
      "name": "python"
    }
  },
  "nbformat": 4,
  "nbformat_minor": 0
}
