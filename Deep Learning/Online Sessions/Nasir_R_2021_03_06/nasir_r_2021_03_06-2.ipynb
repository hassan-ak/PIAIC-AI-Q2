{
  "cells": [
    {
      "cell_type": "markdown",
      "metadata": {},
      "source": [
        "# Deep Learning - Nasir Hussain - 2021/03/06"
      ]
    },
    {
      "cell_type": "markdown",
      "metadata": {
        "id": "cNWhMhEYrSCe"
      },
      "source": [
        "# 4 Getting started with neural networks: Classification and regression"
      ]
    },
    {
      "cell_type": "markdown",
      "metadata": {
        "id": "0Jt5alYmrPha"
      },
      "source": [
        "## 4.2 Classifying newswires: A multiclass classification example"
      ]
    },
    {
      "cell_type": "markdown",
      "metadata": {
        "id": "2ZDRSuzerPc8"
      },
      "source": [
        "- multiclass classification\n",
        "  - single-label multiclass classification\n",
        "    - each input sample should be categorized into more than two categories\n",
        "  - multi-label multiclass classification\n",
        "    - each input sample can be assigned multiple labels  \n"
      ]
    },
    {
      "cell_type": "markdown",
      "metadata": {
        "id": "bu3jB4W1rPZk"
      },
      "source": [
        "### 4.2.1 The Reuters dataset"
      ]
    },
    {
      "cell_type": "markdown",
      "metadata": {
        "id": "oX_GuSjYrPWW"
      },
      "source": [
        "- Reuters dataset\n",
        "  - set of short newswires and their topics\n",
        "  - used for test classification\n",
        "  - 46 topics\n",
        "    - atleast 10 examples"
      ]
    },
    {
      "cell_type": "code",
      "execution_count": 1,
      "metadata": {
        "id": "JlDUSoibrNuJ"
      },
      "outputs": [],
      "source": [
        "# Listing 4.11 Loading the Reuters dataset\n",
        "from tensorflow.keras.datasets import reuters\n",
        "(train_data, train_labels), (test_data, test_labels) = reuters.load_data(num_words=10000)\n"
      ]
    },
    {
      "cell_type": "markdown",
      "metadata": {
        "id": "klbuW1MRvGDR"
      },
      "source": [
        "- num_words=10000 \n",
        "  - restricts the data to the 10,000 most frequently occurring words"
      ]
    },
    {
      "cell_type": "code",
      "execution_count": 2,
      "metadata": {
        "colab": {
          "base_uri": "https://localhost:8080/"
        },
        "id": "z5rW6DQXvgjl",
        "outputId": "85e403f8-9d48-4b1c-8ad5-099b5172bd26"
      },
      "outputs": [
        {
          "name": "stdout",
          "output_type": "stream",
          "text": [
            "Shape of training data :  (8982,)\n",
            "Shape of training labels :  (8982,)\n",
            "Shape of testing data :  (2246,)\n",
            "Shape of training labels :  (2246,)\n"
          ]
        }
      ],
      "source": [
        "# shape of data\n",
        "print(\"Shape of training data : \",train_data.shape)\n",
        "print(\"Shape of training labels : \",train_labels.shape)\n",
        "print(\"Shape of testing data : \",test_data.shape)\n",
        "print(\"Shape of training labels : \",test_labels.shape)"
      ]
    },
    {
      "cell_type": "markdown",
      "metadata": {
        "id": "sy_4QRXCv-hI"
      },
      "source": [
        "- training data is of length 8982\n",
        "- test data is of length 2246\n"
      ]
    },
    {
      "cell_type": "code",
      "execution_count": 3,
      "metadata": {
        "colab": {
          "base_uri": "https://localhost:8080/"
        },
        "id": "H9THuXeEwS8T",
        "outputId": "ad891549-9f9f-4e06-d8f0-104082397a29"
      },
      "outputs": [
        {
          "name": "stdout",
          "output_type": "stream",
          "text": [
            "1st news from training data :  [1, 2, 2, 8, 43, 10, 447, 5, 25, 207, 270, 5, 3095, 111, 16, 369, 186, 90, 67, 7, 89, 5, 19, 102, 6, 19, 124, 15, 90, 67, 84, 22, 482, 26, 7, 48, 4, 49, 8, 864, 39, 209, 154, 6, 151, 6, 83, 11, 15, 22, 155, 11, 15, 7, 48, 9, 4579, 1005, 504, 6, 258, 6, 272, 11, 15, 22, 134, 44, 11, 15, 16, 8, 197, 1245, 90, 67, 52, 29, 209, 30, 32, 132, 6, 109, 15, 17, 12]\n",
            "1st label from training data :  3\n",
            "1st news from testing data :  [1, 4, 1378, 2025, 9, 697, 4622, 111, 8, 25, 109, 29, 3650, 11, 150, 244, 364, 33, 30, 30, 1398, 333, 6, 2, 159, 9, 1084, 363, 13, 2, 71, 9, 2, 71, 117, 4, 225, 78, 206, 10, 9, 1214, 8, 4, 270, 5, 2, 7, 748, 48, 9, 2, 7, 207, 1451, 966, 1864, 793, 97, 133, 336, 7, 4, 493, 98, 273, 104, 284, 25, 39, 338, 22, 905, 220, 3465, 644, 59, 20, 6, 119, 61, 11, 15, 58, 579, 26, 10, 67, 7, 4, 738, 98, 43, 88, 333, 722, 12, 20, 6, 19, 746, 35, 15, 10, 9, 1214, 855, 129, 783, 21, 4, 2280, 244, 364, 51, 16, 299, 452, 16, 515, 4, 99, 29, 5, 4, 364, 281, 48, 10, 9, 1214, 23, 644, 47, 20, 324, 27, 56, 2, 2, 5, 192, 510, 17, 12]\n",
            "1st label from testing data :  3\n",
            "Unique labels :  [ 0  1  2  3  4  5  6  7  8  9 10 11 12 13 14 15 16 17 18 19 20 21 22 23\n",
            " 24 25 26 27 28 29 30 31 32 33 34 35 36 37 38 39 40 41 42 43 44 45]\n"
          ]
        }
      ],
      "source": [
        "# samples of data\n",
        "import numpy as np\n",
        "print(\"1st news from training data : \",train_data[0])\n",
        "print(\"1st label from training data : \",train_labels[0])\n",
        "print(\"1st news from testing data : \",test_data[0])\n",
        "print(\"1st label from testing data : \",test_labels[0])\n",
        "print(\"Unique labels : \",np.unique(train_labels))"
      ]
    },
    {
      "cell_type": "code",
      "execution_count": 4,
      "metadata": {
        "colab": {
          "base_uri": "https://localhost:8080/"
        },
        "id": "R_NzMuGnwsrh",
        "outputId": "d25700f5-c027-4196-a46a-da1e62e718d5"
      },
      "outputs": [
        {
          "name": "stdout",
          "output_type": "stream",
          "text": [
            "Maximum number in any sequence :  9999\n"
          ]
        }
      ],
      "source": [
        "# find max value from sequence\n",
        "print(\"Maximum number in any sequence : \",max([max(sequence) for sequence in train_data]))"
      ]
    },
    {
      "cell_type": "code",
      "execution_count": 5,
      "metadata": {
        "colab": {
          "base_uri": "https://localhost:8080/"
        },
        "id": "6O8N3KH8w0Zd",
        "outputId": "368ec61e-aeed-4eef-fbc5-7ab64c2de5ce"
      },
      "outputs": [
        {
          "name": "stdout",
          "output_type": "stream",
          "text": [
            "1st news from training data :  ? ? ? said as a result of its december acquisition of space co it expects earnings per share in 1987 of 1 15 to 1 30 dlrs per share up from 70 cts in 1986 the company said pretax net should rise to nine to 10 mln dlrs from six mln dlrs in 1986 and rental operation revenues to 19 to 22 mln dlrs from 12 5 mln dlrs it said cash flow per share this year should be 2 50 to three dlrs reuter 3\n"
          ]
        }
      ],
      "source": [
        "# Listing 4.12 Decoding newswires back to text\n",
        "# load word index\n",
        "word_index = reuters.get_word_index()\n",
        "# reverse the dic so numbers come first and then word\n",
        "reverse_word_index = dict([(value, key) for (key, value) in word_index.items()])\n",
        "# 0, 1, and 2 are reserved indices for “padding,” “start of sequence,” and “unknown.”\n",
        "decoded_newswire = \" \".join([reverse_word_index.get(i - 3, \"?\") for i in train_data[0]])\n",
        "print(\"1st news from training data : \",decoded_newswire)"
      ]
    },
    {
      "cell_type": "markdown",
      "metadata": {
        "id": "uSukuX4ovKuz"
      },
      "source": [
        "### 4.2.2 Preparing the data"
      ]
    },
    {
      "cell_type": "markdown",
      "metadata": {
        "id": "9LnOmaspyH7B"
      },
      "source": [
        "- as we set the max number of words to 10000, so it is necessary to have all the data of same size\n",
        "  - vectorize the data to do so"
      ]
    },
    {
      "cell_type": "code",
      "execution_count": 6,
      "metadata": {
        "id": "H4EiClyiyeiZ"
      },
      "outputs": [],
      "source": [
        "# Listing 4.13 Encoding the input data\n",
        "import numpy as np \n",
        "def vectorize_sequences(sequences, dimension=10000):\n",
        "  results = np.zeros((len(sequences), dimension))\n",
        "  for i, sequence in enumerate(sequences):\n",
        "    for j in sequence:\n",
        "      results[i, j] = 1.\n",
        "  return results\n",
        "x_train = vectorize_sequences(train_data)\n",
        "x_test = vectorize_sequences(test_data) "
      ]
    },
    {
      "cell_type": "markdown",
      "metadata": {
        "id": "986_PRRhx_wp"
      },
      "source": [
        "- vectorize the labels\n",
        "  - cast the label list as an integer tensor\n",
        "  - one-hot encoding / categorical encoding\n",
        "    - embedding each label as an allzero vector with a 1 in the place of the label index.\n"
      ]
    },
    {
      "cell_type": "code",
      "execution_count": 7,
      "metadata": {
        "id": "jaQqXtD91QmV"
      },
      "outputs": [],
      "source": [
        "# Listing 4.14 Encoding the labels\n",
        "def to_one_hot(labels, dimension=np.unique(train_labels).size):\n",
        "  results = np.zeros((len(labels), dimension))\n",
        "  for i, label in enumerate(labels):\n",
        "    results[i, label] = 1.\n",
        "  return results\n",
        "y_train = to_one_hot(train_labels)\n",
        "y_test = to_one_hot(test_labels)"
      ]
    },
    {
      "cell_type": "markdown",
      "metadata": {
        "id": "YdKGbsZh2u9U"
      },
      "source": [
        "- built in method for one hot encoding\n",
        "  ```.ipynb\n",
        "  from tensorflow.keras.utils import to_categorical\n",
        "  y_train = to_categorical(train_labels)\n",
        "  y_test = to_categorical(test_labels)\n",
        "  ```"
      ]
    },
    {
      "cell_type": "code",
      "execution_count": 8,
      "metadata": {
        "colab": {
          "base_uri": "https://localhost:8080/"
        },
        "id": "Bc51X0Yi1uRm",
        "outputId": "b36fb706-4b50-4dbe-b2a2-a6729a934933"
      },
      "outputs": [
        {
          "name": "stdout",
          "output_type": "stream",
          "text": [
            "1st news from training data after vectorization :  [0. 1. 1. ... 0. 0. 0.]\n",
            "1st label from training data after vectorization:  [0. 0. 0. 1. 0. 0. 0. 0. 0. 0. 0. 0. 0. 0. 0. 0. 0. 0. 0. 0. 0. 0. 0. 0.\n",
            " 0. 0. 0. 0. 0. 0. 0. 0. 0. 0. 0. 0. 0. 0. 0. 0. 0. 0. 0. 0. 0. 0.]\n",
            "1st news from testing data after vectorization:  [0. 1. 1. ... 0. 0. 0.]\n",
            "1st label from testing data after vectorization:  [0. 0. 0. 1. 0. 0. 0. 0. 0. 0. 0. 0. 0. 0. 0. 0. 0. 0. 0. 0. 0. 0. 0. 0.\n",
            " 0. 0. 0. 0. 0. 0. 0. 0. 0. 0. 0. 0. 0. 0. 0. 0. 0. 0. 0. 0. 0. 0.]\n"
          ]
        }
      ],
      "source": [
        "# samples of data\n",
        "print(\"1st news from training data after vectorization : \",x_train[0])\n",
        "print(\"1st label from training data after vectorization: \",y_train[0])\n",
        "print(\"1st news from testing data after vectorization: \",x_test[0])\n",
        "print(\"1st label from testing data after vectorization: \",y_test[0])"
      ]
    },
    {
      "cell_type": "markdown",
      "metadata": {
        "id": "TBxAWIlF3D86"
      },
      "source": [
        "### 4.2.3 Building your model"
      ]
    },
    {
      "cell_type": "markdown",
      "metadata": {
        "id": "bvrIeBf3C_ZP"
      },
      "source": [
        "- each layer can only access information present in the output of the previous layer.\n",
        "- if one layer drops some information relevant to the classification problem, this information can never be recovered by later layers\n",
        "- each layer can potentially become an information bottleneck."
      ]
    },
    {
      "cell_type": "code",
      "execution_count": 9,
      "metadata": {
        "id": "MryM-GUlCSGT"
      },
      "outputs": [],
      "source": [
        "# Listing 4.15 Model definition\n",
        "from tensorflow import keras \n",
        "from tensorflow.keras import layers\n",
        "\n",
        "model = keras.Sequential([\n",
        "  layers.Dense(64, activation=\"relu\"),\n",
        "  layers.Dense(64, activation=\"relu\"),\n",
        "  layers.Dense(46, activation=\"softmax\")\n",
        "])"
      ]
    },
    {
      "cell_type": "markdown",
      "metadata": {
        "id": "ZYbFZga3DlVr"
      },
      "source": [
        "- output\n",
        "  - a 46-dimensional vector\n",
        "    - Each entry in this vector (each dimension) will encode a different output class.\n",
        "  - softmax\n",
        "    - output a probability distribution over the 46 different output classes\n",
        "- loss function\n",
        "  - categorical_crossentropy"
      ]
    },
    {
      "cell_type": "code",
      "execution_count": 10,
      "metadata": {
        "id": "t4kLlzNUEMyf"
      },
      "outputs": [],
      "source": [
        "# Listing 4.16 Compiling the model\n",
        "model.compile(\n",
        "    optimizer=\"rmsprop\",\n",
        "    loss=\"categorical_crossentropy\",\n",
        "    metrics=[\"accuracy\"])"
      ]
    },
    {
      "cell_type": "markdown",
      "metadata": {
        "id": "lnHoON1GEMVs"
      },
      "source": [
        "### 4.2.4 Validating your approach"
      ]
    },
    {
      "cell_type": "markdown",
      "metadata": {
        "id": "Xhi3UAsdEgug"
      },
      "source": [
        "- select 1000 samples as validation set"
      ]
    },
    {
      "cell_type": "code",
      "execution_count": 11,
      "metadata": {
        "id": "Cri6UhpaEYRy"
      },
      "outputs": [],
      "source": [
        "# Listing 4.17 Setting aside a validation set\n",
        "x_val = x_train[:1000]\n",
        "partial_x_train = x_train[1000:]\n",
        "y_val = y_train[:1000]\n",
        "partial_y_train = y_train[1000:]"
      ]
    },
    {
      "cell_type": "markdown",
      "metadata": {
        "id": "X9tmwE9ZEk87"
      },
      "source": [
        "- use 20 apoch"
      ]
    },
    {
      "cell_type": "code",
      "execution_count": 12,
      "metadata": {
        "colab": {
          "base_uri": "https://localhost:8080/"
        },
        "id": "NE0myjW2Ese3",
        "outputId": "e7da6a6e-2799-4266-aba2-3a84b053cc32"
      },
      "outputs": [
        {
          "name": "stdout",
          "output_type": "stream",
          "text": [
            "Epoch 1/20\n",
            "16/16 [==============================] - 3s 58ms/step - loss: 2.6159 - accuracy: 0.5361 - val_loss: 1.7125 - val_accuracy: 0.6520\n",
            "Epoch 2/20\n",
            "16/16 [==============================] - 0s 28ms/step - loss: 1.4145 - accuracy: 0.7080 - val_loss: 1.3017 - val_accuracy: 0.7150\n",
            "Epoch 3/20\n",
            "16/16 [==============================] - 0s 22ms/step - loss: 1.0556 - accuracy: 0.7783 - val_loss: 1.1195 - val_accuracy: 0.7560\n",
            "Epoch 4/20\n",
            "16/16 [==============================] - 0s 26ms/step - loss: 0.8371 - accuracy: 0.8207 - val_loss: 1.0352 - val_accuracy: 0.7790\n",
            "Epoch 5/20\n",
            "16/16 [==============================] - 0s 28ms/step - loss: 0.6698 - accuracy: 0.8539 - val_loss: 0.9568 - val_accuracy: 0.7990\n",
            "Epoch 6/20\n",
            "16/16 [==============================] - 1s 34ms/step - loss: 0.5326 - accuracy: 0.8901 - val_loss: 0.9036 - val_accuracy: 0.8100\n",
            "Epoch 7/20\n",
            "16/16 [==============================] - 0s 22ms/step - loss: 0.4263 - accuracy: 0.9112 - val_loss: 0.8920 - val_accuracy: 0.8160\n",
            "Epoch 8/20\n",
            "16/16 [==============================] - 0s 20ms/step - loss: 0.3483 - accuracy: 0.9268 - val_loss: 0.8870 - val_accuracy: 0.8120\n",
            "Epoch 9/20\n",
            "16/16 [==============================] - 0s 17ms/step - loss: 0.2846 - accuracy: 0.9386 - val_loss: 0.9362 - val_accuracy: 0.7970\n",
            "Epoch 10/20\n",
            "16/16 [==============================] - 0s 19ms/step - loss: 0.2454 - accuracy: 0.9440 - val_loss: 0.8956 - val_accuracy: 0.8110\n",
            "Epoch 11/20\n",
            "16/16 [==============================] - 0s 18ms/step - loss: 0.2072 - accuracy: 0.9485 - val_loss: 0.9219 - val_accuracy: 0.8040\n",
            "Epoch 12/20\n",
            "16/16 [==============================] - 0s 17ms/step - loss: 0.1819 - accuracy: 0.9508 - val_loss: 0.9357 - val_accuracy: 0.8100\n",
            "Epoch 13/20\n",
            "16/16 [==============================] - 0s 17ms/step - loss: 0.1626 - accuracy: 0.9536 - val_loss: 0.9739 - val_accuracy: 0.8060\n",
            "Epoch 14/20\n",
            "16/16 [==============================] - 0s 18ms/step - loss: 0.1521 - accuracy: 0.9548 - val_loss: 0.9739 - val_accuracy: 0.8100\n",
            "Epoch 15/20\n",
            "16/16 [==============================] - 0s 19ms/step - loss: 0.1366 - accuracy: 0.9569 - val_loss: 1.0173 - val_accuracy: 0.7970\n",
            "Epoch 16/20\n",
            "16/16 [==============================] - 0s 19ms/step - loss: 0.1307 - accuracy: 0.9567 - val_loss: 0.9918 - val_accuracy: 0.8000\n",
            "Epoch 17/20\n",
            "16/16 [==============================] - 0s 17ms/step - loss: 0.1256 - accuracy: 0.9570 - val_loss: 1.0616 - val_accuracy: 0.8040\n",
            "Epoch 18/20\n",
            "16/16 [==============================] - 0s 17ms/step - loss: 0.1200 - accuracy: 0.9568 - val_loss: 1.0740 - val_accuracy: 0.8030\n",
            "Epoch 19/20\n",
            "16/16 [==============================] - 0s 18ms/step - loss: 0.1126 - accuracy: 0.9568 - val_loss: 1.0928 - val_accuracy: 0.8020\n",
            "Epoch 20/20\n",
            "16/16 [==============================] - 0s 22ms/step - loss: 0.1130 - accuracy: 0.9548 - val_loss: 1.0874 - val_accuracy: 0.7990\n"
          ]
        }
      ],
      "source": [
        "# Listing 4.18 Training the model\n",
        "history = model.fit(\n",
        "    partial_x_train,\n",
        "    partial_y_train,\n",
        "    epochs=20,\n",
        "    batch_size=512,\n",
        "    validation_data=(x_val, y_val))"
      ]
    },
    {
      "cell_type": "code",
      "execution_count": 13,
      "metadata": {
        "colab": {
          "base_uri": "https://localhost:8080/"
        },
        "id": "XFtCVaXfEscC",
        "outputId": "86ce38e8-eda3-455f-fa25-0c1fa5e2545c"
      },
      "outputs": [
        {
          "name": "stdout",
          "output_type": "stream",
          "text": [
            "History of model fitting : \n",
            "{'loss': [2.615912437438965, 1.414499282836914, 1.0555920600891113, 0.8371384739875793, 0.6697941422462463, 0.5326083302497864, 0.42627617716789246, 0.34830474853515625, 0.284557580947876, 0.24535612761974335, 0.20722812414169312, 0.18185973167419434, 0.1626042127609253, 0.15205544233322144, 0.13662931323051453, 0.13065601885318756, 0.12557512521743774, 0.11996189504861832, 0.11258159577846527, 0.11300548911094666], 'accuracy': [0.5360811948776245, 0.7079679369926453, 0.778251051902771, 0.8207216262817383, 0.8539212942123413, 0.8901277780532837, 0.9111751317977905, 0.9268353581428528, 0.9386118650436401, 0.9439989924430847, 0.948509156703949, 0.9507642388343811, 0.9536457061767578, 0.9547732472419739, 0.9569030404090881, 0.9566524624824524, 0.957028329372406, 0.9567777514457703, 0.9567777514457703, 0.9547732472419739], 'val_loss': [1.7125048637390137, 1.3016828298568726, 1.1195275783538818, 1.0352444648742676, 0.9567606449127197, 0.9036373496055603, 0.8920026421546936, 0.8869519233703613, 0.9361657500267029, 0.8956114649772644, 0.9218757152557373, 0.9356576204299927, 0.973908007144928, 0.973882794380188, 1.0172940492630005, 0.9918100833892822, 1.0615793466567993, 1.0739727020263672, 1.0928049087524414, 1.0874484777450562], 'val_accuracy': [0.6520000100135803, 0.7149999737739563, 0.7559999823570251, 0.7789999842643738, 0.7990000247955322, 0.8100000023841858, 0.8159999847412109, 0.8119999766349792, 0.796999990940094, 0.8109999895095825, 0.8040000200271606, 0.8100000023841858, 0.8059999942779541, 0.8100000023841858, 0.796999990940094, 0.800000011920929, 0.8040000200271606, 0.8029999732971191, 0.8019999861717224, 0.7990000247955322]}\n",
            "dictonary keys : \n",
            "dict_keys(['loss', 'accuracy', 'val_loss', 'val_accuracy'])\n"
          ]
        }
      ],
      "source": [
        "# check history object\n",
        "print(\"History of model fitting : \")\n",
        "history_dict = history.history\n",
        "print(history_dict)\n",
        "print(\"dictonary keys : \")\n",
        "print(history_dict.keys())"
      ]
    },
    {
      "cell_type": "code",
      "execution_count": 14,
      "metadata": {
        "id": "2pmzPUX1EsYg"
      },
      "outputs": [],
      "source": [
        "# Listing 4.19 Plotting the training and validation loss\n",
        "import matplotlib.pyplot as plt\n",
        "def plot_loss(historyDic):\n",
        "  history_dict = historyDic.history\n",
        "  loss_values = history_dict[\"loss\"]\n",
        "  val_loss_values = history_dict[\"val_loss\"]\n",
        "  epochs = range(1, len(loss_values) + 1)\n",
        "  plt.clf()\n",
        "  plt.plot(epochs, loss_values, \"bo\", label=\"Training loss\")\n",
        "  plt.plot(epochs, val_loss_values, \"b\", label=\"Validation loss\")\n",
        "  plt.title(\"Training and validation loss\")\n",
        "  plt.xlabel(\"Epochs\")\n",
        "  plt.ylabel(\"Loss\")\n",
        "  plt.legend()\n",
        "  plt.show()"
      ]
    },
    {
      "cell_type": "code",
      "execution_count": 15,
      "metadata": {
        "colab": {
          "base_uri": "https://localhost:8080/",
          "height": 295
        },
        "id": "d6pBEhWtEsVO",
        "outputId": "38313fe5-e8c8-4133-b302-4711255f5ca1"
      },
      "outputs": [
        {
          "data": {
            "image/png": "[encoded data removed]",
            "text/plain": [
              "<Figure size 432x288 with 1 Axes>"
            ]
          },
          "metadata": {
            "needs_background": "light"
          },
          "output_type": "display_data"
        }
      ],
      "source": [
        "plot_loss(history)"
      ]
    },
    {
      "cell_type": "code",
      "execution_count": 16,
      "metadata": {
        "id": "_VJCu_M8FNrY"
      },
      "outputs": [],
      "source": [
        "# Listing 4.20 Plotting the training and validation accuracy\n",
        "def plot_acc(historyDic):\n",
        "  history_dict = historyDic.history\n",
        "  acc = history_dict[\"accuracy\"]\n",
        "  val_acc = history_dict[\"val_accuracy\"]\n",
        "  epochs = range(1, len(acc) + 1)\n",
        "  plt.clf()\n",
        "  plt.plot(epochs, acc, \"bo\", label=\"Training acc\")\n",
        "  plt.plot(epochs, val_acc, \"b\", label=\"Validation acc\")\n",
        "  plt.title(\"Training and validation accuracy\")\n",
        "  plt.xlabel(\"Epochs\")\n",
        "  plt.ylabel(\"Accuracy\")\n",
        "  plt.legend()\n",
        "  plt.show()"
      ]
    },
    {
      "cell_type": "code",
      "execution_count": 17,
      "metadata": {
        "colab": {
          "base_uri": "https://localhost:8080/",
          "height": 295
        },
        "id": "Da6yae69FNn6",
        "outputId": "0bc31508-bbc6-4a57-d3c5-6c06e467ee3c"
      },
      "outputs": [
        {
          "data": {
            "image/png": "[encoded data removed]",
            "text/plain": [
              "<Figure size 432x288 with 1 Axes>"
            ]
          },
          "metadata": {
            "needs_background": "light"
          },
          "output_type": "display_data"
        }
      ],
      "source": [
        "plot_acc(history)"
      ]
    },
    {
      "cell_type": "markdown",
      "metadata": {
        "id": "-FcFGyXuFsJT"
      },
      "source": [
        "- The model begins to overfit after nine epochs.\n",
        "- train a new model from scratch for nine epochs and then evaluate it on the test set."
      ]
    },
    {
      "cell_type": "code",
      "execution_count": 18,
      "metadata": {
        "colab": {
          "base_uri": "https://localhost:8080/"
        },
        "id": "_qa4mRCCFNk9",
        "outputId": "58a826a8-ebd6-4cc5-ae19-1210e7a7da97"
      },
      "outputs": [
        {
          "name": "stdout",
          "output_type": "stream",
          "text": [
            "Epoch 1/9\n",
            "18/18 [==============================] - 1s 15ms/step - loss: 2.5081 - accuracy: 0.5423\n",
            "Epoch 2/9\n",
            "18/18 [==============================] - 0s 15ms/step - loss: 1.3681 - accuracy: 0.7105\n",
            "Epoch 3/9\n",
            "18/18 [==============================] - 0s 14ms/step - loss: 1.0345 - accuracy: 0.7752\n",
            "Epoch 4/9\n",
            "18/18 [==============================] - 0s 14ms/step - loss: 0.8243 - accuracy: 0.8213\n",
            "Epoch 5/9\n",
            "18/18 [==============================] - 0s 15ms/step - loss: 0.6578 - accuracy: 0.8626\n",
            "Epoch 6/9\n",
            "18/18 [==============================] - 0s 15ms/step - loss: 0.5254 - accuracy: 0.8923\n",
            "Epoch 7/9\n",
            "18/18 [==============================] - 0s 15ms/step - loss: 0.4219 - accuracy: 0.9116\n",
            "Epoch 8/9\n",
            "18/18 [==============================] - 0s 15ms/step - loss: 0.3459 - accuracy: 0.9286\n",
            "Epoch 9/9\n",
            "18/18 [==============================] - 0s 15ms/step - loss: 0.2821 - accuracy: 0.9360\n"
          ]
        },
        {
          "data": {
            "text/plain": [
              "<keras.callbacks.History at 0x7fb681adfc50>"
            ]
          },
          "execution_count": 18,
          "metadata": {},
          "output_type": "execute_result"
        }
      ],
      "source": [
        "# Listing 4.21 Retraining a model from scratch\n",
        "model = keras.Sequential([\n",
        "    layers.Dense(64, activation=\"relu\"),\n",
        "    layers.Dense(64, activation=\"relu\"),\n",
        "    layers.Dense(46, activation=\"softmax\")\n",
        "])\n",
        "model.compile(\n",
        "    optimizer=\"rmsprop\",\n",
        "    loss=\"categorical_crossentropy\",\n",
        "    metrics=[\"accuracy\"])\n",
        "model.fit(\n",
        "    x_train,\n",
        "    y_train,\n",
        "    epochs=9,\n",
        "    batch_size=512)"
      ]
    },
    {
      "cell_type": "code",
      "execution_count": 19,
      "metadata": {
        "colab": {
          "base_uri": "https://localhost:8080/"
        },
        "id": "8AC6z11QF06x",
        "outputId": "d9f3c992-c2e0-4598-9a5f-619ccd35c756"
      },
      "outputs": [
        {
          "name": "stdout",
          "output_type": "stream",
          "text": [
            "71/71 [==============================] - 0s 4ms/step - loss: 1.0029 - accuracy: 0.7760\n"
          ]
        }
      ],
      "source": [
        "# evaluate on test data\n",
        "results = model.evaluate(x_test, y_test)"
      ]
    },
    {
      "cell_type": "code",
      "execution_count": 20,
      "metadata": {
        "colab": {
          "base_uri": "https://localhost:8080/"
        },
        "id": "v5-s-SdQGUJf",
        "outputId": "d4b40404-555b-45b8-90ba-20fdb88bdd62"
      },
      "outputs": [
        {
          "data": {
            "text/plain": [
              "[1.0028505325317383, 0.7760462760925293]"
            ]
          },
          "execution_count": 20,
          "metadata": {},
          "output_type": "execute_result"
        }
      ],
      "source": [
        "results"
      ]
    },
    {
      "cell_type": "markdown",
      "metadata": {
        "id": "EhD_VBCMEn5u"
      },
      "source": [
        "- accuracy of ~80%"
      ]
    },
    {
      "cell_type": "markdown",
      "metadata": {
        "id": "uMJ_ofvLGtru"
      },
      "source": [
        "- With a balanced binary classification problem, the accuracy reached by a purely random classifier would be 50%"
      ]
    },
    {
      "cell_type": "code",
      "execution_count": 21,
      "metadata": {
        "colab": {
          "base_uri": "https://localhost:8080/"
        },
        "id": "WqYTybRZHBhk",
        "outputId": "7ab4844a-fd86-4a45-9365-7f034d09476c"
      },
      "outputs": [
        {
          "data": {
            "text/plain": [
              "0.1709706144256456"
            ]
          },
          "execution_count": 21,
          "metadata": {},
          "output_type": "execute_result"
        }
      ],
      "source": [
        "# accuracy of a random baseline\n",
        "import copy\n",
        "test_labels_copy = copy.copy(test_labels)\n",
        "np.random.shuffle(test_labels_copy)\n",
        "hits_array = np.array(test_labels) == np.array(test_labels_copy)\n",
        "hits_array.mean()"
      ]
    },
    {
      "cell_type": "markdown",
      "metadata": {
        "id": "EiXVGrLGHZhk"
      },
      "source": [
        "- a random classifier would score around 18% classification accuracy, so the results of our model seem pretty good in that light."
      ]
    },
    {
      "cell_type": "markdown",
      "metadata": {
        "id": "bon7U4e3H6BF"
      },
      "source": [
        "### 4.2.5 Generating predictions on new data"
      ]
    },
    {
      "cell_type": "markdown",
      "metadata": {
        "id": "rM0pVqvaM1W7"
      },
      "source": [
        "- predict method on new samples returns a class probability distribution over all 46 topics for each sample."
      ]
    },
    {
      "cell_type": "code",
      "execution_count": 22,
      "metadata": {
        "colab": {
          "base_uri": "https://localhost:8080/"
        },
        "id": "Y1t4YAbnHUx7",
        "outputId": "aa3f1e35-0ea6-403b-9f7f-b96c5569d157"
      },
      "outputs": [
        {
          "data": {
            "text/plain": [
              "array([[2.8837530e-05, 6.7533160e-06, 5.1271923e-06, ..., 9.5539053e-06,\n",
              "        1.3200440e-07, 6.1318860e-07],\n",
              "       [1.6358773e-03, 1.7279527e-01, 1.1123266e-01, ..., 2.2680401e-06,\n",
              "        8.8490953e-05, 4.2466022e-04],\n",
              "       [2.8255391e-03, 7.9416132e-01, 1.2722441e-02, ..., 2.1047473e-03,\n",
              "        7.0827390e-04, 3.0647749e-03],\n",
              "       ...,\n",
              "       [1.4435100e-05, 4.5932702e-05, 2.8841935e-06, ..., 9.6404028e-06,\n",
              "        5.1958204e-07, 1.9370395e-06],\n",
              "       [1.4782562e-03, 2.6288005e-02, 9.7392139e-04, ..., 2.2092291e-04,\n",
              "        7.3542469e-05, 1.1169551e-04],\n",
              "       [1.1032686e-03, 7.6561064e-01, 1.8683610e-02, ..., 9.5868262e-04,\n",
              "        3.3863942e-04, 3.6141591e-04]], dtype=float32)"
            ]
          },
          "execution_count": 22,
          "metadata": {},
          "output_type": "execute_result"
        }
      ],
      "source": [
        "# predictions\n",
        "predictions = model.predict(x_test)\n",
        "predictions"
      ]
    },
    {
      "cell_type": "code",
      "execution_count": 23,
      "metadata": {
        "colab": {
          "base_uri": "https://localhost:8080/"
        },
        "id": "UOMl3BkjNSGT",
        "outputId": "83cc26bd-e826-41a0-849b-c60c88bec14e"
      },
      "outputs": [
        {
          "data": {
            "text/plain": [
              "(46,)"
            ]
          },
          "execution_count": 23,
          "metadata": {},
          "output_type": "execute_result"
        }
      ],
      "source": [
        "# shape of prediction\n",
        "predictions[0].shape"
      ]
    },
    {
      "cell_type": "code",
      "execution_count": 24,
      "metadata": {
        "colab": {
          "base_uri": "https://localhost:8080/"
        },
        "id": "hnrY89npNZDy",
        "outputId": "52542b01-d69d-4931-9290-72f8f3297bbc"
      },
      "outputs": [
        {
          "data": {
            "text/plain": [
              "1.0"
            ]
          },
          "execution_count": 24,
          "metadata": {},
          "output_type": "execute_result"
        }
      ],
      "source": [
        "# Sum of all probabilites of a sample\n",
        "np.sum(predictions[0])"
      ]
    },
    {
      "cell_type": "code",
      "execution_count": 25,
      "metadata": {
        "colab": {
          "base_uri": "https://localhost:8080/"
        },
        "id": "2CaB2uJENh_j",
        "outputId": "d3a07148-54ad-4ef7-f234-871ec86f6667"
      },
      "outputs": [
        {
          "data": {
            "text/plain": [
              "array([0., 0., 0., 1., 0., 0., 0., 0., 0., 0., 0., 0., 0., 0., 0., 0., 0.,\n",
              "       0., 0., 0., 0., 0., 0., 0., 0., 0., 0., 0., 0., 0., 0., 0., 0., 0.,\n",
              "       0., 0., 0., 0., 0., 0., 0., 0., 0., 0., 0., 0.])"
            ]
          },
          "execution_count": 25,
          "metadata": {},
          "output_type": "execute_result"
        }
      ],
      "source": [
        "# label of 986th sample in x_test\n",
        "y_test[985]"
      ]
    },
    {
      "cell_type": "markdown",
      "metadata": {
        "id": "NG_mjk48N8TO"
      },
      "source": [
        "- as it is one hot-in-coded form\n",
        "  - value = 3"
      ]
    },
    {
      "cell_type": "code",
      "execution_count": 26,
      "metadata": {
        "colab": {
          "base_uri": "https://localhost:8080/"
        },
        "id": "-28J-IFPN7gU",
        "outputId": "b234b809-7e08-4740-f82f-9ca3a8a2157c"
      },
      "outputs": [
        {
          "data": {
            "text/plain": [
              "array([2.5432404e-05, 7.6285251e-05, 7.3129318e-06, 9.9719101e-01,\n",
              "       9.3938690e-04, 2.0659130e-05, 4.5863380e-06, 3.3718239e-05,\n",
              "       7.9132187e-05, 1.9290672e-05, 2.4386416e-05, 1.3100541e-04,\n",
              "       6.9260335e-05, 3.7085804e-06, 4.9731748e-06, 5.2494893e-06,\n",
              "       1.6153776e-04, 1.0686213e-04, 3.9231261e-05, 1.1510526e-04,\n",
              "       2.1547827e-04, 3.1600106e-05, 3.1376716e-05, 1.6012229e-05,\n",
              "       3.8682490e-05, 9.5070473e-06, 1.9021450e-05, 8.4452258e-06,\n",
              "       2.0605061e-05, 2.9959552e-05, 1.5959368e-04, 3.2121497e-05,\n",
              "       2.8621374e-05, 6.0132857e-06, 8.4859166e-06, 6.0757524e-05,\n",
              "       2.9216515e-05, 1.3562959e-06, 9.8718279e-05, 4.3551998e-05,\n",
              "       1.6476582e-05, 3.5964988e-06, 3.6066278e-06, 2.5922292e-05,\n",
              "       8.4274416e-07, 2.3809228e-06], dtype=float32)"
            ]
          },
          "execution_count": 26,
          "metadata": {},
          "output_type": "execute_result"
        }
      ],
      "source": [
        "# prediction of the 986th sample\n",
        "predictions[985]"
      ]
    },
    {
      "cell_type": "code",
      "execution_count": 27,
      "metadata": {
        "colab": {
          "base_uri": "https://localhost:8080/"
        },
        "id": "OGXjEKy_OR0w",
        "outputId": "7331e5d7-d401-47f2-e383-ac3b3fd8a7af"
      },
      "outputs": [
        {
          "data": {
            "text/plain": [
              "0.997191"
            ]
          },
          "execution_count": 27,
          "metadata": {},
          "output_type": "execute_result"
        }
      ],
      "source": [
        "# max probability of the 986th sample\n",
        "np.max(predictions[985])"
      ]
    },
    {
      "cell_type": "code",
      "execution_count": 28,
      "metadata": {
        "colab": {
          "base_uri": "https://localhost:8080/"
        },
        "id": "PSCmL251OXbl",
        "outputId": "35680e2a-664e-45cb-8356-ce08553b8ca8"
      },
      "outputs": [
        {
          "data": {
            "text/plain": [
              "3"
            ]
          },
          "execution_count": 28,
          "metadata": {},
          "output_type": "execute_result"
        }
      ],
      "source": [
        "# index of the max probability\n",
        "np.argmax(predictions[985])"
      ]
    },
    {
      "cell_type": "markdown",
      "metadata": {
        "id": "5rwatf3dOdLC"
      },
      "source": [
        "- from predictions and available data predection is correct"
      ]
    },
    {
      "cell_type": "markdown",
      "metadata": {
        "id": "_oXqPudNOmlR"
      },
      "source": [
        "### 4.2.6 A different way to handle the labels and the loss"
      ]
    },
    {
      "cell_type": "markdown",
      "metadata": {
        "id": "Gl3YEGg2OpMy"
      },
      "source": [
        "- labels can be casted as follows\n",
        "```\n",
        "y_train = np.array(train_labels)\n",
        "y_test = np.array(test_labels)\n",
        "```\n",
        "- when labels are in integer form we can use `sparse_categorical_crossentropy`\n",
        "```\n",
        "model.compile(\n",
        "  optimizer=\"rmsprop\",\n",
        "  loss=\"sparse_categorical_crossentropy\",\n",
        "  metrics=[\"accuracy\"])\n",
        "```"
      ]
    },
    {
      "cell_type": "markdown",
      "metadata": {
        "id": "UZC_W0oTPCz5"
      },
      "source": [
        "### 4.2.7 The importance of having sufficiently large intermediate layers"
      ]
    },
    {
      "cell_type": "code",
      "execution_count": 29,
      "metadata": {
        "colab": {
          "base_uri": "https://localhost:8080/"
        },
        "id": "GbvQQWH9PMSv",
        "outputId": "40bfa63e-6342-4e2c-fa3a-3d7b8b15e62f"
      },
      "outputs": [
        {
          "name": "stdout",
          "output_type": "stream",
          "text": [
            "Epoch 1/20\n",
            "63/63 [==============================] - 1s 11ms/step - loss: 2.6370 - accuracy: 0.4121 - val_loss: 1.8691 - val_accuracy: 0.5680\n",
            "Epoch 2/20\n",
            "63/63 [==============================] - 0s 7ms/step - loss: 1.5855 - accuracy: 0.5897 - val_loss: 1.5336 - val_accuracy: 0.5880\n",
            "Epoch 3/20\n",
            "63/63 [==============================] - 0s 7ms/step - loss: 1.3121 - accuracy: 0.6324 - val_loss: 1.4459 - val_accuracy: 0.6350\n",
            "Epoch 4/20\n",
            "63/63 [==============================] - 0s 7ms/step - loss: 1.1506 - accuracy: 0.7098 - val_loss: 1.4081 - val_accuracy: 0.6660\n",
            "Epoch 5/20\n",
            "63/63 [==============================] - 0s 8ms/step - loss: 1.0254 - accuracy: 0.7457 - val_loss: 1.3840 - val_accuracy: 0.6850\n",
            "Epoch 6/20\n",
            "63/63 [==============================] - 0s 7ms/step - loss: 0.9271 - accuracy: 0.7608 - val_loss: 1.3953 - val_accuracy: 0.6820\n",
            "Epoch 7/20\n",
            "63/63 [==============================] - 0s 7ms/step - loss: 0.8474 - accuracy: 0.7730 - val_loss: 1.4139 - val_accuracy: 0.6980\n",
            "Epoch 8/20\n",
            "63/63 [==============================] - 0s 8ms/step - loss: 0.7829 - accuracy: 0.7866 - val_loss: 1.4095 - val_accuracy: 0.7020\n",
            "Epoch 9/20\n",
            "63/63 [==============================] - 0s 7ms/step - loss: 0.7259 - accuracy: 0.8058 - val_loss: 1.4443 - val_accuracy: 0.7000\n",
            "Epoch 10/20\n",
            "63/63 [==============================] - 0s 7ms/step - loss: 0.6793 - accuracy: 0.8175 - val_loss: 1.4817 - val_accuracy: 0.7040\n",
            "Epoch 11/20\n",
            "63/63 [==============================] - 0s 8ms/step - loss: 0.6400 - accuracy: 0.8222 - val_loss: 1.5126 - val_accuracy: 0.6960\n",
            "Epoch 12/20\n",
            "63/63 [==============================] - 0s 8ms/step - loss: 0.6030 - accuracy: 0.8307 - val_loss: 1.5691 - val_accuracy: 0.6990\n",
            "Epoch 13/20\n",
            "63/63 [==============================] - 0s 7ms/step - loss: 0.5713 - accuracy: 0.8398 - val_loss: 1.6020 - val_accuracy: 0.6990\n",
            "Epoch 14/20\n",
            "63/63 [==============================] - 0s 8ms/step - loss: 0.5417 - accuracy: 0.8504 - val_loss: 1.6552 - val_accuracy: 0.7000\n",
            "Epoch 15/20\n",
            "63/63 [==============================] - 0s 7ms/step - loss: 0.5134 - accuracy: 0.8587 - val_loss: 1.7167 - val_accuracy: 0.6930\n",
            "Epoch 16/20\n",
            "63/63 [==============================] - 0s 7ms/step - loss: 0.4918 - accuracy: 0.8647 - val_loss: 1.7809 - val_accuracy: 0.6910\n",
            "Epoch 17/20\n",
            "63/63 [==============================] - 0s 8ms/step - loss: 0.4703 - accuracy: 0.8680 - val_loss: 1.8462 - val_accuracy: 0.6870\n",
            "Epoch 18/20\n",
            "63/63 [==============================] - 0s 7ms/step - loss: 0.4505 - accuracy: 0.8750 - val_loss: 1.9570 - val_accuracy: 0.6880\n",
            "Epoch 19/20\n",
            "63/63 [==============================] - 0s 7ms/step - loss: 0.4331 - accuracy: 0.8775 - val_loss: 1.9655 - val_accuracy: 0.6890\n",
            "Epoch 20/20\n",
            "63/63 [==============================] - 0s 7ms/step - loss: 0.4146 - accuracy: 0.8810 - val_loss: 2.0515 - val_accuracy: 0.6960\n"
          ]
        },
        {
          "data": {
            "text/plain": [
              "<keras.callbacks.History at 0x7fb6825ed950>"
            ]
          },
          "execution_count": 29,
          "metadata": {},
          "output_type": "execute_result"
        }
      ],
      "source": [
        "# Listing 4.22 A model with an information bottleneck\n",
        "model = keras.Sequential([\n",
        "    layers.Dense(64, activation=\"relu\"),\n",
        "    layers.Dense(4, activation=\"relu\"),\n",
        "    layers.Dense(46, activation=\"softmax\")\n",
        "])\n",
        "model.compile(\n",
        "    optimizer=\"rmsprop\",\n",
        "    loss=\"categorical_crossentropy\",\n",
        "    metrics=[\"accuracy\"]\n",
        ")\n",
        "model.fit(\n",
        "    partial_x_train,\n",
        "    partial_y_train,\n",
        "    epochs=20,\n",
        "    batch_size=128,\n",
        "    validation_data=(x_val, y_val)\n",
        ")"
      ]
    },
    {
      "cell_type": "markdown",
      "metadata": {
        "id": "z6Xwm6QWPhXP"
      },
      "source": [
        "|    Description    |tra_acc|val_acc|tra_loss|val_loss|\n",
        "|-------------------|-------|-------|--------|--------|\n",
        "|with out bottleneck|0.95   |0.79    |0.11   |1.0     |\n",
        "|with bottleneck    |0.88   |0.69    |0.41   |2.05    |\n",
        "|difference         |-0.07  |-0.10   |-0.30  |-1.05   |\n"
      ]
    },
    {
      "cell_type": "markdown",
      "metadata": {
        "id": "yrcFtd8xSejU"
      },
      "source": [
        "- there is a drop of 10% in accuracy\n",
        "- This drop is mostly due to the fact that we’re trying to compress a lot of information into an intermediate space that is too low-dimensional.\n",
        "- The model is able to cram most of the necessary information into these four-dimensional representations, but not all of it.\n"
      ]
    },
    {
      "cell_type": "markdown",
      "metadata": {
        "id": "n-gmEcLDTcWR"
      },
      "source": [
        "### 4.2.8 Further experiments"
      ]
    },
    {
      "cell_type": "markdown",
      "metadata": {
        "id": "8yzp5SDjTdTC"
      },
      "source": [
        "#### Try using smaller layers: 32 units"
      ]
    },
    {
      "cell_type": "code",
      "execution_count": 30,
      "metadata": {
        "colab": {
          "base_uri": "https://localhost:8080/"
        },
        "id": "pbJsOi28Tq0S",
        "outputId": "151a0bdc-c217-45a3-bae9-386f3b6e8515"
      },
      "outputs": [
        {
          "name": "stdout",
          "output_type": "stream",
          "text": [
            "Epoch 1/20\n",
            "63/63 [==============================] - 1s 10ms/step - loss: 2.1585 - accuracy: 0.5913 - val_loss: 1.4656 - val_accuracy: 0.6770\n",
            "Epoch 2/20\n",
            "63/63 [==============================] - 0s 7ms/step - loss: 1.2254 - accuracy: 0.7241 - val_loss: 1.2092 - val_accuracy: 0.7300\n",
            "Epoch 3/20\n",
            "63/63 [==============================] - 0s 7ms/step - loss: 0.9300 - accuracy: 0.7904 - val_loss: 1.0890 - val_accuracy: 0.7600\n",
            "Epoch 4/20\n",
            "63/63 [==============================] - 0s 7ms/step - loss: 0.7178 - accuracy: 0.8395 - val_loss: 1.0101 - val_accuracy: 0.7890\n",
            "Epoch 5/20\n",
            "63/63 [==============================] - 0s 7ms/step - loss: 0.5583 - accuracy: 0.8713 - val_loss: 0.9611 - val_accuracy: 0.7980\n",
            "Epoch 6/20\n",
            "63/63 [==============================] - 0s 7ms/step - loss: 0.4379 - accuracy: 0.9067 - val_loss: 0.9380 - val_accuracy: 0.8030\n",
            "Epoch 7/20\n",
            "63/63 [==============================] - 0s 7ms/step - loss: 0.3505 - accuracy: 0.9236 - val_loss: 0.9392 - val_accuracy: 0.8110\n",
            "Epoch 8/20\n",
            "63/63 [==============================] - 0s 7ms/step - loss: 0.2881 - accuracy: 0.9370 - val_loss: 1.0244 - val_accuracy: 0.7940\n",
            "Epoch 9/20\n",
            "63/63 [==============================] - 0s 7ms/step - loss: 0.2411 - accuracy: 0.9440 - val_loss: 0.9619 - val_accuracy: 0.8110\n",
            "Epoch 10/20\n",
            "63/63 [==============================] - 0s 7ms/step - loss: 0.2120 - accuracy: 0.9476 - val_loss: 1.0461 - val_accuracy: 0.8000\n",
            "Epoch 11/20\n",
            "63/63 [==============================] - 0s 7ms/step - loss: 0.1864 - accuracy: 0.9509 - val_loss: 1.0593 - val_accuracy: 0.8020\n",
            "Epoch 12/20\n",
            "63/63 [==============================] - 0s 7ms/step - loss: 0.1703 - accuracy: 0.9530 - val_loss: 1.0301 - val_accuracy: 0.8040\n",
            "Epoch 13/20\n",
            "63/63 [==============================] - 0s 8ms/step - loss: 0.1561 - accuracy: 0.9543 - val_loss: 1.1085 - val_accuracy: 0.7930\n",
            "Epoch 14/20\n",
            "63/63 [==============================] - 0s 7ms/step - loss: 0.1447 - accuracy: 0.9539 - val_loss: 1.1335 - val_accuracy: 0.7980\n",
            "Epoch 15/20\n",
            "63/63 [==============================] - 0s 7ms/step - loss: 0.1394 - accuracy: 0.9550 - val_loss: 1.1619 - val_accuracy: 0.7960\n",
            "Epoch 16/20\n",
            "63/63 [==============================] - 0s 7ms/step - loss: 0.1308 - accuracy: 0.9562 - val_loss: 1.1936 - val_accuracy: 0.7910\n",
            "Epoch 17/20\n",
            "63/63 [==============================] - 0s 7ms/step - loss: 0.1283 - accuracy: 0.9563 - val_loss: 1.2164 - val_accuracy: 0.7870\n",
            "Epoch 18/20\n",
            "63/63 [==============================] - 0s 7ms/step - loss: 0.1203 - accuracy: 0.9570 - val_loss: 1.1876 - val_accuracy: 0.7950\n",
            "Epoch 19/20\n",
            "63/63 [==============================] - 0s 7ms/step - loss: 0.1182 - accuracy: 0.9583 - val_loss: 1.2551 - val_accuracy: 0.7870\n",
            "Epoch 20/20\n",
            "63/63 [==============================] - 0s 7ms/step - loss: 0.1166 - accuracy: 0.9562 - val_loss: 1.2469 - val_accuracy: 0.7950\n"
          ]
        },
        {
          "data": {
            "text/plain": [
              "<keras.callbacks.History at 0x7fb6820e34d0>"
            ]
          },
          "execution_count": 30,
          "metadata": {},
          "output_type": "execute_result"
        }
      ],
      "source": [
        "model = keras.Sequential([\n",
        "    layers.Dense(32, activation=\"relu\"),\n",
        "    layers.Dense(32, activation=\"relu\"),\n",
        "    layers.Dense(46, activation=\"softmax\")\n",
        "])\n",
        "model.compile(\n",
        "    optimizer=\"rmsprop\",\n",
        "    loss=\"categorical_crossentropy\",\n",
        "    metrics=[\"accuracy\"]\n",
        ")\n",
        "model.fit(\n",
        "    partial_x_train,\n",
        "    partial_y_train,\n",
        "    epochs=20,\n",
        "    batch_size=128,\n",
        "    validation_data=(x_val, y_val)\n",
        ")"
      ]
    },
    {
      "cell_type": "markdown",
      "metadata": {
        "id": "pgjBUiddUQG8"
      },
      "source": [
        "|Description|tra_acc|val_acc|tra_loss|val_loss|\n",
        "|-----------|-------|-------|--------|--------|\n",
        "|64 units   |0.95   |0.79   |0.11   |1.0     |\n",
        "|32 units   |0.96   |0.79   |0.11   |1.24    |\n",
        "|difference |+0.01  |0.00   |0.00   |-0.24   |\n"
      ]
    },
    {
      "cell_type": "markdown",
      "metadata": {
        "id": "wBbWlg9RPL6P"
      },
      "source": [
        "#### Try using larger layers: 128 units"
      ]
    },
    {
      "cell_type": "code",
      "execution_count": 31,
      "metadata": {
        "colab": {
          "base_uri": "https://localhost:8080/"
        },
        "id": "0cRYJ0pkUDD0",
        "outputId": "fcac0576-8a2c-46cd-c430-67f80013227e"
      },
      "outputs": [
        {
          "name": "stdout",
          "output_type": "stream",
          "text": [
            "Epoch 1/20\n",
            "63/63 [==============================] - 1s 12ms/step - loss: 1.5972 - accuracy: 0.6550 - val_loss: 1.0902 - val_accuracy: 0.7630\n",
            "Epoch 2/20\n",
            "63/63 [==============================] - 1s 9ms/step - loss: 0.7679 - accuracy: 0.8321 - val_loss: 0.9763 - val_accuracy: 0.7840\n",
            "Epoch 3/20\n",
            "63/63 [==============================] - 1s 9ms/step - loss: 0.4597 - accuracy: 0.9003 - val_loss: 0.8566 - val_accuracy: 0.8190\n",
            "Epoch 4/20\n",
            "63/63 [==============================] - 1s 9ms/step - loss: 0.3046 - accuracy: 0.9313 - val_loss: 0.9397 - val_accuracy: 0.8010\n",
            "Epoch 5/20\n",
            "63/63 [==============================] - 1s 9ms/step - loss: 0.2289 - accuracy: 0.9444 - val_loss: 0.9165 - val_accuracy: 0.8160\n",
            "Epoch 6/20\n",
            "63/63 [==============================] - 1s 9ms/step - loss: 0.1909 - accuracy: 0.9515 - val_loss: 0.9224 - val_accuracy: 0.8130\n",
            "Epoch 7/20\n",
            "63/63 [==============================] - 1s 9ms/step - loss: 0.1665 - accuracy: 0.9540 - val_loss: 0.9963 - val_accuracy: 0.8080\n",
            "Epoch 8/20\n",
            "63/63 [==============================] - 1s 8ms/step - loss: 0.1563 - accuracy: 0.9530 - val_loss: 0.9957 - val_accuracy: 0.8090\n",
            "Epoch 9/20\n",
            "63/63 [==============================] - 1s 9ms/step - loss: 0.1329 - accuracy: 0.9562 - val_loss: 1.1003 - val_accuracy: 0.7890\n",
            "Epoch 10/20\n",
            "63/63 [==============================] - 1s 9ms/step - loss: 0.1332 - accuracy: 0.9554 - val_loss: 1.0846 - val_accuracy: 0.8000\n",
            "Epoch 11/20\n",
            "63/63 [==============================] - 1s 9ms/step - loss: 0.1232 - accuracy: 0.9559 - val_loss: 1.1656 - val_accuracy: 0.7880\n",
            "Epoch 12/20\n",
            "63/63 [==============================] - 1s 9ms/step - loss: 0.1158 - accuracy: 0.9580 - val_loss: 1.1975 - val_accuracy: 0.7990\n",
            "Epoch 13/20\n",
            "63/63 [==============================] - 1s 9ms/step - loss: 0.1107 - accuracy: 0.9553 - val_loss: 1.2122 - val_accuracy: 0.7830\n",
            "Epoch 14/20\n",
            "63/63 [==============================] - 1s 9ms/step - loss: 0.1054 - accuracy: 0.9578 - val_loss: 1.2222 - val_accuracy: 0.8020\n",
            "Epoch 15/20\n",
            "63/63 [==============================] - 1s 9ms/step - loss: 0.1027 - accuracy: 0.9575 - val_loss: 1.3445 - val_accuracy: 0.7900\n",
            "Epoch 16/20\n",
            "63/63 [==============================] - 1s 9ms/step - loss: 0.0988 - accuracy: 0.9573 - val_loss: 1.3202 - val_accuracy: 0.8060\n",
            "Epoch 17/20\n",
            "63/63 [==============================] - 1s 8ms/step - loss: 0.0939 - accuracy: 0.9567 - val_loss: 1.5138 - val_accuracy: 0.7840\n",
            "Epoch 18/20\n",
            "63/63 [==============================] - 1s 9ms/step - loss: 0.0893 - accuracy: 0.9590 - val_loss: 1.4380 - val_accuracy: 0.7930\n",
            "Epoch 19/20\n",
            "63/63 [==============================] - 1s 8ms/step - loss: 0.0882 - accuracy: 0.9583 - val_loss: 1.5327 - val_accuracy: 0.7940\n",
            "Epoch 20/20\n",
            "63/63 [==============================] - 1s 9ms/step - loss: 0.0835 - accuracy: 0.9583 - val_loss: 1.5867 - val_accuracy: 0.7930\n"
          ]
        },
        {
          "data": {
            "text/plain": [
              "<keras.callbacks.History at 0x7fb6825e1f10>"
            ]
          },
          "execution_count": 31,
          "metadata": {},
          "output_type": "execute_result"
        }
      ],
      "source": [
        "model = keras.Sequential([\n",
        "    layers.Dense(128, activation=\"relu\"),\n",
        "    layers.Dense(128, activation=\"relu\"),\n",
        "    layers.Dense(46, activation=\"softmax\")\n",
        "])\n",
        "model.compile(\n",
        "    optimizer=\"rmsprop\",\n",
        "    loss=\"categorical_crossentropy\",\n",
        "    metrics=[\"accuracy\"]\n",
        ")\n",
        "model.fit(\n",
        "    partial_x_train,\n",
        "    partial_y_train,\n",
        "    epochs=20,\n",
        "    batch_size=128,\n",
        "    validation_data=(x_val, y_val)\n",
        ")"
      ]
    },
    {
      "cell_type": "markdown",
      "metadata": {
        "id": "eaFbGTh0UnZl"
      },
      "source": [
        "|Description|tra_acc|val_acc|tra_loss|val_loss|\n",
        "|-----------|-------|-------|--------|--------|\n",
        "|64 units   |0.95   |0.79   |0.11    |1.00    |\n",
        "|128 units  |0.95   |0.79   |0.08    |1.58    |\n",
        "|difference |-0.00  |0.00  |+0.03   |-0.58   |\n"
      ]
    },
    {
      "cell_type": "markdown",
      "metadata": {
        "id": "l5rb4wOuU-7y"
      },
      "source": [
        "#### try using a single intermediate layer"
      ]
    },
    {
      "cell_type": "code",
      "execution_count": 32,
      "metadata": {
        "colab": {
          "base_uri": "https://localhost:8080/"
        },
        "id": "5nXSRHCHVHx1",
        "outputId": "e14935a5-82be-4c4d-b37b-0b12b17a9251"
      },
      "outputs": [
        {
          "name": "stdout",
          "output_type": "stream",
          "text": [
            "Epoch 1/20\n",
            "63/63 [==============================] - 1s 10ms/step - loss: 1.8681 - accuracy: 0.6452 - val_loss: 1.2190 - val_accuracy: 0.7350\n",
            "Epoch 2/20\n",
            "63/63 [==============================] - 0s 7ms/step - loss: 0.9378 - accuracy: 0.8026 - val_loss: 0.9817 - val_accuracy: 0.7970\n",
            "Epoch 3/20\n",
            "63/63 [==============================] - 0s 7ms/step - loss: 0.6335 - accuracy: 0.8700 - val_loss: 0.8621 - val_accuracy: 0.8260\n",
            "Epoch 4/20\n",
            "63/63 [==============================] - 0s 8ms/step - loss: 0.4472 - accuracy: 0.9088 - val_loss: 0.8221 - val_accuracy: 0.8270\n",
            "Epoch 5/20\n",
            "63/63 [==============================] - 0s 7ms/step - loss: 0.3358 - accuracy: 0.9302 - val_loss: 0.8111 - val_accuracy: 0.8330\n",
            "Epoch 6/20\n",
            "63/63 [==============================] - 0s 8ms/step - loss: 0.2600 - accuracy: 0.9412 - val_loss: 0.8308 - val_accuracy: 0.8300\n",
            "Epoch 7/20\n",
            "63/63 [==============================] - 0s 7ms/step - loss: 0.2132 - accuracy: 0.9454 - val_loss: 0.8349 - val_accuracy: 0.8260\n",
            "Epoch 8/20\n",
            "63/63 [==============================] - 0s 7ms/step - loss: 0.1846 - accuracy: 0.9520 - val_loss: 0.8602 - val_accuracy: 0.8210\n",
            "Epoch 9/20\n",
            "63/63 [==============================] - 0s 7ms/step - loss: 0.1645 - accuracy: 0.9530 - val_loss: 0.8893 - val_accuracy: 0.8260\n",
            "Epoch 10/20\n",
            "63/63 [==============================] - 0s 7ms/step - loss: 0.1474 - accuracy: 0.9549 - val_loss: 0.8936 - val_accuracy: 0.8260\n",
            "Epoch 11/20\n",
            "63/63 [==============================] - 0s 7ms/step - loss: 0.1367 - accuracy: 0.9568 - val_loss: 0.9409 - val_accuracy: 0.8190\n",
            "Epoch 12/20\n",
            "63/63 [==============================] - 0s 7ms/step - loss: 0.1313 - accuracy: 0.9562 - val_loss: 0.9555 - val_accuracy: 0.8080\n",
            "Epoch 13/20\n",
            "63/63 [==============================] - 0s 7ms/step - loss: 0.1224 - accuracy: 0.9559 - val_loss: 1.0134 - val_accuracy: 0.8070\n",
            "Epoch 14/20\n",
            "63/63 [==============================] - 0s 7ms/step - loss: 0.1200 - accuracy: 0.9578 - val_loss: 1.0192 - val_accuracy: 0.8170\n",
            "Epoch 15/20\n",
            "63/63 [==============================] - 0s 7ms/step - loss: 0.1133 - accuracy: 0.9579 - val_loss: 1.0500 - val_accuracy: 0.8170\n",
            "Epoch 16/20\n",
            "63/63 [==============================] - 0s 7ms/step - loss: 0.1117 - accuracy: 0.9583 - val_loss: 1.0602 - val_accuracy: 0.8130\n",
            "Epoch 17/20\n",
            "63/63 [==============================] - 0s 7ms/step - loss: 0.1070 - accuracy: 0.9609 - val_loss: 1.1080 - val_accuracy: 0.8080\n",
            "Epoch 18/20\n",
            "63/63 [==============================] - 0s 7ms/step - loss: 0.1098 - accuracy: 0.9541 - val_loss: 1.1095 - val_accuracy: 0.8080\n",
            "Epoch 19/20\n",
            "63/63 [==============================] - 0s 7ms/step - loss: 0.1044 - accuracy: 0.9578 - val_loss: 1.1442 - val_accuracy: 0.7990\n",
            "Epoch 20/20\n",
            "63/63 [==============================] - 0s 8ms/step - loss: 0.1043 - accuracy: 0.9572 - val_loss: 1.1645 - val_accuracy: 0.7980\n"
          ]
        },
        {
          "data": {
            "text/plain": [
              "<keras.callbacks.History at 0x7fb68299fb90>"
            ]
          },
          "execution_count": 32,
          "metadata": {},
          "output_type": "execute_result"
        }
      ],
      "source": [
        "model = keras.Sequential([\n",
        "    layers.Dense(64, activation=\"relu\"),\n",
        "    layers.Dense(46, activation=\"softmax\")\n",
        "])\n",
        "model.compile(\n",
        "    optimizer=\"rmsprop\",\n",
        "    loss=\"categorical_crossentropy\",\n",
        "    metrics=[\"accuracy\"]\n",
        ")\n",
        "model.fit(\n",
        "    partial_x_train,\n",
        "    partial_y_train,\n",
        "    epochs=20,\n",
        "    batch_size=128,\n",
        "    validation_data=(x_val, y_val)\n",
        ")"
      ]
    },
    {
      "cell_type": "markdown",
      "metadata": {
        "id": "UqTgtEwuWr5p"
      },
      "source": [
        "|Description|tra_acc|val_acc|tra_loss|val_loss|\n",
        "|-----------|-------|-------|--------|--------|\n",
        "|64 units   |0.95   |0.79   |0.11   |1.00     |\n",
        "|128 units  |0.95   |0.79   |0.10    |1.16    |\n",
        "|difference |0.00  |0.00  |+0.01   |-0.16  |\n"
      ]
    },
    {
      "cell_type": "markdown",
      "metadata": {
        "id": "Byi1xIMRVCwh"
      },
      "source": [
        "#### try using three intermediate layers."
      ]
    },
    {
      "cell_type": "code",
      "execution_count": 33,
      "metadata": {
        "colab": {
          "base_uri": "https://localhost:8080/"
        },
        "id": "xE-jUOUoVIMv",
        "outputId": "025dc800-640e-4350-b8ce-4700f9e2e074"
      },
      "outputs": [
        {
          "name": "stdout",
          "output_type": "stream",
          "text": [
            "Epoch 1/20\n",
            "63/63 [==============================] - 1s 12ms/step - loss: 1.8925 - accuracy: 0.5926 - val_loss: 1.2847 - val_accuracy: 0.7080\n",
            "Epoch 2/20\n",
            "63/63 [==============================] - 1s 8ms/step - loss: 1.0028 - accuracy: 0.7781 - val_loss: 1.0739 - val_accuracy: 0.7540\n",
            "Epoch 3/20\n",
            "63/63 [==============================] - 1s 8ms/step - loss: 0.6742 - accuracy: 0.8489 - val_loss: 0.9291 - val_accuracy: 0.8060\n",
            "Epoch 4/20\n",
            "63/63 [==============================] - 1s 8ms/step - loss: 0.4663 - accuracy: 0.8996 - val_loss: 0.9887 - val_accuracy: 0.7930\n",
            "Epoch 5/20\n",
            "63/63 [==============================] - 1s 8ms/step - loss: 0.3346 - accuracy: 0.9268 - val_loss: 0.9836 - val_accuracy: 0.8070\n",
            "Epoch 6/20\n",
            "63/63 [==============================] - 1s 8ms/step - loss: 0.2636 - accuracy: 0.9385 - val_loss: 1.0821 - val_accuracy: 0.7850\n",
            "Epoch 7/20\n",
            "63/63 [==============================] - 1s 8ms/step - loss: 0.2103 - accuracy: 0.9491 - val_loss: 1.0888 - val_accuracy: 0.7990\n",
            "Epoch 8/20\n",
            "63/63 [==============================] - 0s 7ms/step - loss: 0.1885 - accuracy: 0.9510 - val_loss: 1.0712 - val_accuracy: 0.8060\n",
            "Epoch 9/20\n",
            "63/63 [==============================] - 1s 8ms/step - loss: 0.1702 - accuracy: 0.9516 - val_loss: 1.0711 - val_accuracy: 0.8040\n",
            "Epoch 10/20\n",
            "63/63 [==============================] - 0s 8ms/step - loss: 0.1545 - accuracy: 0.9551 - val_loss: 1.1593 - val_accuracy: 0.7900\n",
            "Epoch 11/20\n",
            "63/63 [==============================] - 0s 8ms/step - loss: 0.1451 - accuracy: 0.9559 - val_loss: 1.1601 - val_accuracy: 0.7950\n",
            "Epoch 12/20\n",
            "63/63 [==============================] - 1s 8ms/step - loss: 0.1377 - accuracy: 0.9536 - val_loss: 1.3061 - val_accuracy: 0.7800\n",
            "Epoch 13/20\n",
            "63/63 [==============================] - 1s 8ms/step - loss: 0.1322 - accuracy: 0.9544 - val_loss: 1.3592 - val_accuracy: 0.7680\n",
            "Epoch 14/20\n",
            "63/63 [==============================] - 0s 8ms/step - loss: 0.1238 - accuracy: 0.9577 - val_loss: 1.2118 - val_accuracy: 0.7980\n",
            "Epoch 15/20\n",
            "63/63 [==============================] - 1s 8ms/step - loss: 0.1197 - accuracy: 0.9562 - val_loss: 1.4191 - val_accuracy: 0.7810\n",
            "Epoch 16/20\n",
            "63/63 [==============================] - 0s 8ms/step - loss: 0.1144 - accuracy: 0.9568 - val_loss: 1.2964 - val_accuracy: 0.7960\n",
            "Epoch 17/20\n",
            "63/63 [==============================] - 1s 8ms/step - loss: 0.1146 - accuracy: 0.9565 - val_loss: 1.4252 - val_accuracy: 0.7870\n",
            "Epoch 18/20\n",
            "63/63 [==============================] - 1s 8ms/step - loss: 0.1069 - accuracy: 0.9562 - val_loss: 1.4085 - val_accuracy: 0.7850\n",
            "Epoch 19/20\n",
            "63/63 [==============================] - 0s 8ms/step - loss: 0.1046 - accuracy: 0.9559 - val_loss: 1.5034 - val_accuracy: 0.7920\n",
            "Epoch 20/20\n",
            "63/63 [==============================] - 1s 8ms/step - loss: 0.1017 - accuracy: 0.9568 - val_loss: 1.4650 - val_accuracy: 0.7880\n"
          ]
        },
        {
          "data": {
            "text/plain": [
              "<keras.callbacks.History at 0x7fb682652050>"
            ]
          },
          "execution_count": 33,
          "metadata": {},
          "output_type": "execute_result"
        }
      ],
      "source": [
        "model = keras.Sequential([\n",
        "    layers.Dense(64, activation=\"relu\"),\n",
        "    layers.Dense(64, activation=\"relu\"),\n",
        "    layers.Dense(64, activation=\"relu\"),\n",
        "    layers.Dense(46, activation=\"softmax\")\n",
        "])\n",
        "model.compile(\n",
        "    optimizer=\"rmsprop\",\n",
        "    loss=\"categorical_crossentropy\",\n",
        "    metrics=[\"accuracy\"]\n",
        ")\n",
        "model.fit(\n",
        "    partial_x_train,\n",
        "    partial_y_train,\n",
        "    epochs=20,\n",
        "    batch_size=128,\n",
        "    validation_data=(x_val, y_val)\n",
        ")"
      ]
    },
    {
      "cell_type": "markdown",
      "metadata": {
        "id": "5mv2idd1Ws0B"
      },
      "source": [
        "|Description|tra_acc|val_acc|tra_loss|val_loss|\n",
        "|-----------|-------|-------|--------|--------|\n",
        "|64 units   |0.95   |0.79   |0.11   |1.0     |\n",
        "|128 units   |0.95  |0.78  |0.10    |1.46    |\n",
        "|difference |0.00  |+0.01  |+0.01   |-0.46   |\n"
      ]
    },
    {
      "cell_type": "markdown",
      "metadata": {
        "id": "QapVUYH1V5e_"
      },
      "source": [
        "### 4.2.9 Wrapping up"
      ]
    },
    {
      "cell_type": "markdown",
      "metadata": {
        "id": "VoBLIYvvV_Mp"
      },
      "source": [
        "- If you’re trying to classify data points among N classes, your model should end with a Dense layer of size N.\n",
        "- In a single-label, multiclass classification problem your model should end with a softmax activation so that it will output a probability distribution over the N output classes.\n",
        "- Categorical crossentropy is almost always the loss function you should use for such problems. It minimizes the distance between the probability distributions output by the model and the true distribution of the targets.\n",
        "- There are two ways to handle labels in multiclass classification:\n",
        "  - Encoding the labels via categorical encoding (also known as one-hot encoding) and using categorical_crossentropy as a loss function\n",
        "  - Encoding the labels as integers and using the sparse_categorical_crossentropy loss function\n",
        "- If you need to classify data into a large number of categories, you should avoid creating information bottlenecks in your model due to intermediate layers that are too small."
      ]
    }
  ],
  "metadata": {
    "accelerator": "GPU",
    "colab": {
      "collapsed_sections": [],
      "name": "4.2.ipynb",
      "provenance": []
    },
    "kernelspec": {
      "display_name": "Python 3",
      "name": "python3"
    },
    "language_info": {
      "name": "python"
    }
  },
  "nbformat": 4,
  "nbformat_minor": 0
}
