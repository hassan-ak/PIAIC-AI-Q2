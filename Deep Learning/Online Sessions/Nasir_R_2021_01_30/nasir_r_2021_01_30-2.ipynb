{
 "cells": [
  {
   "cell_type": "markdown",
   "metadata": {},
   "source": [
    "# Deep Learning - Nasir Hussain - 2021/01/30"
   ]
  },
  {
   "cell_type": "code",
   "execution_count": 1,
   "metadata": {},
   "outputs": [
    {
     "name": "stderr",
     "output_type": "stream",
     "text": [
      "2022-05-01 01:33:37.169229: W tensorflow/stream_executor/platform/default/dso_loader.cc:64] Could not load dynamic library 'libcudart.so.11.0'; dlerror: libcudart.so.11.0: cannot open shared object file: No such file or directory\n",
      "2022-05-01 01:33:37.169260: I tensorflow/stream_executor/cuda/cudart_stub.cc:29] Ignore above cudart dlerror if you do not have a GPU set up on your machine.\n"
     ]
    }
   ],
   "source": [
    "%matplotlib inline\n",
    "import matplotlib.pyplot as plt\n",
    "import numpy as np\n",
    "import pandas as pd\n",
    "\n",
    "from tensorflow.keras.models import Sequential\n",
    "from tensorflow.keras.layers import Dense \n",
    "from tensorflow.keras.optimizers import Adam, SGD"
   ]
  },
  {
   "cell_type": "code",
   "execution_count": 2,
   "metadata": {
    "collapsed": true
   },
   "outputs": [],
   "source": [
    "df=pd.read_csv('weight-height.csv')"
   ]
  },
  {
   "cell_type": "code",
   "execution_count": 3,
   "metadata": {
    "collapsed": true
   },
   "outputs": [],
   "source": [
    "X=df[['Height']].values\n",
    "y_true=df[['Weight']].values"
   ]
  },
  {
   "cell_type": "code",
   "execution_count": 4,
   "metadata": {},
   "outputs": [
    {
     "data": {
      "text/html": [
       "<div>\n",
       "<style scoped>\n",
       "    .dataframe tbody tr th:only-of-type {\n",
       "        vertical-align: middle;\n",
       "    }\n",
       "\n",
       "    .dataframe tbody tr th {\n",
       "        vertical-align: top;\n",
       "    }\n",
       "\n",
       "    .dataframe thead th {\n",
       "        text-align: right;\n",
       "    }\n",
       "</style>\n",
       "<table border=\"1\" class=\"dataframe\">\n",
       "  <thead>\n",
       "    <tr style=\"text-align: right;\">\n",
       "      <th></th>\n",
       "      <th>Gender</th>\n",
       "      <th>Height</th>\n",
       "      <th>Weight</th>\n",
       "    </tr>\n",
       "  </thead>\n",
       "  <tbody>\n",
       "    <tr>\n",
       "      <th>0</th>\n",
       "      <td>Male</td>\n",
       "      <td>73.847017</td>\n",
       "      <td>241.893563</td>\n",
       "    </tr>\n",
       "    <tr>\n",
       "      <th>1</th>\n",
       "      <td>Male</td>\n",
       "      <td>68.781904</td>\n",
       "      <td>162.310473</td>\n",
       "    </tr>\n",
       "    <tr>\n",
       "      <th>2</th>\n",
       "      <td>Male</td>\n",
       "      <td>74.110105</td>\n",
       "      <td>212.740856</td>\n",
       "    </tr>\n",
       "    <tr>\n",
       "      <th>3</th>\n",
       "      <td>Male</td>\n",
       "      <td>71.730978</td>\n",
       "      <td>220.042470</td>\n",
       "    </tr>\n",
       "    <tr>\n",
       "      <th>4</th>\n",
       "      <td>Male</td>\n",
       "      <td>69.881796</td>\n",
       "      <td>206.349801</td>\n",
       "    </tr>\n",
       "  </tbody>\n",
       "</table>\n",
       "</div>"
      ],
      "text/plain": [
       "  Gender     Height      Weight\n",
       "0   Male  73.847017  241.893563\n",
       "1   Male  68.781904  162.310473\n",
       "2   Male  74.110105  212.740856\n",
       "3   Male  71.730978  220.042470\n",
       "4   Male  69.881796  206.349801"
      ]
     },
     "execution_count": 4,
     "metadata": {},
     "output_type": "execute_result"
    }
   ],
   "source": [
    "df.head()"
   ]
  },
  {
   "cell_type": "code",
   "execution_count": 5,
   "metadata": {},
   "outputs": [
    {
     "data": {
      "text/plain": [
       "array([[73.84701702],\n",
       "       [68.78190405],\n",
       "       [74.11010539],\n",
       "       [71.7309784 ],\n",
       "       [69.88179586]])"
      ]
     },
     "execution_count": 5,
     "metadata": {},
     "output_type": "execute_result"
    }
   ],
   "source": [
    "X[:5]"
   ]
  },
  {
   "cell_type": "code",
   "execution_count": 6,
   "metadata": {},
   "outputs": [
    {
     "data": {
      "text/plain": [
       "array([[241.89356318],\n",
       "       [162.31047252],\n",
       "       [212.74085556],\n",
       "       [220.0424703 ],\n",
       "       [206.34980062]])"
      ]
     },
     "execution_count": 6,
     "metadata": {},
     "output_type": "execute_result"
    }
   ],
   "source": [
    "y_true[:5]"
   ]
  },
  {
   "cell_type": "code",
   "execution_count": 7,
   "metadata": {
    "collapsed": true
   },
   "outputs": [
    {
     "name": "stderr",
     "output_type": "stream",
     "text": [
      "2022-05-01 01:34:34.838157: I tensorflow/stream_executor/cuda/cuda_gpu_executor.cc:936] successful NUMA node read from SysFS had negative value (-1), but there must be at least one NUMA node, so returning NUMA node zero\n",
      "2022-05-01 01:34:34.838645: W tensorflow/stream_executor/platform/default/dso_loader.cc:64] Could not load dynamic library 'libcudart.so.11.0'; dlerror: libcudart.so.11.0: cannot open shared object file: No such file or directory\n",
      "2022-05-01 01:34:34.838751: W tensorflow/stream_executor/platform/default/dso_loader.cc:64] Could not load dynamic library 'libcublas.so.11'; dlerror: libcublas.so.11: cannot open shared object file: No such file or directory\n",
      "2022-05-01 01:34:34.838838: W tensorflow/stream_executor/platform/default/dso_loader.cc:64] Could not load dynamic library 'libcublasLt.so.11'; dlerror: libcublasLt.so.11: cannot open shared object file: No such file or directory\n",
      "2022-05-01 01:34:34.838924: W tensorflow/stream_executor/platform/default/dso_loader.cc:64] Could not load dynamic library 'libcufft.so.10'; dlerror: libcufft.so.10: cannot open shared object file: No such file or directory\n",
      "2022-05-01 01:34:34.839011: W tensorflow/stream_executor/platform/default/dso_loader.cc:64] Could not load dynamic library 'libcurand.so.10'; dlerror: libcurand.so.10: cannot open shared object file: No such file or directory\n",
      "2022-05-01 01:34:34.839092: W tensorflow/stream_executor/platform/default/dso_loader.cc:64] Could not load dynamic library 'libcusolver.so.11'; dlerror: libcusolver.so.11: cannot open shared object file: No such file or directory\n",
      "2022-05-01 01:34:34.839173: W tensorflow/stream_executor/platform/default/dso_loader.cc:64] Could not load dynamic library 'libcusparse.so.11'; dlerror: libcusparse.so.11: cannot open shared object file: No such file or directory\n",
      "2022-05-01 01:34:34.839251: W tensorflow/stream_executor/platform/default/dso_loader.cc:64] Could not load dynamic library 'libcudnn.so.8'; dlerror: libcudnn.so.8: cannot open shared object file: No such file or directory\n",
      "2022-05-01 01:34:34.839266: W tensorflow/core/common_runtime/gpu/gpu_device.cc:1850] Cannot dlopen some GPU libraries. Please make sure the missing libraries mentioned above are installed properly if you would like to use GPU. Follow the guide at https://www.tensorflow.org/install/gpu for how to download and setup the required libraries for your platform.\n",
      "Skipping registering GPU devices...\n"
     ]
    }
   ],
   "source": [
    "model = Sequential()\n",
    "model.add(Dense(1, input_shape=(1,)))"
   ]
  },
  {
   "cell_type": "code",
   "execution_count": 8,
   "metadata": {},
   "outputs": [
    {
     "name": "stdout",
     "output_type": "stream",
     "text": [
      "Model: \"sequential\"\n",
      "_________________________________________________________________\n",
      " Layer (type)                Output Shape              Param #   \n",
      "=================================================================\n",
      " dense (Dense)               (None, 1)                 2         \n",
      "                                                                 \n",
      "=================================================================\n",
      "Total params: 2\n",
      "Trainable params: 2\n",
      "Non-trainable params: 0\n",
      "_________________________________________________________________\n"
     ]
    }
   ],
   "source": [
    "model.summary()"
   ]
  },
  {
   "cell_type": "code",
   "execution_count": 9,
   "metadata": {
    "collapsed": true
   },
   "outputs": [
    {
     "name": "stderr",
     "output_type": "stream",
     "text": [
      "/home/hassan/.local/lib/python3.8/site-packages/keras/optimizer_v2/adam.py:105: UserWarning: The `lr` argument is deprecated, use `learning_rate` instead.\n",
      "  super(Adam, self).__init__(name, **kwargs)\n"
     ]
    }
   ],
   "source": [
    "model.compile(Adam(lr=0.8), 'mean_squared_error')"
   ]
  },
  {
   "cell_type": "code",
   "execution_count": 10,
   "metadata": {},
   "outputs": [
    {
     "name": "stdout",
     "output_type": "stream",
     "text": [
      "Epoch 1/40\n",
      "313/313 [==============================] - 1s 1ms/step - loss: 1515.6935\n",
      "Epoch 2/40\n",
      "313/313 [==============================] - 0s 1ms/step - loss: 575.7847\n",
      "Epoch 3/40\n",
      "313/313 [==============================] - 0s 1ms/step - loss: 535.3175\n",
      "Epoch 4/40\n",
      "313/313 [==============================] - 0s 1ms/step - loss: 503.2332\n",
      "Epoch 5/40\n",
      "313/313 [==============================] - 0s 1ms/step - loss: 450.9585\n",
      "Epoch 6/40\n",
      "313/313 [==============================] - 0s 1ms/step - loss: 421.4698\n",
      "Epoch 7/40\n",
      "313/313 [==============================] - 0s 1ms/step - loss: 382.6892\n",
      "Epoch 8/40\n",
      "313/313 [==============================] - 0s 1ms/step - loss: 373.5424\n",
      "Epoch 9/40\n",
      "313/313 [==============================] - 0s 1ms/step - loss: 323.8326\n",
      "Epoch 10/40\n",
      "313/313 [==============================] - 0s 1ms/step - loss: 291.2059\n",
      "Epoch 11/40\n",
      "313/313 [==============================] - 0s 983us/step - loss: 262.9496\n",
      "Epoch 12/40\n",
      "313/313 [==============================] - 0s 1ms/step - loss: 257.6227\n",
      "Epoch 13/40\n",
      "313/313 [==============================] - 0s 1ms/step - loss: 242.2075\n",
      "Epoch 14/40\n",
      "313/313 [==============================] - 0s 994us/step - loss: 229.7779\n",
      "Epoch 15/40\n",
      "313/313 [==============================] - 0s 1ms/step - loss: 204.6782\n",
      "Epoch 16/40\n",
      "313/313 [==============================] - 0s 1ms/step - loss: 204.8298\n",
      "Epoch 17/40\n",
      "313/313 [==============================] - 0s 1ms/step - loss: 190.0848\n",
      "Epoch 18/40\n",
      "313/313 [==============================] - 0s 1ms/step - loss: 193.2241\n",
      "Epoch 19/40\n",
      "313/313 [==============================] - 0s 1ms/step - loss: 191.4830\n",
      "Epoch 20/40\n",
      "313/313 [==============================] - 0s 1ms/step - loss: 183.4642\n",
      "Epoch 21/40\n",
      "313/313 [==============================] - 0s 1ms/step - loss: 190.8017\n",
      "Epoch 22/40\n",
      "313/313 [==============================] - 0s 1ms/step - loss: 181.2195\n",
      "Epoch 23/40\n",
      "313/313 [==============================] - 0s 1ms/step - loss: 182.5318\n",
      "Epoch 24/40\n",
      "313/313 [==============================] - 0s 1ms/step - loss: 178.6527\n",
      "Epoch 25/40\n",
      "313/313 [==============================] - 0s 1ms/step - loss: 175.3392\n",
      "Epoch 26/40\n",
      "313/313 [==============================] - 0s 1ms/step - loss: 172.8251\n",
      "Epoch 27/40\n",
      "313/313 [==============================] - 0s 1ms/step - loss: 178.0935\n",
      "Epoch 28/40\n",
      "313/313 [==============================] - 0s 1ms/step - loss: 183.9983\n",
      "Epoch 29/40\n",
      "313/313 [==============================] - 0s 1ms/step - loss: 172.7431\n",
      "Epoch 30/40\n",
      "313/313 [==============================] - 0s 1ms/step - loss: 185.9624\n",
      "Epoch 31/40\n",
      "313/313 [==============================] - 0s 1ms/step - loss: 186.3608\n",
      "Epoch 32/40\n",
      "313/313 [==============================] - 0s 1ms/step - loss: 170.0716\n",
      "Epoch 33/40\n",
      "313/313 [==============================] - 0s 1ms/step - loss: 173.8288\n",
      "Epoch 34/40\n",
      "313/313 [==============================] - 0s 1ms/step - loss: 171.5219\n",
      "Epoch 35/40\n",
      "313/313 [==============================] - 0s 1ms/step - loss: 165.5354\n",
      "Epoch 36/40\n",
      "313/313 [==============================] - 0s 1ms/step - loss: 186.2778\n",
      "Epoch 37/40\n",
      "313/313 [==============================] - 0s 1ms/step - loss: 171.5184\n",
      "Epoch 38/40\n",
      "313/313 [==============================] - 0s 997us/step - loss: 174.5405\n",
      "Epoch 39/40\n",
      "313/313 [==============================] - 0s 1ms/step - loss: 177.6297\n",
      "Epoch 40/40\n",
      "313/313 [==============================] - 0s 1ms/step - loss: 174.9866\n"
     ]
    },
    {
     "data": {
      "text/plain": [
       "<keras.callbacks.History at 0x7f9ad82b1df0>"
      ]
     },
     "execution_count": 10,
     "metadata": {},
     "output_type": "execute_result"
    }
   ],
   "source": [
    "model.fit(X,y_true, epochs=40)"
   ]
  },
  {
   "cell_type": "code",
   "execution_count": 11,
   "metadata": {
    "collapsed": true
   },
   "outputs": [],
   "source": [
    "y_pred=model.predict(X)"
   ]
  },
  {
   "cell_type": "code",
   "execution_count": 12,
   "metadata": {},
   "outputs": [
    {
     "data": {
      "text/plain": [
       "[<matplotlib.lines.Line2D at 0x7f9ad17f5880>]"
      ]
     },
     "execution_count": 12,
     "metadata": {},
     "output_type": "execute_result"
    },
    {
     "data": {
      "image/png": "[encoded data removed]",
      "text/plain": [
       "<Figure size 432x288 with 1 Axes>"
      ]
     },
     "metadata": {
      "needs_background": "light"
     },
     "output_type": "display_data"
    }
   ],
   "source": [
    "df.plot(kind='scatter',\n",
    "       x='Height',\n",
    "       y='Weight', title='Weight and Height in adults')\n",
    "plt.plot(X, y_pred, color='red', linewidth=3)"
   ]
  },
  {
   "cell_type": "code",
   "execution_count": 13,
   "metadata": {
    "collapsed": true
   },
   "outputs": [],
   "source": [
    "w,b=model.get_weights()"
   ]
  },
  {
   "cell_type": "code",
   "execution_count": 14,
   "metadata": {},
   "outputs": [
    {
     "data": {
      "text/plain": [
       "array([[7.605415]], dtype=float32)"
      ]
     },
     "execution_count": 14,
     "metadata": {},
     "output_type": "execute_result"
    }
   ],
   "source": [
    "w"
   ]
  },
  {
   "cell_type": "code",
   "execution_count": 15,
   "metadata": {},
   "outputs": [
    {
     "data": {
      "text/plain": [
       "array([-348.07745], dtype=float32)"
      ]
     },
     "execution_count": 15,
     "metadata": {},
     "output_type": "execute_result"
    }
   ],
   "source": [
    "b"
   ]
  }
 ],
 "metadata": {
  "kernelspec": {
   "display_name": "Python 3",
   "language": "python",
   "name": "python3"
  },
  "language_info": {
   "codemirror_mode": {
    "name": "ipython",
    "version": 3
   },
   "file_extension": ".py",
   "mimetype": "text/x-python",
   "name": "python",
   "nbconvert_exporter": "python",
   "pygments_lexer": "ipython3",
   "version": "3.8.10"
  }
 },
 "nbformat": 4,
 "nbformat_minor": 2
}
