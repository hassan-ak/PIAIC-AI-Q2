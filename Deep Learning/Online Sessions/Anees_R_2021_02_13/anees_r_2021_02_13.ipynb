{
 "cells": [
  {
   "cell_type": "markdown",
   "metadata": {},
   "source": [
    "# Deep Learning - Anees Ahmad - 2021/02/13"
   ]
  },
  {
   "cell_type": "markdown",
   "metadata": {},
   "source": [
    "# 1 What is deep learning?"
   ]
  },
  {
   "cell_type": "markdown",
   "metadata": {},
   "source": [
    "## 1.1 Artificial intelligence, machine learning, and deep learning\n",
    "\n",
    "![Artificial intelligence, machine learning, and deep learning](./snaps/one.PNG)"
   ]
  },
  {
   "cell_type": "markdown",
   "metadata": {},
   "source": [
    "### 1.1.1 Artificial intelligence\n",
    "- AI can be described as the effort to automate intellectual tasks normally performed by humans.\n",
    "    - Symbolic AI\n",
    "    - Machine Learning"
   ]
  }
 ],
 "metadata": {
  "language_info": {
   "name": "python"
  },
  "orig_nbformat": 4
 },
 "nbformat": 4,
 "nbformat_minor": 2
}
