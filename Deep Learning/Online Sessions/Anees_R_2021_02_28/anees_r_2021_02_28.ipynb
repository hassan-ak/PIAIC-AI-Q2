{
 "cells": [
  {
   "cell_type": "markdown",
   "metadata": {},
   "source": [
    "# Deep Learning - Anees Ahmad - 2021/02/28"
   ]
  },
  {
   "cell_type": "markdown",
   "metadata": {},
   "source": [
    "# Chapter 02 - Before we begin: the mathematical building blocks of neural networks"
   ]
  },
  {
   "cell_type": "code",
   "execution_count": 1,
   "metadata": {},
   "outputs": [],
   "source": [
    "# Tensor\n",
    "    # Multidimesnion numpy arrays are known as tensors\n",
    "    # container of data\n",
    "# Tensor Operations\n",
    "    # Layers building blocks\n",
    "    # gears of neural networks\n",
    "# differentiation\n",
    "    # process of finding rate of change\n",
    "# gradient descent\n",
    "    # algorithm to minimize a function by moving in direction of steepest descent"
   ]
  },
  {
   "cell_type": "markdown",
   "metadata": {},
   "source": [
    "## 2.1 A first look at a neural network"
   ]
  },
  {
   "cell_type": "code",
   "execution_count": 2,
   "metadata": {},
   "outputs": [],
   "source": [
    "# a category in a classification problem is called a class. \n",
    "# Data points are called samples. \n",
    "# The class associated with a specific sample is called a label."
   ]
  },
  {
   "cell_type": "code",
   "execution_count": 3,
   "metadata": {},
   "outputs": [
    {
     "name": "stderr",
     "output_type": "stream",
     "text": [
      "2022-05-02 01:08:14.895763: W tensorflow/stream_executor/platform/default/dso_loader.cc:64] Could not load dynamic library 'libcudart.so.11.0'; dlerror: libcudart.so.11.0: cannot open shared object file: No such file or directory\n",
      "2022-05-02 01:08:14.895792: I tensorflow/stream_executor/cuda/cudart_stub.cc:29] Ignore above cudart dlerror if you do not have a GPU set up on your machine.\n"
     ]
    }
   ],
   "source": [
    "# Listing 2.1 Loading the MNIST dataset in Keras\n",
    "\n",
    "    # grayscale images\n",
    "    # 28 * 28 pixcels\n",
    "    # 10 classes\n",
    "    # 60000 training\n",
    "    # 10000 testing\n",
    "\n",
    "# import mnist data set from keras\n",
    "from tensorflow.keras.datasets import mnist"
   ]
  },
  {
   "cell_type": "code",
   "execution_count": 4,
   "metadata": {},
   "outputs": [],
   "source": [
    "# Listing 2.1 Loading the MNIST dataset in Keras\n",
    "\n",
    "# split data to training and testing data sets\n",
    "# data\n",
    "    # images\n",
    "    # labels\n",
    "# train_images and train_labels form the training set,\n",
    "# test set, test_images and test_labels\n",
    "(train_images, train_labels), (test_images, test_labels) = mnist.load_data()\n",
    "# The images are encoded as Numpy arrays\n",
    "# labels are an array of digits, ranging from 0 to 9. \n",
    "# The images and labels have a one-to-one correspondence."
   ]
  },
  {
   "cell_type": "code",
   "execution_count": 5,
   "metadata": {},
   "outputs": [
    {
     "name": "stdout",
     "output_type": "stream",
     "text": [
      "Shape of training images :  (60000, 28, 28)\n",
      "Shape of training images labels :  (60000,)\n",
      "Labels of training images :  [5 0 4 ... 5 6 8]\n"
     ]
    }
   ],
   "source": [
    "# training data\n",
    "print(\"Shape of training images : \",train_images.shape)\n",
    "print(\"Shape of training images labels : \",train_labels.shape)\n",
    "print(\"Labels of training images : \",train_labels)"
   ]
  },
  {
   "cell_type": "code",
   "execution_count": 6,
   "metadata": {},
   "outputs": [
    {
     "name": "stdout",
     "output_type": "stream",
     "text": [
      "Shape of test images :  (10000, 28, 28)\n",
      "Shape of test images labels :  (10000,)\n",
      "Labels of test images :  [7 2 1 ... 4 5 6]\n"
     ]
    }
   ],
   "source": [
    "# testing data\n",
    "print(\"Shape of test images : \",test_images.shape)\n",
    "print(\"Shape of test images labels : \",test_labels.shape)\n",
    "print(\"Labels of test images : \",test_labels)"
   ]
  },
  {
   "cell_type": "code",
   "execution_count": 7,
   "metadata": {},
   "outputs": [],
   "source": [
    "# WorkFlow\n",
    "    # feed the neural network the training data\n",
    "    # learn to associate images and labels\n",
    "    # ask the network to produce predictions for test_images\n",
    "    # verify whether these predictions match the labels from test_labels"
   ]
  },
  {
   "cell_type": "code",
   "execution_count": 8,
   "metadata": {},
   "outputs": [
    {
     "data": {
      "image/png": "[encoded data removed]",
      "text/plain": [
       "<Figure size 576x576 with 1 Axes>"
      ]
     },
     "metadata": {
      "needs_background": "light"
     },
     "output_type": "display_data"
    }
   ],
   "source": [
    "# Check one of the image\n",
    "import matplotlib.pylab as plt\n",
    "def plti(im, h=8, **kwargs):\n",
    "    \"\"\"\n",
    "    Helper function to plot an image.\n",
    "    \"\"\"\n",
    "    y = im.shape[0]\n",
    "    x = im.shape[1]\n",
    "    w = (y/x) * h\n",
    "    plt.figure(figsize=(w, h))\n",
    "    plt.imshow(im, interpolation=\"none\", **kwargs)\n",
    "    plt.axis('off')\n",
    "plti(train_images[0])"
   ]
  },
  {
   "cell_type": "code",
   "execution_count": 9,
   "metadata": {},
   "outputs": [],
   "source": [
    "# Layer\n",
    "    # The core building block of neural networks \n",
    "    # a data-processing module (filter).\n",
    "    # Some data goes in, and it comes out in a more use-ful form.\n",
    "    # Extract representations\n",
    "# Deep learning consists of channing together simple layers whihc forms data distillation\n",
    "# Model\n",
    "    # made of refined data filters"
   ]
  },
  {
   "cell_type": "code",
   "execution_count": 10,
   "metadata": {},
   "outputs": [
    {
     "name": "stderr",
     "output_type": "stream",
     "text": [
      "2022-05-02 01:08:30.771134: I tensorflow/stream_executor/cuda/cuda_gpu_executor.cc:936] successful NUMA node read from SysFS had negative value (-1), but there must be at least one NUMA node, so returning NUMA node zero\n",
      "2022-05-02 01:08:30.771621: W tensorflow/stream_executor/platform/default/dso_loader.cc:64] Could not load dynamic library 'libcudart.so.11.0'; dlerror: libcudart.so.11.0: cannot open shared object file: No such file or directory\n",
      "2022-05-02 01:08:30.771696: W tensorflow/stream_executor/platform/default/dso_loader.cc:64] Could not load dynamic library 'libcublas.so.11'; dlerror: libcublas.so.11: cannot open shared object file: No such file or directory\n",
      "2022-05-02 01:08:30.771762: W tensorflow/stream_executor/platform/default/dso_loader.cc:64] Could not load dynamic library 'libcublasLt.so.11'; dlerror: libcublasLt.so.11: cannot open shared object file: No such file or directory\n",
      "2022-05-02 01:08:30.773479: W tensorflow/stream_executor/platform/default/dso_loader.cc:64] Could not load dynamic library 'libcusolver.so.11'; dlerror: libcusolver.so.11: cannot open shared object file: No such file or directory\n",
      "2022-05-02 01:08:30.773553: W tensorflow/stream_executor/platform/default/dso_loader.cc:64] Could not load dynamic library 'libcusparse.so.11'; dlerror: libcusparse.so.11: cannot open shared object file: No such file or directory\n",
      "2022-05-02 01:08:30.773617: W tensorflow/stream_executor/platform/default/dso_loader.cc:64] Could not load dynamic library 'libcudnn.so.8'; dlerror: libcudnn.so.8: cannot open shared object file: No such file or directory\n",
      "2022-05-02 01:08:30.773631: W tensorflow/core/common_runtime/gpu/gpu_device.cc:1850] Cannot dlopen some GPU libraries. Please make sure the missing libraries mentioned above are installed properly if you would like to use GPU. Follow the guide at https://www.tensorflow.org/install/gpu for how to download and setup the required libraries for your platform.\n",
      "Skipping registering GPU devices...\n"
     ]
    }
   ],
   "source": [
    "# Listing 2.2 The network architecture\n",
    "\n",
    "# import model and layers\n",
    "from tensorflow import keras\n",
    "from tensorflow.keras import layers\n",
    "\n",
    "# Define network and layers\n",
    "model = keras.Sequential([\n",
    "    layers.Dense(512,activation=\"relu\"),\n",
    "    layers.Dense(10,activation=\"softmax\")\n",
    "])\n",
    "# sequential model process one layer at a time\n",
    "# Dense is type of neural network\n",
    "# input shape defines shape of input data if added to layer\n",
    "# initial number is shape of output data from a layer / nodes of layer\n",
    "# activation function \n",
    "    # transform linearity to non-linearity \n",
    "    # defines how weighted sum is transformed\n",
    "# relu is rectified linear unit it returns as it is if positive other wise zero\n",
    "# softmax predict a multinomial probability distribution"
   ]
  }
 ],
 "metadata": {
  "interpreter": {
   "hash": "916dbcbb3f70747c44a77c7bcd40155683ae19c65e1c03b4aa3499c5328201f1"
  },
  "kernelspec": {
   "display_name": "Python 3.8.10 64-bit",
   "language": "python",
   "name": "python3"
  },
  "language_info": {
   "codemirror_mode": {
    "name": "ipython",
    "version": 3
   },
   "file_extension": ".py",
   "mimetype": "text/x-python",
   "name": "python",
   "nbconvert_exporter": "python",
   "pygments_lexer": "ipython3",
   "version": "3.8.10"
  },
  "orig_nbformat": 4
 },
 "nbformat": 4,
 "nbformat_minor": 2
}
