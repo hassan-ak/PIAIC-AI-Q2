{
  "nbformat": 4,
  "nbformat_minor": 0,
  "metadata": {
    "colab": {
      "name": "4.ipynb",
      "provenance": [],
      "collapsed_sections": []
    },
    "kernelspec": {
      "name": "python3",
      "display_name": "Python 3"
    },
    "language_info": {
      "name": "python"
    },
    "accelerator": "GPU"
  },
  "cells": [
    {
      "cell_type": "markdown",
      "source": [
        "# 4 Getting started with neural networks: Classification and regression"
      ],
      "metadata": {
        "id": "MaAq9blCOklI"
      }
    },
    {
      "cell_type": "markdown",
      "source": [
        "- accuracy\n",
        "  - `accuracy = correct / total`\n",
        "- confussion matrix\n",
        "  - detailed report of a classifier success\n",
        "\n",
        "|     | +ve | -ve |\n",
        "| --- | --- | --- |\n",
        "| +ve | TP | FP |\n",
        "| +ve | FN | TN |\n",
        "\n",
        "- Preceision and recall\n",
        "  -  `preceision = TP / (TP + FP )`\n",
        "  -  `recall = TP / (TP + FN )` "
      ],
      "metadata": {
        "id": "fQ_4nhD6OoWa"
      }
    },
    {
      "cell_type": "markdown",
      "source": [
        "#### Classification and regression glossary"
      ],
      "metadata": {
        "id": "E2yfmP8vTAM2"
      }
    },
    {
      "cell_type": "markdown",
      "source": [
        "- Sample or input\n",
        "  - One data point that goes into your model.\n",
        "- Prediction or output\n",
        "  - What comes out of your model.\n",
        "- Target\n",
        "  - The truth. What your model should ideally have predicted, according to an external source of data.\n",
        "- Prediction error or loss value\n",
        "  - A measure of the distance between your model’s prediction and the target.\n",
        "- Classes\n",
        "  - A set of possible labels to choose from in a classification problem. For example, when classifying cat and dog pictures, “dog” and “cat” are the two classes.\n",
        "- Label\n",
        "  - A specific instance of a class annotation in a classification problem. For instance, if picture no. 1234 is annotated as containing the class “dog,” then “dog” is a label of picture no. 1234.\n",
        "- Ground-truth or annotations\n",
        "  -All targets for a dataset, typically collected by humans.\n",
        "- Binary classification\n",
        "  - A classification task where each input sample should be categorized into two exclusive categories.\n",
        "  - two classes (1 or 0)\n",
        "- Multiclass classification\n",
        "  - A classification task where each input sample should be categorized into more than two categories: for instance, classifying handwritten digits.\n",
        "- Multilabel classification\n",
        "  - A classification task where each input sample can be assigned multiple labels. For instance, a given image may contain both a cat and a dog and should be annotated both with the “cat” label and the “dog” label. The number of labels per image is usually variable.\n",
        "- Scalar regression\n",
        "  - A task where the target is a continuous scalar value. Predicting house prices is a good example: the different target prices form a continuous space.\n",
        "- Vector regression\n",
        "  - A task where the target is a set of continuous values: for example, a continuous vector. If you’re doing regression against multiple values (such as the coordinates of a bounding box in an image), then you’re doing vector regression.\n",
        "- Mini-batch or batch\n",
        "  - A small set of samples (typically between 8 and 128) that are processed simultaneously by the model. The number of samples is often a power of 2, to facilitate memory allocation on GPU. When training, a mini-batch is used to compute a single gradient-descent update applied to the weights of the model.\n"
      ],
      "metadata": {
        "id": "qY80XKemTJYy"
      }
    },
    {
      "cell_type": "markdown",
      "source": [
        "## 4.1 Classifying movie reviews: A binary classification example"
      ],
      "metadata": {
        "id": "QgqQDqtrU3OY"
      }
    },
    {
      "cell_type": "markdown",
      "source": [
        "- classify movie reviews as positive or negative, based on the text content of the reviews."
      ],
      "metadata": {
        "id": "SyQ-oyguVLkM"
      }
    },
    {
      "cell_type": "markdown",
      "source": [
        "### 4.1.1 The IMDB dataset"
      ],
      "metadata": {
        "id": "7JvSgc0DXPvS"
      }
    },
    {
      "cell_type": "markdown",
      "source": [
        "- 50,000 highly polarized reviews from the Internet Movie Database\n",
        "- 25,000 reviews for training\n",
        "- 25,000 reviews for testing\n",
        "- each set consisting\n",
        "  - 50% negative reviews\n",
        "  - 50% positive reviews\n",
        "- already been preprocessed\n",
        "  - the reviews (sequences of words) have been turned into sequences of integers\n",
        "  - each integer stands for a specific word in a dictionary."
      ],
      "metadata": {
        "id": "mFz0k8MwXmBN"
      }
    },
    {
      "cell_type": "code",
      "execution_count": 1,
      "metadata": {
        "id": "EOHwpHw2OYsl"
      },
      "outputs": [],
      "source": [
        "# Listing 4.1 Loading the IMDB dataset\n",
        "from tensorflow.keras.datasets import imdb\n",
        "(train_data, train_labels), (test_data, test_labels) = imdb.load_data(num_words=10000)"
      ]
    },
    {
      "cell_type": "markdown",
      "source": [
        "- The argument num_words=10000 is to keep the top 10,000 most frequently occurring words in the training data. \n",
        "- Rare words will be discarded. \n",
        "- This allows us to work with vector data of manageable size."
      ],
      "metadata": {
        "id": "qMTn_Y3yZXUz"
      }
    },
    {
      "cell_type": "code",
      "source": [
        "# shape of data\n",
        "print(\"Shape of training data : \",train_data.shape)\n",
        "print(\"Shape of training labels : \",train_labels.shape)\n",
        "print(\"Shape of testing data : \",test_data.shape)\n",
        "print(\"Shape of training labels : \",train_labels.shape)"
      ],
      "metadata": {
        "colab": {
          "base_uri": "https://localhost:8080/"
        },
        "id": "lGInlix8aMRr",
        "outputId": "6a5ce132-6c05-46b9-cb69-817b11f4636d"
      },
      "execution_count": 2,
      "outputs": [
        {
          "output_type": "stream",
          "name": "stdout",
          "text": [
            "Shape of training data :  (25000,)\n",
            "Shape of training labels :  (25000,)\n",
            "Shape of testing data :  (25000,)\n",
            "Shape of training labels :  (25000,)\n"
          ]
        }
      ]
    },
    {
      "cell_type": "code",
      "source": [
        "# samples of data\n",
        "print(\"1st review from training data : \",train_data[0])\n",
        "print(\"1st label from training data : \",train_labels[0])\n",
        "print(\"1st review from testing data : \",test_data[0])\n",
        "print(\"1st label from testing data : \",test_labels[0])\n"
      ],
      "metadata": {
        "colab": {
          "base_uri": "https://localhost:8080/"
        },
        "id": "ymOmrgUMa3M2",
        "outputId": "c5e86f5f-a940-4b8e-a7af-e0997201f3f2"
      },
      "execution_count": 3,
      "outputs": [
        {
          "output_type": "stream",
          "name": "stdout",
          "text": [
            "1st review from training data :  [1, 14, 22, 16, 43, 530, 973, 1622, 1385, 65, 458, 4468, 66, 3941, 4, 173, 36, 256, 5, 25, 100, 43, 838, 112, 50, 670, 2, 9, 35, 480, 284, 5, 150, 4, 172, 112, 167, 2, 336, 385, 39, 4, 172, 4536, 1111, 17, 546, 38, 13, 447, 4, 192, 50, 16, 6, 147, 2025, 19, 14, 22, 4, 1920, 4613, 469, 4, 22, 71, 87, 12, 16, 43, 530, 38, 76, 15, 13, 1247, 4, 22, 17, 515, 17, 12, 16, 626, 18, 2, 5, 62, 386, 12, 8, 316, 8, 106, 5, 4, 2223, 5244, 16, 480, 66, 3785, 33, 4, 130, 12, 16, 38, 619, 5, 25, 124, 51, 36, 135, 48, 25, 1415, 33, 6, 22, 12, 215, 28, 77, 52, 5, 14, 407, 16, 82, 2, 8, 4, 107, 117, 5952, 15, 256, 4, 2, 7, 3766, 5, 723, 36, 71, 43, 530, 476, 26, 400, 317, 46, 7, 4, 2, 1029, 13, 104, 88, 4, 381, 15, 297, 98, 32, 2071, 56, 26, 141, 6, 194, 7486, 18, 4, 226, 22, 21, 134, 476, 26, 480, 5, 144, 30, 5535, 18, 51, 36, 28, 224, 92, 25, 104, 4, 226, 65, 16, 38, 1334, 88, 12, 16, 283, 5, 16, 4472, 113, 103, 32, 15, 16, 5345, 19, 178, 32]\n",
            "1st label from training data :  1\n",
            "1st review from testing data :  [1, 591, 202, 14, 31, 6, 717, 10, 10, 2, 2, 5, 4, 360, 7, 4, 177, 5760, 394, 354, 4, 123, 9, 1035, 1035, 1035, 10, 10, 13, 92, 124, 89, 488, 7944, 100, 28, 1668, 14, 31, 23, 27, 7479, 29, 220, 468, 8, 124, 14, 286, 170, 8, 157, 46, 5, 27, 239, 16, 179, 2, 38, 32, 25, 7944, 451, 202, 14, 6, 717]\n",
            "1st label from testing data :  0\n"
          ]
        }
      ]
    },
    {
      "cell_type": "markdown",
      "source": [
        "- reviews\n",
        "  - 1 for +ve\n",
        "  - 0 for -ve\n",
        "- as we’re restricting ourselves to the top 10,000 most frequent words, no word index will exceed 10,000\n"
      ],
      "metadata": {
        "id": "w_PImKQGb4YQ"
      }
    },
    {
      "cell_type": "code",
      "source": [
        "# find max value from sequence\n",
        "print(\"Maximum number in any sequence : \",max([max(sequence) for sequence in train_data]))"
      ],
      "metadata": {
        "colab": {
          "base_uri": "https://localhost:8080/"
        },
        "id": "C2430tENeFvF",
        "outputId": "4acb8b5a-7467-48ea-daef-05d810a6d69b"
      },
      "execution_count": 4,
      "outputs": [
        {
          "output_type": "stream",
          "name": "stdout",
          "text": [
            "Maximum number in any sequence :  9999\n"
          ]
        }
      ]
    },
    {
      "cell_type": "code",
      "source": [
        "# Listing 4.2 Decoding reviews back to text\n",
        "# load word index\n",
        "word_index = imdb.get_word_index()\n",
        "# reverse the dic so numbers come first and then word\n",
        "reverse_word_index = dict([(value, key) for (key, value) in word_index.items()]) \n",
        "# indices are offset by 3\n",
        "# 0, 1, and 2 are reserved indices for “padding,” “start of sequence,” and “unknown.”\n",
        "decoded_review = \" \".join([reverse_word_index.get(i-3, \"?\") for i in train_data[0]])\n",
        "print(\"1st review from training data : \",decoded_review)"
      ],
      "metadata": {
        "colab": {
          "base_uri": "https://localhost:8080/"
        },
        "id": "DrtqnWVrb88s",
        "outputId": "dd477942-8531-4606-9d13-c082fa227d3f"
      },
      "execution_count": 5,
      "outputs": [
        {
          "output_type": "stream",
          "name": "stdout",
          "text": [
            "1st review from training data :  ? this film was just brilliant casting location scenery story direction everyone's really suited the part they played and you could just imagine being there robert ? is an amazing actor and now the same being director ? father came from the same scottish island as myself so i loved the fact there was a real connection with this film the witty remarks throughout the film were great it was just brilliant so much that i bought the film as soon as it was released for ? and would recommend it to everyone to watch and the fly fishing was amazing really cried at the end it was so sad and you know what they say if you cry at a film it must have been good and this definitely was also ? to the two little boy's that played the ? of norman and paul they were just brilliant children are often left out of the ? list i think because the stars that play them all grown up are such a big profile for the whole film but these children are amazing and should be praised for what they have done don't you think the whole story was so lovely because it was true and was someone's life after all that was shared with us all\n"
          ]
        }
      ]
    },
    {
      "cell_type": "markdown",
      "source": [
        "### 4.1.2 Preparing the data"
      ],
      "metadata": {
        "id": "rERzS1H_iFqV"
      }
    },
    {
      "cell_type": "markdown",
      "source": [
        "-  a neural network expects to process contiguous batches of data\n",
        "- turn lists into tensors\n",
        "  - Pad your lists so that they all have the same length, turn them into an integer tensor of shape `(samples, max_length)`, and start your model with a layer capable of handling such integer tensors (the\n",
        "Embedding layer)\n",
        "  - Multi-hot encode your lists to turn them into vectors of 0s and 1s. This would mean, for instance, turniing the sequence [8, 5] into a 10,000-dimensional vector that would be all 0s except for indices 8 and 5, which would be 1s. Then you could use a Dense layer, capable of handling floating-point vector data, as the first layer in your model."
      ],
      "metadata": {
        "id": "hNTlSb0eiIZ8"
      }
    },
    {
      "cell_type": "code",
      "source": [
        "# Listing 4.3 Encoding the integer sequences via multi-hot encoding\n",
        "import numpy as np \n",
        "def vectorize_sequences(sequences, dimension=10000):\n",
        "  results = np.zeros((len(sequences), dimension))\n",
        "  for i, sequence in enumerate(sequences):\n",
        "    for j in sequence:\n",
        "      results[i, j] = 1.\n",
        "  return results\n",
        "x_train = vectorize_sequences(train_data)\n",
        "x_test = vectorize_sequences(test_data) "
      ],
      "metadata": {
        "id": "BYc2w0-ejJ6Y"
      },
      "execution_count": 2,
      "outputs": []
    },
    {
      "cell_type": "code",
      "source": [
        "# vectorize labels\n",
        "y_train = np.asarray(train_labels).astype(\"float32\")\n",
        "y_test = np.asarray(test_labels).astype(\"float32\")"
      ],
      "metadata": {
        "id": "x39KNA3kmdtq"
      },
      "execution_count": 3,
      "outputs": []
    },
    {
      "cell_type": "code",
      "source": [
        "# samples of data\n",
        "print(\"1st review from training data after vectorization : \",x_train[0])\n",
        "print(\"1st label from training data after vectorization: \",y_train[0])\n",
        "print(\"1st review from testing data after vectorization: \",x_test[0])\n",
        "print(\"1st label from testing data after vectorization: \",y_test[0])"
      ],
      "metadata": {
        "colab": {
          "base_uri": "https://localhost:8080/"
        },
        "id": "uKUeALpFmkJr",
        "outputId": "a652909a-7f0f-41f4-a300-5498d49eaf09"
      },
      "execution_count": 8,
      "outputs": [
        {
          "output_type": "stream",
          "name": "stdout",
          "text": [
            "1st review from training data after vectorization :  [0. 1. 1. ... 0. 0. 0.]\n",
            "1st label from training data after vectorization:  1.0\n",
            "1st review from testing data after vectorization:  [0. 1. 1. ... 0. 0. 0.]\n",
            "1st label from testing data after vectorization:  0.0\n"
          ]
        }
      ]
    },
    {
      "cell_type": "markdown",
      "source": [
        "### 4.1.3 Building your model"
      ],
      "metadata": {
        "id": "pgIr-3VRnWVI"
      }
    },
    {
      "cell_type": "markdown",
      "source": [
        "- input data\n",
        "  - vectors\n",
        "- labels\n",
        "  - scalars (1s and 0s)\n",
        "- model\n",
        "  - Dense layers\n",
        "    - 2 intermediate layers, 16 units each\n",
        "    - A third layer that will output the scalar prediction regarding the sentiment of the current review\n",
        "  - relu activation"
      ],
      "metadata": {
        "id": "AGDBOkR5AuAS"
      }
    },
    {
      "cell_type": "code",
      "source": [
        "# Listing 4.4 Model definition\n",
        "from tensorflow import keras \n",
        "from tensorflow.keras import layers\n",
        " \n",
        "model = keras.Sequential([\n",
        "  layers.Dense(16, activation=\"relu\"),\n",
        "  layers.Dense(16, activation=\"relu\"),\n",
        "  layers.Dense(1, activation=\"sigmoid\")\n",
        "])"
      ],
      "metadata": {
        "id": "rnPdE0OrnXhs"
      },
      "execution_count": 9,
      "outputs": []
    },
    {
      "cell_type": "markdown",
      "source": [
        "- Argumnets\n",
        "  - first argument\n",
        "    - number of units in the layer\n",
        "    - the dimensionality of representation space of the layer.\n",
        "    - Having more units allows model to learn more-complex representations, but it makes the model more computationally expensive and may lead to learning unwanted patterns\n",
        "  - second argument\n",
        "    - activation function layer.\n",
        "- relu activation\n",
        "  - eleminate -ve while return +ve as it is\n",
        "  - `output = relu(dot(input, W) + b)`\n",
        "    - W will have shape (input_dimension, number_of_units)\n",
        "    - the dot product with W will project the input data onto a 16-dimensional representation space\n",
        "- sigmoid activation\n",
        "  - probability of a single quantity\n"
      ],
      "metadata": {
        "id": "_zJ_iOrKCTVk"
      }
    },
    {
      "cell_type": "markdown",
      "source": [
        "- for compilation we need to chose \n",
        "  - loss function\n",
        "    - mean_squared_error\n",
        "      - binary classification\n",
        "    - binary_crossentropy\n",
        "      - binary classification problem\n",
        "      - output is probability\n",
        "        -  Crossentropy \n",
        "          - measures the distance between probability distributions\n",
        "          - measures the distance between between the ground-truth distribution and predictions\n",
        "  - optimizer\n",
        "    - rmsprop\n",
        "      - good default choice for virtually any problem."
      ],
      "metadata": {
        "id": "GkPAr-byEWyf"
      }
    },
    {
      "cell_type": "code",
      "source": [
        "# isting 4.5 Compiling the model\n",
        "model.compile(\n",
        "    optimizer=\"rmsprop\",\n",
        "    loss=\"binary_crossentropy\",\n",
        "    metrics=[\"accuracy\"])"
      ],
      "metadata": {
        "id": "3aip1j1cGfmt"
      },
      "execution_count": 10,
      "outputs": []
    },
    {
      "cell_type": "markdown",
      "source": [
        "### 4.1.4 Validating your approach"
      ],
      "metadata": {
        "id": "plVJfsA0GqzU"
      }
    },
    {
      "cell_type": "markdown",
      "source": [
        "- never be evaluated on its training data\n",
        "- use a validation set to monitor the accuracy of the model during training"
      ],
      "metadata": {
        "id": "2oKsfcfyHDAt"
      }
    },
    {
      "cell_type": "code",
      "source": [
        "# Listing 4.6 Setting aside a validation set\n",
        "x_val = x_train[:10000]\n",
        "partial_x_train = x_train[10000:]\n",
        "y_val = y_train[:10000]\n",
        "partial_y_train = y_train[10000:]"
      ],
      "metadata": {
        "id": "sRiZD4BOHNLk"
      },
      "execution_count": 4,
      "outputs": []
    },
    {
      "cell_type": "markdown",
      "source": [
        "- Train the model\n",
        "  - 20 apochs\n",
        "  - batch of 512 samples\n",
        "  - moniter loss and accuracy on splitted data"
      ],
      "metadata": {
        "id": "0J4jBIHiHkFA"
      }
    },
    {
      "cell_type": "code",
      "source": [
        "#  Listing 4.7 Training your model\n",
        "history = model.fit(\n",
        "    partial_x_train,\n",
        "    partial_y_train,\n",
        "    epochs=20,\n",
        "    batch_size=512,\n",
        "    validation_data=(x_val, y_val)\n",
        ")"
      ],
      "metadata": {
        "colab": {
          "base_uri": "https://localhost:8080/"
        },
        "id": "xFG3orrYH-aa",
        "outputId": "e2dbcbfa-f4e1-4ffd-ea3c-b696de704118"
      },
      "execution_count": 12,
      "outputs": [
        {
          "output_type": "stream",
          "name": "stdout",
          "text": [
            "Epoch 1/20\n",
            "30/30 [==============================] - 2s 43ms/step - loss: 0.5368 - accuracy: 0.7882 - val_loss: 0.4194 - val_accuracy: 0.8436\n",
            "Epoch 2/20\n",
            "30/30 [==============================] - 1s 21ms/step - loss: 0.3225 - accuracy: 0.8952 - val_loss: 0.3121 - val_accuracy: 0.8844\n",
            "Epoch 3/20\n",
            "30/30 [==============================] - 1s 21ms/step - loss: 0.2340 - accuracy: 0.9235 - val_loss: 0.2815 - val_accuracy: 0.8905\n",
            "Epoch 4/20\n",
            "30/30 [==============================] - 1s 21ms/step - loss: 0.1836 - accuracy: 0.9401 - val_loss: 0.3116 - val_accuracy: 0.8740\n",
            "Epoch 5/20\n",
            "30/30 [==============================] - 1s 25ms/step - loss: 0.1503 - accuracy: 0.9521 - val_loss: 0.2825 - val_accuracy: 0.8870\n",
            "Epoch 6/20\n",
            "30/30 [==============================] - 1s 20ms/step - loss: 0.1261 - accuracy: 0.9613 - val_loss: 0.3125 - val_accuracy: 0.8803\n",
            "Epoch 7/20\n",
            "30/30 [==============================] - 1s 22ms/step - loss: 0.1024 - accuracy: 0.9695 - val_loss: 0.3105 - val_accuracy: 0.8827\n",
            "Epoch 8/20\n",
            "30/30 [==============================] - 1s 20ms/step - loss: 0.0859 - accuracy: 0.9756 - val_loss: 0.3337 - val_accuracy: 0.8787\n",
            "Epoch 9/20\n",
            "30/30 [==============================] - 1s 20ms/step - loss: 0.0719 - accuracy: 0.9799 - val_loss: 0.3440 - val_accuracy: 0.8822\n",
            "Epoch 10/20\n",
            "30/30 [==============================] - 1s 21ms/step - loss: 0.0586 - accuracy: 0.9841 - val_loss: 0.3714 - val_accuracy: 0.8811\n",
            "Epoch 11/20\n",
            "30/30 [==============================] - 1s 21ms/step - loss: 0.0492 - accuracy: 0.9869 - val_loss: 0.3964 - val_accuracy: 0.8804\n",
            "Epoch 12/20\n",
            "30/30 [==============================] - 1s 20ms/step - loss: 0.0387 - accuracy: 0.9919 - val_loss: 0.4980 - val_accuracy: 0.8636\n",
            "Epoch 13/20\n",
            "30/30 [==============================] - 1s 23ms/step - loss: 0.0323 - accuracy: 0.9937 - val_loss: 0.4944 - val_accuracy: 0.8694\n",
            "Epoch 14/20\n",
            "30/30 [==============================] - 1s 24ms/step - loss: 0.0262 - accuracy: 0.9952 - val_loss: 0.4832 - val_accuracy: 0.8718\n",
            "Epoch 15/20\n",
            "30/30 [==============================] - 1s 28ms/step - loss: 0.0198 - accuracy: 0.9968 - val_loss: 0.5543 - val_accuracy: 0.8686\n",
            "Epoch 16/20\n",
            "30/30 [==============================] - 1s 27ms/step - loss: 0.0173 - accuracy: 0.9973 - val_loss: 0.5506 - val_accuracy: 0.8704\n",
            "Epoch 17/20\n",
            "30/30 [==============================] - 1s 34ms/step - loss: 0.0144 - accuracy: 0.9975 - val_loss: 0.5804 - val_accuracy: 0.8690\n",
            "Epoch 18/20\n",
            "30/30 [==============================] - 1s 32ms/step - loss: 0.0083 - accuracy: 0.9995 - val_loss: 0.6185 - val_accuracy: 0.8679\n",
            "Epoch 19/20\n",
            "30/30 [==============================] - 1s 37ms/step - loss: 0.0092 - accuracy: 0.9988 - val_loss: 0.6533 - val_accuracy: 0.8668\n",
            "Epoch 20/20\n",
            "30/30 [==============================] - 1s 31ms/step - loss: 0.0082 - accuracy: 0.9984 - val_loss: 0.7027 - val_accuracy: 0.8634\n"
          ]
        }
      ]
    },
    {
      "cell_type": "markdown",
      "source": [
        "- History object\n",
        "  - a dictionary containing data about everything that happened during training."
      ],
      "metadata": {
        "id": "Avdpf4rrIc3K"
      }
    },
    {
      "cell_type": "code",
      "source": [
        "# check history object\n",
        "print(\"History of model fitting : \")\n",
        "history_dict = history.history\n",
        "print(history_dict)\n",
        "print(\"dictonary keys : \")\n",
        "print(history_dict.keys())"
      ],
      "metadata": {
        "colab": {
          "base_uri": "https://localhost:8080/"
        },
        "id": "rxXfSs-aIW9o",
        "outputId": "dbeeab33-bbdc-4c86-edbc-0a93e0c69d90"
      },
      "execution_count": 13,
      "outputs": [
        {
          "output_type": "stream",
          "name": "stdout",
          "text": [
            "History of model fitting : \n",
            "{'loss': [0.5368212461471558, 0.32247278094291687, 0.2340405136346817, 0.18363220989704132, 0.15032555162906647, 0.12610067427158356, 0.10235955566167831, 0.08585911989212036, 0.07194250822067261, 0.05861682444810867, 0.04916830360889435, 0.03873392567038536, 0.032270368188619614, 0.026231376454234123, 0.019800540059804916, 0.017280997708439827, 0.014368715696036816, 0.008346964605152607, 0.00918675772845745, 0.008237346075475216], 'accuracy': [0.7882000207901001, 0.8952000141143799, 0.9235333204269409, 0.9400666952133179, 0.9521333575248718, 0.9613333344459534, 0.9694666862487793, 0.975600004196167, 0.9798666834831238, 0.9841333627700806, 0.9869333505630493, 0.9919333457946777, 0.9937333464622498, 0.995199978351593, 0.9968000054359436, 0.9972666501998901, 0.9975333213806152, 0.9995333552360535, 0.9987999796867371, 0.9983999729156494], 'val_loss': [0.41944965720176697, 0.31210950016975403, 0.2814846336841583, 0.3115677237510681, 0.2825174629688263, 0.31246161460876465, 0.310464084148407, 0.33368274569511414, 0.34400850534439087, 0.37139609456062317, 0.39643043279647827, 0.4979766607284546, 0.49438008666038513, 0.48320960998535156, 0.5543276071548462, 0.5506027340888977, 0.5804405212402344, 0.6185322403907776, 0.6532915234565735, 0.7026618123054504], 'val_accuracy': [0.8435999751091003, 0.8844000101089478, 0.890500009059906, 0.8740000128746033, 0.8870000243186951, 0.880299985408783, 0.8827000260353088, 0.8787000179290771, 0.8822000026702881, 0.8810999989509583, 0.8804000020027161, 0.8636000156402588, 0.8694000244140625, 0.8718000054359436, 0.8686000108718872, 0.8704000115394592, 0.8690000176429749, 0.867900013923645, 0.8668000102043152, 0.8633999824523926]}\n",
            "dictonary keys : \n",
            "dict_keys(['loss', 'accuracy', 'val_loss', 'val_accuracy'])\n"
          ]
        }
      ]
    },
    {
      "cell_type": "code",
      "source": [
        "# Listing 4.8 Plotting the training and validation loss\n",
        "import matplotlib.pyplot as plt\n",
        "def plot_loss(historyDic):\n",
        "  history_dict = historyDic.history\n",
        "  loss_values = history_dict[\"loss\"]\n",
        "  val_loss_values = history_dict[\"val_loss\"]\n",
        "  epochs = range(1, len(loss_values) + 1)\n",
        "  plt.clf()\n",
        "  plt.plot(epochs, loss_values, \"bo\", label=\"Training loss\")\n",
        "  plt.plot(epochs, val_loss_values, \"b\", label=\"Validation loss\")\n",
        "  plt.title(\"Training and validation loss\")\n",
        "  plt.xlabel(\"Epochs\")\n",
        "  plt.ylabel(\"Loss\")\n",
        "  plt.legend()\n",
        "  plt.show()"
      ],
      "metadata": {
        "id": "z3HQomaPJRFN"
      },
      "execution_count": 5,
      "outputs": []
    },
    {
      "cell_type": "code",
      "source": [
        "plot_loss(history)"
      ],
      "metadata": {
        "colab": {
          "base_uri": "https://localhost:8080/",
          "height": 295
        },
        "id": "SMXdScxcYaaw",
        "outputId": "7e6bb927-9a9f-4e58-b5b4-959359db5e6e"
      },
      "execution_count": 15,
      "outputs": [
        {
          "output_type": "display_data",
          "data": {
            "text/plain": [
              "<Figure size 432x288 with 1 Axes>"
            ],
            "image/png": "[encoded data removed]"
          },
          "metadata": {
            "needs_background": "light"
          }
        }
      ]
    },
    {
      "cell_type": "code",
      "source": [
        "# Listing 4.9 Plotting the training and validation accuracy\n",
        "def plot_acc(historyDic):\n",
        "  history_dict = historyDic.history\n",
        "  acc = history_dict[\"accuracy\"]\n",
        "  val_acc = history_dict[\"val_accuracy\"]\n",
        "  epochs = range(1, len(acc) + 1)\n",
        "  plt.clf()\n",
        "  plt.plot(epochs, acc, \"bo\", label=\"Training acc\")\n",
        "  plt.plot(epochs, val_acc, \"b\", label=\"Validation acc\")\n",
        "  plt.title(\"Training and validation accuracy\")\n",
        "  plt.xlabel(\"Epochs\")\n",
        "  plt.ylabel(\"Accuracy\")\n",
        "  plt.legend()\n",
        "  plt.show()"
      ],
      "metadata": {
        "id": "hq2y_akkJ8sO"
      },
      "execution_count": 6,
      "outputs": []
    },
    {
      "cell_type": "code",
      "source": [
        "plot_acc(history)"
      ],
      "metadata": {
        "colab": {
          "base_uri": "https://localhost:8080/",
          "height": 295
        },
        "id": "a165CL5bYcAg",
        "outputId": "7e110ae4-fbe3-4dac-ba62-29fed0e3cc8f"
      },
      "execution_count": 17,
      "outputs": [
        {
          "output_type": "display_data",
          "data": {
            "text/plain": [
              "<Figure size 432x288 with 1 Axes>"
            ],
            "image/png": "[encoded data removed]"
          },
          "metadata": {
            "needs_background": "light"
          }
        }
      ]
    },
    {
      "cell_type": "markdown",
      "source": [
        "- running gradient-descent optimization\n",
        "  - the quantity trying to minimize should be less with every iteration\n",
        "  - training loss decreases with every epoch, and the training accuracy increases with every epoch.\n",
        "  - But that isn’t the case for the validation loss\n",
        "and accuracy\n",
        "    - they seem to peak at the fourth epoch.\n",
        "- overfitting\n",
        "  - a model that performs better on the training data isn’t necessarily a model that will do better on data\n",
        "it has never seen before.\n",
        "  - after the fifth epoch, overoptimizing on the training data\n",
        "  - end up learning representations that are specific to the training data and don’t generalize to data outside of the training set."
      ],
      "metadata": {
        "id": "DIz6GGMYKXTE"
      }
    },
    {
      "cell_type": "code",
      "source": [
        "# Listing 4.10 Retraining a model from scratch\n",
        "model = keras.Sequential([\n",
        "    layers.Dense(16, activation=\"relu\"),\n",
        "    layers.Dense(16, activation=\"relu\"),\n",
        "    layers.Dense(1, activation=\"sigmoid\")\n",
        "])\n",
        "model.compile(\n",
        "    optimizer=\"rmsprop\",\n",
        "    loss=\"binary_crossentropy\",\n",
        "    metrics=[\"accuracy\"])\n",
        "history = model.fit(x_train, y_train, epochs=5, batch_size=512)"
      ],
      "metadata": {
        "colab": {
          "base_uri": "https://localhost:8080/"
        },
        "id": "SLv8IRPiPECg",
        "outputId": "3bc34202-dd3c-482e-bd3a-6c34eb35b1ab"
      },
      "execution_count": 18,
      "outputs": [
        {
          "output_type": "stream",
          "name": "stdout",
          "text": [
            "Epoch 1/5\n",
            "49/49 [==============================] - 1s 13ms/step - loss: 0.4564 - accuracy: 0.8157\n",
            "Epoch 2/5\n",
            "49/49 [==============================] - 1s 13ms/step - loss: 0.2583 - accuracy: 0.9106\n",
            "Epoch 3/5\n",
            "49/49 [==============================] - 1s 13ms/step - loss: 0.2007 - accuracy: 0.9300\n",
            "Epoch 4/5\n",
            "49/49 [==============================] - 1s 13ms/step - loss: 0.1682 - accuracy: 0.9406\n",
            "Epoch 5/5\n",
            "49/49 [==============================] - 1s 18ms/step - loss: 0.1432 - accuracy: 0.9502\n"
          ]
        }
      ]
    },
    {
      "cell_type": "code",
      "source": [
        "# evaluate on test data\n",
        "results = model.evaluate(x_test, y_test)"
      ],
      "metadata": {
        "colab": {
          "base_uri": "https://localhost:8080/"
        },
        "id": "UjPw5uXjPn95",
        "outputId": "870b2c27-0d65-4eee-f79f-b515fdf1dd69"
      },
      "execution_count": 19,
      "outputs": [
        {
          "output_type": "stream",
          "name": "stdout",
          "text": [
            "782/782 [==============================] - 3s 3ms/step - loss: 0.3410 - accuracy: 0.8694\n"
          ]
        }
      ]
    },
    {
      "cell_type": "code",
      "source": [
        "results"
      ],
      "metadata": {
        "colab": {
          "base_uri": "https://localhost:8080/"
        },
        "id": "PDEmf2X8QOBA",
        "outputId": "345303d3-076a-464b-9ee8-69335e1e2e86"
      },
      "execution_count": 20,
      "outputs": [
        {
          "output_type": "execute_result",
          "data": {
            "text/plain": [
              "[0.3409577012062073, 0.8693600296974182]"
            ]
          },
          "metadata": {},
          "execution_count": 20
        }
      ]
    },
    {
      "cell_type": "markdown",
      "source": [
        "- results in an accuracy of 88%"
      ],
      "metadata": {
        "id": "c_-vSkZZQHD2"
      }
    },
    {
      "cell_type": "markdown",
      "source": [
        "### 4.1.5 Using a trained model to generate predictions on new data"
      ],
      "metadata": {
        "id": "OIDP4ns2QoBJ"
      }
    },
    {
      "cell_type": "code",
      "source": [
        "model.predict(x_test)"
      ],
      "metadata": {
        "colab": {
          "base_uri": "https://localhost:8080/"
        },
        "id": "U_RTILbyQwyH",
        "outputId": "e157bf8a-07e5-4ab9-e4be-5cee9c0b6f5f"
      },
      "execution_count": 21,
      "outputs": [
        {
          "output_type": "execute_result",
          "data": {
            "text/plain": [
              "array([[0.11586657],\n",
              "       [0.9999598 ],\n",
              "       [0.64300513],\n",
              "       ...,\n",
              "       [0.06897787],\n",
              "       [0.04634608],\n",
              "       [0.35087636]], dtype=float32)"
            ]
          },
          "metadata": {},
          "execution_count": 21
        }
      ]
    },
    {
      "cell_type": "markdown",
      "source": [
        "# 4.1.6 Further experiments"
      ],
      "metadata": {
        "id": "a3ZoZ6IRQ0MB"
      }
    },
    {
      "cell_type": "markdown",
      "source": [
        "#### try one representation layer, and see how doing so affects validation and test accuracy."
      ],
      "metadata": {
        "id": "zOu5IWFXQLRo"
      }
    },
    {
      "cell_type": "code",
      "source": [
        "from tensorflow import keras \n",
        "from tensorflow.keras import layers"
      ],
      "metadata": {
        "id": "QdHLHvKyY8tx"
      },
      "execution_count": 7,
      "outputs": []
    },
    {
      "cell_type": "code",
      "source": [
        "model = keras.Sequential([\n",
        "  layers.Dense(16, activation=\"relu\"),\n",
        "  layers.Dense(1, activation=\"sigmoid\")\n",
        "])\n",
        "model.compile(\n",
        "    optimizer=\"rmsprop\",\n",
        "    loss=\"binary_crossentropy\",\n",
        "    metrics=[\"accuracy\"])\n",
        "history = model.fit(\n",
        "    partial_x_train,\n",
        "    partial_y_train,\n",
        "    epochs=20,\n",
        "    batch_size=512,\n",
        "    validation_data=(x_val, y_val)\n",
        ")"
      ],
      "metadata": {
        "colab": {
          "base_uri": "https://localhost:8080/"
        },
        "id": "2WEikuXgRJob",
        "outputId": "942e1961-6c72-490a-8e7a-e63eea3583e8"
      },
      "execution_count": 8,
      "outputs": [
        {
          "output_type": "stream",
          "name": "stdout",
          "text": [
            "Epoch 1/20\n",
            "30/30 [==============================] - 2s 43ms/step - loss: 0.4992 - accuracy: 0.7939 - val_loss: 0.4128 - val_accuracy: 0.8384\n",
            "Epoch 2/20\n",
            "30/30 [==============================] - 1s 20ms/step - loss: 0.3160 - accuracy: 0.9033 - val_loss: 0.3182 - val_accuracy: 0.8874\n",
            "Epoch 3/20\n",
            "30/30 [==============================] - 1s 20ms/step - loss: 0.2440 - accuracy: 0.9241 - val_loss: 0.2885 - val_accuracy: 0.8925\n",
            "Epoch 4/20\n",
            "30/30 [==============================] - 1s 24ms/step - loss: 0.1999 - accuracy: 0.9401 - val_loss: 0.3143 - val_accuracy: 0.8726\n",
            "Epoch 5/20\n",
            "30/30 [==============================] - 1s 24ms/step - loss: 0.1695 - accuracy: 0.9484 - val_loss: 0.2784 - val_accuracy: 0.8885\n",
            "Epoch 6/20\n",
            "30/30 [==============================] - 1s 20ms/step - loss: 0.1463 - accuracy: 0.9573 - val_loss: 0.2793 - val_accuracy: 0.8870\n",
            "Epoch 7/20\n",
            "30/30 [==============================] - 1s 20ms/step - loss: 0.1259 - accuracy: 0.9645 - val_loss: 0.2812 - val_accuracy: 0.8886\n",
            "Epoch 8/20\n",
            "30/30 [==============================] - 1s 29ms/step - loss: 0.1120 - accuracy: 0.9695 - val_loss: 0.2988 - val_accuracy: 0.8812\n",
            "Epoch 9/20\n",
            "30/30 [==============================] - 1s 24ms/step - loss: 0.0988 - accuracy: 0.9729 - val_loss: 0.2982 - val_accuracy: 0.8847\n",
            "Epoch 10/20\n",
            "30/30 [==============================] - 1s 22ms/step - loss: 0.0866 - accuracy: 0.9777 - val_loss: 0.3123 - val_accuracy: 0.8800\n",
            "Epoch 11/20\n",
            "30/30 [==============================] - 1s 21ms/step - loss: 0.0761 - accuracy: 0.9807 - val_loss: 0.3225 - val_accuracy: 0.8813\n",
            "Epoch 12/20\n",
            "30/30 [==============================] - 1s 21ms/step - loss: 0.0690 - accuracy: 0.9839 - val_loss: 0.3352 - val_accuracy: 0.8803\n",
            "Epoch 13/20\n",
            "30/30 [==============================] - 1s 21ms/step - loss: 0.0602 - accuracy: 0.9870 - val_loss: 0.3704 - val_accuracy: 0.8765\n",
            "Epoch 14/20\n",
            "30/30 [==============================] - 1s 24ms/step - loss: 0.0535 - accuracy: 0.9891 - val_loss: 0.3673 - val_accuracy: 0.8765\n",
            "Epoch 15/20\n",
            "30/30 [==============================] - 1s 21ms/step - loss: 0.0476 - accuracy: 0.9911 - val_loss: 0.3825 - val_accuracy: 0.8761\n",
            "Epoch 16/20\n",
            "30/30 [==============================] - 1s 20ms/step - loss: 0.0415 - accuracy: 0.9925 - val_loss: 0.4059 - val_accuracy: 0.8765\n",
            "Epoch 17/20\n",
            "30/30 [==============================] - 1s 21ms/step - loss: 0.0370 - accuracy: 0.9935 - val_loss: 0.4254 - val_accuracy: 0.8693\n",
            "Epoch 18/20\n",
            "30/30 [==============================] - 1s 20ms/step - loss: 0.0317 - accuracy: 0.9955 - val_loss: 0.4442 - val_accuracy: 0.8671\n",
            "Epoch 19/20\n",
            "30/30 [==============================] - 1s 24ms/step - loss: 0.0281 - accuracy: 0.9957 - val_loss: 0.4534 - val_accuracy: 0.8736\n",
            "Epoch 20/20\n",
            "30/30 [==============================] - 1s 20ms/step - loss: 0.0249 - accuracy: 0.9967 - val_loss: 0.4712 - val_accuracy: 0.8702\n"
          ]
        }
      ]
    },
    {
      "cell_type": "code",
      "source": [
        "results = model.evaluate(x_test, y_test)"
      ],
      "metadata": {
        "colab": {
          "base_uri": "https://localhost:8080/"
        },
        "id": "COa86KILStfG",
        "outputId": "00c5bdd4-50a0-4587-a7f6-da5ef2835cb7"
      },
      "execution_count": 9,
      "outputs": [
        {
          "output_type": "stream",
          "name": "stdout",
          "text": [
            "782/782 [==============================] - 3s 4ms/step - loss: 0.5127 - accuracy: 0.8564\n"
          ]
        }
      ]
    },
    {
      "cell_type": "code",
      "source": [
        "plot_loss(history)"
      ],
      "metadata": {
        "colab": {
          "base_uri": "https://localhost:8080/",
          "height": 295
        },
        "id": "u_YwjzRbSl4e",
        "outputId": "f486d577-da49-46cc-89ea-9da7c20cc032"
      },
      "execution_count": 10,
      "outputs": [
        {
          "output_type": "display_data",
          "data": {
            "text/plain": [
              "<Figure size 432x288 with 1 Axes>"
            ],
            "image/png": "[encoded data removed]"
          },
          "metadata": {
            "needs_background": "light"
          }
        }
      ]
    },
    {
      "cell_type": "code",
      "source": [
        "plot_acc(history)"
      ],
      "metadata": {
        "colab": {
          "base_uri": "https://localhost:8080/",
          "height": 295
        },
        "id": "vg7Q-6cGSmgf",
        "outputId": "7347e670-7878-420e-bc72-dedffe1a79bd"
      },
      "execution_count": 11,
      "outputs": [
        {
          "output_type": "display_data",
          "data": {
            "text/plain": [
              "<Figure size 432x288 with 1 Axes>"
            ],
            "image/png": "[encoded data removed]"
          },
          "metadata": {
            "needs_background": "light"
          }
        }
      ]
    },
    {
      "cell_type": "code",
      "source": [
        "results"
      ],
      "metadata": {
        "colab": {
          "base_uri": "https://localhost:8080/"
        },
        "id": "Q9svOpsFSuIn",
        "outputId": "1b47460e-f69f-4d0a-979d-29245b2dd373"
      },
      "execution_count": 12,
      "outputs": [
        {
          "output_type": "execute_result",
          "data": {
            "text/plain": [
              "[0.5127049684524536, 0.856440007686615]"
            ]
          },
          "metadata": {},
          "execution_count": 12
        }
      ]
    },
    {
      "cell_type": "markdown",
      "source": [
        "#### Try using three representation layers, and see how doing so affects validation and test accuracy."
      ],
      "metadata": {
        "id": "7qNGa4tMRUYl"
      }
    },
    {
      "cell_type": "code",
      "source": [
        "model = keras.Sequential([\n",
        "  layers.Dense(16, activation=\"relu\"),\n",
        "  layers.Dense(16, activation=\"relu\"),\n",
        "  layers.Dense(16, activation=\"relu\"),\n",
        "  layers.Dense(1, activation=\"sigmoid\")\n",
        "])\n",
        "model.compile(\n",
        "    optimizer=\"rmsprop\",\n",
        "    loss=\"binary_crossentropy\",\n",
        "    metrics=[\"accuracy\"])\n",
        "history = model.fit(\n",
        "    partial_x_train,\n",
        "    partial_y_train,\n",
        "    epochs=20,\n",
        "    batch_size=512,\n",
        "    validation_data=(x_val, y_val)\n",
        ")"
      ],
      "metadata": {
        "colab": {
          "base_uri": "https://localhost:8080/"
        },
        "id": "P0vIsFe6TSQZ",
        "outputId": "e9904788-f683-4209-d7b8-f9a2bfdda756"
      },
      "execution_count": 13,
      "outputs": [
        {
          "output_type": "stream",
          "name": "stdout",
          "text": [
            "Epoch 1/20\n",
            "30/30 [==============================] - 2s 37ms/step - loss: 0.5319 - accuracy: 0.7842 - val_loss: 0.4136 - val_accuracy: 0.8577\n",
            "Epoch 2/20\n",
            "30/30 [==============================] - 1s 22ms/step - loss: 0.3171 - accuracy: 0.9025 - val_loss: 0.3137 - val_accuracy: 0.8817\n",
            "Epoch 3/20\n",
            "30/30 [==============================] - 1s 26ms/step - loss: 0.2257 - accuracy: 0.9291 - val_loss: 0.2959 - val_accuracy: 0.8829\n",
            "Epoch 4/20\n",
            "30/30 [==============================] - 1s 22ms/step - loss: 0.1732 - accuracy: 0.9409 - val_loss: 0.2772 - val_accuracy: 0.8883\n",
            "Epoch 5/20\n",
            "30/30 [==============================] - 1s 22ms/step - loss: 0.1402 - accuracy: 0.9545 - val_loss: 0.2916 - val_accuracy: 0.8838\n",
            "Epoch 6/20\n",
            "30/30 [==============================] - 1s 25ms/step - loss: 0.1147 - accuracy: 0.9645 - val_loss: 0.2995 - val_accuracy: 0.8871\n",
            "Epoch 7/20\n",
            "30/30 [==============================] - 1s 26ms/step - loss: 0.0904 - accuracy: 0.9729 - val_loss: 0.3546 - val_accuracy: 0.8740\n",
            "Epoch 8/20\n",
            "30/30 [==============================] - 1s 22ms/step - loss: 0.0767 - accuracy: 0.9769 - val_loss: 0.3478 - val_accuracy: 0.8829\n",
            "Epoch 9/20\n",
            "30/30 [==============================] - 1s 22ms/step - loss: 0.0620 - accuracy: 0.9829 - val_loss: 0.3747 - val_accuracy: 0.8778\n",
            "Epoch 10/20\n",
            "30/30 [==============================] - 1s 25ms/step - loss: 0.0483 - accuracy: 0.9882 - val_loss: 0.4132 - val_accuracy: 0.8724\n",
            "Epoch 11/20\n",
            "30/30 [==============================] - 1s 25ms/step - loss: 0.0395 - accuracy: 0.9900 - val_loss: 0.4413 - val_accuracy: 0.8715\n",
            "Epoch 12/20\n",
            "30/30 [==============================] - 1s 25ms/step - loss: 0.0311 - accuracy: 0.9932 - val_loss: 0.4996 - val_accuracy: 0.8611\n",
            "Epoch 13/20\n",
            "30/30 [==============================] - 1s 22ms/step - loss: 0.0240 - accuracy: 0.9955 - val_loss: 0.5083 - val_accuracy: 0.8740\n",
            "Epoch 14/20\n",
            "30/30 [==============================] - 1s 25ms/step - loss: 0.0186 - accuracy: 0.9965 - val_loss: 0.5456 - val_accuracy: 0.8699\n",
            "Epoch 15/20\n",
            "30/30 [==============================] - 1s 26ms/step - loss: 0.0152 - accuracy: 0.9971 - val_loss: 0.5809 - val_accuracy: 0.8706\n",
            "Epoch 16/20\n",
            "30/30 [==============================] - 1s 22ms/step - loss: 0.0175 - accuracy: 0.9951 - val_loss: 0.6156 - val_accuracy: 0.8708\n",
            "Epoch 17/20\n",
            "30/30 [==============================] - 1s 23ms/step - loss: 0.0051 - accuracy: 0.9997 - val_loss: 0.6441 - val_accuracy: 0.8692\n",
            "Epoch 18/20\n",
            "30/30 [==============================] - 1s 23ms/step - loss: 0.0124 - accuracy: 0.9963 - val_loss: 0.6793 - val_accuracy: 0.8686\n",
            "Epoch 19/20\n",
            "30/30 [==============================] - 1s 22ms/step - loss: 0.0029 - accuracy: 0.9998 - val_loss: 0.7040 - val_accuracy: 0.8679\n",
            "Epoch 20/20\n",
            "30/30 [==============================] - 1s 25ms/step - loss: 0.0110 - accuracy: 0.9964 - val_loss: 0.7428 - val_accuracy: 0.8675\n"
          ]
        }
      ]
    },
    {
      "cell_type": "code",
      "source": [
        "results = model.evaluate(x_test, y_test)"
      ],
      "metadata": {
        "colab": {
          "base_uri": "https://localhost:8080/"
        },
        "id": "clNCTJs7Tt3R",
        "outputId": "608b3b2d-fd35-4796-ed1f-bbfb36e98c98"
      },
      "execution_count": 14,
      "outputs": [
        {
          "output_type": "stream",
          "name": "stdout",
          "text": [
            "782/782 [==============================] - 3s 4ms/step - loss: 0.8191 - accuracy: 0.8512\n"
          ]
        }
      ]
    },
    {
      "cell_type": "code",
      "source": [
        "plot_loss(history)"
      ],
      "metadata": {
        "colab": {
          "base_uri": "https://localhost:8080/",
          "height": 295
        },
        "id": "n4CfyVu7TvhX",
        "outputId": "0387aefc-c92a-45c5-abf8-acc138590e57"
      },
      "execution_count": 15,
      "outputs": [
        {
          "output_type": "display_data",
          "data": {
            "text/plain": [
              "<Figure size 432x288 with 1 Axes>"
            ],
            "image/png": "[encoded data removed]"
          },
          "metadata": {
            "needs_background": "light"
          }
        }
      ]
    },
    {
      "cell_type": "code",
      "source": [
        "plot_acc(history)"
      ],
      "metadata": {
        "colab": {
          "base_uri": "https://localhost:8080/",
          "height": 295
        },
        "id": "YMA_Qq3LTxCJ",
        "outputId": "8d4b44ce-ca29-43c8-ceec-951b587e8d57"
      },
      "execution_count": 16,
      "outputs": [
        {
          "output_type": "display_data",
          "data": {
            "text/plain": [
              "<Figure size 432x288 with 1 Axes>"
            ],
            "image/png": "[encoded data removed]"
          },
          "metadata": {
            "needs_background": "light"
          }
        }
      ]
    },
    {
      "cell_type": "code",
      "source": [
        "results"
      ],
      "metadata": {
        "colab": {
          "base_uri": "https://localhost:8080/"
        },
        "id": "OO24rUG7TyWD",
        "outputId": "ad1a678e-e7ba-4f55-a330-1f7831a6a1d9"
      },
      "execution_count": 17,
      "outputs": [
        {
          "output_type": "execute_result",
          "data": {
            "text/plain": [
              "[0.8191365003585815, 0.8512399792671204]"
            ]
          },
          "metadata": {},
          "execution_count": 17
        }
      ]
    },
    {
      "cell_type": "markdown",
      "source": [
        "#### Try using layers with more units"
      ],
      "metadata": {
        "id": "mq35vYx8RhVK"
      }
    },
    {
      "cell_type": "code",
      "source": [
        "model = keras.Sequential([\n",
        "  layers.Dense(32, activation=\"relu\"),\n",
        "  layers.Dense(32, activation=\"relu\"),\n",
        "  layers.Dense(1, activation=\"sigmoid\")\n",
        "])\n",
        "model.compile(\n",
        "    optimizer=\"rmsprop\",\n",
        "    loss=\"binary_crossentropy\",\n",
        "    metrics=[\"accuracy\"])\n",
        "history = model.fit(\n",
        "    partial_x_train,\n",
        "    partial_y_train,\n",
        "    epochs=20,\n",
        "    batch_size=512,\n",
        "    validation_data=(x_val, y_val)\n",
        ")"
      ],
      "metadata": {
        "colab": {
          "base_uri": "https://localhost:8080/"
        },
        "id": "tvJnTzPmUyyh",
        "outputId": "88706426-3555-45ca-df82-5593f382184d"
      },
      "execution_count": 18,
      "outputs": [
        {
          "output_type": "stream",
          "name": "stdout",
          "text": [
            "Epoch 1/20\n",
            "30/30 [==============================] - 2s 37ms/step - loss: 0.4834 - accuracy: 0.7823 - val_loss: 0.3720 - val_accuracy: 0.8487\n",
            "Epoch 2/20\n",
            "30/30 [==============================] - 1s 25ms/step - loss: 0.2603 - accuracy: 0.9065 - val_loss: 0.3005 - val_accuracy: 0.8819\n",
            "Epoch 3/20\n",
            "30/30 [==============================] - 1s 26ms/step - loss: 0.2012 - accuracy: 0.9271 - val_loss: 0.3640 - val_accuracy: 0.8516\n",
            "Epoch 4/20\n",
            "30/30 [==============================] - 1s 22ms/step - loss: 0.1529 - accuracy: 0.9481 - val_loss: 0.2863 - val_accuracy: 0.8908\n",
            "Epoch 5/20\n",
            "30/30 [==============================] - 1s 21ms/step - loss: 0.1198 - accuracy: 0.9602 - val_loss: 0.3450 - val_accuracy: 0.8702\n",
            "Epoch 6/20\n",
            "30/30 [==============================] - 1s 25ms/step - loss: 0.0967 - accuracy: 0.9688 - val_loss: 0.3482 - val_accuracy: 0.8779\n",
            "Epoch 7/20\n",
            "30/30 [==============================] - 1s 22ms/step - loss: 0.0793 - accuracy: 0.9753 - val_loss: 0.3696 - val_accuracy: 0.8786\n",
            "Epoch 8/20\n",
            "30/30 [==============================] - 1s 25ms/step - loss: 0.0641 - accuracy: 0.9819 - val_loss: 0.3937 - val_accuracy: 0.8746\n",
            "Epoch 9/20\n",
            "30/30 [==============================] - 1s 22ms/step - loss: 0.0345 - accuracy: 0.9935 - val_loss: 0.4303 - val_accuracy: 0.8721\n",
            "Epoch 10/20\n",
            "30/30 [==============================] - 1s 25ms/step - loss: 0.0367 - accuracy: 0.9907 - val_loss: 0.4745 - val_accuracy: 0.8723\n",
            "Epoch 11/20\n",
            "30/30 [==============================] - 1s 21ms/step - loss: 0.0368 - accuracy: 0.9897 - val_loss: 0.5018 - val_accuracy: 0.8729\n",
            "Epoch 12/20\n",
            "30/30 [==============================] - 1s 22ms/step - loss: 0.0228 - accuracy: 0.9947 - val_loss: 0.5260 - val_accuracy: 0.8721\n",
            "Epoch 13/20\n",
            "30/30 [==============================] - 1s 22ms/step - loss: 0.0254 - accuracy: 0.9937 - val_loss: 0.5578 - val_accuracy: 0.8701\n",
            "Epoch 14/20\n",
            "30/30 [==============================] - 1s 21ms/step - loss: 0.0072 - accuracy: 0.9997 - val_loss: 0.5944 - val_accuracy: 0.8707\n",
            "Epoch 15/20\n",
            "30/30 [==============================] - 1s 22ms/step - loss: 0.0218 - accuracy: 0.9943 - val_loss: 0.6271 - val_accuracy: 0.8696\n",
            "Epoch 16/20\n",
            "30/30 [==============================] - 1s 21ms/step - loss: 0.0036 - accuracy: 0.9999 - val_loss: 0.6581 - val_accuracy: 0.8686\n",
            "Epoch 17/20\n",
            "30/30 [==============================] - 1s 21ms/step - loss: 0.0231 - accuracy: 0.9931 - val_loss: 0.7103 - val_accuracy: 0.8677\n",
            "Epoch 18/20\n",
            "30/30 [==============================] - 1s 31ms/step - loss: 0.0018 - accuracy: 0.9999 - val_loss: 0.7284 - val_accuracy: 0.8670\n",
            "Epoch 19/20\n",
            "30/30 [==============================] - 1s 29ms/step - loss: 0.0015 - accuracy: 0.9999 - val_loss: 0.7728 - val_accuracy: 0.8686\n",
            "Epoch 20/20\n",
            "30/30 [==============================] - 1s 25ms/step - loss: 0.0131 - accuracy: 0.9961 - val_loss: 0.8165 - val_accuracy: 0.8669\n"
          ]
        }
      ]
    },
    {
      "cell_type": "code",
      "source": [
        "results = model.evaluate(x_test, y_test)"
      ],
      "metadata": {
        "colab": {
          "base_uri": "https://localhost:8080/"
        },
        "id": "5HqleFG_VBpg",
        "outputId": "9d80e843-6f69-426e-d4d3-bb1c800e850d"
      },
      "execution_count": 19,
      "outputs": [
        {
          "output_type": "stream",
          "name": "stdout",
          "text": [
            "782/782 [==============================] - 3s 4ms/step - loss: 0.8850 - accuracy: 0.8516\n"
          ]
        }
      ]
    },
    {
      "cell_type": "code",
      "source": [
        "plot_loss(history)"
      ],
      "metadata": {
        "colab": {
          "base_uri": "https://localhost:8080/",
          "height": 295
        },
        "id": "AW2L2NWzVBdv",
        "outputId": "0b5ed16a-67ac-4282-aee8-315fcd4a8ad7"
      },
      "execution_count": 20,
      "outputs": [
        {
          "output_type": "display_data",
          "data": {
            "text/plain": [
              "<Figure size 432x288 with 1 Axes>"
            ],
            "image/png": "[encoded data removed]"
          },
          "metadata": {
            "needs_background": "light"
          }
        }
      ]
    },
    {
      "cell_type": "code",
      "source": [
        "plot_acc(history)"
      ],
      "metadata": {
        "colab": {
          "base_uri": "https://localhost:8080/",
          "height": 295
        },
        "id": "XaoH7_bAVBZn",
        "outputId": "e4b21fbc-9ea3-40c1-826b-51e1df592295"
      },
      "execution_count": 21,
      "outputs": [
        {
          "output_type": "display_data",
          "data": {
            "text/plain": [
              "<Figure size 432x288 with 1 Axes>"
            ],
            "image/png": "[encoded data removed]"
          },
          "metadata": {
            "needs_background": "light"
          }
        }
      ]
    },
    {
      "cell_type": "code",
      "source": [
        "results"
      ],
      "metadata": {
        "colab": {
          "base_uri": "https://localhost:8080/"
        },
        "id": "7H0etN7gVBXJ",
        "outputId": "1cf26e52-ee74-4e2f-b23b-7ffe38926f7c"
      },
      "execution_count": 22,
      "outputs": [
        {
          "output_type": "execute_result",
          "data": {
            "text/plain": [
              "[0.8850233554840088, 0.8515999913215637]"
            ]
          },
          "metadata": {},
          "execution_count": 22
        }
      ]
    },
    {
      "cell_type": "markdown",
      "source": [
        "#### Try using layers with less units"
      ],
      "metadata": {
        "id": "7CnkxdtXU2ql"
      }
    },
    {
      "cell_type": "code",
      "source": [
        "model = keras.Sequential([\n",
        "  layers.Dense(8, activation=\"relu\"),\n",
        "  layers.Dense(8, activation=\"relu\"),\n",
        "  layers.Dense(1, activation=\"sigmoid\")\n",
        "])\n",
        "model.compile(\n",
        "    optimizer=\"rmsprop\",\n",
        "    loss=\"binary_crossentropy\",\n",
        "    metrics=[\"accuracy\"])\n",
        "history = model.fit(\n",
        "    partial_x_train,\n",
        "    partial_y_train,\n",
        "    epochs=20,\n",
        "    batch_size=512,\n",
        "    validation_data=(x_val, y_val)\n",
        ")"
      ],
      "metadata": {
        "colab": {
          "base_uri": "https://localhost:8080/"
        },
        "id": "59n2tzt7Vixa",
        "outputId": "6116d81a-0b3b-4a8c-bc4b-ede1d803acb4"
      },
      "execution_count": 23,
      "outputs": [
        {
          "output_type": "stream",
          "name": "stdout",
          "text": [
            "Epoch 1/20\n",
            "30/30 [==============================] - 2s 38ms/step - loss: 0.5250 - accuracy: 0.7857 - val_loss: 0.4123 - val_accuracy: 0.8604\n",
            "Epoch 2/20\n",
            "30/30 [==============================] - 1s 25ms/step - loss: 0.3335 - accuracy: 0.8977 - val_loss: 0.3310 - val_accuracy: 0.8788\n",
            "Epoch 3/20\n",
            "30/30 [==============================] - 1s 21ms/step - loss: 0.2520 - accuracy: 0.9216 - val_loss: 0.2898 - val_accuracy: 0.8912\n",
            "Epoch 4/20\n",
            "30/30 [==============================] - 1s 22ms/step - loss: 0.2014 - accuracy: 0.9368 - val_loss: 0.2782 - val_accuracy: 0.8908\n",
            "Epoch 5/20\n",
            "30/30 [==============================] - 1s 25ms/step - loss: 0.1696 - accuracy: 0.9470 - val_loss: 0.2816 - val_accuracy: 0.8862\n",
            "Epoch 6/20\n",
            "30/30 [==============================] - 1s 21ms/step - loss: 0.1416 - accuracy: 0.9563 - val_loss: 0.2834 - val_accuracy: 0.8866\n",
            "Epoch 7/20\n",
            "30/30 [==============================] - 1s 22ms/step - loss: 0.1217 - accuracy: 0.9630 - val_loss: 0.2854 - val_accuracy: 0.8871\n",
            "Epoch 8/20\n",
            "30/30 [==============================] - 1s 21ms/step - loss: 0.1039 - accuracy: 0.9691 - val_loss: 0.2980 - val_accuracy: 0.8859\n",
            "Epoch 9/20\n",
            "30/30 [==============================] - 1s 21ms/step - loss: 0.0888 - accuracy: 0.9747 - val_loss: 0.3205 - val_accuracy: 0.8829\n",
            "Epoch 10/20\n",
            "30/30 [==============================] - 1s 22ms/step - loss: 0.0772 - accuracy: 0.9801 - val_loss: 0.3403 - val_accuracy: 0.8790\n",
            "Epoch 11/20\n",
            "30/30 [==============================] - 1s 25ms/step - loss: 0.0678 - accuracy: 0.9821 - val_loss: 0.3452 - val_accuracy: 0.8838\n",
            "Epoch 12/20\n",
            "30/30 [==============================] - 1s 23ms/step - loss: 0.0558 - accuracy: 0.9869 - val_loss: 0.3642 - val_accuracy: 0.8781\n",
            "Epoch 13/20\n",
            "30/30 [==============================] - 1s 23ms/step - loss: 0.0487 - accuracy: 0.9889 - val_loss: 0.4072 - val_accuracy: 0.8701\n",
            "Epoch 14/20\n",
            "30/30 [==============================] - 1s 22ms/step - loss: 0.0413 - accuracy: 0.9913 - val_loss: 0.4185 - val_accuracy: 0.8713\n",
            "Epoch 15/20\n",
            "30/30 [==============================] - 1s 21ms/step - loss: 0.0350 - accuracy: 0.9935 - val_loss: 0.4318 - val_accuracy: 0.8736\n",
            "Epoch 16/20\n",
            "30/30 [==============================] - 1s 22ms/step - loss: 0.0294 - accuracy: 0.9949 - val_loss: 0.4565 - val_accuracy: 0.8742\n",
            "Epoch 17/20\n",
            "30/30 [==============================] - 1s 22ms/step - loss: 0.0239 - accuracy: 0.9968 - val_loss: 0.4918 - val_accuracy: 0.8684\n",
            "Epoch 18/20\n",
            "30/30 [==============================] - 1s 22ms/step - loss: 0.0203 - accuracy: 0.9975 - val_loss: 0.5132 - val_accuracy: 0.8692\n",
            "Epoch 19/20\n",
            "30/30 [==============================] - 1s 22ms/step - loss: 0.0164 - accuracy: 0.9983 - val_loss: 0.5397 - val_accuracy: 0.8689\n",
            "Epoch 20/20\n",
            "30/30 [==============================] - 1s 21ms/step - loss: 0.0146 - accuracy: 0.9985 - val_loss: 0.5672 - val_accuracy: 0.8667\n"
          ]
        }
      ]
    },
    {
      "cell_type": "code",
      "source": [
        "results = model.evaluate(x_test, y_test)"
      ],
      "metadata": {
        "colab": {
          "base_uri": "https://localhost:8080/"
        },
        "id": "-HmAfPo7Vq7V",
        "outputId": "7b6df888-d7cf-45e8-e2bf-6d440db039aa"
      },
      "execution_count": 24,
      "outputs": [
        {
          "output_type": "stream",
          "name": "stdout",
          "text": [
            "782/782 [==============================] - 3s 4ms/step - loss: 0.6210 - accuracy: 0.8540\n"
          ]
        }
      ]
    },
    {
      "cell_type": "code",
      "source": [
        "plot_loss(history)"
      ],
      "metadata": {
        "colab": {
          "base_uri": "https://localhost:8080/",
          "height": 295
        },
        "id": "Rx8oWIYPVxar",
        "outputId": "6bba3d27-6d39-4e38-e1c8-cbea36fa1638"
      },
      "execution_count": 25,
      "outputs": [
        {
          "output_type": "display_data",
          "data": {
            "text/plain": [
              "<Figure size 432x288 with 1 Axes>"
            ],
            "image/png": "[encoded data removed]"
          },
          "metadata": {
            "needs_background": "light"
          }
        }
      ]
    },
    {
      "cell_type": "code",
      "source": [
        "plot_acc(history)"
      ],
      "metadata": {
        "colab": {
          "base_uri": "https://localhost:8080/",
          "height": 295
        },
        "id": "rF_PrYskV0Kg",
        "outputId": "a4b131a7-c6f8-4571-d333-d718524d09f7"
      },
      "execution_count": 26,
      "outputs": [
        {
          "output_type": "display_data",
          "data": {
            "text/plain": [
              "<Figure size 432x288 with 1 Axes>"
            ],
            "image/png": "[encoded data removed]"
          },
          "metadata": {
            "needs_background": "light"
          }
        }
      ]
    },
    {
      "cell_type": "code",
      "source": [
        "results"
      ],
      "metadata": {
        "colab": {
          "base_uri": "https://localhost:8080/"
        },
        "id": "2S7iH8fWV2zv",
        "outputId": "66fbb3e7-08aa-4272-92b6-20236f0a88d9"
      },
      "execution_count": 27,
      "outputs": [
        {
          "output_type": "execute_result",
          "data": {
            "text/plain": [
              "[0.6210241913795471, 0.8540400266647339]"
            ]
          },
          "metadata": {},
          "execution_count": 27
        }
      ]
    },
    {
      "cell_type": "markdown",
      "source": [
        "#### Try using the mse loss function instead of binary_crossentropy"
      ],
      "metadata": {
        "id": "IJ53DZnAV7xg"
      }
    },
    {
      "cell_type": "code",
      "source": [
        "model = keras.Sequential([\n",
        "  layers.Dense(16, activation=\"relu\"),\n",
        "  layers.Dense(16, activation=\"relu\"),\n",
        "  layers.Dense(1, activation=\"sigmoid\")\n",
        "])\n",
        "model.compile(\n",
        "    optimizer=\"rmsprop\",\n",
        "    loss=\"mse\",\n",
        "    metrics=[\"accuracy\"])\n",
        "history = model.fit(\n",
        "    partial_x_train,\n",
        "    partial_y_train,\n",
        "    epochs=20,\n",
        "    batch_size=512,\n",
        "    validation_data=(x_val, y_val)\n",
        ")"
      ],
      "metadata": {
        "colab": {
          "base_uri": "https://localhost:8080/"
        },
        "id": "K7DBhn4QWD_u",
        "outputId": "2e675ca5-b145-4870-8478-60b9589ebf3f"
      },
      "execution_count": 28,
      "outputs": [
        {
          "output_type": "stream",
          "name": "stdout",
          "text": [
            "Epoch 1/20\n",
            "30/30 [==============================] - 2s 42ms/step - loss: 0.1683 - accuracy: 0.7791 - val_loss: 0.1294 - val_accuracy: 0.8400\n",
            "Epoch 2/20\n",
            "30/30 [==============================] - 1s 25ms/step - loss: 0.0909 - accuracy: 0.9069 - val_loss: 0.0932 - val_accuracy: 0.8875\n",
            "Epoch 3/20\n",
            "30/30 [==============================] - 1s 25ms/step - loss: 0.0654 - accuracy: 0.9284 - val_loss: 0.0928 - val_accuracy: 0.8776\n",
            "Epoch 4/20\n",
            "30/30 [==============================] - 1s 21ms/step - loss: 0.0511 - accuracy: 0.9481 - val_loss: 0.0836 - val_accuracy: 0.8886\n",
            "Epoch 5/20\n",
            "30/30 [==============================] - 1s 22ms/step - loss: 0.0420 - accuracy: 0.9560 - val_loss: 0.0852 - val_accuracy: 0.8856\n",
            "Epoch 6/20\n",
            "30/30 [==============================] - 1s 22ms/step - loss: 0.0340 - accuracy: 0.9673 - val_loss: 0.0908 - val_accuracy: 0.8770\n",
            "Epoch 7/20\n",
            "30/30 [==============================] - 1s 25ms/step - loss: 0.0276 - accuracy: 0.9747 - val_loss: 0.0876 - val_accuracy: 0.8816\n",
            "Epoch 8/20\n",
            "30/30 [==============================] - 1s 23ms/step - loss: 0.0238 - accuracy: 0.9783 - val_loss: 0.0947 - val_accuracy: 0.8715\n",
            "Epoch 9/20\n",
            "30/30 [==============================] - 1s 22ms/step - loss: 0.0195 - accuracy: 0.9825 - val_loss: 0.0942 - val_accuracy: 0.8742\n",
            "Epoch 10/20\n",
            "30/30 [==============================] - 1s 21ms/step - loss: 0.0158 - accuracy: 0.9873 - val_loss: 0.0919 - val_accuracy: 0.8790\n",
            "Epoch 11/20\n",
            "30/30 [==============================] - 1s 21ms/step - loss: 0.0129 - accuracy: 0.9896 - val_loss: 0.0967 - val_accuracy: 0.8733\n",
            "Epoch 12/20\n",
            "30/30 [==============================] - 1s 22ms/step - loss: 0.0113 - accuracy: 0.9914 - val_loss: 0.0965 - val_accuracy: 0.8739\n",
            "Epoch 13/20\n",
            "30/30 [==============================] - 1s 22ms/step - loss: 0.0097 - accuracy: 0.9923 - val_loss: 0.0986 - val_accuracy: 0.8744\n",
            "Epoch 14/20\n",
            "30/30 [==============================] - 1s 22ms/step - loss: 0.0087 - accuracy: 0.9919 - val_loss: 0.1005 - val_accuracy: 0.8726\n",
            "Epoch 15/20\n",
            "30/30 [==============================] - 1s 25ms/step - loss: 0.0051 - accuracy: 0.9963 - val_loss: 0.1045 - val_accuracy: 0.8662\n",
            "Epoch 16/20\n",
            "30/30 [==============================] - 1s 21ms/step - loss: 0.0061 - accuracy: 0.9948 - val_loss: 0.1039 - val_accuracy: 0.8699\n",
            "Epoch 17/20\n",
            "30/30 [==============================] - 1s 22ms/step - loss: 0.0058 - accuracy: 0.9955 - val_loss: 0.1047 - val_accuracy: 0.8699\n",
            "Epoch 18/20\n",
            "30/30 [==============================] - 1s 21ms/step - loss: 0.0033 - accuracy: 0.9974 - val_loss: 0.1067 - val_accuracy: 0.8688\n",
            "Epoch 19/20\n",
            "30/30 [==============================] - 1s 25ms/step - loss: 0.0054 - accuracy: 0.9945 - val_loss: 0.1069 - val_accuracy: 0.8699\n",
            "Epoch 20/20\n",
            "30/30 [==============================] - 1s 22ms/step - loss: 0.0027 - accuracy: 0.9977 - val_loss: 0.1078 - val_accuracy: 0.8690\n"
          ]
        }
      ]
    },
    {
      "cell_type": "code",
      "source": [
        "results = model.evaluate(x_test, y_test)"
      ],
      "metadata": {
        "colab": {
          "base_uri": "https://localhost:8080/"
        },
        "id": "Sl-wbykeWMy9",
        "outputId": "affdd55f-9be9-404f-8a5c-4fd7a3cddcc7"
      },
      "execution_count": 29,
      "outputs": [
        {
          "output_type": "stream",
          "name": "stdout",
          "text": [
            "782/782 [==============================] - 3s 4ms/step - loss: 0.1199 - accuracy: 0.8538\n"
          ]
        }
      ]
    },
    {
      "cell_type": "code",
      "source": [
        "plot_loss(history)"
      ],
      "metadata": {
        "colab": {
          "base_uri": "https://localhost:8080/",
          "height": 295
        },
        "id": "cmpCN7scWOni",
        "outputId": "aa821d42-434f-4d23-a9b5-f07cdbe545ff"
      },
      "execution_count": 30,
      "outputs": [
        {
          "output_type": "display_data",
          "data": {
            "text/plain": [
              "<Figure size 432x288 with 1 Axes>"
            ],
            "image/png": "[encoded data removed]"
          },
          "metadata": {
            "needs_background": "light"
          }
        }
      ]
    },
    {
      "cell_type": "code",
      "source": [
        "plot_acc(history)"
      ],
      "metadata": {
        "colab": {
          "base_uri": "https://localhost:8080/",
          "height": 295
        },
        "id": "9zfGM4VjWOgZ",
        "outputId": "b13b60e2-afa1-448a-9aeb-de151be4742a"
      },
      "execution_count": 31,
      "outputs": [
        {
          "output_type": "display_data",
          "data": {
            "text/plain": [
              "<Figure size 432x288 with 1 Axes>"
            ],
            "image/png": "[encoded data removed]"
          },
          "metadata": {
            "needs_background": "light"
          }
        }
      ]
    },
    {
      "cell_type": "code",
      "source": [
        "results"
      ],
      "metadata": {
        "colab": {
          "base_uri": "https://localhost:8080/"
        },
        "id": "BamsKRUdWQen",
        "outputId": "e2451c77-3dfa-4201-c429-a159605072ab"
      },
      "execution_count": 32,
      "outputs": [
        {
          "output_type": "execute_result",
          "data": {
            "text/plain": [
              "[0.11993404477834702, 0.8537999987602234]"
            ]
          },
          "metadata": {},
          "execution_count": 32
        }
      ]
    },
    {
      "cell_type": "markdown",
      "source": [
        "#### Try using the tanh activation instead of relu .\n"
      ],
      "metadata": {
        "id": "8m4Va6kGaCb0"
      }
    },
    {
      "cell_type": "code",
      "source": [
        "model = keras.Sequential([\n",
        "  layers.Dense(16, activation=\"tanh\"),\n",
        "  layers.Dense(16, activation=\"tanh\"),\n",
        "  layers.Dense(1, activation=\"sigmoid\")\n",
        "])\n",
        "model.compile(\n",
        "    optimizer=\"rmsprop\",\n",
        "    loss=\"binary_crossentropy\",\n",
        "    metrics=[\"accuracy\"])\n",
        "history = model.fit(\n",
        "    partial_x_train,\n",
        "    partial_y_train,\n",
        "    epochs=20,\n",
        "    batch_size=512,\n",
        "    validation_data=(x_val, y_val)\n",
        ")"
      ],
      "metadata": {
        "colab": {
          "base_uri": "https://localhost:8080/"
        },
        "id": "dxh4FYMRaMRk",
        "outputId": "f427da6d-9c0d-4949-ac42-62111c246416"
      },
      "execution_count": 33,
      "outputs": [
        {
          "output_type": "stream",
          "name": "stdout",
          "text": [
            "Epoch 1/20\n",
            "30/30 [==============================] - 2s 42ms/step - loss: 0.4792 - accuracy: 0.7981 - val_loss: 0.3505 - val_accuracy: 0.8729\n",
            "Epoch 2/20\n",
            "30/30 [==============================] - 1s 24ms/step - loss: 0.2690 - accuracy: 0.9093 - val_loss: 0.3105 - val_accuracy: 0.8727\n",
            "Epoch 3/20\n",
            "30/30 [==============================] - 1s 21ms/step - loss: 0.1931 - accuracy: 0.9343 - val_loss: 0.2709 - val_accuracy: 0.8881\n",
            "Epoch 4/20\n",
            "30/30 [==============================] - 1s 21ms/step - loss: 0.1466 - accuracy: 0.9503 - val_loss: 0.2897 - val_accuracy: 0.8849\n",
            "Epoch 5/20\n",
            "30/30 [==============================] - 1s 25ms/step - loss: 0.1117 - accuracy: 0.9647 - val_loss: 0.3078 - val_accuracy: 0.8814\n",
            "Epoch 6/20\n",
            "30/30 [==============================] - 1s 21ms/step - loss: 0.0907 - accuracy: 0.9700 - val_loss: 0.3787 - val_accuracy: 0.8709\n",
            "Epoch 7/20\n",
            "30/30 [==============================] - 1s 20ms/step - loss: 0.0705 - accuracy: 0.9780 - val_loss: 0.3782 - val_accuracy: 0.8788\n",
            "Epoch 8/20\n",
            "30/30 [==============================] - 1s 21ms/step - loss: 0.0514 - accuracy: 0.9854 - val_loss: 0.4231 - val_accuracy: 0.8745\n",
            "Epoch 9/20\n",
            "30/30 [==============================] - 1s 22ms/step - loss: 0.0445 - accuracy: 0.9875 - val_loss: 0.4680 - val_accuracy: 0.8717\n",
            "Epoch 10/20\n",
            "30/30 [==============================] - 1s 25ms/step - loss: 0.0371 - accuracy: 0.9887 - val_loss: 0.5070 - val_accuracy: 0.8687\n",
            "Epoch 11/20\n",
            "30/30 [==============================] - 1s 21ms/step - loss: 0.0283 - accuracy: 0.9926 - val_loss: 0.5413 - val_accuracy: 0.8685\n",
            "Epoch 12/20\n",
            "30/30 [==============================] - 1s 22ms/step - loss: 0.0260 - accuracy: 0.9920 - val_loss: 0.5764 - val_accuracy: 0.8654\n",
            "Epoch 13/20\n",
            "30/30 [==============================] - 1s 25ms/step - loss: 0.0076 - accuracy: 0.9993 - val_loss: 0.6232 - val_accuracy: 0.8631\n",
            "Epoch 14/20\n",
            "30/30 [==============================] - 1s 22ms/step - loss: 0.0211 - accuracy: 0.9928 - val_loss: 0.6439 - val_accuracy: 0.8628\n",
            "Epoch 15/20\n",
            "30/30 [==============================] - 1s 22ms/step - loss: 0.0033 - accuracy: 0.9998 - val_loss: 0.6916 - val_accuracy: 0.8615\n",
            "Epoch 16/20\n",
            "30/30 [==============================] - 1s 25ms/step - loss: 0.0196 - accuracy: 0.9943 - val_loss: 0.7198 - val_accuracy: 0.8624\n",
            "Epoch 17/20\n",
            "30/30 [==============================] - 1s 21ms/step - loss: 0.0015 - accuracy: 0.9999 - val_loss: 0.7475 - val_accuracy: 0.8601\n",
            "Epoch 18/20\n",
            "30/30 [==============================] - 1s 24ms/step - loss: 0.0039 - accuracy: 0.9992 - val_loss: 0.8888 - val_accuracy: 0.8542\n",
            "Epoch 19/20\n",
            "30/30 [==============================] - 1s 21ms/step - loss: 0.0011 - accuracy: 0.9999 - val_loss: 0.8185 - val_accuracy: 0.8592\n",
            "Epoch 20/20\n",
            "30/30 [==============================] - 1s 21ms/step - loss: 4.7512e-04 - accuracy: 1.0000 - val_loss: 0.8612 - val_accuracy: 0.8585\n"
          ]
        }
      ]
    },
    {
      "cell_type": "code",
      "source": [
        "results = model.evaluate(x_test, y_test)"
      ],
      "metadata": {
        "colab": {
          "base_uri": "https://localhost:8080/"
        },
        "id": "UkTsSc7naMu4",
        "outputId": "380de484-44a2-4cc2-eb2c-cb7effeea255"
      },
      "execution_count": 34,
      "outputs": [
        {
          "output_type": "stream",
          "name": "stdout",
          "text": [
            "782/782 [==============================] - 3s 3ms/step - loss: 0.9547 - accuracy: 0.8448\n"
          ]
        }
      ]
    },
    {
      "cell_type": "code",
      "source": [
        "plot_loss(history)"
      ],
      "metadata": {
        "colab": {
          "base_uri": "https://localhost:8080/",
          "height": 295
        },
        "id": "kObxpTP8aNH0",
        "outputId": "20765c6c-b43a-4d86-d165-e69fbf4f5ba9"
      },
      "execution_count": 35,
      "outputs": [
        {
          "output_type": "display_data",
          "data": {
            "text/plain": [
              "<Figure size 432x288 with 1 Axes>"
            ],
            "image/png": "[encoded data removed]"
          },
          "metadata": {
            "needs_background": "light"
          }
        }
      ]
    },
    {
      "cell_type": "code",
      "source": [
        "plot_acc(history)"
      ],
      "metadata": {
        "colab": {
          "base_uri": "https://localhost:8080/",
          "height": 295
        },
        "id": "1A_OgN48aNg7",
        "outputId": "60ee8d04-a616-4353-c060-5c6bc90f8034"
      },
      "execution_count": 36,
      "outputs": [
        {
          "output_type": "display_data",
          "data": {
            "text/plain": [
              "<Figure size 432x288 with 1 Axes>"
            ],
            "image/png": "[encoded data removed]"
          },
          "metadata": {
            "needs_background": "light"
          }
        }
      ]
    },
    {
      "cell_type": "code",
      "source": [
        "results"
      ],
      "metadata": {
        "colab": {
          "base_uri": "https://localhost:8080/"
        },
        "id": "4sGNbuJRai4P",
        "outputId": "48331688-b096-40c6-ef72-32b37ec579f6"
      },
      "execution_count": 37,
      "outputs": [
        {
          "output_type": "execute_result",
          "data": {
            "text/plain": [
              "[0.9546788930892944, 0.8448399901390076]"
            ]
          },
          "metadata": {},
          "execution_count": 37
        }
      ]
    },
    {
      "cell_type": "markdown",
      "source": [
        "### 4.1.7 Wrapping up"
      ],
      "metadata": {
        "id": "XizNGnGKaiR2"
      }
    },
    {
      "cell_type": "markdown",
      "source": [
        "- You usually need to do quite a bit of preprocessing on your raw data in order to be able to feed it—as tensors—into a neural network. Sequences of words can be encoded as binary vectors, but there are other encoding options too.\n",
        "- Stacks of Dense layers with relu activations can solve a wide range of problems (including sentiment classification), and you’ll likely use them frequently.\n",
        "- In a binary classification problem (two output classes), your model should end with a Dense layer with one unit and a sigmoid activation: the output of your model should be a scalar between 0 and 1, encoding a probability.\n",
        "- With such a scalar sigmoid output on a binary classification problem, the loss function you should use is binary_crossentropy .\n",
        "- The rmsprop optimizer is generally a good enough choice, whatever your problem. That’s one less thing for you to worry about.\n",
        "- As they get better on their training data, neural networks eventually start overfitting and end up obtaining increasingly worse results on data they’ve never seen before. Be sure to always monitor performance on data that is outside of the training set."
      ],
      "metadata": {
        "id": "NAcbppeUawEA"
      }
    }
  ]
}