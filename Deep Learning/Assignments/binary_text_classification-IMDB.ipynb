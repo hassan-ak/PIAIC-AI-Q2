{
  "nbformat": 4,
  "nbformat_minor": 0,
  "metadata": {
    "colab": {
      "name": "IMDB.ipynb",
      "provenance": [],
      "collapsed_sections": []
    },
    "kernelspec": {
      "name": "python3",
      "display_name": "Python 3"
    },
    "language_info": {
      "name": "python"
    },
    "accelerator": "GPU"
  },
  "cells": [
    {
      "cell_type": "markdown",
      "source": [
        "##The IMDB dataset"
      ],
      "metadata": {
        "id": "7JvSgc0DXPvS"
      }
    },
    {
      "cell_type": "code",
      "execution_count": 1,
      "metadata": {
        "id": "EOHwpHw2OYsl",
        "colab": {
          "base_uri": "https://localhost:8080/"
        },
        "outputId": "02074aab-6a3e-41e5-8191-dcd03e700f17"
      },
      "outputs": [
        {
          "output_type": "stream",
          "name": "stdout",
          "text": [
            "Downloading data from https://storage.googleapis.com/tensorflow/tf-keras-datasets/imdb.npz\n",
            "17465344/17464789 [==============================] - 1s 0us/step\n",
            "17473536/17464789 [==============================] - 1s 0us/step\n"
          ]
        }
      ],
      "source": [
        "# Loading the IMDB dataset\n",
        "from tensorflow.keras.datasets import imdb\n",
        "(train_data, train_labels), (test_data, test_labels) = imdb.load_data(num_words=10000)"
      ]
    },
    {
      "cell_type": "code",
      "source": [
        "# shape of data\n",
        "print(\"Shape of training data : \",train_data.shape)\n",
        "print(\"Shape of training labels : \",train_labels.shape)\n",
        "print(\"Shape of testing data : \",test_data.shape)\n",
        "print(\"Shape of training labels : \",train_labels.shape)"
      ],
      "metadata": {
        "colab": {
          "base_uri": "https://localhost:8080/"
        },
        "id": "lGInlix8aMRr",
        "outputId": "5026d336-7693-4ccf-8eb6-d84dce5cda9e"
      },
      "execution_count": 2,
      "outputs": [
        {
          "output_type": "stream",
          "name": "stdout",
          "text": [
            "Shape of training data :  (25000,)\n",
            "Shape of training labels :  (25000,)\n",
            "Shape of testing data :  (25000,)\n",
            "Shape of training labels :  (25000,)\n"
          ]
        }
      ]
    },
    {
      "cell_type": "code",
      "source": [
        "# samples of data\n",
        "print(\"1st review from training data : \",train_data[0])\n",
        "print(\"1st label from training data : \",train_labels[0])\n",
        "print(\"1st review from testing data : \",test_data[0])\n",
        "print(\"1st label from testing data : \",test_labels[0])\n"
      ],
      "metadata": {
        "colab": {
          "base_uri": "https://localhost:8080/"
        },
        "id": "ymOmrgUMa3M2",
        "outputId": "b5bfdc08-4ecc-4153-8766-b2e9e2b24991"
      },
      "execution_count": 3,
      "outputs": [
        {
          "output_type": "stream",
          "name": "stdout",
          "text": [
            "1st review from training data :  [1, 14, 22, 16, 43, 530, 973, 1622, 1385, 65, 458, 4468, 66, 3941, 4, 173, 36, 256, 5, 25, 100, 43, 838, 112, 50, 670, 2, 9, 35, 480, 284, 5, 150, 4, 172, 112, 167, 2, 336, 385, 39, 4, 172, 4536, 1111, 17, 546, 38, 13, 447, 4, 192, 50, 16, 6, 147, 2025, 19, 14, 22, 4, 1920, 4613, 469, 4, 22, 71, 87, 12, 16, 43, 530, 38, 76, 15, 13, 1247, 4, 22, 17, 515, 17, 12, 16, 626, 18, 2, 5, 62, 386, 12, 8, 316, 8, 106, 5, 4, 2223, 5244, 16, 480, 66, 3785, 33, 4, 130, 12, 16, 38, 619, 5, 25, 124, 51, 36, 135, 48, 25, 1415, 33, 6, 22, 12, 215, 28, 77, 52, 5, 14, 407, 16, 82, 2, 8, 4, 107, 117, 5952, 15, 256, 4, 2, 7, 3766, 5, 723, 36, 71, 43, 530, 476, 26, 400, 317, 46, 7, 4, 2, 1029, 13, 104, 88, 4, 381, 15, 297, 98, 32, 2071, 56, 26, 141, 6, 194, 7486, 18, 4, 226, 22, 21, 134, 476, 26, 480, 5, 144, 30, 5535, 18, 51, 36, 28, 224, 92, 25, 104, 4, 226, 65, 16, 38, 1334, 88, 12, 16, 283, 5, 16, 4472, 113, 103, 32, 15, 16, 5345, 19, 178, 32]\n",
            "1st label from training data :  1\n",
            "1st review from testing data :  [1, 591, 202, 14, 31, 6, 717, 10, 10, 2, 2, 5, 4, 360, 7, 4, 177, 5760, 394, 354, 4, 123, 9, 1035, 1035, 1035, 10, 10, 13, 92, 124, 89, 488, 7944, 100, 28, 1668, 14, 31, 23, 27, 7479, 29, 220, 468, 8, 124, 14, 286, 170, 8, 157, 46, 5, 27, 239, 16, 179, 2, 38, 32, 25, 7944, 451, 202, 14, 6, 717]\n",
            "1st label from testing data :  0\n"
          ]
        }
      ]
    },
    {
      "cell_type": "code",
      "source": [
        "# find max value from sequence\n",
        "print(\"Maximum number in any sequence : \",max([max(sequence) for sequence in train_data]))"
      ],
      "metadata": {
        "colab": {
          "base_uri": "https://localhost:8080/"
        },
        "id": "C2430tENeFvF",
        "outputId": "a115919e-cb4f-420d-819b-8e8b989d8169"
      },
      "execution_count": 4,
      "outputs": [
        {
          "output_type": "stream",
          "name": "stdout",
          "text": [
            "Maximum number in any sequence :  9999\n"
          ]
        }
      ]
    },
    {
      "cell_type": "code",
      "source": [
        "# Decoding reviews back to text\n",
        "# load word index\n",
        "word_index = imdb.get_word_index()\n",
        "# reverse the dic so numbers come first and then word\n",
        "reverse_word_index = dict([(value, key) for (key, value) in word_index.items()]) \n",
        "# indices are offset by 3\n",
        "# 0, 1, and 2 are reserved indices for “padding,” “start of sequence,” and “unknown.”\n",
        "decoded_review = \" \".join([reverse_word_index.get(i-3, \"?\") for i in train_data[0]])\n",
        "print(\"1st review from training data : \",decoded_review)"
      ],
      "metadata": {
        "colab": {
          "base_uri": "https://localhost:8080/"
        },
        "id": "DrtqnWVrb88s",
        "outputId": "7d042370-a183-41d3-d12e-7906132208e2"
      },
      "execution_count": 5,
      "outputs": [
        {
          "output_type": "stream",
          "name": "stdout",
          "text": [
            "Downloading data from https://storage.googleapis.com/tensorflow/tf-keras-datasets/imdb_word_index.json\n",
            "1646592/1641221 [==============================] - 0s 0us/step\n",
            "1654784/1641221 [==============================] - 0s 0us/step\n",
            "1st review from training data :  ? this film was just brilliant casting location scenery story direction everyone's really suited the part they played and you could just imagine being there robert ? is an amazing actor and now the same being director ? father came from the same scottish island as myself so i loved the fact there was a real connection with this film the witty remarks throughout the film were great it was just brilliant so much that i bought the film as soon as it was released for ? and would recommend it to everyone to watch and the fly fishing was amazing really cried at the end it was so sad and you know what they say if you cry at a film it must have been good and this definitely was also ? to the two little boy's that played the ? of norman and paul they were just brilliant children are often left out of the ? list i think because the stars that play them all grown up are such a big profile for the whole film but these children are amazing and should be praised for what they have done don't you think the whole story was so lovely because it was true and was someone's life after all that was shared with us all\n"
          ]
        }
      ]
    },
    {
      "cell_type": "code",
      "source": [
        "# Encoding the integer sequences via multi-hot encoding\n",
        "import numpy as np \n",
        "def vectorize_sequences(sequences, dimension=10000):\n",
        "  results = np.zeros((len(sequences), dimension))\n",
        "  for i, sequence in enumerate(sequences):\n",
        "    for j in sequence:\n",
        "      results[i, j] = 1.\n",
        "  return results\n",
        "x_train = vectorize_sequences(train_data)\n",
        "x_test = vectorize_sequences(test_data) "
      ],
      "metadata": {
        "id": "BYc2w0-ejJ6Y"
      },
      "execution_count": 6,
      "outputs": []
    },
    {
      "cell_type": "code",
      "source": [
        "# vectorize labels\n",
        "y_train = np.asarray(train_labels).astype(\"float32\")\n",
        "y_test = np.asarray(test_labels).astype(\"float32\")"
      ],
      "metadata": {
        "id": "x39KNA3kmdtq"
      },
      "execution_count": 7,
      "outputs": []
    },
    {
      "cell_type": "code",
      "source": [
        "# samples of data\n",
        "print(\"1st review from training data after vectorization : \",x_train[0])\n",
        "print(\"1st label from training data after vectorization: \",y_train[0])\n",
        "print(\"1st review from testing data after vectorization: \",x_test[0])\n",
        "print(\"1st label from testing data after vectorization: \",y_test[0])"
      ],
      "metadata": {
        "colab": {
          "base_uri": "https://localhost:8080/"
        },
        "id": "uKUeALpFmkJr",
        "outputId": "4d562955-8479-458b-c808-99970ed37b7b"
      },
      "execution_count": 8,
      "outputs": [
        {
          "output_type": "stream",
          "name": "stdout",
          "text": [
            "1st review from training data after vectorization :  [0. 1. 1. ... 0. 0. 0.]\n",
            "1st label from training data after vectorization:  1.0\n",
            "1st review from testing data after vectorization:  [0. 1. 1. ... 0. 0. 0.]\n",
            "1st label from testing data after vectorization:  0.0\n"
          ]
        }
      ]
    },
    {
      "cell_type": "code",
      "source": [
        "# Model definition\n",
        "from tensorflow import keras \n",
        "from tensorflow.keras import layers\n",
        " \n",
        "model = keras.Sequential([\n",
        "  layers.Dense(16, activation=\"relu\"),\n",
        "  layers.Dense(16, activation=\"relu\"),\n",
        "  layers.Dense(1, activation=\"sigmoid\")\n",
        "])"
      ],
      "metadata": {
        "id": "rnPdE0OrnXhs"
      },
      "execution_count": 9,
      "outputs": []
    },
    {
      "cell_type": "code",
      "source": [
        "# Compiling the model\n",
        "model.compile(\n",
        "    optimizer=\"rmsprop\",\n",
        "    loss=\"binary_crossentropy\",\n",
        "    metrics=[\"accuracy\"])"
      ],
      "metadata": {
        "id": "3aip1j1cGfmt"
      },
      "execution_count": 10,
      "outputs": []
    },
    {
      "cell_type": "code",
      "source": [
        "# Setting aside a validation set\n",
        "x_val = x_train[:10000]\n",
        "partial_x_train = x_train[10000:]\n",
        "y_val = y_train[:10000]\n",
        "partial_y_train = y_train[10000:]"
      ],
      "metadata": {
        "id": "sRiZD4BOHNLk"
      },
      "execution_count": 11,
      "outputs": []
    },
    {
      "cell_type": "code",
      "source": [
        "# Training your model\n",
        "history = model.fit(\n",
        "    partial_x_train,\n",
        "    partial_y_train,\n",
        "    epochs=20,\n",
        "    batch_size=512,\n",
        "    validation_data=(x_val, y_val)\n",
        ")"
      ],
      "metadata": {
        "colab": {
          "base_uri": "https://localhost:8080/"
        },
        "id": "xFG3orrYH-aa",
        "outputId": "5ca6891f-6116-44f9-9c31-5580b651af4a"
      },
      "execution_count": 12,
      "outputs": [
        {
          "output_type": "stream",
          "name": "stdout",
          "text": [
            "Epoch 1/20\n",
            "30/30 [==============================] - 5s 45ms/step - loss: 0.5110 - accuracy: 0.7885 - val_loss: 0.3889 - val_accuracy: 0.8594\n",
            "Epoch 2/20\n",
            "30/30 [==============================] - 1s 21ms/step - loss: 0.3042 - accuracy: 0.9017 - val_loss: 0.3114 - val_accuracy: 0.8782\n",
            "Epoch 3/20\n",
            "30/30 [==============================] - 1s 20ms/step - loss: 0.2235 - accuracy: 0.9283 - val_loss: 0.2770 - val_accuracy: 0.8920\n",
            "Epoch 4/20\n",
            "30/30 [==============================] - 1s 20ms/step - loss: 0.1777 - accuracy: 0.9429 - val_loss: 0.2731 - val_accuracy: 0.8908\n",
            "Epoch 5/20\n",
            "30/30 [==============================] - 1s 21ms/step - loss: 0.1439 - accuracy: 0.9549 - val_loss: 0.2870 - val_accuracy: 0.8849\n",
            "Epoch 6/20\n",
            "30/30 [==============================] - 1s 21ms/step - loss: 0.1162 - accuracy: 0.9656 - val_loss: 0.3047 - val_accuracy: 0.8800\n",
            "Epoch 7/20\n",
            "30/30 [==============================] - 1s 21ms/step - loss: 0.0966 - accuracy: 0.9709 - val_loss: 0.3102 - val_accuracy: 0.8851\n",
            "Epoch 8/20\n",
            "30/30 [==============================] - 1s 24ms/step - loss: 0.0803 - accuracy: 0.9770 - val_loss: 0.3299 - val_accuracy: 0.8824\n",
            "Epoch 9/20\n",
            "30/30 [==============================] - 1s 21ms/step - loss: 0.0664 - accuracy: 0.9820 - val_loss: 0.3543 - val_accuracy: 0.8811\n",
            "Epoch 10/20\n",
            "30/30 [==============================] - 1s 20ms/step - loss: 0.0526 - accuracy: 0.9874 - val_loss: 0.3779 - val_accuracy: 0.8781\n",
            "Epoch 11/20\n",
            "30/30 [==============================] - 1s 21ms/step - loss: 0.0431 - accuracy: 0.9903 - val_loss: 0.4348 - val_accuracy: 0.8659\n",
            "Epoch 12/20\n",
            "30/30 [==============================] - 1s 21ms/step - loss: 0.0367 - accuracy: 0.9915 - val_loss: 0.4327 - val_accuracy: 0.8746\n",
            "Epoch 13/20\n",
            "30/30 [==============================] - 1s 21ms/step - loss: 0.0304 - accuracy: 0.9935 - val_loss: 0.4737 - val_accuracy: 0.8675\n",
            "Epoch 14/20\n",
            "30/30 [==============================] - 1s 20ms/step - loss: 0.0219 - accuracy: 0.9965 - val_loss: 0.5191 - val_accuracy: 0.8713\n",
            "Epoch 15/20\n",
            "30/30 [==============================] - 1s 21ms/step - loss: 0.0207 - accuracy: 0.9963 - val_loss: 0.5265 - val_accuracy: 0.8717\n",
            "Epoch 16/20\n",
            "30/30 [==============================] - 1s 21ms/step - loss: 0.0140 - accuracy: 0.9983 - val_loss: 0.5513 - val_accuracy: 0.8694\n",
            "Epoch 17/20\n",
            "30/30 [==============================] - 1s 21ms/step - loss: 0.0141 - accuracy: 0.9975 - val_loss: 0.5822 - val_accuracy: 0.8684\n",
            "Epoch 18/20\n",
            "30/30 [==============================] - 1s 22ms/step - loss: 0.0068 - accuracy: 0.9997 - val_loss: 0.6157 - val_accuracy: 0.8661\n",
            "Epoch 19/20\n",
            "30/30 [==============================] - 1s 21ms/step - loss: 0.0076 - accuracy: 0.9994 - val_loss: 0.6494 - val_accuracy: 0.8669\n",
            "Epoch 20/20\n",
            "30/30 [==============================] - 1s 21ms/step - loss: 0.0089 - accuracy: 0.9983 - val_loss: 0.6805 - val_accuracy: 0.8657\n"
          ]
        }
      ]
    },
    {
      "cell_type": "code",
      "source": [
        "# check history object\n",
        "print(\"History of model fitting : \")\n",
        "history_dict = history.history\n",
        "print(history_dict)\n",
        "print(\"dictonary keys : \")\n",
        "print(history_dict.keys())"
      ],
      "metadata": {
        "colab": {
          "base_uri": "https://localhost:8080/"
        },
        "id": "rxXfSs-aIW9o",
        "outputId": "53830a9a-1506-496f-ca8e-0fc102fe40d7"
      },
      "execution_count": 13,
      "outputs": [
        {
          "output_type": "stream",
          "name": "stdout",
          "text": [
            "History of model fitting : \n",
            "{'loss': [0.5109970569610596, 0.30415284633636475, 0.22354529798030853, 0.17766185104846954, 0.1438877433538437, 0.11616405099630356, 0.09659218043088913, 0.08026599884033203, 0.06643998622894287, 0.05258139595389366, 0.043079886585474014, 0.03671059012413025, 0.03037881851196289, 0.021895064041018486, 0.02067045494914055, 0.013955830596387386, 0.014122291468083858, 0.006830444559454918, 0.007569411303848028, 0.008930426090955734], 'accuracy': [0.7884666919708252, 0.9017333388328552, 0.9282666444778442, 0.9428666830062866, 0.9549333453178406, 0.9656000137329102, 0.9708666801452637, 0.9769999980926514, 0.9819999933242798, 0.9873999953269958, 0.9902666807174683, 0.9915333390235901, 0.9935333132743835, 0.9965333342552185, 0.9962666630744934, 0.9982666373252869, 0.9975333213806152, 0.9997333288192749, 0.9994000196456909, 0.9982666373252869], 'val_loss': [0.3888680040836334, 0.31138238310813904, 0.2769784927368164, 0.27311426401138306, 0.28700870275497437, 0.3046742081642151, 0.3101942241191864, 0.32987749576568604, 0.354316383600235, 0.37786760926246643, 0.4347568452358246, 0.43274766206741333, 0.4737139046192169, 0.5191287994384766, 0.5265253782272339, 0.551301121711731, 0.5821819305419922, 0.6156652569770813, 0.6493627429008484, 0.6805432438850403], 'val_accuracy': [0.8593999743461609, 0.8781999945640564, 0.8920000195503235, 0.8907999992370605, 0.8848999738693237, 0.8799999952316284, 0.8851000070571899, 0.8823999762535095, 0.8810999989509583, 0.8780999779701233, 0.8658999800682068, 0.8745999932289124, 0.8675000071525574, 0.8712999820709229, 0.8716999888420105, 0.8694000244140625, 0.868399977684021, 0.866100013256073, 0.8669000267982483, 0.8657000064849854]}\n",
            "dictonary keys : \n",
            "dict_keys(['loss', 'accuracy', 'val_loss', 'val_accuracy'])\n"
          ]
        }
      ]
    },
    {
      "cell_type": "code",
      "source": [
        "# Plotting the training and validation loss\n",
        "import matplotlib.pyplot as plt\n",
        "def plot_loss(historyDic):\n",
        "  history_dict = historyDic.history\n",
        "  loss_values = history_dict[\"loss\"]\n",
        "  val_loss_values = history_dict[\"val_loss\"]\n",
        "  epochs = range(1, len(loss_values) + 1)\n",
        "  plt.clf()\n",
        "  plt.plot(epochs, loss_values, \"bo\", label=\"Training loss\")\n",
        "  plt.plot(epochs, val_loss_values, \"b\", label=\"Validation loss\")\n",
        "  plt.title(\"Training and validation loss\")\n",
        "  plt.xlabel(\"Epochs\")\n",
        "  plt.ylabel(\"Loss\")\n",
        "  plt.legend()\n",
        "  plt.show()\n",
        "plot_loss(history)"
      ],
      "metadata": {
        "id": "z3HQomaPJRFN",
        "colab": {
          "base_uri": "https://localhost:8080/",
          "height": 295
        },
        "outputId": "32e3828c-84ef-43b1-cf9e-5e7e8b5868a3"
      },
      "execution_count": 14,
      "outputs": [
        {
          "output_type": "display_data",
          "data": {
            "text/plain": [
              "<Figure size 432x288 with 1 Axes>"
            ],
            "image/png": "[encoded data removed]"
          },
          "metadata": {
            "needs_background": "light"
          }
        }
      ]
    },
    {
      "cell_type": "code",
      "source": [
        "# Plotting the training and validation accuracy\n",
        "def plot_acc(historyDic):\n",
        "  history_dict = historyDic.history\n",
        "  acc = history_dict[\"accuracy\"]\n",
        "  val_acc = history_dict[\"val_accuracy\"]\n",
        "  epochs = range(1, len(acc) + 1)\n",
        "  plt.clf()\n",
        "  plt.plot(epochs, acc, \"bo\", label=\"Training acc\")\n",
        "  plt.plot(epochs, val_acc, \"b\", label=\"Validation acc\")\n",
        "  plt.title(\"Training and validation accuracy\")\n",
        "  plt.xlabel(\"Epochs\")\n",
        "  plt.ylabel(\"Accuracy\")\n",
        "  plt.legend()\n",
        "  plt.show()\n",
        "plot_acc(history)"
      ],
      "metadata": {
        "id": "hq2y_akkJ8sO",
        "colab": {
          "base_uri": "https://localhost:8080/",
          "height": 295
        },
        "outputId": "3301bcef-2fb9-4df7-de0e-29e49879862d"
      },
      "execution_count": 15,
      "outputs": [
        {
          "output_type": "display_data",
          "data": {
            "text/plain": [
              "<Figure size 432x288 with 1 Axes>"
            ],
            "image/png": "[encoded data removed]"
          },
          "metadata": {
            "needs_background": "light"
          }
        }
      ]
    },
    {
      "cell_type": "code",
      "source": [
        "# Retraining a model from scratch\n",
        "model = keras.Sequential([\n",
        "    layers.Dense(16, activation=\"relu\"),\n",
        "    layers.Dense(16, activation=\"relu\"),\n",
        "    layers.Dense(1, activation=\"sigmoid\")\n",
        "])\n",
        "model.compile(\n",
        "    optimizer=\"rmsprop\",\n",
        "    loss=\"binary_crossentropy\",\n",
        "    metrics=[\"accuracy\"])\n",
        "history = model.fit(x_train, y_train, epochs=5, batch_size=512)"
      ],
      "metadata": {
        "colab": {
          "base_uri": "https://localhost:8080/"
        },
        "id": "SLv8IRPiPECg",
        "outputId": "c4781a40-b304-4828-8321-0a11e8f39f6f"
      },
      "execution_count": 16,
      "outputs": [
        {
          "output_type": "stream",
          "name": "stdout",
          "text": [
            "Epoch 1/5\n",
            "49/49 [==============================] - 1s 14ms/step - loss: 0.4541 - accuracy: 0.8220\n",
            "Epoch 2/5\n",
            "49/49 [==============================] - 1s 14ms/step - loss: 0.2602 - accuracy: 0.9093\n",
            "Epoch 3/5\n",
            "49/49 [==============================] - 1s 13ms/step - loss: 0.2014 - accuracy: 0.9277\n",
            "Epoch 4/5\n",
            "49/49 [==============================] - 1s 13ms/step - loss: 0.1680 - accuracy: 0.9414\n",
            "Epoch 5/5\n",
            "49/49 [==============================] - 1s 13ms/step - loss: 0.1464 - accuracy: 0.9487\n"
          ]
        }
      ]
    },
    {
      "cell_type": "code",
      "source": [
        "# evaluate on test data\n",
        "results = model.evaluate(x_test, y_test)"
      ],
      "metadata": {
        "colab": {
          "base_uri": "https://localhost:8080/"
        },
        "id": "UjPw5uXjPn95",
        "outputId": "efc1bd90-829f-468e-9b41-dcb19b6dcaf0"
      },
      "execution_count": 17,
      "outputs": [
        {
          "output_type": "stream",
          "name": "stdout",
          "text": [
            "782/782 [==============================] - 3s 3ms/step - loss: 0.3172 - accuracy: 0.8786\n"
          ]
        }
      ]
    },
    {
      "cell_type": "code",
      "source": [
        "# results\n",
        "results"
      ],
      "metadata": {
        "colab": {
          "base_uri": "https://localhost:8080/"
        },
        "id": "PDEmf2X8QOBA",
        "outputId": "37350cea-0b3a-40be-902a-245523bc932f"
      },
      "execution_count": 18,
      "outputs": [
        {
          "output_type": "execute_result",
          "data": {
            "text/plain": [
              "[0.3171823024749756, 0.8785600066184998]"
            ]
          },
          "metadata": {},
          "execution_count": 18
        }
      ]
    },
    {
      "cell_type": "code",
      "source": [
        "# prediction\n",
        "model.predict(x_test)"
      ],
      "metadata": {
        "colab": {
          "base_uri": "https://localhost:8080/"
        },
        "id": "U_RTILbyQwyH",
        "outputId": "0772ca35-caab-4574-bdaf-8f14c23d44b1"
      },
      "execution_count": 19,
      "outputs": [
        {
          "output_type": "execute_result",
          "data": {
            "text/plain": [
              "array([[0.1411498 ],\n",
              "       [0.9998159 ],\n",
              "       [0.6285215 ],\n",
              "       ...,\n",
              "       [0.09363668],\n",
              "       [0.03727788],\n",
              "       [0.5255207 ]], dtype=float32)"
            ]
          },
          "metadata": {},
          "execution_count": 19
        }
      ]
    }
  ]
}