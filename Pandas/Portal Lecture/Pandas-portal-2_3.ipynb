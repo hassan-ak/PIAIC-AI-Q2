{
 "cells": [
  {
   "cell_type": "markdown",
   "metadata": {},
   "source": [
    "# Pandas DataFrame overview\n"
   ]
  },
  {
   "cell_type": "markdown",
   "metadata": {},
   "source": [
    "# Function Application and Mapping"
   ]
  },
  {
   "cell_type": "code",
   "execution_count": 1,
   "metadata": {},
   "outputs": [
    {
     "name": "stdout",
     "output_type": "stream",
     "text": [
      "               b         d         e\n",
      "Utah   -0.409346 -1.196249  1.362264\n",
      "Ohio    0.583208  1.323443  1.140889\n",
      "Texas   1.394336 -2.196385  0.114458\n",
      "Oregon -0.876926 -1.509606 -1.244524\n"
     ]
    }
   ],
   "source": [
    "import numpy as np\n",
    "import pandas as pd\n",
    "frame  = pd.DataFrame(np.random.randn(4, 3), \n",
    "                             columns=list('bde'), \n",
    "                     index=['Utah', 'Ohio', 'Texas', 'Oregon'])\n",
    "print(frame)"
   ]
  },
  {
   "cell_type": "code",
   "execution_count": 2,
   "metadata": {},
   "outputs": [
    {
     "name": "stdout",
     "output_type": "stream",
     "text": [
      "               b         d         e\n",
      "Utah    0.409346  1.196249  1.362264\n",
      "Ohio    0.583208  1.323443  1.140889\n",
      "Texas   1.394336  2.196385  0.114458\n",
      "Oregon  0.876926  1.509606  1.244524\n"
     ]
    }
   ],
   "source": [
    "print(np.abs(frame))"
   ]
  },
  {
   "cell_type": "code",
   "execution_count": 3,
   "metadata": {},
   "outputs": [
    {
     "name": "stdout",
     "output_type": "stream",
     "text": [
      "-2.196384743406495\n"
     ]
    }
   ],
   "source": [
    "print(frame[\"d\"]. min())"
   ]
  },
  {
   "cell_type": "code",
   "execution_count": 4,
   "metadata": {},
   "outputs": [
    {
     "name": "stdout",
     "output_type": "stream",
     "text": [
      "1.3234432426948768\n"
     ]
    }
   ],
   "source": [
    "print(frame[\"d\"].max())"
   ]
  },
  {
   "cell_type": "code",
   "execution_count": 5,
   "metadata": {},
   "outputs": [
    {
     "name": "stdout",
     "output_type": "stream",
     "text": [
      "3.519827986101372\n"
     ]
    }
   ],
   "source": [
    "print(frame[\"d\"].max() - frame[\"d\"]. min())"
   ]
  },
  {
   "cell_type": "code",
   "execution_count": 6,
   "metadata": {},
   "outputs": [
    {
     "name": "stdout",
     "output_type": "stream",
     "text": [
      "b    2.271262\n",
      "d    3.519828\n",
      "e    2.606788\n",
      "dtype: float64 <class 'pandas.core.series.Series'>\n"
     ]
    }
   ],
   "source": [
    "f = lambda x: x.max() - x.min() \n",
    "df = frame.apply(f)\n",
    "print(df, type(df))"
   ]
  },
  {
   "cell_type": "code",
   "execution_count": 7,
   "metadata": {},
   "outputs": [
    {
     "name": "stdout",
     "output_type": "stream",
     "text": [
      "Utah      2.558513\n",
      "Ohio      0.740235\n",
      "Texas     3.590721\n",
      "Oregon    0.632680\n",
      "dtype: float64\n"
     ]
    }
   ],
   "source": [
    "df = frame.apply(f, axis=1)\n",
    "print(df)"
   ]
  },
  {
   "cell_type": "code",
   "execution_count": 8,
   "metadata": {},
   "outputs": [
    {
     "name": "stdout",
     "output_type": "stream",
     "text": [
      "            b         d         e\n",
      "min  1.394336  1.323443  1.362264\n",
      "max -0.876926 -2.196385 -1.244524 <class 'pandas.core.frame.DataFrame'>\n"
     ]
    }
   ],
   "source": [
    "def min_max(x):\n",
    "  return pd.Series( [x.max() , x.min() ], index=['min', 'max'])    \n",
    "\n",
    "df = frame.apply(min_max)\n",
    "print(df, type(df))"
   ]
  },
  {
   "cell_type": "code",
   "execution_count": 9,
   "metadata": {},
   "outputs": [
    {
     "name": "stdout",
     "output_type": "stream",
     "text": [
      "                b         d         e\n",
      "min-max  2.271262  3.519828  2.606788 <class 'pandas.core.frame.DataFrame'>\n"
     ]
    }
   ],
   "source": [
    "def min_max(x):\n",
    "  return pd.Series( [x.max() - x.min() ], index=['min-max'])    \n",
    "\n",
    "df = frame.apply(min_max)\n",
    "print(df, type(df))"
   ]
  },
  {
   "cell_type": "markdown",
   "metadata": {},
   "source": [
    "# Sorting and Ranking"
   ]
  },
  {
   "cell_type": "code",
   "execution_count": 10,
   "metadata": {
    "scrolled": true
   },
   "outputs": [
    {
     "name": "stdout",
     "output_type": "stream",
     "text": [
      "               b         d         e\n",
      "Utah    1.431659 -0.357057 -1.161687\n",
      "Ohio   -1.099858  1.752138 -0.465720\n",
      "Texas   0.644284 -0.322173 -0.584513\n",
      "Oregon  0.468000 -0.498031 -1.390034\n"
     ]
    }
   ],
   "source": [
    "# Sorting and Ranking\n",
    "import numpy as np\n",
    "import pandas as pd\n",
    "frame  = pd.DataFrame(np.random.randn(4, 3), \n",
    "                             columns=list('bde'), \n",
    "                     index=['Utah', 'Ohio', 'Texas', 'Oregon'])\n",
    "print(frame)"
   ]
  },
  {
   "cell_type": "code",
   "execution_count": 11,
   "metadata": {},
   "outputs": [
    {
     "name": "stdout",
     "output_type": "stream",
     "text": [
      "               b         d         e\n",
      "Utah    1.431659 -0.357057 -1.161687\n",
      "Ohio   -1.099858  1.752138 -0.465720\n",
      "Texas   0.644284 -0.322173 -0.584513\n",
      "Oregon  0.468000 -0.498031 -1.390034\n"
     ]
    }
   ],
   "source": [
    "# defaults in sort: axis = 0, ascending = True\n",
    "print(frame.sort_index(axis=1, ascending=True))"
   ]
  },
  {
   "cell_type": "code",
   "execution_count": 12,
   "metadata": {},
   "outputs": [
    {
     "name": "stdout",
     "output_type": "stream",
     "text": [
      "               b         d         e\n",
      "Ohio   -1.099858  1.752138 -0.465720\n",
      "Oregon  0.468000 -0.498031 -1.390034\n",
      "Texas   0.644284 -0.322173 -0.584513\n",
      "Utah    1.431659 -0.357057 -1.161687\n"
     ]
    }
   ],
   "source": [
    "print( frame.sort_index())"
   ]
  },
  {
   "cell_type": "code",
   "execution_count": 13,
   "metadata": {},
   "outputs": [
    {
     "data": {
      "text/html": [
       "<div>\n",
       "<style scoped>\n",
       "    .dataframe tbody tr th:only-of-type {\n",
       "        vertical-align: middle;\n",
       "    }\n",
       "\n",
       "    .dataframe tbody tr th {\n",
       "        vertical-align: top;\n",
       "    }\n",
       "\n",
       "    .dataframe thead th {\n",
       "        text-align: right;\n",
       "    }\n",
       "</style>\n",
       "<table border=\"1\" class=\"dataframe\">\n",
       "  <thead>\n",
       "    <tr style=\"text-align: right;\">\n",
       "      <th></th>\n",
       "      <th>b</th>\n",
       "      <th>d</th>\n",
       "      <th>e</th>\n",
       "    </tr>\n",
       "  </thead>\n",
       "  <tbody>\n",
       "    <tr>\n",
       "      <th>Utah</th>\n",
       "      <td>1.431659</td>\n",
       "      <td>-0.357057</td>\n",
       "      <td>-1.161687</td>\n",
       "    </tr>\n",
       "    <tr>\n",
       "      <th>Ohio</th>\n",
       "      <td>-1.099858</td>\n",
       "      <td>1.752138</td>\n",
       "      <td>-0.465720</td>\n",
       "    </tr>\n",
       "    <tr>\n",
       "      <th>Texas</th>\n",
       "      <td>0.644284</td>\n",
       "      <td>-0.322173</td>\n",
       "      <td>-0.584513</td>\n",
       "    </tr>\n",
       "    <tr>\n",
       "      <th>Oregon</th>\n",
       "      <td>0.468000</td>\n",
       "      <td>-0.498031</td>\n",
       "      <td>-1.390034</td>\n",
       "    </tr>\n",
       "  </tbody>\n",
       "</table>\n",
       "</div>"
      ],
      "text/plain": [
       "               b         d         e\n",
       "Utah    1.431659 -0.357057 -1.161687\n",
       "Ohio   -1.099858  1.752138 -0.465720\n",
       "Texas   0.644284 -0.322173 -0.584513\n",
       "Oregon  0.468000 -0.498031 -1.390034"
      ]
     },
     "execution_count": 13,
     "metadata": {},
     "output_type": "execute_result"
    }
   ],
   "source": [
    "frame"
   ]
  },
  {
   "cell_type": "code",
   "execution_count": 14,
   "metadata": {},
   "outputs": [
    {
     "name": "stdout",
     "output_type": "stream",
     "text": [
      "               b         d         e\n",
      "Utah    1.232950 -1.985025 -0.679833\n",
      "Ohio    0.769441  0.548758 -1.266527\n",
      "Texas   1.026494 -0.601035  0.956384\n",
      "Oregon -0.026996 -0.157361 -0.243208\n",
      "               b         d         e\n",
      "Oregon -0.026996 -0.157361 -0.243208\n",
      "Ohio    0.769441  0.548758 -1.266527\n",
      "Texas   1.026494 -0.601035  0.956384\n",
      "Utah    1.232950 -1.985025 -0.679833\n"
     ]
    }
   ],
   "source": [
    "# sort by values\n",
    "frame  = pd.DataFrame(np.random.randn(4, 3), \n",
    "                             columns=list('bde'), \n",
    "                     index=['Utah', 'Ohio', 'Texas', 'Oregon'])\n",
    "print(frame)\n",
    "print( frame.sort_values(by='b') )\n"
   ]
  },
  {
   "cell_type": "code",
   "execution_count": 15,
   "metadata": {},
   "outputs": [
    {
     "name": "stdout",
     "output_type": "stream",
     "text": [
      "          b    d    e\n",
      "Utah    1.0  4.0  3.0\n",
      "Ohio    3.0  1.0  4.0\n",
      "Texas   2.0  3.0  1.0\n",
      "Oregon  4.0  2.0  2.0\n",
      "          b    d    e\n",
      "Utah    4.0  1.0  2.0\n",
      "Ohio    2.0  4.0  1.0\n",
      "Texas   3.0  2.0  4.0\n",
      "Oregon  1.0  3.0  3.0\n",
      "          b    d    e\n",
      "Utah    3.0  1.0  2.0\n",
      "Ohio    3.0  2.0  1.0\n",
      "Texas   3.0  1.0  2.0\n",
      "Oregon  3.0  2.0  1.0\n"
     ]
    },
    {
     "data": {
      "text/plain": [
       "\"\\n'average' Default: assign the average rank to each entry in the equal group\\n'min'\\n'max'\\n'first'\\n'dense'\\nUse the minimum rank for the whole group\\nUse the maximum rank for the whole group\\nAssign ranks in the order the values appear in the data\\nLike method='min' , but ranks always increase by 1 in between groups rather than the number of equal\\nelements in a group\\n\""
      ]
     },
     "execution_count": 15,
     "metadata": {},
     "output_type": "execute_result"
    }
   ],
   "source": [
    "print(frame.rank(ascending=False, method='max'))\n",
    "print(frame.rank(ascending=True, method='min'))\n",
    "print( frame.rank(axis='columns'))\n",
    "\n",
    "\n",
    "#check details from the book\n",
    "'''\n",
    "'average' Default: assign the average rank to each entry in the equal group\n",
    "'min'\n",
    "'max'\n",
    "'first'\n",
    "'dense'\n",
    "Use the minimum rank for the whole group\n",
    "Use the maximum rank for the whole group\n",
    "Assign ranks in the order the values appear in the data\n",
    "Like method='min' , but ranks always increase by 1 in between groups rather than the number of equal\n",
    "elements in a group\n",
    "'''"
   ]
  },
  {
   "cell_type": "markdown",
   "metadata": {},
   "source": [
    "# Summarizing and Computing Descriptive Statistics"
   ]
  },
  {
   "cell_type": "code",
   "execution_count": 16,
   "metadata": {},
   "outputs": [
    {
     "name": "stdout",
     "output_type": "stream",
     "text": [
      "Data Frame\n",
      "    one  two\n",
      "a  1.40  NaN\n",
      "b  7.10 -4.5\n",
      "c   NaN  NaN\n",
      "d  0.75 -1.3\n",
      "\n",
      "Column sum\n",
      "one    9.25\n",
      "two   -5.80\n",
      "dtype: float64\n",
      "\n",
      "Row Sum\n",
      "a    1.40\n",
      "b    2.60\n",
      "c    0.00\n",
      "d   -0.55\n",
      "dtype: float64\n"
     ]
    }
   ],
   "source": [
    "df = pd.DataFrame([\n",
    "                    [1.4, np.nan], [7.1, -4.5],\n",
    "                    [np.nan, np.nan], [0.75, -1.3]\n",
    "                   ], index=['a', 'b', 'c', 'd'], columns=['one', 'two'])\n",
    "print(\"Data Frame\")\n",
    "print(df)\n",
    "print()\n",
    "print(\"Column sum\")\n",
    "print( df.sum())\n",
    "print()\n",
    "print(\"Row Sum\")\n",
    "print( df.sum(axis='columns'))\n",
    "# note: use of skipna"
   ]
  },
  {
   "cell_type": "code",
   "execution_count": 17,
   "metadata": {},
   "outputs": [
    {
     "name": "stdout",
     "output_type": "stream",
     "text": [
      "    one  two\n",
      "a  1.40  NaN\n",
      "b  7.10 -4.5\n",
      "c   NaN  NaN\n",
      "d  0.75 -1.3\n",
      "\n",
      "a      NaN\n",
      "b    1.300\n",
      "c      NaN\n",
      "d   -0.275\n",
      "dtype: float64\n"
     ]
    }
   ],
   "source": [
    "print(df)\n",
    "x = df.mean(axis='columns', skipna=False)\n",
    "print()\n",
    "print(x)"
   ]
  },
  {
   "cell_type": "markdown",
   "metadata": {},
   "source": [
    "# unique values"
   ]
  },
  {
   "cell_type": "code",
   "execution_count": 18,
   "metadata": {},
   "outputs": [
    {
     "name": "stdout",
     "output_type": "stream",
     "text": [
      "    one  two  three  four\n",
      "a  1.40  1.4    1.5   NaN\n",
      "b  7.10 -4.5    1.5   1.4\n",
      "c  1.40  NaN    0.5   NaN\n",
      "d  0.75 -1.3    1.3   NaN\n",
      "\n",
      "[1.4  7.1  0.75] [ 1.4 -4.5  nan -1.3]\n"
     ]
    },
    {
     "data": {
      "text/plain": [
       "1.40    2\n",
       "0.75    1\n",
       "7.10    1\n",
       "Name: one, dtype: int64"
      ]
     },
     "execution_count": 18,
     "metadata": {},
     "output_type": "execute_result"
    }
   ],
   "source": [
    "df = pd.DataFrame([\n",
    "                    [1.4,1.4, 1.5, np.nan], [7.1, -4.5, 1.5, 1.4],\n",
    "                    [1.4, np.nan, 0.5, np.nan], [0.75, -1.3, 1.3, np.nan]\n",
    "                   ], index=['a', 'b', 'c', 'd'], columns=['one', 'two', 'three', 'four'])\n",
    "print(df)\n",
    "print()\n",
    "print(df['one'].unique(), df['two'].unique() )\n",
    "df['one'].value_counts()"
   ]
  },
  {
   "cell_type": "markdown",
   "metadata": {},
   "source": [
    "# Arithmetic and Data Alignment"
   ]
  },
  {
   "cell_type": "code",
   "execution_count": 19,
   "metadata": {},
   "outputs": [
    {
     "name": "stdout",
     "output_type": "stream",
     "text": [
      "            b    c    d\n",
      "Ohio      0.0  1.0  2.0\n",
      "Texas     3.0  4.0  5.0\n",
      "Colorado  6.0  7.0  8.0\n",
      "          b     d     e\n",
      "Utah    0.0   1.0   2.0\n",
      "Ohio    3.0   4.0   5.0\n",
      "Texas   6.0   7.0   8.0\n",
      "Oregon  9.0  10.0  11.0\n",
      "\n",
      "            b   c     d   e\n",
      "Colorado  NaN NaN   NaN NaN\n",
      "Ohio      3.0 NaN   6.0 NaN\n",
      "Oregon    NaN NaN   NaN NaN\n",
      "Texas     9.0 NaN  12.0 NaN\n",
      "Utah      NaN NaN   NaN NaN\n"
     ]
    }
   ],
   "source": [
    "#print(list('bcd'))\n",
    "df1 = pd.DataFrame(np.arange(9.).reshape((3, 3)), \n",
    "                   columns=list('bcd'), \n",
    "                   index=['Ohio', 'Texas', 'Colorado'])\n",
    "\n",
    "df2 = pd.DataFrame(np.arange(12.).reshape((4, 3)), \n",
    "                   columns=list('bde'),\n",
    "                    index=['Utah', 'Ohio', 'Texas', 'Oregon'])\n",
    "\n",
    "print(df1)\n",
    "print(df2)\n",
    "print()\n",
    "# applying plus operation between two data frames\n",
    "df3 = df1 + df2\n",
    "\n",
    "print(df3)\n",
    "# your work is to fill all Nan values of  this df3 with a number, \n",
    "# choice of number is yours"
   ]
  },
  {
   "cell_type": "markdown",
   "metadata": {},
   "source": [
    "# Arithmetic methods with fill values"
   ]
  },
  {
   "cell_type": "code",
   "execution_count": 20,
   "metadata": {},
   "outputs": [
    {
     "name": "stdout",
     "output_type": "stream",
     "text": [
      "     a    b     c     d\n",
      "0  0.0  1.0   2.0   3.0\n",
      "1  4.0  5.0   6.0   7.0\n",
      "2  8.0  9.0  10.0  11.0\n",
      "      a     b     c     d     e\n",
      "0   0.0   1.0   2.0   3.0   4.0\n",
      "1   5.0   6.0   7.0   8.0   9.0\n",
      "2  10.0  11.0  12.0  13.0  14.0\n",
      "3  15.0  16.0  17.0  18.0  19.0\n"
     ]
    }
   ],
   "source": [
    "df1 = pd.DataFrame(np.arange(12.).reshape((3, 4)),\n",
    "                   columns=list('abcd'))\n",
    "df2 = pd.DataFrame(np.arange(20.).reshape((4, 5)),\n",
    "                    columns=list('abcde'))\n",
    "print(df1)\n",
    "print(df2)"
   ]
  },
  {
   "cell_type": "code",
   "execution_count": 21,
   "metadata": {},
   "outputs": [
    {
     "name": "stdout",
     "output_type": "stream",
     "text": [
      "     a    b     c     d\n",
      "0  0.0  1.0   2.0   3.0\n",
      "1  4.0  5.0   6.0   7.0\n",
      "2  8.0  9.0  10.0  11.0\n",
      "      a     b     c     d     e\n",
      "0   0.0   1.0   2.0   3.0   4.0\n",
      "1   5.0   NaN   7.0   8.0   9.0\n",
      "2  10.0  11.0  12.0  13.0  14.0\n",
      "3  15.0  16.0  17.0  18.0  19.0\n"
     ]
    }
   ],
   "source": [
    "df2.loc[1, 'b'] = np.nan\n",
    "print(df1)\n",
    "print(df2)"
   ]
  },
  {
   "cell_type": "code",
   "execution_count": 22,
   "metadata": {},
   "outputs": [
    {
     "name": "stdout",
     "output_type": "stream",
     "text": [
      "direct + operation without fill_value\n",
      "      a     b     c     d   e\n",
      "0   0.0   2.0   4.0   6.0 NaN\n",
      "1   9.0   NaN  13.0  15.0 NaN\n",
      "2  18.0  20.0  22.0  24.0 NaN\n",
      "3   NaN   NaN   NaN   NaN NaN\n"
     ]
    }
   ],
   "source": [
    "df3 = df1 + df2\n",
    "print(\"direct + operation without fill_value\")\n",
    "print(df3)"
   ]
  },
  {
   "cell_type": "code",
   "execution_count": 23,
   "metadata": {},
   "outputs": [
    {
     "name": "stdout",
     "output_type": "stream",
     "text": [
      "addition using a method with replacing Nan with 0\n",
      "      a     b     c     d     e\n",
      "0   0.0   2.0   4.0   6.0   4.0\n",
      "1   9.0   5.0  13.0  15.0   9.0\n",
      "2  18.0  20.0  22.0  24.0  14.0\n",
      "3  15.0  16.0  17.0  18.0  19.0\n"
     ]
    }
   ],
   "source": [
    "# We can use add method for filling NaN cells with a value\n",
    "# Nan will be replaced by 0 and then addition operation will apply\n",
    "print(\"addition using a method with replacing Nan with 0\")\n",
    "df3 = df1.add(df2, fill_value=0)\n",
    "print(df3)"
   ]
  },
  {
   "cell_type": "markdown",
   "metadata": {},
   "source": [
    "# Operations between DataFrame and Series"
   ]
  },
  {
   "cell_type": "code",
   "execution_count": 24,
   "metadata": {},
   "outputs": [
    {
     "name": "stdout",
     "output_type": "stream",
     "text": [
      "          b     d     e\n",
      "Utah    0.0   1.0   2.0\n",
      "Ohio    3.0   4.0   5.0\n",
      "Texas   6.0   7.0   8.0\n",
      "Oregon  9.0  10.0  11.0\n"
     ]
    }
   ],
   "source": [
    "import numpy as np\n",
    "import pandas as pd\n",
    "frame = pd.DataFrame(np.arange(12.).reshape((4, 3)),\n",
    "            columns=list('bde'), \n",
    "                     index=['Utah', 'Ohio', 'Texas', 'Oregon'])\n",
    "print(frame)"
   ]
  },
  {
   "cell_type": "code",
   "execution_count": 25,
   "metadata": {},
   "outputs": [
    {
     "name": "stdout",
     "output_type": "stream",
     "text": [
      "b    0.0\n",
      "d    1.0\n",
      "e    2.0\n",
      "Name: Utah, dtype: float64\n"
     ]
    }
   ],
   "source": [
    "# iloc syntax\n",
    "# iloc[start_row_pos:end_row_pos, start_column_pos: end_col_positin ]\n",
    "series = frame.iloc[0]\n",
    "print(series)"
   ]
  },
  {
   "cell_type": "code",
   "execution_count": 26,
   "metadata": {},
   "outputs": [
    {
     "name": "stdout",
     "output_type": "stream",
     "text": [
      "[0. 1. 2.]\n",
      "Index(['b', 'd', 'e'], dtype='object')\n"
     ]
    }
   ],
   "source": [
    "print(series.values)\n",
    "print(series.index)"
   ]
  },
  {
   "cell_type": "code",
   "execution_count": 27,
   "metadata": {},
   "outputs": [
    {
     "name": "stdout",
     "output_type": "stream",
     "text": [
      "          b     d     e\n",
      "Utah    0.0   1.0   2.0\n",
      "Ohio    3.0   4.0   5.0\n",
      "Texas   6.0   7.0   8.0\n",
      "Oregon  9.0  10.0  11.0\n",
      "b    0.0\n",
      "d    1.0\n",
      "e    2.0\n",
      "Name: Utah, dtype: float64\n",
      "          b    d    e\n",
      "Utah    0.0  0.0  0.0\n",
      "Ohio    3.0  3.0  3.0\n",
      "Texas   6.0  6.0  6.0\n",
      "Oregon  9.0  9.0  9.0\n"
     ]
    }
   ],
   "source": [
    "print(frame)\n",
    "print(series)\n",
    "print(frame - series)"
   ]
  },
  {
   "cell_type": "code",
   "execution_count": 28,
   "metadata": {},
   "outputs": [
    {
     "name": "stdout",
     "output_type": "stream",
     "text": [
      "          b     d     e\n",
      "Utah    0.0   1.0   2.0\n",
      "Ohio    3.0   4.0   5.0\n",
      "Texas   6.0   7.0   8.0\n",
      "Oregon  9.0  10.0  11.0\n",
      "b    1\n",
      "d    2\n",
      "e    3\n",
      "dtype: int64\n",
      "Index(['b', 'd', 'e'], dtype='object') [1 2 3]\n",
      "          b    d    e\n",
      "Utah   -1.0 -1.0 -1.0\n",
      "Ohio    2.0  2.0  2.0\n",
      "Texas   5.0  5.0  5.0\n",
      "Oregon  8.0  8.0  8.0\n"
     ]
    }
   ],
   "source": [
    "series = pd.Series([1,2,3], index =list('bde') )\n",
    "print(frame)\n",
    "print(series)\n",
    "print(series.index, series.values)\n",
    "print(frame - series)"
   ]
  },
  {
   "cell_type": "markdown",
   "metadata": {},
   "source": [
    "# Deleting data (row or column from dataframe) "
   ]
  },
  {
   "cell_type": "code",
   "execution_count": 29,
   "metadata": {
    "scrolled": true
   },
   "outputs": [
    {
     "name": "stdout",
     "output_type": "stream",
     "text": [
      "          one  two  three  four\n",
      "Ohio        0    1      2     3\n",
      "Colorado    4    5      6     7\n",
      "Utah        8    9     10    11\n",
      "New York   12   13     14    15\n",
      "          one  three  four\n",
      "Ohio        0      2     3\n",
      "Colorado    4      6     7\n",
      "Utah        8     10    11\n",
      "New York   12     14    15\n"
     ]
    }
   ],
   "source": [
    "import numpy as np\n",
    "import pandas as pd\n",
    "\n",
    "data_df = pd.DataFrame(np.arange(16).reshape((4, 4)), \n",
    "             index=['Ohio', 'Colorado', 'Utah', 'New York'],\n",
    "             columns=['one', 'two', 'three', 'four'])\n",
    "\n",
    "print(data_df)\n",
    "data_df = data_df.drop('two', axis=1)\n",
    "\n",
    "print(data_df)"
   ]
  },
  {
   "cell_type": "code",
   "execution_count": 30,
   "metadata": {},
   "outputs": [
    {
     "name": "stdout",
     "output_type": "stream",
     "text": [
      "          one  three  four\n",
      "Ohio        0      2     3\n",
      "Utah        8     10    11\n",
      "New York   12     14    15\n"
     ]
    }
   ],
   "source": [
    "data_df.drop('Colorado', axis=0, inplace = True)\n",
    "print(data_df)"
   ]
  },
  {
   "cell_type": "markdown",
   "metadata": {},
   "source": [
    "# Indexing, Selection, and Filtering"
   ]
  },
  {
   "cell_type": "code",
   "execution_count": 31,
   "metadata": {},
   "outputs": [
    {
     "name": "stdout",
     "output_type": "stream",
     "text": [
      "          one  two  three  four\n",
      "Ohio        0    1      2     3\n",
      "Colorado    4    5      6     7\n",
      "Utah        8    9     10    11\n",
      "New York   12   13     14    15\n"
     ]
    }
   ],
   "source": [
    "import numpy as np\n",
    "import pandas as pd\n",
    "\n",
    "data_df = pd.DataFrame(np.arange(16).reshape((4, 4)), \n",
    "             index=['Ohio', 'Colorado', 'Utah', 'New York'],\n",
    "             columns=['one', 'two', 'three', 'four'])\n",
    "\n",
    "print(data_df)"
   ]
  },
  {
   "cell_type": "code",
   "execution_count": 32,
   "metadata": {},
   "outputs": [
    {
     "name": "stdout",
     "output_type": "stream",
     "text": [
      "          one  three\n",
      "Ohio        0      2\n",
      "Colorado    4      6\n",
      "Utah        8     10\n",
      "New York   12     14\n"
     ]
    }
   ],
   "source": [
    "df2 = data_df[ [\"one\", \"three\"] ]\n",
    "print(df2)"
   ]
  },
  {
   "cell_type": "code",
   "execution_count": 33,
   "metadata": {},
   "outputs": [
    {
     "name": "stdout",
     "output_type": "stream",
     "text": [
      "          one  two  three  four\n",
      "Utah        8    9     10    11\n",
      "New York   12   13     14    15\n"
     ]
    }
   ],
   "source": [
    "print( data_df[2:] ) # same like numpy"
   ]
  },
  {
   "cell_type": "code",
   "execution_count": 34,
   "metadata": {},
   "outputs": [
    {
     "name": "stdout",
     "output_type": "stream",
     "text": [
      "Ohio         0\n",
      "Colorado     4\n",
      "Utah         8\n",
      "New York    12\n",
      "Name: one, dtype: int32\n"
     ]
    }
   ],
   "source": [
    "print(data_df[\"one\"] )# dicitonary like style of accessing data"
   ]
  },
  {
   "cell_type": "code",
   "execution_count": 35,
   "metadata": {},
   "outputs": [
    {
     "name": "stdout",
     "output_type": "stream",
     "text": [
      "Utah         8\n",
      "New York    12\n",
      "Name: one, dtype: int32\n"
     ]
    }
   ],
   "source": [
    "print(data_df.one[2:])  # filter on both row and column"
   ]
  },
  {
   "cell_type": "code",
   "execution_count": 36,
   "metadata": {},
   "outputs": [
    {
     "name": "stdout",
     "output_type": "stream",
     "text": [
      "Utah        10\n",
      "New York    14\n",
      "Name: three, dtype: int32\n"
     ]
    }
   ],
   "source": [
    "# Conditonal Selection\n",
    "print ( data_df.three[data_df['three'] > 6] )"
   ]
  },
  {
   "cell_type": "code",
   "execution_count": 37,
   "metadata": {},
   "outputs": [
    {
     "name": "stdout",
     "output_type": "stream",
     "text": [
      "          one  two  three  four\n",
      "Ohio        0    1      2     3\n",
      "Colorado    4    5      6     7\n",
      "Utah        8    9     10    11\n",
      "New York   12   13     14    15 \n",
      "\n",
      "Ohio        False\n",
      "Colorado    False\n",
      "Utah        False\n",
      "New York     True\n",
      "Name: three, dtype: bool\n"
     ]
    }
   ],
   "source": [
    "print(data_df, \"\\n\")\n",
    "f2 = data_df[\"three\"] > 10  # boolean dataframe\n",
    "print(f2)"
   ]
  },
  {
   "cell_type": "code",
   "execution_count": 38,
   "metadata": {},
   "outputs": [
    {
     "name": "stdout",
     "output_type": "stream",
     "text": [
      "          one  three\n",
      "Ohio        0      2\n",
      "Colorado    4      6\n",
      "Utah        8     10\n",
      "New York   12     14\n"
     ]
    }
   ],
   "source": [
    "print(df2)"
   ]
  },
  {
   "cell_type": "code",
   "execution_count": 39,
   "metadata": {},
   "outputs": [
    {
     "name": "stdout",
     "output_type": "stream",
     "text": [
      "          one  two  three  four\n",
      "New York   12   13     14    15\n"
     ]
    }
   ],
   "source": [
    "print( data_df[  data_df[\"three\"] > 10  ] )\n"
   ]
  },
  {
   "cell_type": "markdown",
   "metadata": {},
   "source": [
    "# Reindexing"
   ]
  },
  {
   "cell_type": "code",
   "execution_count": 40,
   "metadata": {},
   "outputs": [],
   "source": [
    "# Mind Teaser !!\n",
    "#Assigning a column that already exist will ________ and \n",
    "# assigning a column that does not exist will ________\n"
   ]
  },
  {
   "cell_type": "code",
   "execution_count": 41,
   "metadata": {},
   "outputs": [
    {
     "name": "stdout",
     "output_type": "stream",
     "text": [
      "0      blue\n",
      "3    purple\n",
      "6    yellow\n",
      "dtype: object\n"
     ]
    }
   ],
   "source": [
    "# how to reindex and usie of ffill value of parameter method \n",
    "import pandas as pd\n",
    "obj3 = pd.Series(['blue', 'purple', 'yellow'], index=[0, 3, 6])\n",
    "print( obj3 )"
   ]
  },
  {
   "cell_type": "code",
   "execution_count": 42,
   "metadata": {},
   "outputs": [
    {
     "name": "stdout",
     "output_type": "stream",
     "text": [
      "0      blue\n",
      "1       NaN\n",
      "2       NaN\n",
      "3    purple\n",
      "4       NaN\n",
      "5       NaN\n",
      "6    yellow\n",
      "7       NaN\n",
      "8       NaN\n",
      "dtype: object\n"
     ]
    }
   ],
   "source": [
    "# might create a new rows\n",
    "obj3 =obj3.reindex(range(9) )\n",
    "print(obj3)"
   ]
  },
  {
   "cell_type": "code",
   "execution_count": 43,
   "metadata": {},
   "outputs": [
    {
     "name": "stdout",
     "output_type": "stream",
     "text": [
      "0      blue\n",
      "3    purple\n",
      "6    yellow\n",
      "dtype: object\n",
      "0      blue\n",
      "1      blue\n",
      "2      blue\n",
      "3    purple\n",
      "4    purple\n",
      "5    purple\n",
      "6    yellow\n",
      "7    yellow\n",
      "8    yellow\n",
      "dtype: object\n"
     ]
    }
   ],
   "source": [
    "# how to reindex and usie of ffill value of parameter method \n",
    "import pandas as pd\n",
    "obj3 = pd.Series(['blue', 'purple', 'yellow'], index=[0, 3, 6])\n",
    "print( obj3 )\n",
    "obj3 =obj3.reindex(range(9), method='ffill' )\n",
    "print(obj3)"
   ]
  },
  {
   "cell_type": "code",
   "execution_count": 44,
   "metadata": {},
   "outputs": [
    {
     "name": "stdout",
     "output_type": "stream",
     "text": [
      "0      blue\n",
      "3    purple\n",
      "6    yellow\n",
      "dtype: object\n"
     ]
    },
    {
     "data": {
      "text/plain": [
       "2       blue\n",
       "3     purple\n",
       "4     purple\n",
       "5     purple\n",
       "6     yellow\n",
       "7     yellow\n",
       "8     yellow\n",
       "9     yellow\n",
       "10    yellow\n",
       "dtype: object"
      ]
     },
     "execution_count": 44,
     "metadata": {},
     "output_type": "execute_result"
    }
   ],
   "source": [
    "import pandas as pd\n",
    "obj3 = pd.Series(['blue', 'purple', 'yellow'], index=[0, 3, 6])\n",
    "print( obj3 )\n",
    "obj3 =obj3.reindex(range(2,11), method=\"ffill\")\n",
    "obj3"
   ]
  },
  {
   "cell_type": "code",
   "execution_count": 45,
   "metadata": {},
   "outputs": [
    {
     "name": "stdout",
     "output_type": "stream",
     "text": [
      "   Ohio  Texas  California\n",
      "a     0      1           2\n",
      "c     3      4           5\n",
      "d     6      7           8\n",
      "   Ohio  Texas  California\n",
      "a     0      1           2\n",
      "b     0      1           2\n",
      "c     3      4           5\n",
      "d     6      7           8\n"
     ]
    }
   ],
   "source": [
    "import numpy as np\n",
    "import pandas as pd\n",
    "states = pd.DataFrame(np.arange(9).reshape((3, 3) ),\n",
    "index=['a', 'c', 'd'], columns=['Ohio', 'Texas', 'California'])\n",
    "\n",
    "print(states)\n",
    "# for your own working, run following statement without ffill\n",
    "states = states.reindex(['a', 'b', 'c', 'd'],method = 'ffill')\n",
    "print(states)"
   ]
  },
  {
   "cell_type": "code",
   "execution_count": 46,
   "metadata": {},
   "outputs": [
    {
     "name": "stdout",
     "output_type": "stream",
     "text": [
      "   Ohio  Texas  California\n",
      "a     0      1           2\n",
      "c     3      4           5\n",
      "d     6      7           8\n",
      "   Texas  Utah  California  Ohio\n",
      "a      1   NaN           2     0\n",
      "c      4   NaN           5     3\n",
      "d      7   NaN           8     6\n"
     ]
    }
   ],
   "source": [
    "# column name changing using reindex method\n",
    "states = pd.DataFrame(np.arange(9).reshape((3, 3) ),\n",
    "index=['a', 'c', 'd'], columns=['Ohio', 'Texas', 'California'])\n",
    "print(states)\n",
    "states_name = ['Texas', 'Utah', 'California','Ohio']\n",
    "\n",
    "# can we use ffill parameter in column reindex mode ?\n",
    "states =states.reindex(columns=states_name)\n",
    "print(states)\n"
   ]
  },
  {
   "cell_type": "markdown",
   "metadata": {},
   "source": [
    "# Selection with loc and iloc"
   ]
  },
  {
   "cell_type": "code",
   "execution_count": 47,
   "metadata": {},
   "outputs": [
    {
     "name": "stdout",
     "output_type": "stream",
     "text": [
      "          one  two  three  four\n",
      "Ohio        0    1      2     3\n",
      "Colorado    4    5      6     7\n",
      "Utah        8    9     10    11\n",
      "New York   12   13     14    15\n"
     ]
    }
   ],
   "source": [
    "import numpy as np\n",
    "import pandas as pd\n",
    "\n",
    "data_df = pd.DataFrame(np.arange(16).reshape((4, 4)), \n",
    "             index=['Ohio', 'Colorado', 'Utah', 'New York'],\n",
    "             columns=['one', 'two', 'three', 'four'])\n",
    "\n",
    "print(data_df)       "
   ]
  },
  {
   "cell_type": "code",
   "execution_count": 48,
   "metadata": {},
   "outputs": [
    {
     "name": "stdout",
     "output_type": "stream",
     "text": [
      "          two  three  one\n",
      "Colorado    5      6    4\n",
      "Ohio        1      2    0\n"
     ]
    }
   ],
   "source": [
    "# in the loc method specify row label first \n",
    "# then specify column names\n",
    "# remember! mutiple column names require array notation\n",
    "print( data_df.loc[['Colorado','Ohio'], ['two',  'three', 'one'] ] )"
   ]
  },
  {
   "cell_type": "code",
   "execution_count": 49,
   "metadata": {},
   "outputs": [
    {
     "name": "stdout",
     "output_type": "stream",
     "text": [
      "four    11\n",
      "one      8\n",
      "two      9\n",
      "Name: Utah, dtype: int32\n"
     ]
    }
   ],
   "source": [
    "print( data_df.iloc[2, [3, 0, 1] ] ) # using number instead of label"
   ]
  },
  {
   "cell_type": "code",
   "execution_count": 50,
   "metadata": {},
   "outputs": [
    {
     "name": "stdout",
     "output_type": "stream",
     "text": [
      "          four  one  two\n",
      "Utah        11    8    9\n",
      "New York    15   12   13\n"
     ]
    }
   ],
   "source": [
    "print( data_df.iloc[2:, [3, 0, 1] ] ) # using number instead of labels"
   ]
  },
  {
   "cell_type": "code",
   "execution_count": 51,
   "metadata": {},
   "outputs": [
    {
     "name": "stdout",
     "output_type": "stream",
     "text": [
      "          one  two  three  four\n",
      "Ohio        0    1      2     3\n",
      "Colorado    4    5      6     7\n",
      "Utah        8    9     10    11\n",
      "New York   12   13     14    15\n"
     ]
    }
   ],
   "source": [
    "print( data_df.iloc[:])"
   ]
  },
  {
   "cell_type": "code",
   "execution_count": 52,
   "metadata": {},
   "outputs": [
    {
     "name": "stdout",
     "output_type": "stream",
     "text": [
      "          one  two  three\n",
      "Ohio        0    1      2\n",
      "Colorado    4    5      6\n",
      "Utah        8    9     10\n"
     ]
    }
   ],
   "source": [
    "print ( data_df.iloc[ :3 , :3 ] )"
   ]
  },
  {
   "cell_type": "code",
   "execution_count": 53,
   "metadata": {},
   "outputs": [
    {
     "name": "stdout",
     "output_type": "stream",
     "text": [
      "          one  two  three\n",
      "Ohio        0    1      2\n",
      "Colorado    4    5      6\n",
      "Utah        8    9     10\n",
      "New York   12   13     14\n"
     ]
    }
   ],
   "source": [
    "print( data_df.iloc[:, :3])"
   ]
  }
 ],
 "metadata": {
  "kernelspec": {
   "display_name": "Python 3",
   "language": "python",
   "name": "python3"
  },
  "language_info": {
   "codemirror_mode": {
    "name": "ipython",
    "version": 3
   },
   "file_extension": ".py",
   "mimetype": "text/x-python",
   "name": "python",
   "nbconvert_exporter": "python",
   "pygments_lexer": "ipython3",
   "version": "3.7.6"
  }
 },
 "nbformat": 4,
 "nbformat_minor": 2
}
