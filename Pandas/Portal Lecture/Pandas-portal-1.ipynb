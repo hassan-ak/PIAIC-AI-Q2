{
 "cells": [
  {
   "cell_type": "markdown",
   "metadata": {},
   "source": [
    "# Pandas"
   ]
  },
  {
   "cell_type": "markdown",
   "metadata": {},
   "source": [
    "## Lec:- 01 Introduction to Pandas Part 1\n",
    "###### What is NumPy\n",
    "* used for oranizing and handling data of multi-dimensional array\n",
    "\n",
    "###### What is Pandas\n",
    "* it is based on numpy\n",
    "* store multiple type of data in different columns\n",
    "* we can use column heading and row number\n",
    "* it is more optamized to handle large data set of different types\n",
    "\n",
    "###### Main task as data scientist\n",
    "* Collecting data\n",
    "* organizing data\n",
    "* Filter out data"
   ]
  },
  {
   "cell_type": "markdown",
   "metadata": {},
   "source": [
    "## Lec:- 02 Introduction to Pandas Part 2\n",
    "###### Why we need Pandas\n",
    "* For data handling\n",
    "* need to manage multi dimensional data\n",
    "* organized and well managed data is basic requirement for AI and Ml\n",
    "\n",
    "###### Common actions over data\n",
    "* Collection and storing\n",
    "* Filtering sampling\n",
    "* filling and removing duplicates\n",
    "* Merging and splitting\n",
    "\n",
    "![](photos/1.2.1.PNG)"
   ]
  },
  {
   "cell_type": "markdown",
   "metadata": {},
   "source": [
    "## Lec:- 03 Introduction to Pandas Part 3"
   ]
  },
  {
   "cell_type": "markdown",
   "metadata": {},
   "source": [
    "## Lec:- 04 Introduction to Pandas Part 4"
   ]
  },
  {
   "cell_type": "markdown",
   "metadata": {},
   "source": [
    "## Lec:- 05 Introduction to Pandas Part 5\n",
    "###### Data can be\n",
    "* text\n",
    "* unstructed text\n",
    "* numerical\n",
    "* pictures\n",
    "* videos\n",
    "* Time series\n",
    "* other patterns"
   ]
  },
  {
   "cell_type": "markdown",
   "metadata": {},
   "source": [
    "## Lec:- 06 Introduction to Pandas Part 6"
   ]
  },
  {
   "cell_type": "markdown",
   "metadata": {},
   "source": [
    "## Lec:- 07 Introduction to Pandas Part 7"
   ]
  },
  {
   "cell_type": "markdown",
   "metadata": {},
   "source": [
    "## Lec:- 08 Introduction to Pandas Part 8"
   ]
  }
 ],
 "metadata": {
  "kernelspec": {
   "display_name": "Python 3",
   "language": "python",
   "name": "python3"
  },
  "language_info": {
   "codemirror_mode": {
    "name": "ipython",
    "version": 3
   },
   "file_extension": ".py",
   "mimetype": "text/x-python",
   "name": "python",
   "nbconvert_exporter": "python",
   "pygments_lexer": "ipython3",
   "version": "3.7.6"
  }
 },
 "nbformat": 4,
 "nbformat_minor": 4
}
