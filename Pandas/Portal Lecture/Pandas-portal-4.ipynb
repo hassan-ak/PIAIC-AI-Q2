{
 "cells": [
  {
   "cell_type": "markdown",
   "metadata": {},
   "source": [
    "# Data Analysis with Pandas\n",
    "## Data Cleaning and Preparation"
   ]
  },
  {
   "cell_type": "code",
   "execution_count": 1,
   "metadata": {},
   "outputs": [],
   "source": [
    "import numpy as np\n",
    "import pandas as pd\n",
    "from numpy import nan as NA"
   ]
  },
  {
   "cell_type": "markdown",
   "metadata": {},
   "source": [
    "### Handling Missing Data"
   ]
  },
  {
   "cell_type": "markdown",
   "metadata": {},
   "source": [
    "For numeric data, pandas uses the floating-point\n",
    "value NaN (Not a Number) to represent missing data"
   ]
  },
  {
   "cell_type": "code",
   "execution_count": 2,
   "metadata": {},
   "outputs": [
    {
     "name": "stdout",
     "output_type": "stream",
     "text": [
      "--- string_data ---\n",
      "0     aardvark\n",
      "1    artichoke\n",
      "2          NaN\n",
      "3      avocado\n",
      "dtype: object\n",
      "--- string_data.isnull() ---\n",
      "0    False\n",
      "1    False\n",
      "2     True\n",
      "3    False\n",
      "dtype: bool\n",
      "--- string_data.isnull() ---\n",
      "0     True\n",
      "1    False\n",
      "2     True\n",
      "3    False\n",
      "dtype: bool\n"
     ]
    }
   ],
   "source": [
    "string_data = pd.Series(['aardvark', 'artichoke', np.nan, 'avocado'])\n",
    "print(\"--- string_data ---\")\n",
    "print(string_data)\n",
    "print(\"--- string_data.isnull() ---\")\n",
    "print(string_data.isnull())\n",
    "string_data[0] = None\n",
    "print(\"--- string_data.isnull() ---\")\n",
    "print(string_data.isnull())"
   ]
  },
  {
   "cell_type": "markdown",
   "metadata": {},
   "source": [
    "![NA handling methods](./photos/7.1.PNG)"
   ]
  },
  {
   "cell_type": "code",
   "execution_count": 3,
   "metadata": {},
   "outputs": [
    {
     "name": "stdout",
     "output_type": "stream",
     "text": [
      "--- data ---\n",
      "0    1.0\n",
      "1    NaN\n",
      "2    3.5\n",
      "3    NaN\n",
      "4    7.0\n",
      "dtype: float64\n",
      "--- data.dropna() ---\n",
      "0    1.0\n",
      "2    3.5\n",
      "4    7.0\n",
      "dtype: float64\n",
      "--- data[data.notnull()] ---\n",
      "0    1.0\n",
      "2    3.5\n",
      "4    7.0\n",
      "dtype: float64\n"
     ]
    }
   ],
   "source": [
    "data = pd.Series([1, NA, 3.5, NA, 7])\n",
    "print(\"--- data ---\")\n",
    "print(data)\n",
    "print(\"--- data.dropna() ---\")\n",
    "print(data.dropna())\n",
    "print(\"--- data[data.notnull()] ---\")\n",
    "print(data[data.notnull()])"
   ]
  },
  {
   "cell_type": "code",
   "execution_count": 4,
   "metadata": {},
   "outputs": [
    {
     "name": "stdout",
     "output_type": "stream",
     "text": [
      "--- data ---\n",
      "     a    b    c\n",
      "0  1.0  6.5  3.0\n",
      "1  1.0  NaN  NaN\n",
      "2  NaN  NaN  NaN\n",
      "3  NaN  6.5  3.0\n",
      "--- data.dropna() ---\n",
      "     a    b    c\n",
      "0  1.0  6.5  3.0\n",
      "--- data.dropna(how='all') ---\n",
      "     a    b    c\n",
      "0  1.0  6.5  3.0\n",
      "1  1.0  NaN  NaN\n",
      "3  NaN  6.5  3.0\n",
      "--- data.dropna(axis=1) ---\n",
      "Empty DataFrame\n",
      "Columns: []\n",
      "Index: [0, 1, 2, 3]\n",
      "--- data.dropna(axis=1,how='all') ---\n",
      "     a    b    c\n",
      "0  1.0  6.5  3.0\n",
      "1  1.0  NaN  NaN\n",
      "2  NaN  NaN  NaN\n",
      "3  NaN  6.5  3.0\n"
     ]
    }
   ],
   "source": [
    "data = pd.DataFrame([[1., 6.5, 3.], [1., NA, NA], \n",
    "                     [NA, NA, NA], [NA, 6.5, 3.]], \n",
    "                    columns = list('abc'))\n",
    "print(\"--- data ---\")\n",
    "print(data)\n",
    "#remoe all rows that have null values\n",
    "cleaned = data.dropna()\n",
    "print(\"--- data.dropna() ---\")\n",
    "print(cleaned)\n",
    "\n",
    "#how = all = remove rows only all data is NaN\n",
    "# #Passing how='all' will only drop rows that are all NA:\n",
    "cleaned = data.dropna(how='all')\n",
    "print(\"--- data.dropna(how='all') ---\")\n",
    "print(cleaned)\n",
    "\n",
    "\n",
    "\n",
    "\n",
    "# dropping columns that have all null values\n",
    "print(\"--- data.dropna(axis=1) ---\")\n",
    "print(data.dropna(axis=1))\n",
    "\n",
    "print(\"--- data.dropna(axis=1,how='all') ---\")\n",
    "print(data.dropna(axis=1,how='all'))"
   ]
  },
  {
   "cell_type": "code",
   "execution_count": 5,
   "metadata": {},
   "outputs": [
    {
     "name": "stdout",
     "output_type": "stream",
     "text": [
      "--- df ---\n",
      "          0         1         2\n",
      "0 -0.679943       NaN       NaN\n",
      "1 -0.037820       NaN       NaN\n",
      "2  1.145347       NaN  0.441100\n",
      "3 -0.116720       NaN -1.417526\n",
      "4  0.435915  0.531607 -1.061078\n",
      "5  0.414277  0.525652  0.084741\n",
      "6  0.285529 -1.312479  2.222606\n",
      "--- df.dropna() ---\n",
      "          0         1         2\n",
      "4  0.435915  0.531607 -1.061078\n",
      "5  0.414277  0.525652  0.084741\n",
      "6  0.285529 -1.312479  2.222606\n",
      "--- df.dropna(thresh=2) ---\n",
      "          0         1         2\n",
      "2  1.145347       NaN  0.441100\n",
      "3 -0.116720       NaN -1.417526\n",
      "4  0.435915  0.531607 -1.061078\n",
      "5  0.414277  0.525652  0.084741\n",
      "6  0.285529 -1.312479  2.222606\n"
     ]
    }
   ],
   "source": [
    "df = pd.DataFrame(np.random.randn(7, 3))\n",
    "df.iloc[:4, 1] = NA\n",
    "df.iloc[:2, 2] = NA\n",
    "print(\"--- df ---\")\n",
    "print(df)\n",
    "print(\"--- df.dropna() ---\")\n",
    "print(df.dropna())\n",
    "print(\"--- df.dropna(thresh=2) ---\")\n",
    "print(df.dropna(thresh=2))"
   ]
  },
  {
   "cell_type": "markdown",
   "metadata": {},
   "source": [
    "###  Filling In Missing Data"
   ]
  },
  {
   "cell_type": "code",
   "execution_count": 6,
   "metadata": {},
   "outputs": [
    {
     "name": "stdout",
     "output_type": "stream",
     "text": [
      "--- df ---\n",
      "          0         1         2\n",
      "0 -0.679943       NaN       NaN\n",
      "1 -0.037820       NaN       NaN\n",
      "2  1.145347       NaN  0.441100\n",
      "3 -0.116720       NaN -1.417526\n",
      "4  0.435915  0.531607 -1.061078\n",
      "5  0.414277  0.525652  0.084741\n",
      "6  0.285529 -1.312479  2.222606\n",
      "--- df.fillna(0) ---\n",
      "          0         1         2\n",
      "0 -0.679943  0.000000  0.000000\n",
      "1 -0.037820  0.000000  0.000000\n",
      "2  1.145347  0.000000  0.441100\n",
      "3 -0.116720  0.000000 -1.417526\n",
      "4  0.435915  0.531607 -1.061078\n",
      "5  0.414277  0.525652  0.084741\n",
      "6  0.285529 -1.312479  2.222606\n",
      "--- df.fillna({1: 0.5, 2: 0}) ---\n",
      "          0         1         2\n",
      "0 -0.679943  0.500000  0.000000\n",
      "1 -0.037820  0.500000  0.000000\n",
      "2  1.145347  0.500000  0.441100\n",
      "3 -0.116720  0.500000 -1.417526\n",
      "4  0.435915  0.531607 -1.061078\n",
      "5  0.414277  0.525652  0.084741\n",
      "6  0.285529 -1.312479  2.222606\n",
      "--- df.fillna(0, inplace=True) ---\n",
      "          0         1         2\n",
      "0 -0.679943  0.000000  0.000000\n",
      "1 -0.037820  0.000000  0.000000\n",
      "2  1.145347  0.000000  0.441100\n",
      "3 -0.116720  0.000000 -1.417526\n",
      "4  0.435915  0.531607 -1.061078\n",
      "5  0.414277  0.525652  0.084741\n",
      "6  0.285529 -1.312479  2.222606\n"
     ]
    }
   ],
   "source": [
    "print(\"--- df ---\")\n",
    "print(df)\n",
    "\n",
    "print(\"--- df.fillna(0) ---\")\n",
    "print(df.fillna(0))\n",
    "\n",
    "#Calling fillna with a dict, you can use a different fill value for each column:\n",
    "# column number 1 will be filled with 0.5\n",
    "# column number 2 will be fileld with 0\n",
    "print(\"--- df.fillna({1: 0.5, 2: 0}) ---\")\n",
    "print(df.fillna({1: 0.5, 2: 0}))\n",
    "\n",
    "_ = df.fillna(0, inplace=True)\n",
    "print(\"--- df.fillna(0, inplace=True) ---\")\n",
    "print(df)"
   ]
  },
  {
   "cell_type": "code",
   "execution_count": 7,
   "metadata": {},
   "outputs": [
    {
     "name": "stdout",
     "output_type": "stream",
     "text": [
      "--- df ---\n",
      "          0         1         2\n",
      "0  0.168025 -0.292455 -1.040591\n",
      "1  0.499751 -0.061079  0.336884\n",
      "2 -0.939787       NaN  0.382848\n",
      "3 -0.588738       NaN -0.109706\n",
      "4 -2.849239       NaN       NaN\n",
      "5  0.789877       NaN       NaN\n",
      "--- df.fillna(method='ffill') ---\n",
      "          0         1         2\n",
      "0  0.168025 -0.292455 -1.040591\n",
      "1  0.499751 -0.061079  0.336884\n",
      "2 -0.939787 -0.061079  0.382848\n",
      "3 -0.588738 -0.061079 -0.109706\n",
      "4 -2.849239 -0.061079 -0.109706\n",
      "5  0.789877 -0.061079 -0.109706\n",
      "--- df.fillna(method='ffill', limit=2) ---\n",
      "          0         1         2\n",
      "0  0.168025 -0.292455 -1.040591\n",
      "1  0.499751 -0.061079  0.336884\n",
      "2 -0.939787 -0.061079  0.382848\n",
      "3 -0.588738 -0.061079 -0.109706\n",
      "4 -2.849239       NaN -0.109706\n",
      "5  0.789877       NaN -0.109706\n"
     ]
    }
   ],
   "source": [
    "df = pd.DataFrame(np.random.randn(6, 3))\n",
    "df.iloc[2:, 1] = NA\n",
    "df.iloc[4:, 2] = NA\n",
    "print(\"--- df ---\")\n",
    "print(df)\n",
    "print(\"--- df.fillna(method='ffill') ---\")\n",
    "print(df.fillna(method='ffill'))\n",
    "print(\"--- df.fillna(method='ffill', limit=2) ---\")\n",
    "print( df.fillna(method='ffill', limit=2))\n"
   ]
  },
  {
   "cell_type": "code",
   "execution_count": 8,
   "metadata": {},
   "outputs": [
    {
     "name": "stdout",
     "output_type": "stream",
     "text": [
      "--- data ---\n",
      "0    1.0\n",
      "1    NaN\n",
      "2    3.5\n",
      "3    NaN\n",
      "4    7.0\n",
      "dtype: float64\n",
      "--- data.fillna(data.mean()) ---\n",
      "0    1.000000\n",
      "1    3.833333\n",
      "2    3.500000\n",
      "3    3.833333\n",
      "4    7.000000\n",
      "dtype: float64\n"
     ]
    }
   ],
   "source": [
    "data = pd.Series([1., NA, 3.5, NA, 7])\n",
    "print(\"--- data ---\")\n",
    "print(data)\n",
    "print(\"--- data.fillna(data.mean()) ---\")\n",
    "print(data.fillna(data.mean()))"
   ]
  },
  {
   "cell_type": "markdown",
   "metadata": {},
   "source": [
    "![fillna function arguments](./photos/7.2.PNG)"
   ]
  },
  {
   "cell_type": "markdown",
   "metadata": {},
   "source": [
    "### Removing Duplicates"
   ]
  },
  {
   "cell_type": "code",
   "execution_count": 9,
   "metadata": {},
   "outputs": [
    {
     "name": "stdout",
     "output_type": "stream",
     "text": [
      "--- data ---\n",
      "    k1  k2\n",
      "0  one   1\n",
      "1  two   1\n",
      "2  one   2\n",
      "3  two   3\n",
      "4  one   3\n",
      "5  two   4\n",
      "6  two   4\n",
      "---  data.duplicated() ---\n",
      "0    False\n",
      "1    False\n",
      "2    False\n",
      "3    False\n",
      "4    False\n",
      "5    False\n",
      "6     True\n",
      "dtype: bool\n",
      "--- data.drop_duplicates() ---\n",
      "    k1  k2\n",
      "0  one   1\n",
      "1  two   1\n",
      "2  one   2\n",
      "3  two   3\n",
      "4  one   3\n",
      "5  two   4\n",
      "--- data['v1'] = range(7) ---\n",
      "    k1  k2  v1\n",
      "0  one   1   0\n",
      "1  two   1   1\n",
      "2  one   2   2\n",
      "3  two   3   3\n",
      "4  one   3   4\n",
      "5  two   4   5\n",
      "6  two   4   6\n",
      "--- data.drop_duplicates(['k1']) ---\n",
      "    k1  k2  v1\n",
      "0  one   1   0\n",
      "1  two   1   1\n",
      "--- data.drop_duplicates(['k1', 'k2'], keep='last') ---\n",
      "    k1  k2  v1\n",
      "0  one   1   0\n",
      "1  two   1   1\n",
      "2  one   2   2\n",
      "3  two   3   3\n",
      "4  one   3   4\n",
      "6  two   4   6\n"
     ]
    }
   ],
   "source": [
    "data = pd.DataFrame({'k1': ['one', 'two'] * 3 + ['two'],\n",
    "                     'k2': [1, 1, 2, 3, 3, 4, 4]} )\n",
    "print(\"--- data ---\")\n",
    "print(data)\n",
    "print(\"---  data.duplicated() ---\")\n",
    "print( data.duplicated())\n",
    "print(\"--- data.drop_duplicates() ---\")\n",
    "print(data.drop_duplicates())\n",
    "data['v1'] = range(7)\n",
    "print(\"--- data['v1'] = range(7) ---\")\n",
    "print(data)\n",
    "print(\"--- data.drop_duplicates(['k1']) ---\")\n",
    "print(data.drop_duplicates(['k1']))\n",
    "print(\"--- data.drop_duplicates(['k1', 'k2'], keep='last') ---\")\n",
    "print(data.drop_duplicates(['k1', 'k2'], keep='last'))"
   ]
  },
  {
   "cell_type": "markdown",
   "metadata": {},
   "source": [
    "### Transforming Data Using a Function or Mapping"
   ]
  },
  {
   "cell_type": "code",
   "execution_count": 10,
   "metadata": {},
   "outputs": [
    {
     "name": "stdout",
     "output_type": "stream",
     "text": [
      "--- data ---\n",
      "          food  ounces\n",
      "0        bacon     4.0\n",
      "1  pulled pork     3.0\n",
      "2        bacon    12.0\n",
      "3     Pastrami     6.0\n",
      "4  corned beef     7.5\n",
      "5        Bacon     8.0\n",
      "6     pastrami     3.0\n",
      "7    honey ham     5.0\n",
      "8     nova lox     6.0\n",
      "--- data['food'].str.lower() ---\n",
      "0          bacon\n",
      "1    pulled pork\n",
      "2          bacon\n",
      "3       pastrami\n",
      "4    corned beef\n",
      "5          bacon\n",
      "6       pastrami\n",
      "7      honey ham\n",
      "8       nova lox\n",
      "Name: food, dtype: object\n",
      "--- lowercased.map(meat_to_animal) ---\n",
      "          food  ounces  animal\n",
      "0        bacon     4.0     pig\n",
      "1  pulled pork     3.0     pig\n",
      "2        bacon    12.0     pig\n",
      "3     Pastrami     6.0     cow\n",
      "4  corned beef     7.5     cow\n",
      "5        Bacon     8.0     pig\n",
      "6     pastrami     3.0     cow\n",
      "7    honey ham     5.0     pig\n",
      "8     nova lox     6.0  salmon\n",
      "--- data['food'].map(lambda x: meat_to_animal[x.lower()]) ---\n",
      "0       pig\n",
      "1       pig\n",
      "2       pig\n",
      "3       cow\n",
      "4       cow\n",
      "5       pig\n",
      "6       cow\n",
      "7       pig\n",
      "8    salmon\n",
      "Name: food, dtype: object\n"
     ]
    }
   ],
   "source": [
    "data = pd.DataFrame({'food': ['bacon', 'pulled pork', 'bacon', 'Pastrami', 'corned beef', 'Bacon', 'pastrami', 'honey ham', 'nova lox'], 'ounces': [4, 3, 12, 6, 7.5, 8, 3, 5, 6]})\n",
    "print(\"--- data ---\")\n",
    "print(data)\n",
    "meat_to_animal = {\n",
    "    'bacon': 'pig',\n",
    "    'pulled pork': 'pig',\n",
    "    'pastrami': 'cow',\n",
    "    'corned beef': 'cow',\n",
    "    'honey ham': 'pig',\n",
    "    'nova lox': 'salmon'\n",
    "}\n",
    "lowercased = data['food'].str.lower()\n",
    "print(\"--- data['food'].str.lower() ---\")\n",
    "print(data['food'].str.lower())\n",
    "data['animal'] = lowercased.map(meat_to_animal)\n",
    "print(\"--- lowercased.map(meat_to_animal) ---\")\n",
    "print(data)\n",
    "print(\"--- data['food'].map(lambda x: meat_to_animal[x.lower()]) ---\")\n",
    "print(data['food'].map(lambda x: meat_to_animal[x.lower()]))\n"
   ]
  },
  {
   "cell_type": "markdown",
   "metadata": {},
   "source": [
    "### Replacing Values"
   ]
  },
  {
   "cell_type": "code",
   "execution_count": 11,
   "metadata": {},
   "outputs": [
    {
     "name": "stdout",
     "output_type": "stream",
     "text": [
      "--- data ---\n",
      "0       1.0\n",
      "1    -999.0\n",
      "2       2.0\n",
      "3    -999.0\n",
      "4   -1000.0\n",
      "5       3.0\n",
      "dtype: float64\n",
      "--- data.replace(-999, np.nan) ---\n",
      "0       1.0\n",
      "1       NaN\n",
      "2       2.0\n",
      "3       NaN\n",
      "4   -1000.0\n",
      "5       3.0\n",
      "dtype: float64\n",
      "--- data.replace([-999, -1000], [np.nan, 0]) ---\n",
      "0    1.0\n",
      "1    NaN\n",
      "2    2.0\n",
      "3    NaN\n",
      "4    0.0\n",
      "5    3.0\n",
      "dtype: float64\n",
      "--- data.replace({-999: np.nan, -1000: 0}) ---\n",
      "0    1.0\n",
      "1    NaN\n",
      "2    2.0\n",
      "3    NaN\n",
      "4    0.0\n",
      "5    3.0\n",
      "dtype: float64\n"
     ]
    }
   ],
   "source": [
    "data = pd.Series([1., -999., 2., -999., -1000., 3.])\n",
    "print(\"--- data ---\")\n",
    "print(data)\n",
    "print(\"--- data.replace(-999, np.nan) ---\")\n",
    "print(data.replace(-999, np.nan))\n",
    "print(\"--- data.replace([-999, -1000], [np.nan, 0]) ---\")\n",
    "print(data.replace([-999, -1000], [np.nan, 0]))\n",
    "print(\"--- data.replace({-999: np.nan, -1000: 0}) ---\")\n",
    "print(data.replace({-999: np.nan, -1000: 0}))\n",
    "\n"
   ]
  },
  {
   "cell_type": "code",
   "execution_count": 12,
   "metadata": {},
   "outputs": [
    {
     "name": "stdout",
     "output_type": "stream",
     "text": [
      "--- df ---\n",
      "          0         1         2\n",
      "0 -1.148397       NaN       NaN\n",
      "1  1.795614       NaN       NaN\n",
      "2 -0.670738       NaN -0.853973\n",
      "3  0.967954       NaN -0.784468\n",
      "4 -1.563508 -1.744865 -0.645973\n",
      "5  0.895845 -0.159216  1.192784\n",
      "6  0.001175 -0.152563  0.909485\n",
      "--- df.replace(np.nan , -999) ---\n",
      "          0           1           2\n",
      "0 -1.148397 -999.000000 -999.000000\n",
      "1  1.795614 -999.000000 -999.000000\n",
      "2 -0.670738 -999.000000   -0.853973\n",
      "3  0.967954 -999.000000   -0.784468\n",
      "4 -1.563508   -1.744865   -0.645973\n",
      "5  0.895845   -0.159216    1.192784\n",
      "6  0.001175   -0.152563    0.909485\n",
      "--- df.replace(-999 , -9) ---\n",
      "          0         1         2\n",
      "0 -1.148397 -9.000000 -9.000000\n",
      "1  1.795614 -9.000000 -9.000000\n",
      "2 -0.670738 -9.000000 -0.853973\n",
      "3  0.967954 -9.000000 -0.784468\n",
      "4 -1.563508 -1.744865 -0.645973\n",
      "5  0.895845 -0.159216  1.192784\n",
      "6  0.001175 -0.152563  0.909485\n",
      "--- df.replace([-999, -9], [101, 0]) ---\n",
      "          0         1         2\n",
      "0 -1.148397  0.000000  0.000000\n",
      "1  1.795614  0.000000  0.000000\n",
      "2 -0.670738  0.000000 -0.853973\n",
      "3  0.967954  0.000000 -0.784468\n",
      "4 -1.563508 -1.744865 -0.645973\n",
      "5  0.895845 -0.159216  1.192784\n",
      "6  0.001175 -0.152563  0.909485\n"
     ]
    }
   ],
   "source": [
    "df = pd.DataFrame(np.random.randn(7, 3))\n",
    "\n",
    "df.iloc[:4, 1] = np.nan\n",
    "df.iloc[:2, 2] = np.nan\n",
    "print(\"--- df ---\")\n",
    "print(df)\n",
    "df = df.replace(np.nan , -999)\n",
    "print(\"--- df.replace(np.nan , -999) ---\")\n",
    "print(df)\n",
    "df = df.replace(-999 , -9)\n",
    "print(\"--- df.replace(-999 , -9) ---\")\n",
    "print(df)\n",
    "df = df.replace([-999, -9], [101, 0])\n",
    "print(\"--- df.replace([-999, -9], [101, 0]) ---\")\n",
    "print(df)"
   ]
  },
  {
   "cell_type": "markdown",
   "metadata": {},
   "source": [
    "### Renaming Axis Indexes using function mapping"
   ]
  },
  {
   "cell_type": "code",
   "execution_count": 13,
   "metadata": {},
   "outputs": [
    {
     "name": "stdout",
     "output_type": "stream",
     "text": [
      "--- data ---\n",
      "          one  two  three  four\n",
      "Ohio        0    1      2     3\n",
      "Colorado    4    5      6     7\n",
      "New York    8    9     10    11\n",
      "--- Edited data ---\n",
      "      one  two  three  four\n",
      "OHIO    0    1      2     3\n",
      "COLO    4    5      6     7\n",
      "NEW     8    9     10    11\n",
      "--- Edited Column/index ---\n",
      "      ONE  TWO  THREE  FOUR\n",
      "Ohio    0    1      2     3\n",
      "Colo    4    5      6     7\n",
      "New     8    9     10    11\n",
      "--- Renamed data ---\n",
      "         one  two  peekaboo  four\n",
      "INDIANA    0    1         2     3\n",
      "COLO       4    5         6     7\n",
      "NEW        8    9        10    11\n",
      "--- data.rename(index={'OHIO': 'INDIANA'}, inplace=True) ---\n",
      "         one  two  three  four\n",
      "INDIANA    0    1      2     3\n",
      "COLO       4    5      6     7\n",
      "NEW        8    9     10    11\n"
     ]
    }
   ],
   "source": [
    "data = pd.DataFrame(np.arange(12).reshape((3, 4)),\n",
    "        index=['Ohio', 'Colorado', 'New York'],\n",
    "        columns=['one', 'two', 'three', 'four'])\n",
    "\n",
    "print(\"--- data ---\")\n",
    "print(data)\n",
    "transform = lambda x: x[:4].upper()\n",
    "data.index = data.index.map(transform)\n",
    "print(\"--- Edited data ---\")\n",
    "print(data)\n",
    "print(\"--- Edited Column/index ---\")\n",
    "print(data.rename(index=str.title, columns=str.upper))\n",
    "print(\"--- Renamed data ---\")\n",
    "print(data.rename(index={'OHIO': 'INDIANA'},columns={'three': 'peekaboo'}))\n",
    "print(\"--- data.rename(index={'OHIO': 'INDIANA'}, inplace=True) ---\")\n",
    "data.rename(index={'OHIO': 'INDIANA'}, inplace=True)\n",
    "print(data)"
   ]
  },
  {
   "cell_type": "markdown",
   "metadata": {},
   "source": [
    "\n",
    "### Detecting and Filtering Outliers"
   ]
  },
  {
   "cell_type": "code",
   "execution_count": 14,
   "metadata": {},
   "outputs": [
    {
     "data": {
      "text/html": [
       "<div>\n",
       "<style scoped>\n",
       "    .dataframe tbody tr th:only-of-type {\n",
       "        vertical-align: middle;\n",
       "    }\n",
       "\n",
       "    .dataframe tbody tr th {\n",
       "        vertical-align: top;\n",
       "    }\n",
       "\n",
       "    .dataframe thead th {\n",
       "        text-align: right;\n",
       "    }\n",
       "</style>\n",
       "<table border=\"1\" class=\"dataframe\">\n",
       "  <thead>\n",
       "    <tr style=\"text-align: right;\">\n",
       "      <th></th>\n",
       "      <th>0</th>\n",
       "      <th>1</th>\n",
       "      <th>2</th>\n",
       "      <th>3</th>\n",
       "    </tr>\n",
       "  </thead>\n",
       "  <tbody>\n",
       "    <tr>\n",
       "      <th>count</th>\n",
       "      <td>1000.000000</td>\n",
       "      <td>1000.000000</td>\n",
       "      <td>1000.000000</td>\n",
       "      <td>1000.000000</td>\n",
       "    </tr>\n",
       "    <tr>\n",
       "      <th>mean</th>\n",
       "      <td>-0.033019</td>\n",
       "      <td>0.004520</td>\n",
       "      <td>0.052275</td>\n",
       "      <td>0.040059</td>\n",
       "    </tr>\n",
       "    <tr>\n",
       "      <th>std</th>\n",
       "      <td>0.980956</td>\n",
       "      <td>1.014489</td>\n",
       "      <td>1.006245</td>\n",
       "      <td>1.025283</td>\n",
       "    </tr>\n",
       "    <tr>\n",
       "      <th>min</th>\n",
       "      <td>-2.665377</td>\n",
       "      <td>-4.020264</td>\n",
       "      <td>-2.992643</td>\n",
       "      <td>-3.350816</td>\n",
       "    </tr>\n",
       "    <tr>\n",
       "      <th>25%</th>\n",
       "      <td>-0.713699</td>\n",
       "      <td>-0.635294</td>\n",
       "      <td>-0.645781</td>\n",
       "      <td>-0.611206</td>\n",
       "    </tr>\n",
       "    <tr>\n",
       "      <th>50%</th>\n",
       "      <td>-0.023690</td>\n",
       "      <td>0.007802</td>\n",
       "      <td>0.067010</td>\n",
       "      <td>0.052362</td>\n",
       "    </tr>\n",
       "    <tr>\n",
       "      <th>75%</th>\n",
       "      <td>0.626631</td>\n",
       "      <td>0.687330</td>\n",
       "      <td>0.763220</td>\n",
       "      <td>0.723670</td>\n",
       "    </tr>\n",
       "    <tr>\n",
       "      <th>max</th>\n",
       "      <td>3.109878</td>\n",
       "      <td>2.914637</td>\n",
       "      <td>2.922408</td>\n",
       "      <td>4.702511</td>\n",
       "    </tr>\n",
       "  </tbody>\n",
       "</table>\n",
       "</div>"
      ],
      "text/plain": [
       "                 0            1            2            3\n",
       "count  1000.000000  1000.000000  1000.000000  1000.000000\n",
       "mean     -0.033019     0.004520     0.052275     0.040059\n",
       "std       0.980956     1.014489     1.006245     1.025283\n",
       "min      -2.665377    -4.020264    -2.992643    -3.350816\n",
       "25%      -0.713699    -0.635294    -0.645781    -0.611206\n",
       "50%      -0.023690     0.007802     0.067010     0.052362\n",
       "75%       0.626631     0.687330     0.763220     0.723670\n",
       "max       3.109878     2.914637     2.922408     4.702511"
      ]
     },
     "execution_count": 14,
     "metadata": {},
     "output_type": "execute_result"
    }
   ],
   "source": [
    "data = pd.DataFrame(np.random.randn(1000, 4))\n",
    "data.describe()"
   ]
  },
  {
   "cell_type": "code",
   "execution_count": 15,
   "metadata": {},
   "outputs": [
    {
     "name": "stdout",
     "output_type": "stream",
     "text": [
      "0      0.138783\n",
      "1      1.980084\n",
      "2     -0.772041\n",
      "3      0.951628\n",
      "4     -0.814535\n",
      "         ...   \n",
      "995    0.405361\n",
      "996    1.405784\n",
      "997    2.264397\n",
      "998   -0.698024\n",
      "999   -0.274826\n",
      "Name: 2, Length: 1000, dtype: float64\n"
     ]
    }
   ],
   "source": [
    "col = data[2]\n",
    "print(col)"
   ]
  },
  {
   "cell_type": "code",
   "execution_count": 16,
   "metadata": {},
   "outputs": [
    {
     "data": {
      "text/plain": [
       "Series([], Name: 2, dtype: float64)"
      ]
     },
     "execution_count": 16,
     "metadata": {},
     "output_type": "execute_result"
    }
   ],
   "source": [
    "col[np.abs(col) > 3]"
   ]
  },
  {
   "cell_type": "code",
   "execution_count": 17,
   "metadata": {},
   "outputs": [
    {
     "data": {
      "text/html": [
       "<div>\n",
       "<style scoped>\n",
       "    .dataframe tbody tr th:only-of-type {\n",
       "        vertical-align: middle;\n",
       "    }\n",
       "\n",
       "    .dataframe tbody tr th {\n",
       "        vertical-align: top;\n",
       "    }\n",
       "\n",
       "    .dataframe thead th {\n",
       "        text-align: right;\n",
       "    }\n",
       "</style>\n",
       "<table border=\"1\" class=\"dataframe\">\n",
       "  <thead>\n",
       "    <tr style=\"text-align: right;\">\n",
       "      <th></th>\n",
       "      <th>0</th>\n",
       "      <th>1</th>\n",
       "      <th>2</th>\n",
       "      <th>3</th>\n",
       "    </tr>\n",
       "  </thead>\n",
       "  <tbody>\n",
       "    <tr>\n",
       "      <th>18</th>\n",
       "      <td>-0.203787</td>\n",
       "      <td>1.033142</td>\n",
       "      <td>-1.482187</td>\n",
       "      <td>-3.350816</td>\n",
       "    </tr>\n",
       "    <tr>\n",
       "      <th>75</th>\n",
       "      <td>0.002778</td>\n",
       "      <td>-0.355550</td>\n",
       "      <td>-0.251939</td>\n",
       "      <td>-3.207230</td>\n",
       "    </tr>\n",
       "    <tr>\n",
       "      <th>262</th>\n",
       "      <td>-0.558317</td>\n",
       "      <td>-3.259105</td>\n",
       "      <td>0.751052</td>\n",
       "      <td>-2.523412</td>\n",
       "    </tr>\n",
       "    <tr>\n",
       "      <th>328</th>\n",
       "      <td>3.109878</td>\n",
       "      <td>-2.105683</td>\n",
       "      <td>1.149239</td>\n",
       "      <td>0.210786</td>\n",
       "    </tr>\n",
       "    <tr>\n",
       "      <th>348</th>\n",
       "      <td>1.365592</td>\n",
       "      <td>1.586028</td>\n",
       "      <td>1.474347</td>\n",
       "      <td>4.702511</td>\n",
       "    </tr>\n",
       "    <tr>\n",
       "      <th>628</th>\n",
       "      <td>3.029545</td>\n",
       "      <td>0.431539</td>\n",
       "      <td>1.111215</td>\n",
       "      <td>1.374976</td>\n",
       "    </tr>\n",
       "    <tr>\n",
       "      <th>717</th>\n",
       "      <td>0.564767</td>\n",
       "      <td>-3.069315</td>\n",
       "      <td>2.082571</td>\n",
       "      <td>-0.518542</td>\n",
       "    </tr>\n",
       "    <tr>\n",
       "      <th>741</th>\n",
       "      <td>0.648943</td>\n",
       "      <td>-0.221394</td>\n",
       "      <td>-0.688910</td>\n",
       "      <td>3.067887</td>\n",
       "    </tr>\n",
       "    <tr>\n",
       "      <th>810</th>\n",
       "      <td>2.021299</td>\n",
       "      <td>-4.020264</td>\n",
       "      <td>1.261771</td>\n",
       "      <td>-0.030297</td>\n",
       "    </tr>\n",
       "    <tr>\n",
       "      <th>845</th>\n",
       "      <td>0.144278</td>\n",
       "      <td>0.733017</td>\n",
       "      <td>0.125251</td>\n",
       "      <td>-3.031335</td>\n",
       "    </tr>\n",
       "  </tbody>\n",
       "</table>\n",
       "</div>"
      ],
      "text/plain": [
       "            0         1         2         3\n",
       "18  -0.203787  1.033142 -1.482187 -3.350816\n",
       "75   0.002778 -0.355550 -0.251939 -3.207230\n",
       "262 -0.558317 -3.259105  0.751052 -2.523412\n",
       "328  3.109878 -2.105683  1.149239  0.210786\n",
       "348  1.365592  1.586028  1.474347  4.702511\n",
       "628  3.029545  0.431539  1.111215  1.374976\n",
       "717  0.564767 -3.069315  2.082571 -0.518542\n",
       "741  0.648943 -0.221394 -0.688910  3.067887\n",
       "810  2.021299 -4.020264  1.261771 -0.030297\n",
       "845  0.144278  0.733017  0.125251 -3.031335"
      ]
     },
     "execution_count": 17,
     "metadata": {},
     "output_type": "execute_result"
    }
   ],
   "source": [
    "# #To select all rows having a value exceeding 3 or –3, \n",
    "# #you can use the 'any' method on a boolean DataFrame:\n",
    "# #any method will check all cells \n",
    "outliers = data[(np.abs(data) > 3).any(1)]\n",
    "outliers"
   ]
  },
  {
   "cell_type": "code",
   "execution_count": 18,
   "metadata": {},
   "outputs": [
    {
     "name": "stdout",
     "output_type": "stream",
     "text": [
      "10 1000\n"
     ]
    }
   ],
   "source": [
    "print(len(outliers), len(data))"
   ]
  },
  {
   "cell_type": "code",
   "execution_count": 19,
   "metadata": {},
   "outputs": [],
   "source": [
    "data[np.abs(data) > 3] = np.sign(data) * 3"
   ]
  },
  {
   "cell_type": "code",
   "execution_count": 20,
   "metadata": {},
   "outputs": [
    {
     "data": {
      "text/html": [
       "<div>\n",
       "<style scoped>\n",
       "    .dataframe tbody tr th:only-of-type {\n",
       "        vertical-align: middle;\n",
       "    }\n",
       "\n",
       "    .dataframe tbody tr th {\n",
       "        vertical-align: top;\n",
       "    }\n",
       "\n",
       "    .dataframe thead th {\n",
       "        text-align: right;\n",
       "    }\n",
       "</style>\n",
       "<table border=\"1\" class=\"dataframe\">\n",
       "  <thead>\n",
       "    <tr style=\"text-align: right;\">\n",
       "      <th></th>\n",
       "      <th>0</th>\n",
       "      <th>1</th>\n",
       "      <th>2</th>\n",
       "      <th>3</th>\n",
       "    </tr>\n",
       "  </thead>\n",
       "  <tbody>\n",
       "  </tbody>\n",
       "</table>\n",
       "</div>"
      ],
      "text/plain": [
       "Empty DataFrame\n",
       "Columns: [0, 1, 2, 3]\n",
       "Index: []"
      ]
     },
     "execution_count": 20,
     "metadata": {},
     "output_type": "execute_result"
    }
   ],
   "source": [
    "outliers = data[(np.abs(data) > 3).any(1)]\n",
    "outliers "
   ]
  },
  {
   "cell_type": "markdown",
   "metadata": {},
   "source": [
    "### Permutation and Random Sampling"
   ]
  },
  {
   "cell_type": "code",
   "execution_count": 21,
   "metadata": {},
   "outputs": [
    {
     "name": "stdout",
     "output_type": "stream",
     "text": [
      "(5, 4)\n",
      "    0   1   2   3\n",
      "0   0   1   2   3\n",
      "1   4   5   6   7\n",
      "2   8   9  10  11\n",
      "3  12  13  14  15\n",
      "4  16  17  18  19\n"
     ]
    }
   ],
   "source": [
    "# Permuting (randomly reordering)\n",
    "# a Series or the rows in a DataFrame\n",
    "df = pd.DataFrame(np.arange(5 * 4).reshape((5, 4)))\n",
    "print( df.shape )\n",
    "print(df)"
   ]
  },
  {
   "cell_type": "code",
   "execution_count": 22,
   "metadata": {},
   "outputs": [
    {
     "name": "stdout",
     "output_type": "stream",
     "text": [
      "[0 3 2 1]\n"
     ]
    }
   ],
   "source": [
    "sampler = np.random.permutation(4)\n",
    "print(sampler)"
   ]
  },
  {
   "cell_type": "code",
   "execution_count": 23,
   "metadata": {},
   "outputs": [
    {
     "data": {
      "text/html": [
       "<div>\n",
       "<style scoped>\n",
       "    .dataframe tbody tr th:only-of-type {\n",
       "        vertical-align: middle;\n",
       "    }\n",
       "\n",
       "    .dataframe tbody tr th {\n",
       "        vertical-align: top;\n",
       "    }\n",
       "\n",
       "    .dataframe thead th {\n",
       "        text-align: right;\n",
       "    }\n",
       "</style>\n",
       "<table border=\"1\" class=\"dataframe\">\n",
       "  <thead>\n",
       "    <tr style=\"text-align: right;\">\n",
       "      <th></th>\n",
       "      <th>0</th>\n",
       "      <th>1</th>\n",
       "      <th>2</th>\n",
       "      <th>3</th>\n",
       "    </tr>\n",
       "  </thead>\n",
       "  <tbody>\n",
       "    <tr>\n",
       "      <th>0</th>\n",
       "      <td>0</td>\n",
       "      <td>1</td>\n",
       "      <td>2</td>\n",
       "      <td>3</td>\n",
       "    </tr>\n",
       "    <tr>\n",
       "      <th>3</th>\n",
       "      <td>12</td>\n",
       "      <td>13</td>\n",
       "      <td>14</td>\n",
       "      <td>15</td>\n",
       "    </tr>\n",
       "    <tr>\n",
       "      <th>2</th>\n",
       "      <td>8</td>\n",
       "      <td>9</td>\n",
       "      <td>10</td>\n",
       "      <td>11</td>\n",
       "    </tr>\n",
       "    <tr>\n",
       "      <th>1</th>\n",
       "      <td>4</td>\n",
       "      <td>5</td>\n",
       "      <td>6</td>\n",
       "      <td>7</td>\n",
       "    </tr>\n",
       "  </tbody>\n",
       "</table>\n",
       "</div>"
      ],
      "text/plain": [
       "    0   1   2   3\n",
       "0   0   1   2   3\n",
       "3  12  13  14  15\n",
       "2   8   9  10  11\n",
       "1   4   5   6   7"
      ]
     },
     "execution_count": 23,
     "metadata": {},
     "output_type": "execute_result"
    }
   ],
   "source": [
    "df.take(sampler)"
   ]
  },
  {
   "cell_type": "code",
   "execution_count": 24,
   "metadata": {},
   "outputs": [
    {
     "data": {
      "text/html": [
       "<div>\n",
       "<style scoped>\n",
       "    .dataframe tbody tr th:only-of-type {\n",
       "        vertical-align: middle;\n",
       "    }\n",
       "\n",
       "    .dataframe tbody tr th {\n",
       "        vertical-align: top;\n",
       "    }\n",
       "\n",
       "    .dataframe thead th {\n",
       "        text-align: right;\n",
       "    }\n",
       "</style>\n",
       "<table border=\"1\" class=\"dataframe\">\n",
       "  <thead>\n",
       "    <tr style=\"text-align: right;\">\n",
       "      <th></th>\n",
       "      <th>0</th>\n",
       "      <th>1</th>\n",
       "      <th>2</th>\n",
       "      <th>3</th>\n",
       "    </tr>\n",
       "  </thead>\n",
       "  <tbody>\n",
       "    <tr>\n",
       "      <th>4</th>\n",
       "      <td>16</td>\n",
       "      <td>17</td>\n",
       "      <td>18</td>\n",
       "      <td>19</td>\n",
       "    </tr>\n",
       "    <tr>\n",
       "      <th>2</th>\n",
       "      <td>8</td>\n",
       "      <td>9</td>\n",
       "      <td>10</td>\n",
       "      <td>11</td>\n",
       "    </tr>\n",
       "    <tr>\n",
       "      <th>0</th>\n",
       "      <td>0</td>\n",
       "      <td>1</td>\n",
       "      <td>2</td>\n",
       "      <td>3</td>\n",
       "    </tr>\n",
       "  </tbody>\n",
       "</table>\n",
       "</div>"
      ],
      "text/plain": [
       "    0   1   2   3\n",
       "4  16  17  18  19\n",
       "2   8   9  10  11\n",
       "0   0   1   2   3"
      ]
     },
     "execution_count": 24,
     "metadata": {},
     "output_type": "execute_result"
    }
   ],
   "source": [
    "df.sample(n=3)"
   ]
  },
  {
   "cell_type": "code",
   "execution_count": 25,
   "metadata": {},
   "outputs": [
    {
     "data": {
      "text/plain": [
       "4    4\n",
       "1    7\n",
       "0    5\n",
       "0    5\n",
       "3    6\n",
       "0    5\n",
       "0    5\n",
       "0    5\n",
       "2   -1\n",
       "1    7\n",
       "dtype: int64"
      ]
     },
     "execution_count": 25,
     "metadata": {},
     "output_type": "execute_result"
    }
   ],
   "source": [
    "choices = pd.Series([5, 7, -1, 6, 4])\n",
    "draws = choices.sample(n=10, replace=True)\n",
    "draws"
   ]
  },
  {
   "cell_type": "markdown",
   "metadata": {},
   "source": [
    "### String Object Methods\n",
    "![Python built-in string methods](./photos/7.3.PNG)"
   ]
  },
  {
   "cell_type": "markdown",
   "metadata": {},
   "source": [
    "### Regular Expressions"
   ]
  },
  {
   "cell_type": "markdown",
   "metadata": {},
   "source": [
    "When you call re.split('\\s+', text) , the regular expression is first compiled, and\n",
    "then its split method is called on the passed text. You can compile the regex yourself\n",
    "with re.compile , forming a reusable regex object:"
   ]
  },
  {
   "cell_type": "code",
   "execution_count": 26,
   "metadata": {},
   "outputs": [
    {
     "data": {
      "text/plain": [
       "'foo    bar\\t baz \\tqux'"
      ]
     },
     "execution_count": 26,
     "metadata": {},
     "output_type": "execute_result"
    }
   ],
   "source": [
    "import re\n",
    "text = \"foo    bar\\t baz \\tqux\"\n",
    "text"
   ]
  },
  {
   "cell_type": "code",
   "execution_count": 27,
   "metadata": {},
   "outputs": [
    {
     "data": {
      "text/plain": [
       "['foo', 'bar', 'baz', 'qux']"
      ]
     },
     "execution_count": 27,
     "metadata": {},
     "output_type": "execute_result"
    }
   ],
   "source": [
    "split = text.split()\n",
    "split"
   ]
  },
  {
   "cell_type": "code",
   "execution_count": 28,
   "metadata": {},
   "outputs": [
    {
     "data": {
      "text/plain": [
       "['foo', 'bar', 'baz', 'qux']"
      ]
     },
     "execution_count": 28,
     "metadata": {},
     "output_type": "execute_result"
    }
   ],
   "source": [
    "re.split('\\s+', text) # spliting based on whitespaces"
   ]
  },
  {
   "cell_type": "code",
   "execution_count": 29,
   "metadata": {},
   "outputs": [
    {
     "data": {
      "text/plain": [
       "['foo', '', '', '', 'bar\\t', 'baz', '\\tqux']"
      ]
     },
     "execution_count": 29,
     "metadata": {},
     "output_type": "execute_result"
    }
   ],
   "source": [
    "text.split(\" \")"
   ]
  },
  {
   "cell_type": "code",
   "execution_count": 30,
   "metadata": {},
   "outputs": [
    {
     "data": {
      "text/plain": [
       "['foo', 'bar', 'baz', 'qux']"
      ]
     },
     "execution_count": 30,
     "metadata": {},
     "output_type": "execute_result"
    }
   ],
   "source": [
    "# compile once to use again and again and save time\n",
    "rgx = re.compile('\\s+')\n",
    "rgx.split(text)"
   ]
  },
  {
   "cell_type": "code",
   "execution_count": 31,
   "metadata": {},
   "outputs": [
    {
     "data": {
      "text/plain": [
       "['    ', '\\t ', ' \\t']"
      ]
     },
     "execution_count": 31,
     "metadata": {},
     "output_type": "execute_result"
    }
   ],
   "source": [
    "rgx.findall(text)"
   ]
  },
  {
   "cell_type": "code",
   "execution_count": 32,
   "metadata": {},
   "outputs": [
    {
     "name": "stdout",
     "output_type": "stream",
     "text": [
      "Dave dave@google.com\n",
      "Steve steve@gmail.com\n",
      "Rob rob@gmail.com\n",
      "Ryan ryan@yahoo.com\n",
      "\n",
      "[A-Z0-9._%+-]+@[A-Z0-9.-]+\\.[A-Z]{2,4}\n"
     ]
    }
   ],
   "source": [
    "text = \"\"\"Dave dave@google.com\n",
    "Steve steve@gmail.com\n",
    "Rob rob@gmail.com\n",
    "Ryan ryan@yahoo.com\n",
    "\"\"\"\n",
    "print(text)\n",
    "pattern = r'[A-Z0-9._%+-]+@[A-Z0-9.-]+\\.[A-Z]{2,4}'\n",
    "print(pattern)"
   ]
  },
  {
   "cell_type": "code",
   "execution_count": 33,
   "metadata": {},
   "outputs": [],
   "source": [
    "# re.IGNORECASE makes the regex case-insensitive\n",
    "regex = re.compile(pattern, flags=re.IGNORECASE)"
   ]
  },
  {
   "cell_type": "code",
   "execution_count": 34,
   "metadata": {},
   "outputs": [
    {
     "data": {
      "text/plain": [
       "['dave@google.com', 'steve@gmail.com', 'rob@gmail.com', 'ryan@yahoo.com']"
      ]
     },
     "execution_count": 34,
     "metadata": {},
     "output_type": "execute_result"
    }
   ],
   "source": [
    "regex.findall(text)"
   ]
  },
  {
   "cell_type": "code",
   "execution_count": 35,
   "metadata": {},
   "outputs": [
    {
     "data": {
      "text/plain": [
       "<re.Match object; span=(5, 20), match='dave@google.com'>"
      ]
     },
     "execution_count": 35,
     "metadata": {},
     "output_type": "execute_result"
    }
   ],
   "source": [
    "m = regex.search(text)\n",
    "m"
   ]
  },
  {
   "cell_type": "code",
   "execution_count": 36,
   "metadata": {},
   "outputs": [
    {
     "data": {
      "text/plain": [
       "'dave@google.com'"
      ]
     },
     "execution_count": 36,
     "metadata": {},
     "output_type": "execute_result"
    }
   ],
   "source": [
    "text[m.start():m.end()]"
   ]
  },
  {
   "cell_type": "code",
   "execution_count": 37,
   "metadata": {},
   "outputs": [
    {
     "name": "stdout",
     "output_type": "stream",
     "text": [
      "None\n"
     ]
    }
   ],
   "source": [
    "print(regex.match(text))"
   ]
  },
  {
   "cell_type": "code",
   "execution_count": 38,
   "metadata": {},
   "outputs": [],
   "source": [
    "pattern = r'([A-Z0-9._%+-]+)@([A-Z0-9.-]+)\\.([A-Z]{2,4})'\n",
    "pattern\n",
    "regex = re.compile(pattern, flags=re.IGNORECASE)\n"
   ]
  },
  {
   "cell_type": "code",
   "execution_count": 39,
   "metadata": {},
   "outputs": [
    {
     "data": {
      "text/plain": [
       "('wesm', 'bright', 'net')"
      ]
     },
     "execution_count": 39,
     "metadata": {},
     "output_type": "execute_result"
    }
   ],
   "source": [
    "m = regex.match('wesm@bright.net')\n",
    "m.groups()"
   ]
  },
  {
   "cell_type": "code",
   "execution_count": 40,
   "metadata": {},
   "outputs": [
    {
     "data": {
      "text/plain": [
       "[('dave', 'google', 'com'),\n",
       " ('steve', 'gmail', 'com'),\n",
       " ('rob', 'gmail', 'com'),\n",
       " ('ryan', 'yahoo', 'com')]"
      ]
     },
     "execution_count": 40,
     "metadata": {},
     "output_type": "execute_result"
    }
   ],
   "source": [
    "regex.findall(text)"
   ]
  },
  {
   "cell_type": "code",
   "execution_count": 41,
   "metadata": {},
   "outputs": [
    {
     "name": "stdout",
     "output_type": "stream",
     "text": [
      "Dave Username: dave, Domain: google, Suffix: com\n",
      "Steve Username: steve, Domain: gmail, Suffix: com\n",
      "Rob Username: rob, Domain: gmail, Suffix: com\n",
      "Ryan Username: ryan, Domain: yahoo, Suffix: com\n",
      "\n"
     ]
    }
   ],
   "source": [
    "print(regex.sub(r'Username: \\1, Domain: \\2, Suffix: \\3', text))"
   ]
  },
  {
   "cell_type": "markdown",
   "metadata": {},
   "source": [
    "![Regular expression methods](./photos/7.4.PNG)"
   ]
  },
  {
   "cell_type": "markdown",
   "metadata": {},
   "source": [
    "### Vectorized String Functions in pandas"
   ]
  },
  {
   "cell_type": "code",
   "execution_count": 42,
   "metadata": {},
   "outputs": [
    {
     "name": "stdout",
     "output_type": "stream",
     "text": [
      "Dave     dave@google.com\n",
      "Steve    steve@gmail.com\n",
      "Rob        rob@gmail.com\n",
      "Wes                  NaN\n",
      "dtype: object\n"
     ]
    }
   ],
   "source": [
    "data = {'Dave': 'dave@google.com', 'Steve': 'steve@gmail.com',\n",
    "'Rob': 'rob@gmail.com', 'Wes': np.nan}\n",
    "data = pd.Series(data)\n",
    "print(data)"
   ]
  },
  {
   "cell_type": "code",
   "execution_count": 43,
   "metadata": {},
   "outputs": [
    {
     "data": {
      "text/plain": [
       "Dave     False\n",
       "Steve    False\n",
       "Rob      False\n",
       "Wes       True\n",
       "dtype: bool"
      ]
     },
     "execution_count": 43,
     "metadata": {},
     "output_type": "execute_result"
    }
   ],
   "source": [
    "data.isnull()"
   ]
  },
  {
   "cell_type": "code",
   "execution_count": 44,
   "metadata": {},
   "outputs": [
    {
     "data": {
      "text/plain": [
       "Dave     False\n",
       "Steve     True\n",
       "Rob       True\n",
       "Wes        NaN\n",
       "dtype: object"
      ]
     },
     "execution_count": 44,
     "metadata": {},
     "output_type": "execute_result"
    }
   ],
   "source": [
    "data.str.contains(\"gmail\")"
   ]
  },
  {
   "cell_type": "code",
   "execution_count": 45,
   "metadata": {},
   "outputs": [
    {
     "data": {
      "text/plain": [
       "'([A-Z0-9._%+-]+)@([A-Z0-9.-]+)\\\\.([A-Z]{2,4})'"
      ]
     },
     "execution_count": 45,
     "metadata": {},
     "output_type": "execute_result"
    }
   ],
   "source": [
    "pattern = '([A-Z0-9._%+-]+)@([A-Z0-9.-]+)\\\\.([A-Z]{2,4})'\n",
    "pattern"
   ]
  },
  {
   "cell_type": "code",
   "execution_count": 46,
   "metadata": {},
   "outputs": [
    {
     "data": {
      "text/plain": [
       "Dave     [(dave, google, com)]\n",
       "Steve    [(steve, gmail, com)]\n",
       "Rob        [(rob, gmail, com)]\n",
       "Wes                        NaN\n",
       "dtype: object"
      ]
     },
     "execution_count": 46,
     "metadata": {},
     "output_type": "execute_result"
    }
   ],
   "source": [
    "data.str.findall(pattern, flags=re.IGNORECASE)"
   ]
  },
  {
   "cell_type": "code",
   "execution_count": 47,
   "metadata": {},
   "outputs": [
    {
     "data": {
      "text/plain": [
       "Dave     True\n",
       "Steve    True\n",
       "Rob      True\n",
       "Wes       NaN\n",
       "dtype: object"
      ]
     },
     "execution_count": 47,
     "metadata": {},
     "output_type": "execute_result"
    }
   ],
   "source": [
    "matches = data.str.match(pattern, flags=re.IGNORECASE)\n",
    "matches"
   ]
  },
  {
   "cell_type": "code",
   "execution_count": 48,
   "metadata": {},
   "outputs": [
    {
     "data": {
      "text/plain": [
       "Dave     dave@\n",
       "Steve    steve\n",
       "Rob      rob@g\n",
       "Wes        NaN\n",
       "dtype: object"
      ]
     },
     "execution_count": 48,
     "metadata": {},
     "output_type": "execute_result"
    }
   ],
   "source": [
    "data.str[:5]"
   ]
  },
  {
   "cell_type": "markdown",
   "metadata": {},
   "source": [
    "![Partial listing of vectorized string methods](./photos/7.5.PNG)\n",
    "![Partial listing of vectorized string methods](./photos/7.6.PNG)"
   ]
  }
 ],
 "metadata": {
  "kernelspec": {
   "display_name": "Python 3",
   "language": "python",
   "name": "python3"
  },
  "language_info": {
   "codemirror_mode": {
    "name": "ipython",
    "version": 3
   },
   "file_extension": ".py",
   "mimetype": "text/x-python",
   "name": "python",
   "nbconvert_exporter": "python",
   "pygments_lexer": "ipython3",
   "version": "3.10.1"
  }
 },
 "nbformat": 4,
 "nbformat_minor": 2
}
