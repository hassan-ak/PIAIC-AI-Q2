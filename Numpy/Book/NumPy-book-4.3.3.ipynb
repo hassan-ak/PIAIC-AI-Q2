{
 "cells": [
  {
   "cell_type": "markdown",
   "metadata": {},
   "source": [
    "## 4.3.3 Methods for Boolean Arrays"
   ]
  },
  {
   "cell_type": "code",
   "execution_count": 1,
   "metadata": {},
   "outputs": [],
   "source": [
    "import numpy as np"
   ]
  },
  {
   "cell_type": "code",
   "execution_count": 2,
   "metadata": {},
   "outputs": [
    {
     "data": {
      "text/plain": [
       "array([-1.14371884,  0.34725049, -0.52119991, -0.82338819,  0.99042125,\n",
       "        0.45501655, -0.6576883 , -0.92962798,  0.69302706,  0.32577958,\n",
       "       -0.82792203, -1.40845926,  1.55575162,  0.24018189,  1.20104858,\n",
       "       -1.07695976, -0.80105797, -0.17137241, -0.20552755,  1.47476137,\n",
       "       -0.5452075 , -0.25498425,  0.25635606, -0.36160783, -0.38847882,\n",
       "       -0.61710522, -0.44694357,  1.16457019, -0.05418711, -0.96891387,\n",
       "       -0.40834936, -1.57963371,  0.29408314,  0.30331588, -0.97969445,\n",
       "        0.14989724,  0.50896903, -0.0748548 , -0.14121231, -0.02431118,\n",
       "       -2.1318894 ,  0.14248185,  0.95585085, -0.86544416, -0.36360665,\n",
       "       -0.61890566, -0.06834077, -0.94151843,  0.17781279,  0.19328876,\n",
       "        0.64052842,  0.91358418,  0.6742416 , -1.64569755, -1.08612547,\n",
       "        1.29078391, -0.44145182, -1.32406059,  0.01891908,  0.15513258,\n",
       "        0.18689574, -0.63543627, -0.68671822,  0.12758735,  0.04979842,\n",
       "       -1.74896013, -1.42628567,  0.87936698,  1.46202897, -1.72376761,\n",
       "       -0.9718279 ,  0.57191288,  1.87563159,  1.19725078, -0.01858759,\n",
       "       -1.04646505, -0.63064085, -1.07210267,  0.4637495 ,  0.6025648 ,\n",
       "       -0.39586653, -0.25195949, -0.56740186, -0.7698617 ,  0.30187319,\n",
       "        0.25280267,  0.4553721 , -1.15338102,  0.31259831, -0.03188258,\n",
       "        0.19771917, -0.99533055,  0.66119703,  1.13511683,  0.88803545,\n",
       "       -1.61559301, -0.67327975, -1.87443612,  0.16443766,  0.2946987 ])"
      ]
     },
     "execution_count": 2,
     "metadata": {},
     "output_type": "execute_result"
    }
   ],
   "source": [
    "arr = np.random.randn(100)\n",
    "arr"
   ]
  },
  {
   "cell_type": "code",
   "execution_count": 3,
   "metadata": {},
   "outputs": [
    {
     "data": {
      "text/plain": [
       "45"
      ]
     },
     "execution_count": 3,
     "metadata": {},
     "output_type": "execute_result"
    }
   ],
   "source": [
    "(arr > 0).sum() "
   ]
  },
  {
   "cell_type": "code",
   "execution_count": 4,
   "metadata": {},
   "outputs": [],
   "source": [
    "bools = np.array([False, False, True, False])"
   ]
  },
  {
   "cell_type": "code",
   "execution_count": 5,
   "metadata": {},
   "outputs": [
    {
     "data": {
      "text/plain": [
       "True"
      ]
     },
     "execution_count": 5,
     "metadata": {},
     "output_type": "execute_result"
    }
   ],
   "source": [
    "bools.any()"
   ]
  },
  {
   "cell_type": "code",
   "execution_count": 6,
   "metadata": {},
   "outputs": [
    {
     "data": {
      "text/plain": [
       "False"
      ]
     },
     "execution_count": 6,
     "metadata": {},
     "output_type": "execute_result"
    }
   ],
   "source": [
    "bools.all()"
   ]
  }
 ],
 "metadata": {
  "kernelspec": {
   "display_name": "Python 3",
   "language": "python",
   "name": "python3"
  },
  "language_info": {
   "codemirror_mode": {
    "name": "ipython",
    "version": 3
   },
   "file_extension": ".py",
   "mimetype": "text/x-python",
   "name": "python",
   "nbconvert_exporter": "python",
   "pygments_lexer": "ipython3",
   "version": "3.10.1"
  }
 },
 "nbformat": 4,
 "nbformat_minor": 4
}
