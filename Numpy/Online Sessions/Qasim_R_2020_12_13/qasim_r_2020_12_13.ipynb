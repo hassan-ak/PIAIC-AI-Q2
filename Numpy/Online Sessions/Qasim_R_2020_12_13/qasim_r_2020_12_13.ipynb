{
 "cells": [
  {
   "cell_type": "markdown",
   "metadata": {},
   "source": [
    "# NumPy Muhammad Qasim 2020/12/13"
   ]
  },
  {
   "cell_type": "code",
   "execution_count": 1,
   "metadata": {},
   "outputs": [],
   "source": [
    "import numpy as np"
   ]
  },
  {
   "cell_type": "code",
   "execution_count": 2,
   "metadata": {},
   "outputs": [
    {
     "name": "stdout",
     "output_type": "stream",
     "text": [
      "CPU times: total: 0 ns\n",
      "Wall time: 0 ns\n"
     ]
    }
   ],
   "source": [
    "[x+5 for x in range(10000000)][:20000]\n",
    "%time"
   ]
  },
  {
   "cell_type": "code",
   "execution_count": 3,
   "metadata": {},
   "outputs": [
    {
     "name": "stdout",
     "output_type": "stream",
     "text": [
      "CPU times: total: 0 ns\n",
      "Wall time: 0 ns\n"
     ]
    }
   ],
   "source": [
    "l1 = list(range(1000000))\n",
    "for i in enumerate(l1):\n",
    "    l1[i[0]] += 5\n",
    "%time"
   ]
  },
  {
   "cell_type": "code",
   "execution_count": 4,
   "metadata": {},
   "outputs": [
    {
     "name": "stdout",
     "output_type": "stream",
     "text": [
      "CPU times: total: 0 ns\n",
      "Wall time: 0 ns\n"
     ]
    }
   ],
   "source": [
    "l1 = np.arange(10000000) + 5 # numpy array\n",
    "l1[:20000]\n",
    "%time\n"
   ]
  },
  {
   "cell_type": "code",
   "execution_count": 5,
   "metadata": {},
   "outputs": [
    {
     "data": {
      "text/plain": [
       "[(0, 1), (1, 2), (2, 3)]"
      ]
     },
     "execution_count": 5,
     "metadata": {},
     "output_type": "execute_result"
    }
   ],
   "source": [
    "list(enumerate([1,2,3]))"
   ]
  },
  {
   "cell_type": "code",
   "execution_count": 6,
   "metadata": {},
   "outputs": [
    {
     "name": "stdout",
     "output_type": "stream",
     "text": [
      "<class 'list'>\n"
     ]
    },
    {
     "data": {
      "text/plain": [
       "[[1, 3, 2], [4, 5, 6], [7, 8, 9]]"
      ]
     },
     "execution_count": 6,
     "metadata": {},
     "output_type": "execute_result"
    }
   ],
   "source": [
    "l2 = [[1,3,2],\n",
    "     [4,5,6],\n",
    "     [7,8,9]]\n",
    "print(type(l2)) # two dimension list\n",
    "l2"
   ]
  },
  {
   "cell_type": "code",
   "execution_count": 7,
   "metadata": {},
   "outputs": [
    {
     "name": "stdout",
     "output_type": "stream",
     "text": [
      "CPU times: total: 0 ns\n",
      "Wall time: 0 ns\n"
     ]
    },
    {
     "data": {
      "text/plain": [
       "[[6, 8, 7], [9, 10, 11], [12, 13, 14]]"
      ]
     },
     "execution_count": 7,
     "metadata": {},
     "output_type": "execute_result"
    }
   ],
   "source": [
    "l2 = [[1,3,2],\n",
    "     [4,5,6],\n",
    "     [7,8,9]]\n",
    "\n",
    "for r in enumerate(l2):\n",
    "    for c in enumerate(l2[r[0]]):\n",
    "        l2[r[0]][c[0]] += 5\n",
    "%time        \n",
    "l2  "
   ]
  },
  {
   "cell_type": "code",
   "execution_count": 8,
   "metadata": {},
   "outputs": [
    {
     "name": "stdout",
     "output_type": "stream",
     "text": [
      "<class 'list'>\n",
      "<class 'numpy.ndarray'>\n",
      "[[1 3 2]\n",
      " [4 5 6]\n",
      " [7 8 9]]\n"
     ]
    }
   ],
   "source": [
    "l2 = [[1,3,2],\n",
    "     [4,5,6],\n",
    "     [7,8,9]]\n",
    "print(type(l2))\n",
    "l2 = np.array(l2)\n",
    "print(type(l2))\n",
    "print(l2)"
   ]
  },
  {
   "cell_type": "code",
   "execution_count": 9,
   "metadata": {},
   "outputs": [
    {
     "name": "stdout",
     "output_type": "stream",
     "text": [
      "CPU times: total: 0 ns\n",
      "Wall time: 0 ns\n"
     ]
    },
    {
     "data": {
      "text/plain": [
       "array([[ 6,  8,  7],\n",
       "       [ 9, 10, 11],\n",
       "       [12, 13, 14]])"
      ]
     },
     "execution_count": 9,
     "metadata": {},
     "output_type": "execute_result"
    }
   ],
   "source": [
    "%time (l2 + 5)"
   ]
  },
  {
   "cell_type": "code",
   "execution_count": 10,
   "metadata": {},
   "outputs": [
    {
     "name": "stdout",
     "output_type": "stream",
     "text": [
      "[[[  5   6   7]\n",
      "  [  8   9  10]\n",
      "  [ 11  12  13]\n",
      "  [ 14  15  16]\n",
      "  [ 17  18  19]\n",
      "  [ 20  21  22]\n",
      "  [ 23  24  25]\n",
      "  [ 26  27  28]\n",
      "  [ 29  30  31]\n",
      "  [ 32  33  34]]\n",
      "\n",
      " [[ 35  36  37]\n",
      "  [ 38  39  40]\n",
      "  [ 41  42  43]\n",
      "  [ 44  45  46]\n",
      "  [ 47  48  49]\n",
      "  [ 50  51  52]\n",
      "  [ 53  54  55]\n",
      "  [ 56  57  58]\n",
      "  [ 59  60  61]\n",
      "  [ 62  63  64]]\n",
      "\n",
      " [[ 65  66  67]\n",
      "  [ 68  69  70]\n",
      "  [ 71  72  73]\n",
      "  [ 74  75  76]\n",
      "  [ 77  78  79]\n",
      "  [ 80  81  82]\n",
      "  [ 83  84  85]\n",
      "  [ 86  87  88]\n",
      "  [ 89  90  91]\n",
      "  [ 92  93  94]]\n",
      "\n",
      " [[ 95  96  97]\n",
      "  [ 98  99 100]\n",
      "  [101 102 103]\n",
      "  [104 105 106]\n",
      "  [107 108 109]\n",
      "  [110 111 112]\n",
      "  [113 114 115]\n",
      "  [116 117 118]\n",
      "  [119 120 121]\n",
      "  [122 123 124]]\n",
      "\n",
      " [[125 126 127]\n",
      "  [128 129 130]\n",
      "  [131 132 133]\n",
      "  [134 135 136]\n",
      "  [137 138 139]\n",
      "  [140 141 142]\n",
      "  [143 144 145]\n",
      "  [146 147 148]\n",
      "  [149 150 151]\n",
      "  [152 153 154]]\n",
      "\n",
      " [[155 156 157]\n",
      "  [158 159 160]\n",
      "  [161 162 163]\n",
      "  [164 165 166]\n",
      "  [167 168 169]\n",
      "  [170 171 172]\n",
      "  [173 174 175]\n",
      "  [176 177 178]\n",
      "  [179 180 181]\n",
      "  [182 183 184]]\n",
      "\n",
      " [[185 186 187]\n",
      "  [188 189 190]\n",
      "  [191 192 193]\n",
      "  [194 195 196]\n",
      "  [197 198 199]\n",
      "  [200 201 202]\n",
      "  [203 204 205]\n",
      "  [206 207 208]\n",
      "  [209 210 211]\n",
      "  [212 213 214]]\n",
      "\n",
      " [[215 216 217]\n",
      "  [218 219 220]\n",
      "  [221 222 223]\n",
      "  [224 225 226]\n",
      "  [227 228 229]\n",
      "  [230 231 232]\n",
      "  [233 234 235]\n",
      "  [236 237 238]\n",
      "  [239 240 241]\n",
      "  [242 243 244]]\n",
      "\n",
      " [[245 246 247]\n",
      "  [248 249 250]\n",
      "  [251 252 253]\n",
      "  [254 255 256]\n",
      "  [257 258 259]\n",
      "  [260 261 262]\n",
      "  [263 264 265]\n",
      "  [266 267 268]\n",
      "  [269 270 271]\n",
      "  [272 273 274]]\n",
      "\n",
      " [[275 276 277]\n",
      "  [278 279 280]\n",
      "  [281 282 283]\n",
      "  [284 285 286]\n",
      "  [287 288 289]\n",
      "  [290 291 292]\n",
      "  [293 294 295]\n",
      "  [296 297 298]\n",
      "  [299 300 301]\n",
      "  [302 303 304]]]\n",
      "CPU times: total: 0 ns\n",
      "Wall time: 0 ns\n"
     ]
    }
   ],
   "source": [
    "l3 = np.arange(10*10*3).reshape((10,10,3)) \n",
    "print(l3 + 5)\n",
    "%time"
   ]
  },
  {
   "cell_type": "code",
   "execution_count": 11,
   "metadata": {},
   "outputs": [
    {
     "data": {
      "text/plain": [
       "array([[  0,   1,   2,   3,   4,   5,   6,   7,   8,   9,  10,  11,  12,\n",
       "         13,  14,  15,  16,  17,  18,  19,  20,  21,  22,  23,  24,  25,\n",
       "         26,  27,  28,  29,  30,  31,  32,  33,  34,  35,  36,  37,  38,\n",
       "         39,  40,  41,  42,  43,  44,  45,  46,  47,  48,  49,  50,  51,\n",
       "         52,  53,  54,  55,  56,  57,  58,  59,  60,  61,  62,  63,  64,\n",
       "         65,  66,  67,  68,  69,  70,  71,  72,  73,  74,  75,  76,  77,\n",
       "         78,  79,  80,  81,  82,  83,  84,  85,  86,  87,  88,  89,  90,\n",
       "         91,  92,  93,  94,  95,  96,  97,  98,  99, 100, 101, 102, 103,\n",
       "        104, 105, 106, 107, 108, 109, 110, 111, 112, 113, 114, 115, 116,\n",
       "        117, 118, 119, 120, 121, 122, 123, 124, 125, 126, 127, 128, 129,\n",
       "        130, 131, 132, 133, 134, 135, 136, 137, 138, 139, 140, 141, 142,\n",
       "        143, 144, 145, 146, 147, 148, 149],\n",
       "       [150, 151, 152, 153, 154, 155, 156, 157, 158, 159, 160, 161, 162,\n",
       "        163, 164, 165, 166, 167, 168, 169, 170, 171, 172, 173, 174, 175,\n",
       "        176, 177, 178, 179, 180, 181, 182, 183, 184, 185, 186, 187, 188,\n",
       "        189, 190, 191, 192, 193, 194, 195, 196, 197, 198, 199, 200, 201,\n",
       "        202, 203, 204, 205, 206, 207, 208, 209, 210, 211, 212, 213, 214,\n",
       "        215, 216, 217, 218, 219, 220, 221, 222, 223, 224, 225, 226, 227,\n",
       "        228, 229, 230, 231, 232, 233, 234, 235, 236, 237, 238, 239, 240,\n",
       "        241, 242, 243, 244, 245, 246, 247, 248, 249, 250, 251, 252, 253,\n",
       "        254, 255, 256, 257, 258, 259, 260, 261, 262, 263, 264, 265, 266,\n",
       "        267, 268, 269, 270, 271, 272, 273, 274, 275, 276, 277, 278, 279,\n",
       "        280, 281, 282, 283, 284, 285, 286, 287, 288, 289, 290, 291, 292,\n",
       "        293, 294, 295, 296, 297, 298, 299]])"
      ]
     },
     "execution_count": 11,
     "metadata": {},
     "output_type": "execute_result"
    }
   ],
   "source": [
    "l3 = np.arange(300)\n",
    "l3 = l3.reshape((2,150))\n",
    "l3"
   ]
  },
  {
   "cell_type": "code",
   "execution_count": 12,
   "metadata": {},
   "outputs": [
    {
     "data": {
      "text/plain": [
       "2"
      ]
     },
     "execution_count": 12,
     "metadata": {},
     "output_type": "execute_result"
    }
   ],
   "source": [
    "l3.ndim"
   ]
  }
 ],
 "metadata": {
  "interpreter": {
   "hash": "36936de28985cacfc4da12bbbf55d3c1f6084aa27c30ac425efd6e5a861cd2e0"
  },
  "kernelspec": {
   "display_name": "Python 3.10.1 64-bit",
   "language": "python",
   "name": "python3"
  },
  "language_info": {
   "codemirror_mode": {
    "name": "ipython",
    "version": 3
   },
   "file_extension": ".py",
   "mimetype": "text/x-python",
   "name": "python",
   "nbconvert_exporter": "python",
   "pygments_lexer": "ipython3",
   "version": "3.10.1"
  },
  "orig_nbformat": 4
 },
 "nbformat": 4,
 "nbformat_minor": 2
}
