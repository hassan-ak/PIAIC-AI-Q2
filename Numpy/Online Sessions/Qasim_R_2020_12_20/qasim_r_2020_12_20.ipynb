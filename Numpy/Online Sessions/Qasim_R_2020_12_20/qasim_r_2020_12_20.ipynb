{
 "cells": [
  {
   "cell_type": "markdown",
   "metadata": {},
   "source": [
    "# NumPy Muhammad Qasim 2020/12/20"
   ]
  },
  {
   "cell_type": "code",
   "execution_count": 1,
   "metadata": {},
   "outputs": [
    {
     "name": "stdout",
     "output_type": "stream",
     "text": [
      "Helloworld\n"
     ]
    }
   ],
   "source": [
    "print(\"Helloworld\")"
   ]
  },
  {
   "cell_type": "code",
   "execution_count": 2,
   "metadata": {},
   "outputs": [
    {
     "name": "stdout",
     "output_type": "stream",
     "text": [
      "Line1\n",
      "Line2\n"
     ]
    }
   ],
   "source": [
    "print(\"Line1\")\n",
    "print(\"Line2\")"
   ]
  },
  {
   "cell_type": "code",
   "execution_count": 3,
   "metadata": {},
   "outputs": [
    {
     "name": "stdout",
     "output_type": "stream",
     "text": [
      "print(\"Helloworld\")\n",
      "print(\"Line1\")\n",
      "print(\"Line2\")\n",
      "%history\n"
     ]
    }
   ],
   "source": [
    "%history"
   ]
  },
  {
   "cell_type": "code",
   "execution_count": 4,
   "metadata": {},
   "outputs": [
    {
     "name": "stdout",
     "output_type": "stream",
     "text": [
      "Line1\n",
      "Line2\n",
      "Line3\n"
     ]
    }
   ],
   "source": [
    "# %load abc.py\n",
    "print(\"Line1\")\n",
    "print(\"Line2\")\n",
    "print(\"Line3\")\n"
   ]
  },
  {
   "cell_type": "code",
   "execution_count": 5,
   "metadata": {},
   "outputs": [
    {
     "name": "stdout",
     "output_type": "stream",
     "text": [
      "Line1\n",
      "Line2\n",
      "Line3\n"
     ]
    }
   ],
   "source": [
    "%run abc.py"
   ]
  },
  {
   "cell_type": "code",
   "execution_count": 6,
   "metadata": {},
   "outputs": [
    {
     "name": "stdout",
     "output_type": "stream",
     "text": [
      "ada\n",
      "CPU times: total: 0 ns\n",
      "Wall time: 0 ns\n"
     ]
    }
   ],
   "source": [
    "%time print(\"ada\")"
   ]
  },
  {
   "cell_type": "code",
   "execution_count": 7,
   "metadata": {},
   "outputs": [
    {
     "name": "stdout",
     "output_type": "stream",
     "text": [
      "Line1\n",
      "Line2\n",
      "Line3\n",
      "CPU times: total: 15.6 ms\n",
      "Wall time: 4.99 ms\n"
     ]
    }
   ],
   "source": [
    "%time %run abc.py"
   ]
  },
  {
   "cell_type": "markdown",
   "metadata": {},
   "source": [
    "# Python"
   ]
  },
  {
   "cell_type": "code",
   "execution_count": 8,
   "metadata": {},
   "outputs": [
    {
     "name": "stdout",
     "output_type": "stream",
     "text": [
      "CPU times: total: 93.8 ms\n",
      "Wall time: 112 ms\n",
      "[1, 2, 3, 4, 5, 6, 7, 8, 9, 10]\n"
     ]
    }
   ],
   "source": [
    "%time l1 = list(range(1,3000000))\n",
    "print(l1[:10])"
   ]
  },
  {
   "cell_type": "code",
   "execution_count": 9,
   "metadata": {},
   "outputs": [
    {
     "name": "stdout",
     "output_type": "stream",
     "text": [
      "CPU times: total: 453 ms\n",
      "Wall time: 533 ms\n"
     ]
    },
    {
     "data": {
      "text/plain": [
       "[6, 7, 8, 9, 10, 11, 12, 13, 14, 15]"
      ]
     },
     "execution_count": 9,
     "metadata": {},
     "output_type": "execute_result"
    }
   ],
   "source": [
    "%time [x+5 for x in l1][:10]"
   ]
  },
  {
   "cell_type": "code",
   "execution_count": 10,
   "metadata": {},
   "outputs": [
    {
     "data": {
      "text/plain": [
       "[6, 7, 8, 9, 10, 11, 12, 13, 14, 15]"
      ]
     },
     "execution_count": 10,
     "metadata": {},
     "output_type": "execute_result"
    }
   ],
   "source": [
    "for i, e in list(enumerate(l1)):\n",
    "    l1[i] = l1[i] + 5\n",
    "l1[:10]    "
   ]
  },
  {
   "cell_type": "code",
   "execution_count": 11,
   "metadata": {},
   "outputs": [
    {
     "data": {
      "text/plain": [
       "[11, 12, 13, 14, 15, 16, 17, 18, 19, 20]"
      ]
     },
     "execution_count": 11,
     "metadata": {},
     "output_type": "execute_result"
    }
   ],
   "source": [
    "for i, e in list(enumerate(l1)):\n",
    "    l1[i] += 5\n",
    "l1[:10]  "
   ]
  },
  {
   "cell_type": "code",
   "execution_count": 12,
   "metadata": {},
   "outputs": [
    {
     "name": "stdout",
     "output_type": "stream",
     "text": [
      "Before Adding 5\n",
      "[[1, 2, 3], [4, 5, 6], [7, 8, 9]]\n",
      "\n",
      "After Adding 5\n",
      "[[6, 7, 8], [9, 10, 11], [12, 13, 14]]\n"
     ]
    }
   ],
   "source": [
    "l1 = [[1,2,3],\n",
    "     [4,5,6],\n",
    "     [7,8,9]]\n",
    "\n",
    "print(\"Before Adding 5\")\n",
    "print(l1)\n",
    "print()\n",
    "for ri, rd in list(enumerate(l1)):\n",
    "    for ci, cd in list(enumerate(rd)):\n",
    "        l1[ri][ci] += 5\n",
    "print(\"After Adding 5\")\n",
    "print(l1)"
   ]
  },
  {
   "cell_type": "code",
   "execution_count": 13,
   "metadata": {},
   "outputs": [],
   "source": [
    "l1 = [1,2,4]\n",
    "# Return an error\n",
    "# l1 + 5"
   ]
  },
  {
   "cell_type": "markdown",
   "metadata": {},
   "source": [
    "# Numpy "
   ]
  },
  {
   "cell_type": "code",
   "execution_count": 14,
   "metadata": {},
   "outputs": [
    {
     "name": "stdout",
     "output_type": "stream",
     "text": [
      "Hello World\n"
     ]
    }
   ],
   "source": [
    "def abc():print(\"pakistan\") #python\n",
    "def abc():print(\"Hello World\") #Numpy\n",
    "    \n",
    "abc()"
   ]
  },
  {
   "cell_type": "code",
   "execution_count": 15,
   "metadata": {},
   "outputs": [],
   "source": [
    "#import numpy as *\n",
    "import numpy as np"
   ]
  },
  {
   "cell_type": "code",
   "execution_count": 16,
   "metadata": {
    "scrolled": true
   },
   "outputs": [
    {
     "name": "stdout",
     "output_type": "stream",
     "text": [
      "6\n",
      "6\n"
     ]
    }
   ],
   "source": [
    "l = [1,3,2]\n",
    "print(sum(l)) # python function\n",
    "print(np.sum(l)) # Numpy function"
   ]
  },
  {
   "cell_type": "code",
   "execution_count": 17,
   "metadata": {},
   "outputs": [
    {
     "name": "stdout",
     "output_type": "stream",
     "text": [
      "CPU times: total: 15.6 ms\n",
      "Wall time: 15.6 ms\n"
     ]
    },
    {
     "data": {
      "text/plain": [
       "array([      6,       7,       8, ..., 3000002, 3000003, 3000004])"
      ]
     },
     "execution_count": 17,
     "metadata": {},
     "output_type": "execute_result"
    }
   ],
   "source": [
    "l1 = np.arange(1,3_000_000)\n",
    "%time l1 + 5"
   ]
  },
  {
   "cell_type": "code",
   "execution_count": 18,
   "metadata": {},
   "outputs": [
    {
     "name": "stdout",
     "output_type": "stream",
     "text": [
      "[ 1  2  3  4  5  6  7  8  9 10 11 12]\n",
      "Diminsion: 1\n",
      "Type: int32\n",
      "Size: 12\n",
      "Itemsize: 4\n",
      "Shape: (12,)\n"
     ]
    }
   ],
   "source": [
    "l1 = np.arange(1,13)\n",
    "\n",
    "print(l1)\n",
    "print(\"Diminsion:\", l1.ndim)\n",
    "print(\"Type:\", l1.dtype)\n",
    "print(\"Size:\", l1.size)\n",
    "print(\"Itemsize:\", l1.itemsize)\n",
    "print(\"Shape:\", l1.shape)"
   ]
  },
  {
   "cell_type": "code",
   "execution_count": 19,
   "metadata": {},
   "outputs": [
    {
     "name": "stdout",
     "output_type": "stream",
     "text": [
      "1\n",
      "Diminsion: 0\n",
      "Type: int32\n",
      "Size: 1\n",
      "Itemsize: 4\n",
      "Shape: ()\n"
     ]
    }
   ],
   "source": [
    "l1 = np.array(1) # scaler value\n",
    "\n",
    "print(l1)\n",
    "print(\"Diminsion:\", l1.ndim)\n",
    "print(\"Type:\", l1.dtype)\n",
    "print(\"Size:\", l1.size)\n",
    "print(\"Itemsize:\", l1.itemsize) # data is saving in 4 vyte\n",
    "print(\"Shape:\", l1.shape)"
   ]
  },
  {
   "cell_type": "code",
   "execution_count": 20,
   "metadata": {},
   "outputs": [
    {
     "name": "stdout",
     "output_type": "stream",
     "text": [
      "[1 2]\n",
      "Diminsion: 1\n",
      "Type: int32\n",
      "Size: 2\n",
      "Itemsize: 4\n",
      "Shape: (2,)\n"
     ]
    }
   ],
   "source": [
    "l1 = np.array([1,2]) #1D\n",
    "\n",
    "print(l1)\n",
    "print(\"Diminsion:\", l1.ndim)\n",
    "print(\"Type:\", l1.dtype)\n",
    "print(\"Size:\", l1.size)\n",
    "print(\"Itemsize:\", l1.itemsize) # data is saving in 4 vyte\n",
    "print(\"Shape:\", l1.shape)"
   ]
  },
  {
   "cell_type": "code",
   "execution_count": 21,
   "metadata": {},
   "outputs": [
    {
     "name": "stdout",
     "output_type": "stream",
     "text": [
      "[[1 2]\n",
      " [3 4]]\n",
      "Diminsion: 2\n",
      "Type: int32\n",
      "Size: 4\n",
      "Itemsize: 4\n",
      "Shape: (2, 2)\n"
     ]
    }
   ],
   "source": [
    "l1 = np.array([[1,2],\n",
    "               [3,4]])  #2D\n",
    "\n",
    "print(l1)\n",
    "print(\"Diminsion:\", l1.ndim)\n",
    "print(\"Type:\", l1.dtype)\n",
    "print(\"Size:\", l1.size)\n",
    "print(\"Itemsize:\", l1.itemsize) # data is saving in 4 vyte\n",
    "print(\"Shape:\", l1.shape)"
   ]
  },
  {
   "cell_type": "markdown",
   "metadata": {},
   "source": [
    "# A Multidimensional Array Object"
   ]
  },
  {
   "cell_type": "code",
   "execution_count": 22,
   "metadata": {},
   "outputs": [
    {
     "data": {
      "text/plain": [
       "array([ 1,  2,  3,  4,  5,  6,  7,  8,  9, 10, 11, 12])"
      ]
     },
     "execution_count": 22,
     "metadata": {},
     "output_type": "execute_result"
    }
   ],
   "source": [
    "import numpy as np \n",
    "\n",
    "l1 = np.arange(1,13)\n",
    "l1"
   ]
  },
  {
   "cell_type": "code",
   "execution_count": 23,
   "metadata": {},
   "outputs": [
    {
     "data": {
      "text/plain": [
       "array([[ 1,  2,  3,  4,  5,  6],\n",
       "       [ 7,  8,  9, 10, 11, 12]])"
      ]
     },
     "execution_count": 23,
     "metadata": {},
     "output_type": "execute_result"
    }
   ],
   "source": [
    "np.arange(1,13).reshape((2,-1))"
   ]
  },
  {
   "cell_type": "code",
   "execution_count": 24,
   "metadata": {},
   "outputs": [
    {
     "data": {
      "text/plain": [
       "array([[ 1,  2,  3],\n",
       "       [ 4,  5,  6],\n",
       "       [ 7,  8,  9],\n",
       "       [10, 11, 12]])"
      ]
     },
     "execution_count": 24,
     "metadata": {},
     "output_type": "execute_result"
    }
   ],
   "source": [
    "np.arange(1,13).reshape((4,3))"
   ]
  },
  {
   "cell_type": "code",
   "execution_count": 25,
   "metadata": {},
   "outputs": [
    {
     "data": {
      "text/plain": [
       "array([[ 1],\n",
       "       [ 2],\n",
       "       [ 3],\n",
       "       [ 4],\n",
       "       [ 5],\n",
       "       [ 6],\n",
       "       [ 7],\n",
       "       [ 8],\n",
       "       [ 9],\n",
       "       [10],\n",
       "       [11],\n",
       "       [12]])"
      ]
     },
     "execution_count": 25,
     "metadata": {},
     "output_type": "execute_result"
    }
   ],
   "source": [
    "np.arange(1,13).reshape((12,1))"
   ]
  },
  {
   "cell_type": "code",
   "execution_count": 26,
   "metadata": {},
   "outputs": [
    {
     "data": {
      "text/plain": [
       "array([[ 1,  2,  3],\n",
       "       [ 4,  5,  6],\n",
       "       [ 7,  8,  9],\n",
       "       [10, 11, 12]])"
      ]
     },
     "execution_count": 26,
     "metadata": {},
     "output_type": "execute_result"
    }
   ],
   "source": [
    "l1 = np.arange(1,13).reshape((4,3))\n",
    "l1"
   ]
  },
  {
   "cell_type": "code",
   "execution_count": 27,
   "metadata": {},
   "outputs": [
    {
     "data": {
      "text/plain": [
       "array([[ 1,  2,  3,  4],\n",
       "       [ 5,  6,  7,  8],\n",
       "       [ 9, 10, 11, 12]])"
      ]
     },
     "execution_count": 27,
     "metadata": {},
     "output_type": "execute_result"
    }
   ],
   "source": [
    "l1 = np.arange(1,13).reshape((3,4))\n",
    "l1"
   ]
  },
  {
   "cell_type": "code",
   "execution_count": 28,
   "metadata": {},
   "outputs": [
    {
     "data": {
      "text/plain": [
       "array([[ 1,  2,  3,  4,  5,  6],\n",
       "       [ 7,  8,  9, 10, 11, 12]])"
      ]
     },
     "execution_count": 28,
     "metadata": {},
     "output_type": "execute_result"
    }
   ],
   "source": [
    "l1 = np.arange(1,13).reshape((2,6))\n",
    "l1"
   ]
  },
  {
   "cell_type": "code",
   "execution_count": 29,
   "metadata": {},
   "outputs": [
    {
     "data": {
      "text/plain": [
       "array([[ 1,  2],\n",
       "       [ 3,  4],\n",
       "       [ 5,  6],\n",
       "       [ 7,  8],\n",
       "       [ 9, 10],\n",
       "       [11, 12]])"
      ]
     },
     "execution_count": 29,
     "metadata": {},
     "output_type": "execute_result"
    }
   ],
   "source": [
    "l1 = np.arange(1,13).reshape((6,2))\n",
    "l1"
   ]
  },
  {
   "cell_type": "code",
   "execution_count": 30,
   "metadata": {},
   "outputs": [
    {
     "data": {
      "text/plain": [
       "array([[ 1],\n",
       "       [ 2],\n",
       "       [ 3],\n",
       "       [ 4],\n",
       "       [ 5],\n",
       "       [ 6],\n",
       "       [ 7],\n",
       "       [ 8],\n",
       "       [ 9],\n",
       "       [10],\n",
       "       [11],\n",
       "       [12]])"
      ]
     },
     "execution_count": 30,
     "metadata": {},
     "output_type": "execute_result"
    }
   ],
   "source": [
    "l1 = np.arange(1,13).reshape((12,1))\n",
    "l1"
   ]
  },
  {
   "cell_type": "code",
   "execution_count": 31,
   "metadata": {},
   "outputs": [
    {
     "name": "stdout",
     "output_type": "stream",
     "text": [
      "[[ 1  2  3  4  5  6]\n",
      " [ 7  8  9 10 11 12]]\n",
      "Diminsion: 2\n",
      "Type: int32\n",
      "Size: 12\n",
      "Itemsize: 4\n",
      "Shape: (2, 6)\n"
     ]
    }
   ],
   "source": [
    "l1 = np.arange(1,13).reshape((2,-1))\n",
    "\n",
    "print(l1)\n",
    "print(\"Diminsion:\", l1.ndim)\n",
    "print(\"Type:\", l1.dtype)\n",
    "print(\"Size:\", l1.size)\n",
    "print(\"Itemsize:\", l1.itemsize)\n",
    "print(\"Shape:\", l1.shape)"
   ]
  },
  {
   "cell_type": "markdown",
   "metadata": {},
   "source": [
    "<img src=\"https://www.pythoninformer.com/img/numpy/3d-array-stack.png\">\n",
    "<img src=\"https://www.pythoninformer.com/img/numpy/3d-array.png\">"
   ]
  },
  {
   "cell_type": "code",
   "execution_count": 32,
   "metadata": {},
   "outputs": [],
   "source": [
    "# l1[i,j,k]\n",
    "# l1[slide, row, column]"
   ]
  },
  {
   "cell_type": "code",
   "execution_count": 33,
   "metadata": {},
   "outputs": [
    {
     "data": {
      "text/plain": [
       "array([[[[[ 0,  1],\n",
       "          [ 2,  3]],\n",
       "\n",
       "         [[ 4,  5],\n",
       "          [ 6,  7]],\n",
       "\n",
       "         [[ 8,  9],\n",
       "          [10, 11]]],\n",
       "\n",
       "\n",
       "        [[[12, 13],\n",
       "          [14, 15]],\n",
       "\n",
       "         [[16, 17],\n",
       "          [18, 19]],\n",
       "\n",
       "         [[20, 21],\n",
       "          [22, 23]]]],\n",
       "\n",
       "\n",
       "\n",
       "       [[[[24, 25],\n",
       "          [26, 27]],\n",
       "\n",
       "         [[28, 29],\n",
       "          [30, 31]],\n",
       "\n",
       "         [[32, 33],\n",
       "          [34, 35]]],\n",
       "\n",
       "\n",
       "        [[[36, 37],\n",
       "          [38, 39]],\n",
       "\n",
       "         [[40, 41],\n",
       "          [42, 43]],\n",
       "\n",
       "         [[44, 45],\n",
       "          [46, 47]]]],\n",
       "\n",
       "\n",
       "\n",
       "       [[[[48, 49],\n",
       "          [50, 51]],\n",
       "\n",
       "         [[52, 53],\n",
       "          [54, 55]],\n",
       "\n",
       "         [[56, 57],\n",
       "          [58, 59]]],\n",
       "\n",
       "\n",
       "        [[[60, 61],\n",
       "          [62, 63]],\n",
       "\n",
       "         [[64, 65],\n",
       "          [66, 67]],\n",
       "\n",
       "         [[68, 69],\n",
       "          [70, 71]]]]])"
      ]
     },
     "execution_count": 33,
     "metadata": {},
     "output_type": "execute_result"
    }
   ],
   "source": [
    "np.arange(3*2*3*2*2).reshape(3,2,3,2,2) \n",
    "# [no of videos , no of frames , 3 for rgb, row , column]\n",
    "# # 3 videos ha 2 slides/frame ha 3 rgb k or 2 by 2 k ha "
   ]
  },
  {
   "cell_type": "code",
   "execution_count": 34,
   "metadata": {},
   "outputs": [
    {
     "data": {
      "text/plain": [
       "array([[[[ 0,  1],\n",
       "         [ 2,  3]],\n",
       "\n",
       "        [[ 4,  5],\n",
       "         [ 6,  7]],\n",
       "\n",
       "        [[ 8,  9],\n",
       "         [10, 11]]],\n",
       "\n",
       "\n",
       "       [[[12, 13],\n",
       "         [14, 15]],\n",
       "\n",
       "        [[16, 17],\n",
       "         [18, 19]],\n",
       "\n",
       "        [[20, 21],\n",
       "         [22, 23]]],\n",
       "\n",
       "\n",
       "       [[[24, 25],\n",
       "         [26, 27]],\n",
       "\n",
       "        [[28, 29],\n",
       "         [30, 31]],\n",
       "\n",
       "        [[32, 33],\n",
       "         [34, 35]]],\n",
       "\n",
       "\n",
       "       [[[36, 37],\n",
       "         [38, 39]],\n",
       "\n",
       "        [[40, 41],\n",
       "         [42, 43]],\n",
       "\n",
       "        [[44, 45],\n",
       "         [46, 47]]]])"
      ]
     },
     "execution_count": 34,
     "metadata": {},
     "output_type": "execute_result"
    }
   ],
   "source": [
    "np.arange(4*3*2*2).reshape(4,3,2,2)"
   ]
  },
  {
   "cell_type": "code",
   "execution_count": 35,
   "metadata": {},
   "outputs": [
    {
     "name": "stdout",
     "output_type": "stream",
     "text": [
      "[[[ 1  2  3]\n",
      "  [ 4  5  6]\n",
      "  [ 7  8  9]]\n",
      "\n",
      " [[10 11 12]\n",
      "  [13 14 15]\n",
      "  [16 17 18]]\n",
      "\n",
      " [[19 20 21]\n",
      "  [22 23 24]\n",
      "  [25 26 27]]]\n",
      "Diminsion: 3\n",
      "Type: int32\n",
      "Size: 27\n",
      "Itemsize: 4\n",
      "Shape: (3, 3, 3)\n"
     ]
    }
   ],
   "source": [
    "l1 = np.arange(1,28).reshape((3,3,3))\n",
    "\n",
    "print(l1)\n",
    "print(\"Diminsion:\", l1.ndim)\n",
    "print(\"Type:\", l1.dtype)\n",
    "print(\"Size:\", l1.size)\n",
    "print(\"Itemsize:\", l1.itemsize)\n",
    "print(\"Shape:\", l1.shape)"
   ]
  },
  {
   "cell_type": "code",
   "execution_count": 36,
   "metadata": {},
   "outputs": [
    {
     "name": "stdout",
     "output_type": "stream",
     "text": [
      "[[[ 1  2  3]\n",
      "  [ 4  5  6]\n",
      "  [ 7  8  9]]\n",
      "\n",
      " [[10 11 12]\n",
      "  [13 14 15]\n",
      "  [16 17 18]]\n",
      "\n",
      " [[19 20 21]\n",
      "  [22 23 24]\n",
      "  [25 26 27]]]\n",
      "====\n",
      "[[19 20 21]\n",
      " [22 23 24]\n",
      " [25 26 27]]\n",
      "[16 17 18]\n",
      "17\n"
     ]
    }
   ],
   "source": [
    "l1 = np.arange(1,28).reshape((3,3,3))\n",
    "\n",
    "print(l1)\n",
    "# l1[i,j,k]\n",
    "# l1[slide, row, column]\n",
    "print(\"====\")\n",
    "print(l1[2])\n",
    "print(l1[1,2])\n",
    "print(l1[1,2,1])"
   ]
  },
  {
   "cell_type": "code",
   "execution_count": 37,
   "metadata": {},
   "outputs": [
    {
     "data": {
      "text/plain": [
       "16"
      ]
     },
     "execution_count": 37,
     "metadata": {},
     "output_type": "execute_result"
    }
   ],
   "source": [
    "l1[1][2][0]"
   ]
  },
  {
   "cell_type": "code",
   "execution_count": 38,
   "metadata": {},
   "outputs": [],
   "source": [
    "# postive values ly awo jo k hum Deep learing main karty \n",
    "# k +ve value ly awo "
   ]
  },
  {
   "cell_type": "code",
   "execution_count": 39,
   "metadata": {},
   "outputs": [
    {
     "name": "stdout",
     "output_type": "stream",
     "text": [
      "['a' 'b' 'c']\n",
      "['a' 'b']\n",
      "['a' 'c']\n"
     ]
    }
   ],
   "source": [
    "l1 = np.array(['a','b','c'])\n",
    "print(l1)\n",
    "#    0     1    2\n",
    "print(l1[[True,True,False]])\n",
    "print(l1[[True,False,True]])"
   ]
  },
  {
   "cell_type": "code",
   "execution_count": 40,
   "metadata": {},
   "outputs": [
    {
     "data": {
      "text/plain": [
       "[False,\n",
       " False,\n",
       " False,\n",
       " False,\n",
       " False,\n",
       " False,\n",
       " False,\n",
       " False,\n",
       " False,\n",
       " False,\n",
       " False,\n",
       " False,\n",
       " False,\n",
       " False,\n",
       " False,\n",
       " False,\n",
       " False,\n",
       " False,\n",
       " True,\n",
       " True,\n",
       " True,\n",
       " True,\n",
       " True,\n",
       " True,\n",
       " True,\n",
       " True,\n",
       " True,\n",
       " True,\n",
       " True,\n",
       " True,\n",
       " True,\n",
       " True,\n",
       " True,\n",
       " True,\n",
       " True,\n",
       " True,\n",
       " True,\n",
       " True,\n",
       " True,\n",
       " True,\n",
       " True,\n",
       " True,\n",
       " True,\n",
       " True,\n",
       " True,\n",
       " True,\n",
       " True,\n",
       " True,\n",
       " True]"
      ]
     },
     "execution_count": 40,
     "metadata": {},
     "output_type": "execute_result"
    }
   ],
   "source": [
    "ages = np.arange(1,50)\n",
    "adult = []\n",
    "for age in ages:\n",
    "    if age >18:\n",
    "        adult.append(True)\n",
    "    else:\n",
    "        adult.append(False)\n",
    "adult"
   ]
  },
  {
   "cell_type": "code",
   "execution_count": 41,
   "metadata": {},
   "outputs": [
    {
     "data": {
      "text/plain": [
       "array([19, 20, 21, 22, 23, 24, 25, 26, 27, 28, 29, 30, 31, 32, 33, 34, 35,\n",
       "       36, 37, 38, 39, 40, 41, 42, 43, 44, 45, 46, 47, 48, 49])"
      ]
     },
     "execution_count": 41,
     "metadata": {},
     "output_type": "execute_result"
    }
   ],
   "source": [
    "ages[adult]"
   ]
  },
  {
   "cell_type": "code",
   "execution_count": 42,
   "metadata": {},
   "outputs": [
    {
     "data": {
      "text/plain": [
       "array([33, 34, 35, 36, 37, 38, 39, 40, 41, 42, 43, 44, 45, 46, 47, 48, 49])"
      ]
     },
     "execution_count": 42,
     "metadata": {},
     "output_type": "execute_result"
    }
   ],
   "source": [
    "ages[ages>32]"
   ]
  },
  {
   "cell_type": "code",
   "execution_count": 43,
   "metadata": {},
   "outputs": [
    {
     "data": {
      "text/plain": [
       "array([ 3,  6,  9, 12, 15, 18, 21, 24, 27])"
      ]
     },
     "execution_count": 43,
     "metadata": {},
     "output_type": "execute_result"
    }
   ],
   "source": [
    "l1 = np.arange(1,28).reshape((3,3,3))\n",
    "l1[l1 % 3 == 0]"
   ]
  },
  {
   "cell_type": "code",
   "execution_count": 44,
   "metadata": {},
   "outputs": [
    {
     "name": "stdout",
     "output_type": "stream",
     "text": [
      "[[[ 1  2  3]\n",
      "  [ 4  5  6]\n",
      "  [ 7  8  9]]\n",
      "\n",
      " [[10 11 12]\n",
      "  [13 14 15]\n",
      "  [16 17 18]]\n",
      "\n",
      " [[19 20 21]\n",
      "  [22 23 24]\n",
      "  [25 26 27]]]\n",
      "***\n",
      "[ 6 12 18 24]\n"
     ]
    }
   ],
   "source": [
    "l1 = np.arange(1,28).reshape((3,3,3))\n",
    "\n",
    "print(l1)\n",
    "print(\"***\")\n",
    "print(l1[l1 % 6 == 0])"
   ]
  },
  {
   "cell_type": "code",
   "execution_count": 45,
   "metadata": {},
   "outputs": [
    {
     "name": "stdout",
     "output_type": "stream",
     "text": [
      "[[[ 1  2  3]\n",
      "  [ 4  5  6]\n",
      "  [ 7  8  9]]\n",
      "\n",
      " [[10 11 12]\n",
      "  [13 14 15]\n",
      "  [16 17 18]]\n",
      "\n",
      " [[19 20 21]\n",
      "  [22 23 24]\n",
      "  [25 26 27]]]\n"
     ]
    },
    {
     "data": {
      "text/plain": [
       "array([ 9, 18, 27])"
      ]
     },
     "execution_count": 45,
     "metadata": {},
     "output_type": "execute_result"
    }
   ],
   "source": [
    "l1 = np.arange(1,28).reshape((3,3,3))\n",
    "\n",
    "print(l1)\n",
    "l1[(l1 % 3 == 0) & (l1 % 9 == 0)]"
   ]
  },
  {
   "cell_type": "code",
   "execution_count": 46,
   "metadata": {},
   "outputs": [
    {
     "name": "stdout",
     "output_type": "stream",
     "text": [
      "[[[ 1.41117691  0.77043057 -0.38518438]\n",
      "  [-0.57185411  1.3091197   0.41115505]\n",
      "  [ 0.82146531  0.53352058 -0.28247277]]\n",
      "\n",
      " [[ 0.03372132  0.00320585  0.6687832 ]\n",
      "  [ 0.26715963  2.86608266 -0.64496015]\n",
      "  [ 0.40143783  1.2705915  -1.23091397]]\n",
      "\n",
      " [[ 0.71082638 -1.70516825 -0.38272867]\n",
      "  [-0.86292453 -1.24619121 -0.68549468]\n",
      "  [-0.12667335  0.50916609 -1.0988388 ]]]\n",
      "Diminsion: 3\n",
      "Type: float64\n",
      "Size: 27\n",
      "Itemsize: 8\n",
      "Shape: (3, 3, 3)\n"
     ]
    }
   ],
   "source": [
    "l1 = np.random.randn(3,3,3)\n",
    "\n",
    "print(l1)\n",
    "print(\"Diminsion:\", l1.ndim)\n",
    "print(\"Type:\", l1.dtype)\n",
    "print(\"Size:\", l1.size)\n",
    "print(\"Itemsize:\", l1.itemsize)\n",
    "print(\"Shape:\", l1.shape)"
   ]
  },
  {
   "cell_type": "code",
   "execution_count": 47,
   "metadata": {},
   "outputs": [
    {
     "data": {
      "text/plain": [
       "array([[ 79, -51,  84],\n",
       "       [ 29,  60,  88],\n",
       "       [-50, -73, 117]], dtype=int8)"
      ]
     },
     "execution_count": 47,
     "metadata": {},
     "output_type": "execute_result"
    }
   ],
   "source": [
    "l1 = ((np.random.randn(3,3))*100).astype(\"int8\")\n",
    "l1"
   ]
  },
  {
   "cell_type": "code",
   "execution_count": 48,
   "metadata": {},
   "outputs": [
    {
     "name": "stdout",
     "output_type": "stream",
     "text": [
      "*****\n",
      "[[ 81 -49  86]\n",
      " [ 31  62  90]\n",
      " [-48 -71 119]]\n",
      "*****\n",
      "[[ -98 -102  -88]\n",
      " [  58  120  -80]\n",
      " [-100  110  -22]]\n",
      "*****\n",
      "[[ 39.5 -25.5  42. ]\n",
      " [ 14.5  30.   44. ]\n",
      " [-25.  -36.5  58.5]]\n",
      "*****\n",
      "[[  97   41 -112]\n",
      " [  73   16   64]\n",
      " [ -60  -47  121]]\n",
      "*****\n",
      "[[ 8.88819442         nan  9.16515139]\n",
      " [ 5.38516481  7.74596669  9.38083152]\n",
      " [        nan         nan 10.81665383]]\n",
      "*****\n",
      "[[1 1 0]\n",
      " [1 0 0]\n",
      " [0 1 1]]\n",
      "*****\n"
     ]
    },
    {
     "name": "stderr",
     "output_type": "stream",
     "text": [
      "C:\\Users\\Hassan\\AppData\\Local\\Temp\\ipykernel_1204\\1919663190.py:10: RuntimeWarning: invalid value encountered in power\n",
      "  print(l1 ** 0.5)\n"
     ]
    }
   ],
   "source": [
    "print(\"*****\")\n",
    "print(l1 + 2)\n",
    "print(\"*****\")\n",
    "print(l1 * 2)\n",
    "print(\"*****\")\n",
    "print(l1 / 2)\n",
    "print(\"*****\")\n",
    "print(l1 ** 2)\n",
    "print(\"*****\")\n",
    "print(l1 ** 0.5)\n",
    "print(\"*****\")\n",
    "print(l1 % 2)\n",
    "print(\"*****\")"
   ]
  },
  {
   "cell_type": "markdown",
   "metadata": {},
   "source": [
    "# Creating ndarrays"
   ]
  },
  {
   "cell_type": "markdown",
   "metadata": {},
   "source": [
    "##### np.array()"
   ]
  },
  {
   "cell_type": "code",
   "execution_count": 49,
   "metadata": {},
   "outputs": [
    {
     "name": "stdout",
     "output_type": "stream",
     "text": [
      "False\n",
      "False\n",
      "True\n",
      "False\n"
     ]
    }
   ],
   "source": [
    "# Deep Copy(Always copy) # physical data naya bnae ga \n",
    "l = [1,2,3]\n",
    "\n",
    "a = np.array(l)\n",
    "b = np.array(a)\n",
    "\n",
    "print(a is l) #False\n",
    "print(b is a) #False\n",
    "print(id(a) == id(a))\n",
    "print(id(a) == id (b))"
   ]
  },
  {
   "cell_type": "code",
   "execution_count": 50,
   "metadata": {},
   "outputs": [
    {
     "name": "stdout",
     "output_type": "stream",
     "text": [
      "<class 'list'>\n",
      "[1, 2, 3] [1 2 3] [1 2 3] [1. 2. 3.]\n",
      "True\n",
      "False\n",
      "False\n"
     ]
    },
    {
     "data": {
      "text/plain": [
       "numpy.ndarray"
      ]
     },
     "execution_count": 50,
     "metadata": {},
     "output_type": "execute_result"
    }
   ],
   "source": [
    "# 1 array->Same Datatype->Shallow Copy\n",
    "# 2 array->Change dtype -> Deep Copy\n",
    "# 3 if not array->Deep copy\n",
    "l = [1,2,3]\n",
    "print(type(l))\n",
    "\n",
    "a = np.asarray(l) #3\n",
    "b = np.asarray(a) #1\n",
    "c = np.asarray(a, dtype=np.float64)#2\n",
    "\n",
    "print(l,a,b,c, sep = ' ')\n",
    "print(a is b) # 2\n",
    "print(l is a) # 1\n",
    "print(c is a) # 3\n",
    "type(a)"
   ]
  },
  {
   "cell_type": "code",
   "execution_count": 51,
   "metadata": {},
   "outputs": [
    {
     "data": {
      "text/plain": [
       "4"
      ]
     },
     "execution_count": 51,
     "metadata": {},
     "output_type": "execute_result"
    }
   ],
   "source": [
    "import numpy as np\n",
    "a = np.array([1,2])\n",
    "a.itemsize"
   ]
  },
  {
   "cell_type": "code",
   "execution_count": 52,
   "metadata": {},
   "outputs": [],
   "source": [
    "import numpy as np"
   ]
  },
  {
   "cell_type": "markdown",
   "metadata": {},
   "source": [
    "## Creating ndarrays"
   ]
  },
  {
   "cell_type": "code",
   "execution_count": 53,
   "metadata": {},
   "outputs": [],
   "source": [
    "a = np.array([1,3,4])\n",
    "b = np.asarray([1,3,5])"
   ]
  },
  {
   "cell_type": "code",
   "execution_count": 54,
   "metadata": {},
   "outputs": [
    {
     "name": "stdout",
     "output_type": "stream",
     "text": [
      "[1 3 4] [1 3 5]\n"
     ]
    }
   ],
   "source": [
    "print(a , b , sep = ' ')"
   ]
  },
  {
   "cell_type": "code",
   "execution_count": 55,
   "metadata": {},
   "outputs": [
    {
     "data": {
      "text/plain": [
       "array([ 1,  2,  3,  4,  5,  6,  7,  8,  9, 10, 11, 12, 13])"
      ]
     },
     "execution_count": 55,
     "metadata": {},
     "output_type": "execute_result"
    }
   ],
   "source": [
    "a = np.arange(1,14)\n",
    "a"
   ]
  },
  {
   "cell_type": "markdown",
   "metadata": {},
   "source": [
    "# Chaining"
   ]
  },
  {
   "cell_type": "code",
   "execution_count": 56,
   "metadata": {},
   "outputs": [],
   "source": [
    "def A(x):return x+5\n",
    "def B(x):return x+6    \n",
    "def C(x):return x+7    "
   ]
  },
  {
   "cell_type": "code",
   "execution_count": 57,
   "metadata": {},
   "outputs": [
    {
     "data": {
      "text/plain": [
       "19"
      ]
     },
     "execution_count": 57,
     "metadata": {},
     "output_type": "execute_result"
    }
   ],
   "source": [
    "C(B(A(1)))"
   ]
  },
  {
   "cell_type": "code",
   "execution_count": 58,
   "metadata": {},
   "outputs": [
    {
     "data": {
      "text/plain": [
       "19"
      ]
     },
     "execution_count": 58,
     "metadata": {},
     "output_type": "execute_result"
    }
   ],
   "source": [
    "A(B(C(1)))"
   ]
  },
  {
   "cell_type": "markdown",
   "metadata": {},
   "source": [
    "np.A().B().C()"
   ]
  },
  {
   "cell_type": "code",
   "execution_count": 59,
   "metadata": {},
   "outputs": [],
   "source": [
    "#arange().reshape()\n",
    "#np.ones\n",
    "#np.ones_like\n",
    "#np.zeros\n",
    "#np.zeros_like\n",
    "#np.full\n",
    "#np.full_like\n",
    "#np.empty\n",
    "#np.empty_like"
   ]
  },
  {
   "cell_type": "code",
   "execution_count": 60,
   "metadata": {},
   "outputs": [
    {
     "data": {
      "text/plain": [
       "array([[[ 1,  2,  3],\n",
       "        [ 4,  5,  6],\n",
       "        [ 7,  8,  9]],\n",
       "\n",
       "       [[10, 11, 12],\n",
       "        [13, 14, 15],\n",
       "        [16, 17, 18]],\n",
       "\n",
       "       [[19, 20, 21],\n",
       "        [22, 23, 24],\n",
       "        [25, 26, 27]]])"
      ]
     },
     "execution_count": 60,
     "metadata": {},
     "output_type": "execute_result"
    }
   ],
   "source": [
    "a = np.arange(1,28).reshape(3,3,3)\n",
    "a"
   ]
  },
  {
   "cell_type": "code",
   "execution_count": 61,
   "metadata": {},
   "outputs": [
    {
     "data": {
      "text/plain": [
       "array([[ 1],\n",
       "       [ 2],\n",
       "       [ 3],\n",
       "       [ 4],\n",
       "       [ 5],\n",
       "       [ 6],\n",
       "       [ 7],\n",
       "       [ 8],\n",
       "       [ 9],\n",
       "       [10],\n",
       "       [11],\n",
       "       [12],\n",
       "       [13],\n",
       "       [14],\n",
       "       [15],\n",
       "       [16],\n",
       "       [17],\n",
       "       [18],\n",
       "       [19],\n",
       "       [20],\n",
       "       [21],\n",
       "       [22],\n",
       "       [23],\n",
       "       [24],\n",
       "       [25],\n",
       "       [26],\n",
       "       [27]])"
      ]
     },
     "execution_count": 61,
     "metadata": {},
     "output_type": "execute_result"
    }
   ],
   "source": [
    "b = np.reshape(a, (27,1))\n",
    "b"
   ]
  },
  {
   "cell_type": "code",
   "execution_count": 62,
   "metadata": {},
   "outputs": [
    {
     "name": "stdout",
     "output_type": "stream",
     "text": [
      "[ 1  2  3  4  5  6  7  8  9 10 11 12 13 14 15 16 17 18 19 20 21 22 23 24\n",
      " 25 26 27]\n",
      "1\n",
      "2\n"
     ]
    },
    {
     "data": {
      "text/plain": [
       "array([[ 1,  2,  3,  4,  5,  6,  7,  8,  9],\n",
       "       [10, 11, 12, 13, 14, 15, 16, 17, 18],\n",
       "       [19, 20, 21, 22, 23, 24, 25, 26, 27]])"
      ]
     },
     "execution_count": 62,
     "metadata": {},
     "output_type": "execute_result"
    }
   ],
   "source": [
    "a = np.arange(1,28)\n",
    "print(a)\n",
    "print(a.ndim)\n",
    "a.shape = (3,9) # becuase private ni ha to hu khud b change kar skty jase reshape main karty hain # IN MEMORY\n",
    "a.reshape(3,3,3) # becuase of INLINE funstion didn't changes the shape\n",
    "print(a.ndim)\n",
    "a"
   ]
  },
  {
   "cell_type": "code",
   "execution_count": 63,
   "metadata": {},
   "outputs": [
    {
     "data": {
      "text/plain": [
       "array([[[ 1,  2,  3],\n",
       "        [ 4,  5,  6],\n",
       "        [ 7,  8,  9]],\n",
       "\n",
       "       [[10, 11, 12],\n",
       "        [13, 14, 15],\n",
       "        [16, 17, 18]],\n",
       "\n",
       "       [[19, 20, 21],\n",
       "        [22, 23, 24],\n",
       "        [25, 26, 27]]])"
      ]
     },
     "execution_count": 63,
     "metadata": {},
     "output_type": "execute_result"
    }
   ],
   "source": [
    "a = a.reshape(3,3,3) #Now it will be in in memory\n",
    "a"
   ]
  },
  {
   "cell_type": "code",
   "execution_count": 64,
   "metadata": {},
   "outputs": [
    {
     "data": {
      "text/plain": [
       "array([[ 1,  2,  3],\n",
       "       [ 4,  5,  6],\n",
       "       [ 7,  8,  9],\n",
       "       [10, 11, 12],\n",
       "       [13, 14, 15],\n",
       "       [16, 17, 18],\n",
       "       [19, 20, 21],\n",
       "       [22, 23, 24],\n",
       "       [25, 26, 27]])"
      ]
     },
     "execution_count": 64,
     "metadata": {},
     "output_type": "execute_result"
    }
   ],
   "source": [
    "a.shape = (9,3)\n",
    "a"
   ]
  },
  {
   "cell_type": "code",
   "execution_count": 65,
   "metadata": {},
   "outputs": [
    {
     "data": {
      "text/plain": [
       "(9, 3)"
      ]
     },
     "execution_count": 65,
     "metadata": {},
     "output_type": "execute_result"
    }
   ],
   "source": [
    "a.shape"
   ]
  },
  {
   "cell_type": "code",
   "execution_count": 66,
   "metadata": {},
   "outputs": [
    {
     "data": {
      "text/plain": [
       "array([[0., 0., 0., 0., 0., 0., 0., 0., 0.],\n",
       "       [0., 0., 0., 0., 0., 0., 0., 0., 0.],\n",
       "       [0., 0., 0., 0., 0., 0., 0., 0., 0.]])"
      ]
     },
     "execution_count": 66,
     "metadata": {},
     "output_type": "execute_result"
    }
   ],
   "source": [
    "np.zeros((3,9))"
   ]
  },
  {
   "cell_type": "code",
   "execution_count": 67,
   "metadata": {},
   "outputs": [
    {
     "data": {
      "text/plain": [
       "array([[0., 0., 0.],\n",
       "       [0., 0., 0.],\n",
       "       [0., 0., 0.],\n",
       "       [0., 0., 0.],\n",
       "       [0., 0., 0.],\n",
       "       [0., 0., 0.],\n",
       "       [0., 0., 0.],\n",
       "       [0., 0., 0.],\n",
       "       [0., 0., 0.]])"
      ]
     },
     "execution_count": 67,
     "metadata": {},
     "output_type": "execute_result"
    }
   ],
   "source": [
    "np.zeros((a.shape[0], a.shape[1])) \n",
    "# jo array ya image dy uska trha k image  ya array bnao \n",
    "# jis k values zero hu"
   ]
  },
  {
   "cell_type": "code",
   "execution_count": 68,
   "metadata": {},
   "outputs": [
    {
     "data": {
      "text/plain": [
       "(9, 3)"
      ]
     },
     "execution_count": 68,
     "metadata": {},
     "output_type": "execute_result"
    }
   ],
   "source": [
    "a.shape"
   ]
  },
  {
   "cell_type": "code",
   "execution_count": 69,
   "metadata": {},
   "outputs": [
    {
     "data": {
      "text/plain": [
       "array([[0., 0., 0.],\n",
       "       [0., 0., 0.],\n",
       "       [0., 0., 0.],\n",
       "       [0., 0., 0.],\n",
       "       [0., 0., 0.],\n",
       "       [0., 0., 0.],\n",
       "       [0., 0., 0.],\n",
       "       [0., 0., 0.],\n",
       "       [0., 0., 0.]])"
      ]
     },
     "execution_count": 69,
     "metadata": {},
     "output_type": "execute_result"
    }
   ],
   "source": [
    "np.zeros((a.shape))"
   ]
  },
  {
   "cell_type": "code",
   "execution_count": 70,
   "metadata": {},
   "outputs": [
    {
     "data": {
      "text/plain": [
       "array([[0., 0., 0.],\n",
       "       [0., 0., 0.],\n",
       "       [0., 0., 0.],\n",
       "       [0., 0., 0.],\n",
       "       [0., 0., 0.],\n",
       "       [0., 0., 0.],\n",
       "       [0., 0., 0.],\n",
       "       [0., 0., 0.],\n",
       "       [0., 0., 0.]])"
      ]
     },
     "execution_count": 70,
     "metadata": {},
     "output_type": "execute_result"
    }
   ],
   "source": [
    "np.zeros(a.shape) # return in float"
   ]
  },
  {
   "cell_type": "code",
   "execution_count": 71,
   "metadata": {},
   "outputs": [
    {
     "data": {
      "text/plain": [
       "array([[0, 0, 0],\n",
       "       [0, 0, 0],\n",
       "       [0, 0, 0],\n",
       "       [0, 0, 0],\n",
       "       [0, 0, 0],\n",
       "       [0, 0, 0],\n",
       "       [0, 0, 0],\n",
       "       [0, 0, 0],\n",
       "       [0, 0, 0]])"
      ]
     },
     "execution_count": 71,
     "metadata": {},
     "output_type": "execute_result"
    }
   ],
   "source": [
    "np.zeros_like(a) # return integers"
   ]
  },
  {
   "cell_type": "code",
   "execution_count": 72,
   "metadata": {},
   "outputs": [
    {
     "data": {
      "text/plain": [
       "array([[ 1,  2,  3],\n",
       "       [ 4,  5,  6],\n",
       "       [ 7,  8,  9],\n",
       "       [10, 11, 12],\n",
       "       [13, 14, 15],\n",
       "       [16, 17, 18],\n",
       "       [19, 20, 21],\n",
       "       [22, 23, 24],\n",
       "       [25, 26, 27]])"
      ]
     },
     "execution_count": 72,
     "metadata": {},
     "output_type": "execute_result"
    }
   ],
   "source": [
    "a"
   ]
  },
  {
   "cell_type": "code",
   "execution_count": 73,
   "metadata": {},
   "outputs": [
    {
     "data": {
      "text/plain": [
       "array([[1., 1., 1.],\n",
       "       [1., 1., 1.],\n",
       "       [1., 1., 1.]])"
      ]
     },
     "execution_count": 73,
     "metadata": {},
     "output_type": "execute_result"
    }
   ],
   "source": [
    "b = np.ones((3,3)) # in float\n",
    "b"
   ]
  },
  {
   "cell_type": "code",
   "execution_count": 74,
   "metadata": {},
   "outputs": [
    {
     "data": {
      "text/plain": [
       "array([[1, 1, 1],\n",
       "       [1, 1, 1],\n",
       "       [1, 1, 1],\n",
       "       [1, 1, 1],\n",
       "       [1, 1, 1],\n",
       "       [1, 1, 1],\n",
       "       [1, 1, 1],\n",
       "       [1, 1, 1],\n",
       "       [1, 1, 1]])"
      ]
     },
     "execution_count": 74,
     "metadata": {},
     "output_type": "execute_result"
    }
   ],
   "source": [
    "b = np.ones_like(a) # in integer\n",
    "b"
   ]
  },
  {
   "cell_type": "code",
   "execution_count": 75,
   "metadata": {},
   "outputs": [
    {
     "data": {
      "text/plain": [
       "array([[5, 5, 5],\n",
       "       [5, 5, 5],\n",
       "       [5, 5, 5],\n",
       "       [5, 5, 5],\n",
       "       [5, 5, 5],\n",
       "       [5, 5, 5],\n",
       "       [5, 5, 5],\n",
       "       [5, 5, 5],\n",
       "       [5, 5, 5]])"
      ]
     },
     "execution_count": 75,
     "metadata": {},
     "output_type": "execute_result"
    }
   ],
   "source": [
    "b = np.ones_like(a) * 5 # + 5\n",
    "b"
   ]
  },
  {
   "cell_type": "code",
   "execution_count": 76,
   "metadata": {},
   "outputs": [
    {
     "data": {
      "text/plain": [
       "array([[5, 5, 5],\n",
       "       [5, 5, 5],\n",
       "       [5, 5, 5]])"
      ]
     },
     "execution_count": 76,
     "metadata": {},
     "output_type": "execute_result"
    }
   ],
   "source": [
    "b = np.full((3,3), 5)\n",
    "b"
   ]
  },
  {
   "cell_type": "code",
   "execution_count": 77,
   "metadata": {},
   "outputs": [
    {
     "data": {
      "text/plain": [
       "array([[5, 5, 5],\n",
       "       [5, 5, 5],\n",
       "       [5, 5, 5],\n",
       "       [5, 5, 5],\n",
       "       [5, 5, 5],\n",
       "       [5, 5, 5],\n",
       "       [5, 5, 5],\n",
       "       [5, 5, 5],\n",
       "       [5, 5, 5]])"
      ]
     },
     "execution_count": 77,
     "metadata": {},
     "output_type": "execute_result"
    }
   ],
   "source": [
    "b = np.full_like(a, 5)\n",
    "b"
   ]
  },
  {
   "cell_type": "code",
   "execution_count": 78,
   "metadata": {},
   "outputs": [
    {
     "data": {
      "text/plain": [
       "array([[ 1,  2,  3],\n",
       "       [ 4,  5,  6],\n",
       "       [ 7,  8,  9],\n",
       "       [10, 11, 12],\n",
       "       [13, 14, 15],\n",
       "       [16, 17, 18],\n",
       "       [19, 20, 21],\n",
       "       [22, 23, 24],\n",
       "       [25, 26, 27]])"
      ]
     },
     "execution_count": 78,
     "metadata": {},
     "output_type": "execute_result"
    }
   ],
   "source": [
    "a"
   ]
  },
  {
   "cell_type": "code",
   "execution_count": 79,
   "metadata": {},
   "outputs": [
    {
     "data": {
      "text/plain": [
       "array([[2, 2, 2],\n",
       "       [2, 2, 2],\n",
       "       [2, 2, 2],\n",
       "       [2, 2, 2],\n",
       "       [2, 2, 2],\n",
       "       [2, 2, 2],\n",
       "       [2, 2, 2],\n",
       "       [2, 2, 2],\n",
       "       [2, 2, 2]])"
      ]
     },
     "execution_count": 79,
     "metadata": {},
     "output_type": "execute_result"
    }
   ],
   "source": [
    "np.full_like(a, dtype=a.dtype, fill_value=2.5)"
   ]
  },
  {
   "cell_type": "code",
   "execution_count": 80,
   "metadata": {},
   "outputs": [
    {
     "data": {
      "text/plain": [
       "array([[2.5, 2.5, 2.5],\n",
       "       [2.5, 2.5, 2.5],\n",
       "       [2.5, 2.5, 2.5],\n",
       "       [2.5, 2.5, 2.5],\n",
       "       [2.5, 2.5, 2.5],\n",
       "       [2.5, 2.5, 2.5],\n",
       "       [2.5, 2.5, 2.5],\n",
       "       [2.5, 2.5, 2.5],\n",
       "       [2.5, 2.5, 2.5]])"
      ]
     },
     "execution_count": 80,
     "metadata": {},
     "output_type": "execute_result"
    }
   ],
   "source": [
    "np.full_like(a, dtype=np.float64, fill_value=2.5)"
   ]
  },
  {
   "cell_type": "code",
   "execution_count": 81,
   "metadata": {},
   "outputs": [
    {
     "data": {
      "text/plain": [
       "array([[2.5, 2.5, 2.5, 2.5, 2.5, 2.5, 2.5, 2.5, 2.5],\n",
       "       [2.5, 2.5, 2.5, 2.5, 2.5, 2.5, 2.5, 2.5, 2.5],\n",
       "       [2.5, 2.5, 2.5, 2.5, 2.5, 2.5, 2.5, 2.5, 2.5]])"
      ]
     },
     "execution_count": 81,
     "metadata": {},
     "output_type": "execute_result"
    }
   ],
   "source": [
    "np.empty((3,9))"
   ]
  },
  {
   "cell_type": "code",
   "execution_count": 82,
   "metadata": {},
   "outputs": [
    {
     "data": {
      "text/plain": [
       "array([[0, 0, 0],\n",
       "       [0, 0, 0],\n",
       "       [0, 0, 0],\n",
       "       [0, 0, 0],\n",
       "       [0, 0, 0],\n",
       "       [0, 0, 0],\n",
       "       [0, 0, 0],\n",
       "       [0, 0, 0],\n",
       "       [0, 0, 0]])"
      ]
     },
     "execution_count": 82,
     "metadata": {},
     "output_type": "execute_result"
    }
   ],
   "source": [
    "np.empty_like(a)"
   ]
  },
  {
   "cell_type": "code",
   "execution_count": 83,
   "metadata": {},
   "outputs": [
    {
     "data": {
      "text/plain": [
       "array([[nan, nan, nan],\n",
       "       [nan, nan, nan],\n",
       "       [nan, nan, nan],\n",
       "       [nan, nan, nan],\n",
       "       [nan, nan, nan],\n",
       "       [nan, nan, nan],\n",
       "       [nan, nan, nan],\n",
       "       [nan, nan, nan],\n",
       "       [nan, nan, nan]])"
      ]
     },
     "execution_count": 83,
     "metadata": {},
     "output_type": "execute_result"
    }
   ],
   "source": [
    "np.full_like(a, 1) * np.nan\n"
   ]
  },
  {
   "cell_type": "code",
   "execution_count": 84,
   "metadata": {},
   "outputs": [
    {
     "data": {
      "text/plain": [
       "array([[nan, nan, nan],\n",
       "       [nan, nan, nan],\n",
       "       [nan, nan, nan],\n",
       "       [nan, nan, nan],\n",
       "       [nan, nan, nan],\n",
       "       [nan, nan, nan],\n",
       "       [nan, nan, nan],\n",
       "       [nan, nan, nan],\n",
       "       [nan, nan, nan]])"
      ]
     },
     "execution_count": 84,
     "metadata": {},
     "output_type": "execute_result"
    }
   ],
   "source": [
    "np.full(a.shape, np.nan)"
   ]
  },
  {
   "cell_type": "code",
   "execution_count": 85,
   "metadata": {},
   "outputs": [
    {
     "data": {
      "text/plain": [
       "array([[1., 0., 0., 0., 0., 0.],\n",
       "       [0., 1., 0., 0., 0., 0.],\n",
       "       [0., 0., 1., 0., 0., 0.],\n",
       "       [0., 0., 0., 1., 0., 0.],\n",
       "       [0., 0., 0., 0., 1., 0.],\n",
       "       [0., 0., 0., 0., 0., 1.]])"
      ]
     },
     "execution_count": 85,
     "metadata": {},
     "output_type": "execute_result"
    }
   ],
   "source": [
    "np.eye(6)"
   ]
  },
  {
   "cell_type": "code",
   "execution_count": 86,
   "metadata": {},
   "outputs": [
    {
     "data": {
      "text/plain": [
       "array([[1., 0., 0.],\n",
       "       [0., 1., 0.],\n",
       "       [0., 0., 1.]])"
      ]
     },
     "execution_count": 86,
     "metadata": {},
     "output_type": "execute_result"
    }
   ],
   "source": [
    "np.identity(3)"
   ]
  },
  {
   "cell_type": "markdown",
   "metadata": {},
   "source": [
    "# Data Types for ndarrays"
   ]
  },
  {
   "cell_type": "code",
   "execution_count": 87,
   "metadata": {},
   "outputs": [
    {
     "data": {
      "text/plain": [
       "dtype('int32')"
      ]
     },
     "execution_count": 87,
     "metadata": {},
     "output_type": "execute_result"
    }
   ],
   "source": [
    "a = np.array([1,3,4], dtype='int')\n",
    "a.dtype"
   ]
  },
  {
   "cell_type": "code",
   "execution_count": 88,
   "metadata": {},
   "outputs": [
    {
     "data": {
      "text/plain": [
       "dtype('int32')"
      ]
     },
     "execution_count": 88,
     "metadata": {},
     "output_type": "execute_result"
    }
   ],
   "source": [
    "a = np.array([1,3,4], dtype=int)\n",
    "a.dtype"
   ]
  },
  {
   "cell_type": "code",
   "execution_count": 89,
   "metadata": {},
   "outputs": [
    {
     "data": {
      "text/plain": [
       "dtype('int64')"
      ]
     },
     "execution_count": 89,
     "metadata": {},
     "output_type": "execute_result"
    }
   ],
   "source": [
    "a = np.array([1,3,4], dtype=np.int64)\n",
    "a.dtype"
   ]
  },
  {
   "cell_type": "code",
   "execution_count": 90,
   "metadata": {},
   "outputs": [
    {
     "data": {
      "text/plain": [
       "dtype('int64')"
      ]
     },
     "execution_count": 90,
     "metadata": {},
     "output_type": "execute_result"
    }
   ],
   "source": [
    "a = np.array([1,3,4], dtype='i8')\n",
    "a.dtype"
   ]
  },
  {
   "cell_type": "code",
   "execution_count": 91,
   "metadata": {},
   "outputs": [
    {
     "data": {
      "text/plain": [
       "dtype('int64')"
      ]
     },
     "execution_count": 91,
     "metadata": {},
     "output_type": "execute_result"
    }
   ],
   "source": [
    "b = np.array([3,8,9], dtype=a.dtype)\n",
    "b.dtype"
   ]
  },
  {
   "cell_type": "code",
   "execution_count": 92,
   "metadata": {},
   "outputs": [
    {
     "data": {
      "text/plain": [
       "dtype('int64')"
      ]
     },
     "execution_count": 92,
     "metadata": {},
     "output_type": "execute_result"
    }
   ],
   "source": [
    "c = a.astype(np.int64)\n",
    "c.dtype"
   ]
  },
  {
   "cell_type": "markdown",
   "metadata": {},
   "source": [
    "# Boolen Operation"
   ]
  },
  {
   "cell_type": "code",
   "execution_count": 93,
   "metadata": {},
   "outputs": [
    {
     "data": {
      "text/plain": [
       "array([[[ 1,  2,  3],\n",
       "        [ 4,  5,  6],\n",
       "        [ 7,  8,  9]],\n",
       "\n",
       "       [[10, 11, 12],\n",
       "        [13, 14, 15],\n",
       "        [16, 17, 18]],\n",
       "\n",
       "       [[19, 20, 21],\n",
       "        [22, 23, 24],\n",
       "        [25, 26, 27]]])"
      ]
     },
     "execution_count": 93,
     "metadata": {},
     "output_type": "execute_result"
    }
   ],
   "source": [
    "a = np.arange(1,28).reshape((3,3,3))\n",
    "a"
   ]
  },
  {
   "cell_type": "code",
   "execution_count": 94,
   "metadata": {},
   "outputs": [
    {
     "data": {
      "text/plain": [
       "array([[[False, False,  True],\n",
       "        [False, False,  True],\n",
       "        [False, False,  True]],\n",
       "\n",
       "       [[False, False,  True],\n",
       "        [False, False,  True],\n",
       "        [False, False,  True]],\n",
       "\n",
       "       [[False, False,  True],\n",
       "        [False, False,  True],\n",
       "        [False, False,  True]]])"
      ]
     },
     "execution_count": 94,
     "metadata": {},
     "output_type": "execute_result"
    }
   ],
   "source": [
    "a % 3 == 0"
   ]
  },
  {
   "cell_type": "code",
   "execution_count": 95,
   "metadata": {},
   "outputs": [
    {
     "name": "stdout",
     "output_type": "stream",
     "text": [
      "[[[ 1  2  3]\n",
      "  [ 4  5  6]\n",
      "  [ 7  8  9]]\n",
      "\n",
      " [[10 11 12]\n",
      "  [13 14 15]\n",
      "  [16 17 18]]\n",
      "\n",
      " [[19 20 21]\n",
      "  [22 23 24]\n",
      "  [25 26 27]]]\n"
     ]
    },
    {
     "data": {
      "text/plain": [
       "array([ 3,  6,  9, 12, 15, 18, 21, 24, 27])"
      ]
     },
     "execution_count": 95,
     "metadata": {},
     "output_type": "execute_result"
    }
   ],
   "source": [
    "print(a)\n",
    "a[a%3==0]"
   ]
  },
  {
   "cell_type": "code",
   "execution_count": 96,
   "metadata": {},
   "outputs": [
    {
     "name": "stdout",
     "output_type": "stream",
     "text": [
      "[[[ 1  2  3]\n",
      "  [ 4  5  6]\n",
      "  [ 7  8  9]]\n",
      "\n",
      " [[10 11 12]\n",
      "  [13 14 15]\n",
      "  [16 17 18]]\n",
      "\n",
      " [[19 20 21]\n",
      "  [22 23 24]\n",
      "  [25 26 27]]]\n"
     ]
    },
    {
     "data": {
      "text/plain": [
       "array([15])"
      ]
     },
     "execution_count": 96,
     "metadata": {},
     "output_type": "execute_result"
    }
   ],
   "source": [
    "print(a)\n",
    "a[(a%3==0) & (a%5==0)]"
   ]
  },
  {
   "cell_type": "code",
   "execution_count": 97,
   "metadata": {},
   "outputs": [
    {
     "name": "stdout",
     "output_type": "stream",
     "text": [
      "[[[ 1  2  3]\n",
      "  [ 4  5  6]\n",
      "  [ 7  8  9]]\n",
      "\n",
      " [[10 11 12]\n",
      "  [13 14 15]\n",
      "  [16 17 18]]\n",
      "\n",
      " [[19 20 21]\n",
      "  [22 23 24]\n",
      "  [25 26 27]]]\n"
     ]
    },
    {
     "data": {
      "text/plain": [
       "array([ 2,  5,  8, 11, 14, 17, 20, 23, 26])"
      ]
     },
     "execution_count": 97,
     "metadata": {},
     "output_type": "execute_result"
    }
   ],
   "source": [
    "print(a)\n",
    "a[~a%3==0]"
   ]
  },
  {
   "cell_type": "code",
   "execution_count": 98,
   "metadata": {},
   "outputs": [
    {
     "name": "stdout",
     "output_type": "stream",
     "text": [
      "[[[ 1  2  3]\n",
      "  [ 4  5  6]\n",
      "  [ 7  8  9]]\n",
      "\n",
      " [[10 11 12]\n",
      "  [13 14 15]\n",
      "  [16 17 18]]\n",
      "\n",
      " [[19 20 21]\n",
      "  [22 23 24]\n",
      "  [25 26 27]]]\n"
     ]
    },
    {
     "data": {
      "text/plain": [
       "array([ 1,  2,  4,  5,  7,  8, 10, 11, 13, 14, 16, 17, 19, 20, 22, 23, 25,\n",
       "       26])"
      ]
     },
     "execution_count": 98,
     "metadata": {},
     "output_type": "execute_result"
    }
   ],
   "source": [
    "print(a)\n",
    "a[~(a%3==0)]"
   ]
  },
  {
   "cell_type": "code",
   "execution_count": 99,
   "metadata": {
    "scrolled": true
   },
   "outputs": [
    {
     "name": "stdout",
     "output_type": "stream",
     "text": [
      "[[[ 1  2  3]\n",
      "  [ 4  5  6]\n",
      "  [ 7  8  9]]\n",
      "\n",
      " [[10 11 12]\n",
      "  [13 14 15]\n",
      "  [16 17 18]]\n",
      "\n",
      " [[19 20 21]\n",
      "  [22 23 24]\n",
      "  [25 26 27]]]\n"
     ]
    },
    {
     "data": {
      "text/plain": [
       "array([ 1,  2,  4,  5,  7,  8, 10, 11, 13, 14, 16, 17, 19, 20, 22, 23, 25,\n",
       "       26])"
      ]
     },
     "execution_count": 99,
     "metadata": {},
     "output_type": "execute_result"
    }
   ],
   "source": [
    "print(a)\n",
    "a[a%3!=0]"
   ]
  },
  {
   "cell_type": "code",
   "execution_count": 100,
   "metadata": {},
   "outputs": [
    {
     "data": {
      "text/plain": [
       "array([[[1],\n",
       "        [2],\n",
       "        [3]],\n",
       "\n",
       "       [[4],\n",
       "        [5],\n",
       "        [6]]])"
      ]
     },
     "execution_count": 100,
     "metadata": {},
     "output_type": "execute_result"
    }
   ],
   "source": [
    "a = np.arange(1,7).reshape((2,3,1))\n",
    "a"
   ]
  },
  {
   "cell_type": "markdown",
   "metadata": {},
   "source": [
    "# Fancy Slicing"
   ]
  },
  {
   "cell_type": "code",
   "execution_count": 101,
   "metadata": {},
   "outputs": [],
   "source": [
    "import numpy as np"
   ]
  },
  {
   "cell_type": "code",
   "execution_count": 102,
   "metadata": {},
   "outputs": [
    {
     "name": "stdout",
     "output_type": "stream",
     "text": [
      "[[[10 11 12]\n",
      "  [13 14 15]\n",
      "  [16 17 18]]\n",
      "\n",
      " [[19 20 21]\n",
      "  [22 23 24]\n",
      "  [25 26 27]]\n",
      "\n",
      " [[28 29 30]\n",
      "  [31 32 33]\n",
      "  [34 35 36]]]\n"
     ]
    },
    {
     "data": {
      "text/plain": [
       "array([[[19, 20, 21],\n",
       "        [22, 23, 24],\n",
       "        [25, 26, 27]],\n",
       "\n",
       "       [[28, 29, 30],\n",
       "        [31, 32, 33],\n",
       "        [34, 35, 36]],\n",
       "\n",
       "       [[10, 11, 12],\n",
       "        [13, 14, 15],\n",
       "        [16, 17, 18]]])"
      ]
     },
     "execution_count": 102,
     "metadata": {},
     "output_type": "execute_result"
    }
   ],
   "source": [
    "a = np.arange(10,3*3*3+10).reshape(3,3,3)\n",
    "print(a)\n",
    "a[[1,2,0]]\n"
   ]
  },
  {
   "cell_type": "code",
   "execution_count": 103,
   "metadata": {},
   "outputs": [
    {
     "name": "stdout",
     "output_type": "stream",
     "text": [
      "[[[10 11 12]\n",
      "  [13 14 15]\n",
      "  [16 17 18]]\n",
      "\n",
      " [[19 20 21]\n",
      "  [22 23 24]\n",
      "  [25 26 27]]\n",
      "\n",
      " [[28 29 30]\n",
      "  [31 32 33]\n",
      "  [34 35 36]]]\n",
      "\n",
      "[[[19 20 21]\n",
      "  [22 23 24]\n",
      "  [25 26 27]]\n",
      "\n",
      " [[28 29 30]\n",
      "  [31 32 33]\n",
      "  [34 35 36]]\n",
      "\n",
      " [[10 11 12]\n",
      "  [13 14 15]\n",
      "  [16 17 18]]]\n"
     ]
    }
   ],
   "source": [
    "a = np.arange(10,3*3*3+10).reshape(3,3,3)\n",
    "print(a)\n",
    "\n",
    "print()\n",
    "print(a[[1,2,0]])\n",
    "# print(a[[1,2,0]])\n",
    "#a[[0,1,2],[0,1,2],]\n",
    "# a[[1,2,0]][:,[2,1,0]]\n",
    "#a[[1,2,0]][:,[-1,0]]\n",
    "#a[[1,2,0],:,::-1]\n",
    "#a[::-1]\n",
    "#a[:,::-1,:]"
   ]
  },
  {
   "cell_type": "code",
   "execution_count": 104,
   "metadata": {},
   "outputs": [
    {
     "name": "stdout",
     "output_type": "stream",
     "text": [
      "[[[10 11 12]\n",
      "  [13 14 15]\n",
      "  [16 17 18]]\n",
      "\n",
      " [[19 20 21]\n",
      "  [22 23 24]\n",
      "  [25 26 27]]\n",
      "\n",
      " [[28 29 30]\n",
      "  [31 32 33]\n",
      "  [34 35 36]]]\n",
      "\n",
      "[[[19 20 21]\n",
      "  [22 23 24]\n",
      "  [25 26 27]]\n",
      "\n",
      " [[28 29 30]\n",
      "  [31 32 33]\n",
      "  [34 35 36]]\n",
      "\n",
      " [[10 11 12]\n",
      "  [13 14 15]\n",
      "  [16 17 18]]]\n"
     ]
    }
   ],
   "source": [
    "a = np.arange(10,3*3*3+10).reshape(3,3,3)\n",
    "print(a)\n",
    "\n",
    "print()\n",
    "# print(a[[1,2,0]])\n",
    "print(a[[1,2,0]])\n",
    "#a[[0,1,2],[0,1,2],]\n",
    "# a[[1,2,0]][:,[2,1,0]]\n",
    "#a[[1,2,0]][:,[-1,0]]\n",
    "#a[[1,2,0],:,::-1]\n",
    "#a[::-1]\n",
    "#a[:,::-1,:]"
   ]
  },
  {
   "cell_type": "code",
   "execution_count": 105,
   "metadata": {},
   "outputs": [
    {
     "name": "stdout",
     "output_type": "stream",
     "text": [
      "[[[10 11 12]\n",
      "  [13 14 15]\n",
      "  [16 17 18]]\n",
      "\n",
      " [[19 20 21]\n",
      "  [22 23 24]\n",
      "  [25 26 27]]\n",
      "\n",
      " [[28 29 30]\n",
      "  [31 32 33]\n",
      "  [34 35 36]]]\n",
      "\n"
     ]
    },
    {
     "data": {
      "text/plain": [
       "array([[10, 11, 12],\n",
       "       [22, 23, 24],\n",
       "       [34, 35, 36]])"
      ]
     },
     "execution_count": 105,
     "metadata": {},
     "output_type": "execute_result"
    }
   ],
   "source": [
    "a = np.arange(10,3*3*3+10).reshape(3,3,3)\n",
    "print(a)\n",
    "\n",
    "print()\n",
    "# print(a[[1,2,0]])\n",
    "# print(a[[1,2,0]])\n",
    "a[[0,1,2],[0,1,2],]\n",
    "# a[[1,2,0]][:,[2,1,0]]\n",
    "#a[[1,2,0]][:,[-1,0]]\n",
    "#a[[1,2,0],:,::-1]\n",
    "#a[::-1]\n",
    "#a[:,::-1,:]"
   ]
  },
  {
   "cell_type": "code",
   "execution_count": 106,
   "metadata": {},
   "outputs": [
    {
     "name": "stdout",
     "output_type": "stream",
     "text": [
      "[[[10 11 12]\n",
      "  [13 14 15]\n",
      "  [16 17 18]]\n",
      "\n",
      " [[19 20 21]\n",
      "  [22 23 24]\n",
      "  [25 26 27]]\n",
      "\n",
      " [[28 29 30]\n",
      "  [31 32 33]\n",
      "  [34 35 36]]]\n",
      "\n"
     ]
    },
    {
     "data": {
      "text/plain": [
       "array([[[25, 26, 27],\n",
       "        [22, 23, 24],\n",
       "        [19, 20, 21]],\n",
       "\n",
       "       [[34, 35, 36],\n",
       "        [31, 32, 33],\n",
       "        [28, 29, 30]],\n",
       "\n",
       "       [[16, 17, 18],\n",
       "        [13, 14, 15],\n",
       "        [10, 11, 12]]])"
      ]
     },
     "execution_count": 106,
     "metadata": {},
     "output_type": "execute_result"
    }
   ],
   "source": [
    "a = np.arange(10,3*3*3+10).reshape(3,3,3)\n",
    "print(a)\n",
    "\n",
    "print()\n",
    "# print(a[[1,2,0]])\n",
    "# print(a[[1,2,0]])\n",
    "#a[[0,1,2],[0,1,2],]\n",
    "a[[1,2,0]][:,[2,1,0]]\n",
    "#a[[1,2,0]][:,[-1,0]]\n",
    "#a[[1,2,0],:,::-1]\n",
    "#a[::-1]\n",
    "#a[:,::-1,:]"
   ]
  },
  {
   "cell_type": "code",
   "execution_count": 107,
   "metadata": {},
   "outputs": [
    {
     "name": "stdout",
     "output_type": "stream",
     "text": [
      "[[[10 11 12]\n",
      "  [13 14 15]\n",
      "  [16 17 18]]\n",
      "\n",
      " [[19 20 21]\n",
      "  [22 23 24]\n",
      "  [25 26 27]]\n",
      "\n",
      " [[28 29 30]\n",
      "  [31 32 33]\n",
      "  [34 35 36]]]\n",
      "\n"
     ]
    },
    {
     "data": {
      "text/plain": [
       "array([[[25, 26, 27],\n",
       "        [19, 20, 21]],\n",
       "\n",
       "       [[34, 35, 36],\n",
       "        [28, 29, 30]],\n",
       "\n",
       "       [[16, 17, 18],\n",
       "        [10, 11, 12]]])"
      ]
     },
     "execution_count": 107,
     "metadata": {},
     "output_type": "execute_result"
    }
   ],
   "source": [
    "a = np.arange(10,3*3*3+10).reshape(3,3,3)\n",
    "print(a)\n",
    "\n",
    "print()\n",
    "# print(a[[1,2,0]])\n",
    "# print(a[[1,2,0]])\n",
    "#a[[0,1,2],[0,1,2],]\n",
    "# a[[1,2,0]][:,[2,1,0]]\n",
    "a[[1,2,0]][:,[-1,0]]\n",
    "#a[[1,2,0],:,::-1]\n",
    "#a[::-1]\n",
    "#a[:,::-1,:]"
   ]
  },
  {
   "cell_type": "code",
   "execution_count": 108,
   "metadata": {},
   "outputs": [
    {
     "name": "stdout",
     "output_type": "stream",
     "text": [
      "[[[10 11 12]\n",
      "  [13 14 15]\n",
      "  [16 17 18]]\n",
      "\n",
      " [[19 20 21]\n",
      "  [22 23 24]\n",
      "  [25 26 27]]\n",
      "\n",
      " [[28 29 30]\n",
      "  [31 32 33]\n",
      "  [34 35 36]]]\n",
      "\n"
     ]
    },
    {
     "data": {
      "text/plain": [
       "array([[[21, 20, 19],\n",
       "        [24, 23, 22],\n",
       "        [27, 26, 25]],\n",
       "\n",
       "       [[30, 29, 28],\n",
       "        [33, 32, 31],\n",
       "        [36, 35, 34]],\n",
       "\n",
       "       [[12, 11, 10],\n",
       "        [15, 14, 13],\n",
       "        [18, 17, 16]]])"
      ]
     },
     "execution_count": 108,
     "metadata": {},
     "output_type": "execute_result"
    }
   ],
   "source": [
    "a = np.arange(10,3*3*3+10).reshape(3,3,3)\n",
    "print(a)\n",
    "\n",
    "print()\n",
    "# print(a[[1,2,0]])\n",
    "# print(a[[1,2,0]])\n",
    "#a[[0,1,2],[0,1,2],]\n",
    "# a[[1,2,0]][:,[2,1,0]]\n",
    "#a[[1,2,0]][:,[-1,0]]\n",
    "a[[1,2,0],:,::-1]\n",
    "#a[::-1]\n",
    "#a[:,::-1,:]"
   ]
  },
  {
   "cell_type": "code",
   "execution_count": 109,
   "metadata": {},
   "outputs": [
    {
     "name": "stdout",
     "output_type": "stream",
     "text": [
      "[[[10 11 12]\n",
      "  [13 14 15]\n",
      "  [16 17 18]]\n",
      "\n",
      " [[19 20 21]\n",
      "  [22 23 24]\n",
      "  [25 26 27]]\n",
      "\n",
      " [[28 29 30]\n",
      "  [31 32 33]\n",
      "  [34 35 36]]]\n",
      "\n"
     ]
    },
    {
     "data": {
      "text/plain": [
       "array([[[28, 29, 30],\n",
       "        [31, 32, 33],\n",
       "        [34, 35, 36]],\n",
       "\n",
       "       [[19, 20, 21],\n",
       "        [22, 23, 24],\n",
       "        [25, 26, 27]],\n",
       "\n",
       "       [[10, 11, 12],\n",
       "        [13, 14, 15],\n",
       "        [16, 17, 18]]])"
      ]
     },
     "execution_count": 109,
     "metadata": {},
     "output_type": "execute_result"
    }
   ],
   "source": [
    "a = np.arange(10,3*3*3+10).reshape(3,3,3)\n",
    "print(a)\n",
    "\n",
    "print()\n",
    "# print(a[[1,2,0]])\n",
    "# print(a[[1,2,0]])\n",
    "#a[[0,1,2],[0,1,2],]\n",
    "# a[[1,2,0]][:,[2,1,0]]\n",
    "#a[[1,2,0]][:,[-1,0]]\n",
    "#a[[1,2,0],:,::-1]\n",
    "a[::-1]\n",
    "#a[:,::-1,:]"
   ]
  },
  {
   "cell_type": "code",
   "execution_count": 110,
   "metadata": {},
   "outputs": [
    {
     "name": "stdout",
     "output_type": "stream",
     "text": [
      "[[[10 11 12]\n",
      "  [13 14 15]\n",
      "  [16 17 18]]\n",
      "\n",
      " [[19 20 21]\n",
      "  [22 23 24]\n",
      "  [25 26 27]]\n",
      "\n",
      " [[28 29 30]\n",
      "  [31 32 33]\n",
      "  [34 35 36]]]\n",
      "\n"
     ]
    },
    {
     "data": {
      "text/plain": [
       "array([[[16, 17, 18],\n",
       "        [13, 14, 15],\n",
       "        [10, 11, 12]],\n",
       "\n",
       "       [[25, 26, 27],\n",
       "        [22, 23, 24],\n",
       "        [19, 20, 21]],\n",
       "\n",
       "       [[34, 35, 36],\n",
       "        [31, 32, 33],\n",
       "        [28, 29, 30]]])"
      ]
     },
     "execution_count": 110,
     "metadata": {},
     "output_type": "execute_result"
    }
   ],
   "source": [
    "a = np.arange(10,3*3*3+10).reshape(3,3,3)\n",
    "print(a)\n",
    "\n",
    "print()\n",
    "# print(a[[1,2,0]])\n",
    "# print(a[[1,2,0]])\n",
    "#a[[0,1,2],[0,1,2],]\n",
    "# a[[1,2,0]][:,[2,1,0]]\n",
    "#a[[1,2,0]][:,[-1,0]]\n",
    "#a[[1,2,0],:,::-1]\n",
    "#a[::-1]\n",
    "a[:,::-1,:]"
   ]
  },
  {
   "cell_type": "code",
   "execution_count": 111,
   "metadata": {},
   "outputs": [
    {
     "name": "stdout",
     "output_type": "stream",
     "text": [
      "['Qasim' 'Hamza' 'Junaid' 'Ali' 'Qasim' 'Abid']\n",
      "\n",
      "\n",
      "[[-0.16159695  0.44384071  1.48942813  0.18835244]\n",
      " [ 0.65696301 -1.26554175 -0.53924994  1.58998032]\n",
      " [ 1.12614845  0.56933796  1.74145008 -0.53432974]\n",
      " [ 0.56416225  1.15331436  0.92646836  0.19622826]\n",
      " [ 1.49327826  0.54488363 -1.80304261 -0.56274493]\n",
      " [ 0.24117658 -0.58786297  0.12958648 -0.06272342]]\n"
     ]
    }
   ],
   "source": [
    "names = np.array([\"Qasim\",\"Hamza\",\"Junaid\",\"Ali\",\"Qasim\",\"Abid\"])\n",
    "\n",
    "data = np.random.randn(6,4)\n",
    "print(names, data, sep=\"\\n\\n\\n\")"
   ]
  },
  {
   "cell_type": "code",
   "execution_count": 112,
   "metadata": {},
   "outputs": [
    {
     "data": {
      "text/plain": [
       "array([ True, False, False, False,  True, False])"
      ]
     },
     "execution_count": 112,
     "metadata": {},
     "output_type": "execute_result"
    }
   ],
   "source": [
    "names == \"Qasim\""
   ]
  },
  {
   "cell_type": "code",
   "execution_count": 113,
   "metadata": {},
   "outputs": [
    {
     "data": {
      "text/plain": [
       "array([[-0.16159695,  0.44384071,  1.48942813,  0.18835244],\n",
       "       [ 1.49327826,  0.54488363, -1.80304261, -0.56274493]])"
      ]
     },
     "execution_count": 113,
     "metadata": {},
     "output_type": "execute_result"
    }
   ],
   "source": [
    "data[[ True, False, False, False,  True, False]]"
   ]
  },
  {
   "cell_type": "code",
   "execution_count": 114,
   "metadata": {},
   "outputs": [
    {
     "name": "stdout",
     "output_type": "stream",
     "text": [
      "['Qasim' 'Hamza' 'Junaid' 'Ali' 'Qasim' 'Abid']\n",
      "\n",
      "\n",
      "[[ 0.03901501  1.58692754 -0.35550031 -0.26076359]\n",
      " [-0.64835814 -0.23579932  0.23616471 -0.7090441 ]\n",
      " [-1.81269017  0.12459225  1.12444413 -1.29111733]\n",
      " [-0.72386945 -0.56734752  0.31707338  0.64561365]\n",
      " [ 0.88157552 -0.78954985  0.98449857 -0.60451316]\n",
      " [ 1.52433917  0.98839515  1.27330846  2.05249076]]\n",
      "\n"
     ]
    },
    {
     "data": {
      "text/plain": [
       "array([[ 0.03901501,  1.58692754, -0.35550031, -0.26076359],\n",
       "       [ 0.88157552, -0.78954985,  0.98449857, -0.60451316]])"
      ]
     },
     "execution_count": 114,
     "metadata": {},
     "output_type": "execute_result"
    }
   ],
   "source": [
    "names = np.array([\"Qasim\",\"Hamza\",\"Junaid\",\"Ali\",\"Qasim\",\"Abid\"])\n",
    "\n",
    "data = np.random.randn(6,4)\n",
    "print(names, data, sep=\"\\n\\n\\n\")\n",
    "\n",
    "print()\n",
    "data[names==\"Qasim\"]"
   ]
  },
  {
   "cell_type": "code",
   "execution_count": 115,
   "metadata": {},
   "outputs": [
    {
     "name": "stdout",
     "output_type": "stream",
     "text": [
      "['Qasim' 'Hamza' 'Junaid' 'Ali' 'Qasim' 'Abid']\n",
      "\n",
      "\n",
      "[[-1.58608622 -2.47543984  1.27298132  1.6716481 ]\n",
      " [-0.70102909  1.05973152  0.24903905 -1.66765501]\n",
      " [ 0.46757554 -1.97038881  0.25175673  2.00543108]\n",
      " [-0.81944554  0.63987915  0.25255936  0.66464455]\n",
      " [-1.02435447  0.11669802 -0.86942869 -0.76074596]\n",
      " [-0.85939715 -0.54989783 -2.73566145 -0.67447632]]\n"
     ]
    },
    {
     "data": {
      "text/plain": [
       "array([[-1.58608622, -2.47543984,  1.27298132,  1.6716481 ],\n",
       "       [-0.81944554,  0.63987915,  0.25255936,  0.66464455],\n",
       "       [-1.02435447,  0.11669802, -0.86942869, -0.76074596]])"
      ]
     },
     "execution_count": 115,
     "metadata": {},
     "output_type": "execute_result"
    }
   ],
   "source": [
    "names = np.array([\"Qasim\",\"Hamza\",\"Junaid\",\"Ali\",\"Qasim\",\"Abid\"])\n",
    "\n",
    "data = np.random.randn(6,4)\n",
    "print(names, data, sep=\"\\n\\n\\n\")\n",
    "# print(names==\"Qasim\")\n",
    "# print(names==\"Ali\")\n",
    "# print((names==\"Qasim\") | (names==\"Ali\"))\n",
    "data[(names==\"Qasim\") |  (names==\"Ali\")]"
   ]
  },
  {
   "cell_type": "code",
   "execution_count": 116,
   "metadata": {},
   "outputs": [
    {
     "name": "stdout",
     "output_type": "stream",
     "text": [
      "['Qasim' 'Hamza' 'Junaid' 'Ali' 'Qasim' 'Abid']\n",
      "\n",
      "\n",
      "[[-1.05290582  1.09490524  0.43929247 -0.07059709]\n",
      " [-0.90655519 -0.44603586  2.2190807  -1.00966796]\n",
      " [ 0.71452682  1.50082815 -2.48403712 -0.6885078 ]\n",
      " [-1.88903563  1.52718442 -1.98166222 -1.16392484]\n",
      " [ 0.22927698 -0.87293561  0.73270019 -2.17059421]\n",
      " [ 0.25112446 -0.96617111 -0.084067    0.22974815]]\n"
     ]
    },
    {
     "data": {
      "text/plain": [
       "array([[-1.05290582,  1.09490524,  0.43929247, -0.07059709],\n",
       "       [-0.90655519, -0.44603586,  2.2190807 , -1.00966796],\n",
       "       [ 0.71452682,  1.50082815, -2.48403712, -0.6885078 ],\n",
       "       [-1.88903563,  1.52718442, -1.98166222, -1.16392484],\n",
       "       [ 0.22927698, -0.87293561,  0.73270019, -2.17059421],\n",
       "       [ 0.25112446, -0.96617111, -0.084067  ,  0.22974815]])"
      ]
     },
     "execution_count": 116,
     "metadata": {},
     "output_type": "execute_result"
    }
   ],
   "source": [
    "names = np.array([\"Qasim\",\"Hamza\",\"Junaid\",\"Ali\",\"Qasim\",\"Abid\"])\n",
    "\n",
    "data = np.random.randn(6,4)\n",
    "print(names, data, sep=\"\\n\\n\\n\")\n",
    "# print(names==\"Qasim\")\n",
    "# print(names==\"Ali\")\n",
    "# print((names==\"Qasim\") | (names==\"Ali\"))\n",
    "data[(names!=\"Qasim\") |  (names!=\"Ali\")]"
   ]
  },
  {
   "cell_type": "code",
   "execution_count": 117,
   "metadata": {},
   "outputs": [
    {
     "name": "stdout",
     "output_type": "stream",
     "text": [
      "['Qasim' 'Hamza' 'Junaid' 'Ali' 'Qasim' 'Abid']\n",
      "\n",
      "\n",
      "[[ 0.55467126 -0.54779435  0.35287644  0.27455046]\n",
      " [ 1.21245498  1.33298121  0.66843429  1.75298377]\n",
      " [-1.70854928 -0.78082853 -0.22500257 -0.76110235]\n",
      " [-1.04584986 -0.50450743  0.44327917  0.53176514]\n",
      " [-1.25193564  0.44638877 -1.10450896 -1.01506725]\n",
      " [-0.33536816  0.90184529  2.72179572  0.92745718]]\n"
     ]
    },
    {
     "data": {
      "text/plain": [
       "array([[ 0.55467126,  0.27455046],\n",
       "       [-1.04584986,  0.53176514],\n",
       "       [-1.25193564, -1.01506725]])"
      ]
     },
     "execution_count": 117,
     "metadata": {},
     "output_type": "execute_result"
    }
   ],
   "source": [
    "names = np.array([\"Qasim\",\"Hamza\",\"Junaid\",\"Ali\",\"Qasim\",\"Abid\"])\n",
    "\n",
    "data = np.random.randn(6,4)\n",
    "print(names, data, sep=\"\\n\\n\\n\")\n",
    "# print(names==\"Qasim\")\n",
    "# print(names==\"Ali\")\n",
    "# print((names==\"Qasim\") | (names==\"Ali\"))\n",
    "data[(names==\"Qasim\") |  (names==\"Ali\")][:,[0,-1]]"
   ]
  },
  {
   "cell_type": "code",
   "execution_count": 118,
   "metadata": {},
   "outputs": [],
   "source": [
    "# Return an error\n",
    "# l = [1,3,5,3,5]\n",
    "# l[:3]\n",
    "# l[:3] = 5"
   ]
  },
  {
   "cell_type": "code",
   "execution_count": 119,
   "metadata": {},
   "outputs": [
    {
     "data": {
      "text/plain": [
       "[5, 3, 5, 3, 5]"
      ]
     },
     "execution_count": 119,
     "metadata": {},
     "output_type": "execute_result"
    }
   ],
   "source": [
    "l = [1,3,5,3,5]\n",
    "l[:3]\n",
    "l[0] = 5\n",
    "l"
   ]
  },
  {
   "cell_type": "code",
   "execution_count": 120,
   "metadata": {},
   "outputs": [
    {
     "data": {
      "text/plain": [
       "array([5, 5, 5, 3, 5])"
      ]
     },
     "execution_count": 120,
     "metadata": {},
     "output_type": "execute_result"
    }
   ],
   "source": [
    "l = np.array([1,3,5,3,5])\n",
    "l[:3]\n",
    "l[:3] = 5\n",
    "l"
   ]
  },
  {
   "cell_type": "code",
   "execution_count": 121,
   "metadata": {},
   "outputs": [
    {
     "name": "stdout",
     "output_type": "stream",
     "text": [
      "[[ 0  1  2  3]\n",
      " [ 4  5  6  7]\n",
      " [ 8  9 10 11]\n",
      " [12 13 14 15]\n",
      " [16 17 18 19]\n",
      " [20 21 22 23]\n",
      " [24 25 26 27]\n",
      " [28 29 30 31]]\n",
      "[[0 0 0 0]\n",
      " [1 1 1 1]\n",
      " [2 2 2 2]\n",
      " [3 3 3 3]\n",
      " [4 4 4 4]\n",
      " [5 5 5 5]\n",
      " [6 6 6 6]\n",
      " [7 7 7 7]]\n"
     ]
    }
   ],
   "source": [
    "a = np.arange(8*4).reshape((8,4))\n",
    "print(a)\n",
    "\n",
    "for i in range(8):\n",
    "    a[i] = i\n",
    "print(a)    "
   ]
  },
  {
   "cell_type": "code",
   "execution_count": 122,
   "metadata": {},
   "outputs": [
    {
     "name": "stdout",
     "output_type": "stream",
     "text": [
      "[[ 0  1  2  3]\n",
      " [ 4  5  6  7]\n",
      " [ 8  9 10 11]\n",
      " [12 13 14 15]\n",
      " [16 17 18 19]\n",
      " [20 21 22 23]\n",
      " [24 25 26 27]\n",
      " [28 29 30 31]]\n",
      "[[0 0 0 0]\n",
      " [1 1 1 1]\n",
      " [2 2 2 2]\n",
      " [3 3 3 3]\n",
      " [4 4 4 4]\n",
      " [5 5 5 5]\n",
      " [6 6 6 6]\n",
      " [7 7 7 7]]\n"
     ]
    }
   ],
   "source": [
    "a = np.arange(8*4).reshape((8,4))\n",
    "print(a)\n",
    "\n",
    "for i in range(len(a)):\n",
    "    a[i] = i\n",
    "print(a) "
   ]
  },
  {
   "cell_type": "code",
   "execution_count": 123,
   "metadata": {},
   "outputs": [
    {
     "name": "stdout",
     "output_type": "stream",
     "text": [
      "[[ 0  1  2  3]\n",
      " [ 4  5  6  7]\n",
      " [ 8  9 10 11]\n",
      " [12 13 14 15]\n",
      " [16 17 18 19]\n",
      " [20 21 22 23]\n",
      " [24 25 26 27]\n",
      " [28 29 30 31]]\n",
      "[[0 0 0 0]\n",
      " [1 1 1 1]\n",
      " [2 2 2 2]\n",
      " [3 3 3 3]\n",
      " [4 4 4 4]\n",
      " [5 5 5 5]\n",
      " [6 6 6 6]\n",
      " [7 7 7 7]]\n"
     ]
    }
   ],
   "source": [
    "a = np.arange(8*4).reshape((8,4))\n",
    "print(a)\n",
    "\n",
    "for i in range(a.shape[0]):\n",
    "    a[i] = i\n",
    "print(a)"
   ]
  },
  {
   "cell_type": "code",
   "execution_count": 124,
   "metadata": {},
   "outputs": [
    {
     "name": "stdout",
     "output_type": "stream",
     "text": [
      "[[ 0  1  2  3]\n",
      " [ 4  5  6  7]\n",
      " [ 8  9 10 11]\n",
      " [12 13 14 15]\n",
      " [16 17 18 19]\n",
      " [20 21 22 23]\n",
      " [24 25 26 27]\n",
      " [28 29 30 31]]\n",
      "[[0 0 0 0]\n",
      " [1 1 1 1]\n",
      " [2 2 2 2]\n",
      " [3 3 3 3]\n",
      " [4 4 4 4]\n",
      " [5 5 5 5]\n",
      " [6 6 6 6]\n",
      " [7 7 7 7]]\n"
     ]
    }
   ],
   "source": [
    "a = np.arange(8*4).reshape((8,4))\n",
    "print(a)\n",
    "\n",
    "for i, _ in enumerate(a):\n",
    "    a[i] = i\n",
    "print(a)"
   ]
  },
  {
   "cell_type": "markdown",
   "metadata": {},
   "source": [
    "# Transposing Arrays and Swapping Axes"
   ]
  },
  {
   "cell_type": "code",
   "execution_count": 125,
   "metadata": {},
   "outputs": [
    {
     "name": "stdout",
     "output_type": "stream",
     "text": [
      "[[ 0  1  2]\n",
      " [ 3  4  5]\n",
      " [ 6  7  8]\n",
      " [ 9 10 11]]\n"
     ]
    }
   ],
   "source": [
    "a = np.arange(4*3).reshape(4,3)\n",
    "print(a)"
   ]
  },
  {
   "cell_type": "code",
   "execution_count": 126,
   "metadata": {},
   "outputs": [
    {
     "data": {
      "text/plain": [
       "array([[ 0,  3,  6,  9],\n",
       "       [ 1,  4,  7, 10],\n",
       "       [ 2,  5,  8, 11]])"
      ]
     },
     "execution_count": 126,
     "metadata": {},
     "output_type": "execute_result"
    }
   ],
   "source": [
    "a.T"
   ]
  },
  {
   "cell_type": "code",
   "execution_count": 127,
   "metadata": {},
   "outputs": [
    {
     "data": {
      "text/plain": [
       "array([[ 0,  3,  6,  9],\n",
       "       [ 1,  4,  7, 10],\n",
       "       [ 2,  5,  8, 11]])"
      ]
     },
     "execution_count": 127,
     "metadata": {},
     "output_type": "execute_result"
    }
   ],
   "source": [
    "a.T.T.T"
   ]
  },
  {
   "cell_type": "code",
   "execution_count": 128,
   "metadata": {},
   "outputs": [
    {
     "data": {
      "text/plain": [
       "array([[ 0,  1,  2],\n",
       "       [ 3,  4,  5],\n",
       "       [ 6,  7,  8],\n",
       "       [ 9, 10, 11]])"
      ]
     },
     "execution_count": 128,
     "metadata": {},
     "output_type": "execute_result"
    }
   ],
   "source": [
    "a"
   ]
  },
  {
   "cell_type": "code",
   "execution_count": 129,
   "metadata": {},
   "outputs": [
    {
     "data": {
      "text/plain": [
       "array([[ 0,  3,  6,  9],\n",
       "       [ 1,  4,  7, 10],\n",
       "       [ 2,  5,  8, 11]])"
      ]
     },
     "execution_count": 129,
     "metadata": {},
     "output_type": "execute_result"
    }
   ],
   "source": [
    "a.transpose()"
   ]
  },
  {
   "cell_type": "code",
   "execution_count": 130,
   "metadata": {},
   "outputs": [
    {
     "name": "stdout",
     "output_type": "stream",
     "text": [
      "[[1 2]\n",
      " [3 4]]\n",
      "\n",
      "[[3 4]\n",
      " [5 6]]\n",
      "\n"
     ]
    },
    {
     "data": {
      "text/plain": [
       "array([[ 3,  8],\n",
       "       [15, 24]])"
      ]
     },
     "execution_count": 130,
     "metadata": {},
     "output_type": "execute_result"
    }
   ],
   "source": [
    "a = np.array([[1,2],\n",
    "             [3,4]])\n",
    "b = a+2\n",
    "print(a,b, sep=\"\\n\\n\", end=\"\\n\\n\")\n",
    "\n",
    "a * b"
   ]
  },
  {
   "cell_type": "code",
   "execution_count": 131,
   "metadata": {},
   "outputs": [
    {
     "data": {
      "text/plain": [
       "11"
      ]
     },
     "execution_count": 131,
     "metadata": {},
     "output_type": "execute_result"
    }
   ],
   "source": [
    "arr1 = np.array([1,2])\n",
    "arr2 = np.array([3,4])\n",
    "# (1*3)+(2*4)\n",
    "arr1.dot(arr2)"
   ]
  },
  {
   "cell_type": "code",
   "execution_count": 132,
   "metadata": {},
   "outputs": [
    {
     "name": "stdout",
     "output_type": "stream",
     "text": [
      "[[1 2]\n",
      " [3 4]]\n",
      "\n",
      "[[3 4]\n",
      " [5 6]]\n",
      "\n"
     ]
    },
    {
     "data": {
      "text/plain": [
       "array([[13, 16],\n",
       "       [29, 36]])"
      ]
     },
     "execution_count": 132,
     "metadata": {},
     "output_type": "execute_result"
    }
   ],
   "source": [
    "a = np.array([[1,2],\n",
    "             [3,4]])\n",
    "b = a+2\n",
    "print(a,b, sep=\"\\n\\n\", end=\"\\n\\n\")\n",
    "\n",
    "a @ b"
   ]
  },
  {
   "cell_type": "code",
   "execution_count": 133,
   "metadata": {},
   "outputs": [
    {
     "name": "stdout",
     "output_type": "stream",
     "text": [
      "[[1 2]\n",
      " [3 4]]\n",
      "\n",
      "[[3 4]\n",
      " [5 6]]\n",
      "\n"
     ]
    },
    {
     "data": {
      "text/plain": [
       "array([[13, 16],\n",
       "       [29, 36]])"
      ]
     },
     "execution_count": 133,
     "metadata": {},
     "output_type": "execute_result"
    }
   ],
   "source": [
    "a = np.array([[1,2],\n",
    "             [3,4]])\n",
    "b = a+2\n",
    "print(a,b, sep=\"\\n\\n\", end=\"\\n\\n\")\n",
    "\n",
    "a.dot(b)"
   ]
  },
  {
   "cell_type": "code",
   "execution_count": 134,
   "metadata": {},
   "outputs": [
    {
     "name": "stdout",
     "output_type": "stream",
     "text": [
      "[[1 2]\n",
      " [3 4]]\n",
      "\n",
      "[[1 3]\n",
      " [2 4]]\n",
      "\n"
     ]
    }
   ],
   "source": [
    "print(a, a.T, sep = \"\\n\\n\", end= \"\\n\\n\")"
   ]
  },
  {
   "cell_type": "code",
   "execution_count": 135,
   "metadata": {},
   "outputs": [
    {
     "data": {
      "text/plain": [
       "array([[ 5, 11],\n",
       "       [11, 25]])"
      ]
     },
     "execution_count": 135,
     "metadata": {},
     "output_type": "execute_result"
    }
   ],
   "source": [
    "a.dot(a.T)"
   ]
  },
  {
   "cell_type": "code",
   "execution_count": 136,
   "metadata": {},
   "outputs": [
    {
     "name": "stdout",
     "output_type": "stream",
     "text": [
      "[[[ 0  1  2]\n",
      "  [ 3  4  5]\n",
      "  [ 6  7  8]]\n",
      "\n",
      " [[ 9 10 11]\n",
      "  [12 13 14]\n",
      "  [15 16 17]]\n",
      "\n",
      " [[18 19 20]\n",
      "  [21 22 23]\n",
      "  [24 25 26]]]\n"
     ]
    },
    {
     "data": {
      "text/plain": [
       "array([[[ 0,  9, 18],\n",
       "        [ 3, 12, 21],\n",
       "        [ 6, 15, 24]],\n",
       "\n",
       "       [[ 1, 10, 19],\n",
       "        [ 4, 13, 22],\n",
       "        [ 7, 16, 25]],\n",
       "\n",
       "       [[ 2, 11, 20],\n",
       "        [ 5, 14, 23],\n",
       "        [ 8, 17, 26]]])"
      ]
     },
     "execution_count": 136,
     "metadata": {},
     "output_type": "execute_result"
    }
   ],
   "source": [
    "a = np.arange(3*3*3).reshape((3,3,3))\n",
    "print(a)\n",
    "a.T"
   ]
  },
  {
   "cell_type": "code",
   "execution_count": 137,
   "metadata": {},
   "outputs": [
    {
     "name": "stdout",
     "output_type": "stream",
     "text": [
      "[[[ 0  1  2]\n",
      "  [ 3  4  5]\n",
      "  [ 6  7  8]]\n",
      "\n",
      " [[ 9 10 11]\n",
      "  [12 13 14]\n",
      "  [15 16 17]]\n",
      "\n",
      " [[18 19 20]\n",
      "  [21 22 23]\n",
      "  [24 25 26]]]\n"
     ]
    },
    {
     "data": {
      "text/plain": [
       "array([[[ 0,  9, 18],\n",
       "        [ 3, 12, 21],\n",
       "        [ 6, 15, 24]],\n",
       "\n",
       "       [[ 1, 10, 19],\n",
       "        [ 4, 13, 22],\n",
       "        [ 7, 16, 25]],\n",
       "\n",
       "       [[ 2, 11, 20],\n",
       "        [ 5, 14, 23],\n",
       "        [ 8, 17, 26]]])"
      ]
     },
     "execution_count": 137,
     "metadata": {},
     "output_type": "execute_result"
    }
   ],
   "source": [
    "a = np.arange(3*3*3).reshape((3,3,3))\n",
    "print(a)\n",
    "a.transpose(2,1,0)"
   ]
  },
  {
   "cell_type": "code",
   "execution_count": 138,
   "metadata": {},
   "outputs": [
    {
     "name": "stdout",
     "output_type": "stream",
     "text": [
      "[[[ 0  1  2]\n",
      "  [ 3  4  5]\n",
      "  [ 6  7  8]]\n",
      "\n",
      " [[ 9 10 11]\n",
      "  [12 13 14]\n",
      "  [15 16 17]]\n",
      "\n",
      " [[18 19 20]\n",
      "  [21 22 23]\n",
      "  [24 25 26]]]\n"
     ]
    },
    {
     "data": {
      "text/plain": [
       "array([[[ 0,  3,  6],\n",
       "        [ 1,  4,  7],\n",
       "        [ 2,  5,  8]],\n",
       "\n",
       "       [[ 9, 12, 15],\n",
       "        [10, 13, 16],\n",
       "        [11, 14, 17]],\n",
       "\n",
       "       [[18, 21, 24],\n",
       "        [19, 22, 25],\n",
       "        [20, 23, 26]]])"
      ]
     },
     "execution_count": 138,
     "metadata": {},
     "output_type": "execute_result"
    }
   ],
   "source": [
    "a = np.arange(3*3*3).reshape((3,3,3))\n",
    "print(a)\n",
    "#a.reshape(a.shape[2], a.shape[1])\n",
    "a.swapaxes(2,1)"
   ]
  },
  {
   "cell_type": "markdown",
   "metadata": {},
   "source": [
    "# Table 4-3. Unary ufuncs"
   ]
  },
  {
   "cell_type": "code",
   "execution_count": 139,
   "metadata": {},
   "outputs": [
    {
     "data": {
      "text/plain": [
       "array([ 7,  8, 20,  2,  3, 20])"
      ]
     },
     "execution_count": 139,
     "metadata": {},
     "output_type": "execute_result"
    }
   ],
   "source": [
    "a = np.array([7,8,-20,2,-3,20])\n",
    "np.abs(a) \n",
    "# return Absulote numbers eg: gradient decent optimizer /diatance"
   ]
  },
  {
   "cell_type": "code",
   "execution_count": 140,
   "metadata": {},
   "outputs": [
    {
     "data": {
      "text/plain": [
       "array([ 7.,  8., 20.,  2.,  3., 20.])"
      ]
     },
     "execution_count": 140,
     "metadata": {},
     "output_type": "execute_result"
    }
   ],
   "source": [
    "a = np.array([7,8,-20,2,-3,20])\n",
    "np.fabs(a)"
   ]
  },
  {
   "cell_type": "code",
   "execution_count": 141,
   "metadata": {},
   "outputs": [
    {
     "data": {
      "text/plain": [
       "array([36., 25., 16.])"
      ]
     },
     "execution_count": 141,
     "metadata": {},
     "output_type": "execute_result"
    }
   ],
   "source": [
    "a = np.array([36,25,16])\n",
    "np.fabs(a)"
   ]
  },
  {
   "cell_type": "code",
   "execution_count": 142,
   "metadata": {},
   "outputs": [
    {
     "data": {
      "text/plain": [
       "array([ 49,  64, 400,   4,   9, 400])"
      ]
     },
     "execution_count": 142,
     "metadata": {},
     "output_type": "execute_result"
    }
   ],
   "source": [
    "a = np.array([7,8,-20,2,-3,20])\n",
    "np.square(a)"
   ]
  },
  {
   "cell_type": "code",
   "execution_count": 143,
   "metadata": {},
   "outputs": [],
   "source": [
    "# Example of Eular Formula"
   ]
  },
  {
   "cell_type": "code",
   "execution_count": 144,
   "metadata": {},
   "outputs": [
    {
     "data": {
      "text/plain": [
       "array([1.09663316e+03, 2.98095799e+03, 2.06115362e-09, 7.38905610e+00,\n",
       "       4.97870684e-02, 4.85165195e+08])"
      ]
     },
     "execution_count": 144,
     "metadata": {},
     "output_type": "execute_result"
    }
   ],
   "source": [
    "np.exp(a)"
   ]
  },
  {
   "cell_type": "code",
   "execution_count": 145,
   "metadata": {},
   "outputs": [
    {
     "data": {
      "text/plain": [
       "array([3., 3., 3., 3.])"
      ]
     },
     "execution_count": 145,
     "metadata": {},
     "output_type": "execute_result"
    }
   ],
   "source": [
    "a = np.array([2.3, 2.1,2.9, 2.8])\n",
    "np.ceil(a)"
   ]
  },
  {
   "cell_type": "code",
   "execution_count": 146,
   "metadata": {},
   "outputs": [
    {
     "data": {
      "text/plain": [
       "array([2., 2., 2., 2.])"
      ]
     },
     "execution_count": 146,
     "metadata": {},
     "output_type": "execute_result"
    }
   ],
   "source": [
    "a = np.array([2.3, 2.1,2.9, 2.8])\n",
    "np.floor(a)"
   ]
  },
  {
   "cell_type": "code",
   "execution_count": 147,
   "metadata": {},
   "outputs": [
    {
     "name": "stdout",
     "output_type": "stream",
     "text": [
      "2 8\n",
      "9 7\n",
      "5 9\n"
     ]
    }
   ],
   "source": [
    "a = np.array([2.8, 9.7, 5.9])\n",
    "for i in a:\n",
    "    i = str(i).split(\".\")\n",
    "    print(i[0], i[1])"
   ]
  },
  {
   "cell_type": "code",
   "execution_count": 148,
   "metadata": {},
   "outputs": [
    {
     "name": "stdout",
     "output_type": "stream",
     "text": [
      "[2. 9. 5.]\n",
      "[0.8 0.7 0.9]\n"
     ]
    }
   ],
   "source": [
    "a = np.array([2.8, 9.7, 5.9])\n",
    "f, w = np.modf(a)\n",
    "print(w,f, sep=\"\\n\")"
   ]
  },
  {
   "cell_type": "code",
   "execution_count": 149,
   "metadata": {},
   "outputs": [
    {
     "data": {
      "text/plain": [
       "True"
      ]
     },
     "execution_count": 149,
     "metadata": {},
     "output_type": "execute_result"
    }
   ],
   "source": [
    "np.isnan(np.nan)"
   ]
  },
  {
   "cell_type": "code",
   "execution_count": 150,
   "metadata": {},
   "outputs": [
    {
     "data": {
      "text/plain": [
       "array([3, 3, 5, 7])"
      ]
     },
     "execution_count": 150,
     "metadata": {},
     "output_type": "execute_result"
    }
   ],
   "source": [
    "a = np.array([1,3,5,7])\n",
    "b = np.array([3,2,2,1])\n",
    "\n",
    "np.maximum(a,b)"
   ]
  },
  {
   "cell_type": "code",
   "execution_count": 151,
   "metadata": {},
   "outputs": [
    {
     "data": {
      "text/plain": [
       "array([3, 3, 5, 7])"
      ]
     },
     "execution_count": 151,
     "metadata": {},
     "output_type": "execute_result"
    }
   ],
   "source": [
    "np.fmax(a,b)"
   ]
  },
  {
   "cell_type": "code",
   "execution_count": 152,
   "metadata": {},
   "outputs": [
    {
     "name": "stdout",
     "output_type": "stream",
     "text": [
      "\u001b[1;31mCall signature:\u001b[0m  \u001b[0mnp\u001b[0m\u001b[1;33m.\u001b[0m\u001b[0mfmax\u001b[0m\u001b[1;33m(\u001b[0m\u001b[1;33m*\u001b[0m\u001b[0margs\u001b[0m\u001b[1;33m,\u001b[0m \u001b[1;33m**\u001b[0m\u001b[0mkwargs\u001b[0m\u001b[1;33m)\u001b[0m\u001b[1;33m\u001b[0m\u001b[1;33m\u001b[0m\u001b[0m\n",
      "\u001b[1;31mType:\u001b[0m            ufunc\n",
      "\u001b[1;31mString form:\u001b[0m     <ufunc 'fmax'>\n",
      "\u001b[1;31mFile:\u001b[0m            c:\\users\\hassan\\appdata\\local\\programs\\python\\python310\\lib\\site-packages\\numpy\\__init__.py\n",
      "\u001b[1;31mDocstring:\u001b[0m      \n",
      "fmax(x1, x2, /, out=None, *, where=True, casting='same_kind', order='K', dtype=None, subok=True[, signature, extobj])\n",
      "\n",
      "Element-wise maximum of array elements.\n",
      "\n",
      "Compare two arrays and returns a new array containing the element-wise\n",
      "maxima. If one of the elements being compared is a NaN, then the\n",
      "non-nan element is returned. If both elements are NaNs then the first\n",
      "is returned.  The latter distinction is important for complex NaNs,\n",
      "which are defined as at least one of the real or imaginary parts being\n",
      "a NaN. The net effect is that NaNs are ignored when possible.\n",
      "\n",
      "Parameters\n",
      "----------\n",
      "x1, x2 : array_like\n",
      "    The arrays holding the elements to be compared.\n",
      "    If ``x1.shape != x2.shape``, they must be broadcastable to a common\n",
      "    shape (which becomes the shape of the output).\n",
      "out : ndarray, None, or tuple of ndarray and None, optional\n",
      "    A location into which the result is stored. If provided, it must have\n",
      "    a shape that the inputs broadcast to. If not provided or None,\n",
      "    a freshly-allocated array is returned. A tuple (possible only as a\n",
      "    keyword argument) must have length equal to the number of outputs.\n",
      "where : array_like, optional\n",
      "    This condition is broadcast over the input. At locations where the\n",
      "    condition is True, the `out` array will be set to the ufunc result.\n",
      "    Elsewhere, the `out` array will retain its original value.\n",
      "    Note that if an uninitialized `out` array is created via the default\n",
      "    ``out=None``, locations within it where the condition is False will\n",
      "    remain uninitialized.\n",
      "**kwargs\n",
      "    For other keyword-only arguments, see the\n",
      "    :ref:`ufunc docs <ufuncs.kwargs>`.\n",
      "\n",
      "Returns\n",
      "-------\n",
      "y : ndarray or scalar\n",
      "    The maximum of `x1` and `x2`, element-wise.\n",
      "    This is a scalar if both `x1` and `x2` are scalars.\n",
      "\n",
      "See Also\n",
      "--------\n",
      "fmin :\n",
      "    Element-wise minimum of two arrays, ignores NaNs.\n",
      "maximum :\n",
      "    Element-wise maximum of two arrays, propagates NaNs.\n",
      "amax :\n",
      "    The maximum value of an array along a given axis, propagates NaNs.\n",
      "nanmax :\n",
      "    The maximum value of an array along a given axis, ignores NaNs.\n",
      "\n",
      "minimum, amin, nanmin\n",
      "\n",
      "Notes\n",
      "-----\n",
      ".. versionadded:: 1.3.0\n",
      "\n",
      "The fmax is equivalent to ``np.where(x1 >= x2, x1, x2)`` when neither\n",
      "x1 nor x2 are NaNs, but it is faster and does proper broadcasting.\n",
      "\n",
      "Examples\n",
      "--------\n",
      ">>> np.fmax([2, 3, 4], [1, 5, 2])\n",
      "array([ 2.,  5.,  4.])\n",
      "\n",
      ">>> np.fmax(np.eye(2), [0.5, 2])\n",
      "array([[ 1. ,  2. ],\n",
      "       [ 0.5,  2. ]])\n",
      "\n",
      ">>> np.fmax([np.nan, 0, np.nan],[0, np.nan, np.nan])\n",
      "array([ 0.,  0., nan])\n",
      "\u001b[1;31mClass docstring:\u001b[0m\n",
      "Functions that operate element by element on whole arrays.\n",
      "\n",
      "To see the documentation for a specific ufunc, use `info`.  For\n",
      "example, ``np.info(np.sin)``.  Because ufuncs are written in C\n",
      "(for speed) and linked into Python with NumPy's ufunc facility,\n",
      "Python's help() function finds this page whenever help() is called\n",
      "on a ufunc.\n",
      "\n",
      "A detailed explanation of ufuncs can be found in the docs for :ref:`ufuncs`.\n",
      "\n",
      "**Calling ufuncs:** ``op(*x[, out], where=True, **kwargs)``\n",
      "\n",
      "Apply `op` to the arguments `*x` elementwise, broadcasting the arguments.\n",
      "\n",
      "The broadcasting rules are:\n",
      "\n",
      "* Dimensions of length 1 may be prepended to either array.\n",
      "* Arrays may be repeated along dimensions of length 1.\n",
      "\n",
      "Parameters\n",
      "----------\n",
      "*x : array_like\n",
      "    Input arrays.\n",
      "out : ndarray, None, or tuple of ndarray and None, optional\n",
      "    Alternate array object(s) in which to put the result; if provided, it\n",
      "    must have a shape that the inputs broadcast to. A tuple of arrays\n",
      "    (possible only as a keyword argument) must have length equal to the\n",
      "    number of outputs; use None for uninitialized outputs to be\n",
      "    allocated by the ufunc.\n",
      "where : array_like, optional\n",
      "    This condition is broadcast over the input. At locations where the\n",
      "    condition is True, the `out` array will be set to the ufunc result.\n",
      "    Elsewhere, the `out` array will retain its original value.\n",
      "    Note that if an uninitialized `out` array is created via the default\n",
      "    ``out=None``, locations within it where the condition is False will\n",
      "    remain uninitialized.\n",
      "**kwargs\n",
      "    For other keyword-only arguments, see the :ref:`ufunc docs <ufuncs.kwargs>`.\n",
      "\n",
      "Returns\n",
      "-------\n",
      "r : ndarray or tuple of ndarray\n",
      "    `r` will have the shape that the arrays in `x` broadcast to; if `out` is\n",
      "    provided, it will be returned. If not, `r` will be allocated and\n",
      "    may contain uninitialized values. If the function has more than one\n",
      "    output, then the result will be a tuple of arrays.\n"
     ]
    }
   ],
   "source": [
    "np.fmax??"
   ]
  },
  {
   "cell_type": "markdown",
   "metadata": {},
   "source": [
    "# 4.3 Array-Oriented Programming with Arrays"
   ]
  },
  {
   "cell_type": "code",
   "execution_count": 153,
   "metadata": {},
   "outputs": [
    {
     "name": "stdout",
     "output_type": "stream",
     "text": [
      "[ 0  1  2  3  4  5  6  7  8  9 10 11]\n"
     ]
    }
   ],
   "source": [
    "a = np.arange(4*3)\n",
    "print(a)"
   ]
  },
  {
   "cell_type": "code",
   "execution_count": 154,
   "metadata": {},
   "outputs": [
    {
     "data": {
      "text/plain": [
       "[array([[ 0,  1,  2,  3,  4,  5,  6,  7,  8,  9, 10, 11],\n",
       "        [ 0,  1,  2,  3,  4,  5,  6,  7,  8,  9, 10, 11],\n",
       "        [ 0,  1,  2,  3,  4,  5,  6,  7,  8,  9, 10, 11],\n",
       "        [ 0,  1,  2,  3,  4,  5,  6,  7,  8,  9, 10, 11],\n",
       "        [ 0,  1,  2,  3,  4,  5,  6,  7,  8,  9, 10, 11],\n",
       "        [ 0,  1,  2,  3,  4,  5,  6,  7,  8,  9, 10, 11],\n",
       "        [ 0,  1,  2,  3,  4,  5,  6,  7,  8,  9, 10, 11],\n",
       "        [ 0,  1,  2,  3,  4,  5,  6,  7,  8,  9, 10, 11],\n",
       "        [ 0,  1,  2,  3,  4,  5,  6,  7,  8,  9, 10, 11],\n",
       "        [ 0,  1,  2,  3,  4,  5,  6,  7,  8,  9, 10, 11],\n",
       "        [ 0,  1,  2,  3,  4,  5,  6,  7,  8,  9, 10, 11],\n",
       "        [ 0,  1,  2,  3,  4,  5,  6,  7,  8,  9, 10, 11]]),\n",
       " array([[ 0,  0,  0,  0,  0,  0,  0,  0,  0,  0,  0,  0],\n",
       "        [ 1,  1,  1,  1,  1,  1,  1,  1,  1,  1,  1,  1],\n",
       "        [ 2,  2,  2,  2,  2,  2,  2,  2,  2,  2,  2,  2],\n",
       "        [ 3,  3,  3,  3,  3,  3,  3,  3,  3,  3,  3,  3],\n",
       "        [ 4,  4,  4,  4,  4,  4,  4,  4,  4,  4,  4,  4],\n",
       "        [ 5,  5,  5,  5,  5,  5,  5,  5,  5,  5,  5,  5],\n",
       "        [ 6,  6,  6,  6,  6,  6,  6,  6,  6,  6,  6,  6],\n",
       "        [ 7,  7,  7,  7,  7,  7,  7,  7,  7,  7,  7,  7],\n",
       "        [ 8,  8,  8,  8,  8,  8,  8,  8,  8,  8,  8,  8],\n",
       "        [ 9,  9,  9,  9,  9,  9,  9,  9,  9,  9,  9,  9],\n",
       "        [10, 10, 10, 10, 10, 10, 10, 10, 10, 10, 10, 10],\n",
       "        [11, 11, 11, 11, 11, 11, 11, 11, 11, 11, 11, 11]])]"
      ]
     },
     "execution_count": 154,
     "metadata": {},
     "output_type": "execute_result"
    }
   ],
   "source": [
    "np.meshgrid(a,a)"
   ]
  },
  {
   "cell_type": "markdown",
   "metadata": {},
   "source": [
    "# Expressing Conditional Logic as Array Operations"
   ]
  },
  {
   "cell_type": "markdown",
   "metadata": {},
   "source": [
    "#### np.wher(condition, value_true, value_false)"
   ]
  },
  {
   "cell_type": "code",
   "execution_count": 155,
   "metadata": {},
   "outputs": [
    {
     "data": {
      "text/plain": [
       "array([[ 0,  1,  2,  3],\n",
       "       [ 4,  5,  6,  7],\n",
       "       [ 8,  9, 10, 11],\n",
       "       [12, 13, 14, 15],\n",
       "       [16, 17, 18, 19],\n",
       "       [20, 21, 22, 23],\n",
       "       [24, 25, 26, 27],\n",
       "       [28, 29, 30, 31]])"
      ]
     },
     "execution_count": 155,
     "metadata": {},
     "output_type": "execute_result"
    }
   ],
   "source": [
    "a = np.arange(8*4).reshape((8,4))\n",
    "a"
   ]
  },
  {
   "cell_type": "code",
   "execution_count": 156,
   "metadata": {},
   "outputs": [],
   "source": [
    "# np.where(condition, True_block, False_block)"
   ]
  },
  {
   "cell_type": "code",
   "execution_count": 157,
   "metadata": {},
   "outputs": [
    {
     "data": {
      "text/plain": [
       "array([['Yes', 'No', 'No', 'Yes'],\n",
       "       ['No', 'No', 'Yes', 'No'],\n",
       "       ['No', 'Yes', 'No', 'No'],\n",
       "       ['Yes', 'No', 'No', 'Yes'],\n",
       "       ['No', 'No', 'Yes', 'No'],\n",
       "       ['No', 'Yes', 'No', 'No'],\n",
       "       ['Yes', 'No', 'No', 'Yes'],\n",
       "       ['No', 'No', 'Yes', 'No']], dtype='<U3')"
      ]
     },
     "execution_count": 157,
     "metadata": {},
     "output_type": "execute_result"
    }
   ],
   "source": [
    "np.where(a%3 == 0, \"Yes\",\"No\")"
   ]
  },
  {
   "cell_type": "code",
   "execution_count": 158,
   "metadata": {},
   "outputs": [
    {
     "data": {
      "text/plain": [
       "array([[ 0,  0,  0,  3],\n",
       "       [ 0,  0,  6,  0],\n",
       "       [ 0,  9,  0,  0],\n",
       "       [12,  0,  0, 15],\n",
       "       [ 0,  0, 18,  0],\n",
       "       [ 0, 21,  0,  0],\n",
       "       [24,  0,  0, 27],\n",
       "       [ 0,  0, 30,  0]])"
      ]
     },
     "execution_count": 158,
     "metadata": {},
     "output_type": "execute_result"
    }
   ],
   "source": [
    "np.where(a%3 == 0, a,0)"
   ]
  },
  {
   "cell_type": "code",
   "execution_count": 159,
   "metadata": {},
   "outputs": [
    {
     "data": {
      "text/plain": [
       "[[-1, 0, 1], [-1, 0, 1], [-1, 0, 1]]"
      ]
     },
     "execution_count": 159,
     "metadata": {},
     "output_type": "execute_result"
    }
   ],
   "source": [
    "[[-1,0,1],\n",
    "[-1,0,1],\n",
    "[-1,0,1]] #kam black xiada white"
   ]
  },
  {
   "cell_type": "code",
   "execution_count": 160,
   "metadata": {},
   "outputs": [
    {
     "data": {
      "text/plain": [
       "array([3, 3, 5, 7])"
      ]
     },
     "execution_count": 160,
     "metadata": {},
     "output_type": "execute_result"
    }
   ],
   "source": [
    "a = np.array([1,3,5,7])\n",
    "b = np.array([3,2,2,1])\n",
    "\n",
    "np.where(a>b, a, b)"
   ]
  },
  {
   "cell_type": "markdown",
   "metadata": {},
   "source": [
    "# Mathematical and Statistical Methods"
   ]
  },
  {
   "cell_type": "code",
   "execution_count": 161,
   "metadata": {},
   "outputs": [
    {
     "data": {
      "text/plain": [
       "array([[ 0,  1,  2,  3],\n",
       "       [ 4,  5,  6,  7],\n",
       "       [ 8,  9, 10, 11]])"
      ]
     },
     "execution_count": 161,
     "metadata": {},
     "output_type": "execute_result"
    }
   ],
   "source": [
    "a = np.arange(3*4).reshape((3,4))\n",
    "a"
   ]
  },
  {
   "cell_type": "code",
   "execution_count": 162,
   "metadata": {},
   "outputs": [
    {
     "data": {
      "text/plain": [
       "66"
      ]
     },
     "execution_count": 162,
     "metadata": {},
     "output_type": "execute_result"
    }
   ],
   "source": [
    "np.sum(a)"
   ]
  },
  {
   "cell_type": "code",
   "execution_count": 163,
   "metadata": {},
   "outputs": [
    {
     "name": "stdout",
     "output_type": "stream",
     "text": [
      "[[ 0  1  2  3]\n",
      " [ 4  5  6  7]\n",
      " [ 8  9 10 11]]\n"
     ]
    },
    {
     "data": {
      "text/plain": [
       "array([12, 15, 18, 21])"
      ]
     },
     "execution_count": 163,
     "metadata": {},
     "output_type": "execute_result"
    }
   ],
   "source": [
    "print(a)\n",
    "np.sum(a, axis=0)"
   ]
  },
  {
   "cell_type": "code",
   "execution_count": 164,
   "metadata": {},
   "outputs": [
    {
     "name": "stdout",
     "output_type": "stream",
     "text": [
      "[[ 0  1  2  3]\n",
      " [ 4  5  6  7]\n",
      " [ 8  9 10 11]]\n"
     ]
    },
    {
     "data": {
      "text/plain": [
       "array([ 6, 22, 38])"
      ]
     },
     "execution_count": 164,
     "metadata": {},
     "output_type": "execute_result"
    }
   ],
   "source": [
    "print(a)\n",
    "np.sum(a, axis=1)"
   ]
  },
  {
   "cell_type": "markdown",
   "metadata": {},
   "source": [
    "##### Broad Casting"
   ]
  },
  {
   "cell_type": "code",
   "execution_count": 165,
   "metadata": {},
   "outputs": [
    {
     "name": "stdout",
     "output_type": "stream",
     "text": [
      "[[ 0  1  2  3  4]\n",
      " [ 5  6  7  8  9]\n",
      " [10 11 12 13 14]\n",
      " [15 16 17 18 19]\n",
      " [20 21 22 23 24]]\n"
     ]
    },
    {
     "data": {
      "text/plain": [
       "array([[ 5,  6,  7,  8,  9],\n",
       "       [10, 11, 12, 13, 14],\n",
       "       [15, 16, 17, 18, 19],\n",
       "       [20, 21, 22, 23, 24],\n",
       "       [25, 26, 27, 28, 29]])"
      ]
     },
     "execution_count": 165,
     "metadata": {},
     "output_type": "execute_result"
    }
   ],
   "source": [
    "a = np.arange(5*5).reshape((5,5))\n",
    "print(a)\n",
    "a + 5"
   ]
  },
  {
   "cell_type": "code",
   "execution_count": 166,
   "metadata": {},
   "outputs": [
    {
     "name": "stdout",
     "output_type": "stream",
     "text": [
      "[[ 0  1  2  3  4]\n",
      " [ 5  6  7  8  9]\n",
      " [10 11 12 13 14]\n",
      " [15 16 17 18 19]\n",
      " [20 21 22 23 24]]\n",
      "\n",
      "[[5 5 5 5 5]\n",
      " [5 5 5 5 5]\n",
      " [5 5 5 5 5]\n",
      " [5 5 5 5 5]\n",
      " [5 5 5 5 5]]\n"
     ]
    },
    {
     "data": {
      "text/plain": [
       "array([[ 5,  6,  7,  8,  9],\n",
       "       [10, 11, 12, 13, 14],\n",
       "       [15, 16, 17, 18, 19],\n",
       "       [20, 21, 22, 23, 24],\n",
       "       [25, 26, 27, 28, 29]])"
      ]
     },
     "execution_count": 166,
     "metadata": {},
     "output_type": "execute_result"
    }
   ],
   "source": [
    "a = np.arange(5*5).reshape((5,5))\n",
    "b = np.full_like(a, 5)\n",
    "print(a,b,sep=\"\\n\\n\")\n",
    "a + b"
   ]
  },
  {
   "cell_type": "markdown",
   "metadata": {},
   "source": [
    "## stacking"
   ]
  },
  {
   "cell_type": "code",
   "execution_count": 167,
   "metadata": {},
   "outputs": [],
   "source": [
    "# stacking ->axis 0, 1\n",
    "# vstack\n",
    "# columnstack\n",
    "# rowstack\n",
    "# hstack\n",
    "# block\n",
    "# dstack"
   ]
  },
  {
   "cell_type": "markdown",
   "metadata": {},
   "source": [
    "#### split"
   ]
  },
  {
   "cell_type": "code",
   "execution_count": 168,
   "metadata": {},
   "outputs": [],
   "source": [
    "# split\n",
    "# dsplit"
   ]
  },
  {
   "cell_type": "markdown",
   "metadata": {},
   "source": [
    "# > Stackig"
   ]
  },
  {
   "cell_type": "code",
   "execution_count": 169,
   "metadata": {},
   "outputs": [
    {
     "name": "stdout",
     "output_type": "stream",
     "text": [
      "[6 2 6 3 5 6 9 1 3 1]\n",
      "[11  7 11  8 10 11 14  6  8  6]\n",
      "10 10\n"
     ]
    }
   ],
   "source": [
    "import numpy as np\n",
    "a = np.random.randint(1,10, size=10)\n",
    "b = a + 5\n",
    "print(a, b, sep='\\n')\n",
    "print(len(a),len(b))"
   ]
  },
  {
   "cell_type": "code",
   "execution_count": 170,
   "metadata": {},
   "outputs": [
    {
     "name": "stdout",
     "output_type": "stream",
     "text": [
      "[6 2 6 3 5 6 9 1 3 1]\n",
      "\n",
      "[11  7 11  8 10 11 14  6  8  6]\n"
     ]
    }
   ],
   "source": [
    "print(a,b, sep='\\n\\n')"
   ]
  },
  {
   "cell_type": "code",
   "execution_count": 171,
   "metadata": {},
   "outputs": [
    {
     "name": "stdout",
     "output_type": "stream",
     "text": [
      "[6 2 6 3 5 6 9 1 3 1]\n",
      "\n",
      "[11  7 11  8 10 11 14  6  8  6]\n"
     ]
    },
    {
     "data": {
      "text/plain": [
       "array([[ 6,  2,  6,  3,  5,  6,  9,  1,  3,  1],\n",
       "       [11,  7, 11,  8, 10, 11, 14,  6,  8,  6]])"
      ]
     },
     "execution_count": 171,
     "metadata": {},
     "output_type": "execute_result"
    }
   ],
   "source": [
    "print(a,b, sep='\\n\\n')\n",
    "np.stack((a,b), axis=0)"
   ]
  },
  {
   "cell_type": "code",
   "execution_count": 172,
   "metadata": {},
   "outputs": [
    {
     "name": "stdout",
     "output_type": "stream",
     "text": [
      "[6 2 6 3 5 6 9 1 3 1]\n",
      "\n",
      "[11  7 11  8 10 11 14  6  8  6]\n"
     ]
    },
    {
     "data": {
      "text/plain": [
       "array([[ 6, 11],\n",
       "       [ 2,  7],\n",
       "       [ 6, 11],\n",
       "       [ 3,  8],\n",
       "       [ 5, 10],\n",
       "       [ 6, 11],\n",
       "       [ 9, 14],\n",
       "       [ 1,  6],\n",
       "       [ 3,  8],\n",
       "       [ 1,  6]])"
      ]
     },
     "execution_count": 172,
     "metadata": {},
     "output_type": "execute_result"
    }
   ],
   "source": [
    "print(a,b, sep='\\n\\n')\n",
    "np.stack((a,b), axis=1)"
   ]
  },
  {
   "cell_type": "code",
   "execution_count": 173,
   "metadata": {},
   "outputs": [
    {
     "data": {
      "text/plain": [
       "array([[ 6, 11],\n",
       "       [ 2,  7],\n",
       "       [ 6, 11],\n",
       "       [ 3,  8],\n",
       "       [ 5, 10],\n",
       "       [ 6, 11],\n",
       "       [ 9, 14],\n",
       "       [ 1,  6],\n",
       "       [ 3,  8],\n",
       "       [ 1,  6]])"
      ]
     },
     "execution_count": 173,
     "metadata": {},
     "output_type": "execute_result"
    }
   ],
   "source": [
    "# np.stack((a,b), axis=1)\n",
    "np.column_stack((a,b))"
   ]
  },
  {
   "cell_type": "code",
   "execution_count": 174,
   "metadata": {},
   "outputs": [
    {
     "data": {
      "text/plain": [
       "array([[ 6,  2,  6,  3,  5,  6,  9,  1,  3,  1],\n",
       "       [11,  7, 11,  8, 10, 11, 14,  6,  8,  6]])"
      ]
     },
     "execution_count": 174,
     "metadata": {},
     "output_type": "execute_result"
    }
   ],
   "source": [
    "np.stack((a,b), axis=0)"
   ]
  },
  {
   "cell_type": "code",
   "execution_count": 175,
   "metadata": {},
   "outputs": [
    {
     "data": {
      "text/plain": [
       "array([[ 6,  2,  6,  3,  5,  6,  9,  1,  3,  1],\n",
       "       [11,  7, 11,  8, 10, 11, 14,  6,  8,  6]])"
      ]
     },
     "execution_count": 175,
     "metadata": {},
     "output_type": "execute_result"
    }
   ],
   "source": [
    "np.vstack((a,b))"
   ]
  },
  {
   "cell_type": "code",
   "execution_count": 176,
   "metadata": {},
   "outputs": [
    {
     "data": {
      "text/plain": [
       "array([[ 6,  2,  6,  3,  5,  6,  9,  1,  3,  1],\n",
       "       [11,  7, 11,  8, 10, 11, 14,  6,  8,  6]])"
      ]
     },
     "execution_count": 176,
     "metadata": {},
     "output_type": "execute_result"
    }
   ],
   "source": [
    "# \n",
    "# \n",
    "np.row_stack((a,b))"
   ]
  },
  {
   "cell_type": "code",
   "execution_count": 177,
   "metadata": {},
   "outputs": [
    {
     "data": {
      "text/plain": [
       "array([ 6,  2,  6,  3,  5,  6,  9,  1,  3,  1, 11,  7, 11,  8, 10, 11, 14,\n",
       "        6,  8,  6])"
      ]
     },
     "execution_count": 177,
     "metadata": {},
     "output_type": "execute_result"
    }
   ],
   "source": [
    "np.hstack((a,b))"
   ]
  },
  {
   "cell_type": "code",
   "execution_count": 178,
   "metadata": {},
   "outputs": [
    {
     "data": {
      "text/plain": [
       "array([[ 6,  2,  6,  3,  5,  6,  9,  1,  3,  1],\n",
       "       [11,  7, 11,  8, 10, 11, 14,  6,  8,  6]])"
      ]
     },
     "execution_count": 178,
     "metadata": {},
     "output_type": "execute_result"
    }
   ],
   "source": [
    "np.vstack((a,b))"
   ]
  },
  {
   "cell_type": "code",
   "execution_count": 179,
   "metadata": {},
   "outputs": [
    {
     "name": "stdout",
     "output_type": "stream",
     "text": [
      "[11  7 11  8 10 11 14  6  8  6]\n",
      "\n",
      "[[0 1 2]\n",
      " [3 4 5]\n",
      " [6 7 8]]\n"
     ]
    }
   ],
   "source": [
    "b = np.arange(3*3).reshape((3,3)) \n",
    "a = a + 5\n",
    "print(a, b, sep='\\n\\n')"
   ]
  },
  {
   "cell_type": "code",
   "execution_count": 180,
   "metadata": {},
   "outputs": [
    {
     "name": "stdout",
     "output_type": "stream",
     "text": [
      "[7 9 3 6 8 7 3 8 5 1]\n",
      "[12 14  8 11 13 12  8 13 10  6]\n",
      "10 10\n"
     ]
    }
   ],
   "source": [
    "import numpy as np\n",
    "a = np.random.randint(1,10, size=10)\n",
    "b = a + 5\n",
    "print(a, b, sep='\\n')\n",
    "print(len(a),len(b))"
   ]
  },
  {
   "cell_type": "code",
   "execution_count": 181,
   "metadata": {},
   "outputs": [
    {
     "data": {
      "text/plain": [
       "array([[ 7,  9,  3,  6,  8,  7,  3,  8,  5,  1],\n",
       "       [12, 14,  8, 11, 13, 12,  8, 13, 10,  6]])"
      ]
     },
     "execution_count": 181,
     "metadata": {},
     "output_type": "execute_result"
    }
   ],
   "source": [
    "np.vstack((a,b)) # vertically nechy aye ga student ka data"
   ]
  },
  {
   "cell_type": "code",
   "execution_count": 182,
   "metadata": {},
   "outputs": [
    {
     "data": {
      "text/plain": [
       "array([ 7,  9,  3,  6,  8,  7,  3,  8,  5,  1, 12, 14,  8, 11, 13, 12,  8,\n",
       "       13, 10,  6])"
      ]
     },
     "execution_count": 182,
     "metadata": {},
     "output_type": "execute_result"
    }
   ],
   "source": [
    "np.hstack((a,b)) # horizentally mila dy ga "
   ]
  },
  {
   "cell_type": "code",
   "execution_count": 183,
   "metadata": {},
   "outputs": [
    {
     "data": {
      "text/plain": [
       "array([[ 7, 12],\n",
       "       [ 9, 14],\n",
       "       [ 3,  8],\n",
       "       [ 6, 11],\n",
       "       [ 8, 13],\n",
       "       [ 7, 12],\n",
       "       [ 3,  8],\n",
       "       [ 8, 13],\n",
       "       [ 5, 10],\n",
       "       [ 1,  6]])"
      ]
     },
     "execution_count": 183,
     "metadata": {},
     "output_type": "execute_result"
    }
   ],
   "source": [
    "np.column_stack((a,b))"
   ]
  },
  {
   "cell_type": "code",
   "execution_count": 184,
   "metadata": {},
   "outputs": [
    {
     "name": "stdout",
     "output_type": "stream",
     "text": [
      "[[[0 1]\n",
      "  [2 3]]\n",
      "\n",
      " [[4 5]\n",
      "  [6 7]]]\n",
      "->SecondArray->\n",
      "[[[ 7  8]\n",
      "  [ 9 10]]\n",
      "\n",
      " [[11 12]\n",
      "  [13 14]]]\n"
     ]
    },
    {
     "data": {
      "text/plain": [
       "array([[[ 0,  1,  7,  8],\n",
       "        [ 2,  3,  9, 10]],\n",
       "\n",
       "       [[ 4,  5, 11, 12],\n",
       "        [ 6,  7, 13, 14]]])"
      ]
     },
     "execution_count": 184,
     "metadata": {},
     "output_type": "execute_result"
    }
   ],
   "source": [
    "a = np.arange(2*2*2).reshape((2,2,2))\n",
    "b = a + 7\n",
    "print(a,b, sep='\\n->SecondArray->\\n')\n",
    "np.dstack((a,b)) # DEPTH STACKING  with slide through depth"
   ]
  },
  {
   "cell_type": "code",
   "execution_count": 185,
   "metadata": {},
   "outputs": [
    {
     "name": "stdout",
     "output_type": "stream",
     "text": [
      "[[[0 1]\n",
      "  [2 3]]\n",
      "\n",
      " [[4 5]\n",
      "  [6 7]]]\n",
      "->SecondArray->\n",
      "[[[ 7  8]\n",
      "  [ 9 10]]\n",
      "\n",
      " [[11 12]\n",
      "  [13 14]]]\n"
     ]
    },
    {
     "data": {
      "text/plain": [
       "array([[[[ 0,  1],\n",
       "         [ 7,  8]],\n",
       "\n",
       "        [[ 2,  3],\n",
       "         [ 9, 10]]],\n",
       "\n",
       "\n",
       "       [[[ 4,  5],\n",
       "         [11, 12]],\n",
       "\n",
       "        [[ 6,  7],\n",
       "         [13, 14]]]])"
      ]
     },
     "execution_count": 185,
     "metadata": {},
     "output_type": "execute_result"
    }
   ],
   "source": [
    "a = np.arange(2*2*2).reshape((2,2,2))\n",
    "b = a + 7\n",
    "print(a,b, sep='\\n->SecondArray->\\n')\n",
    "np.stack((a,b), axis=2)"
   ]
  },
  {
   "cell_type": "code",
   "execution_count": 186,
   "metadata": {},
   "outputs": [
    {
     "name": "stdout",
     "output_type": "stream",
     "text": [
      "\u001b[1;31mSignature:\u001b[0m \u001b[0mnp\u001b[0m\u001b[1;33m.\u001b[0m\u001b[0mstack\u001b[0m\u001b[1;33m(\u001b[0m\u001b[0marrays\u001b[0m\u001b[1;33m,\u001b[0m \u001b[0maxis\u001b[0m\u001b[1;33m=\u001b[0m\u001b[1;36m0\u001b[0m\u001b[1;33m,\u001b[0m \u001b[0mout\u001b[0m\u001b[1;33m=\u001b[0m\u001b[1;32mNone\u001b[0m\u001b[1;33m)\u001b[0m\u001b[1;33m\u001b[0m\u001b[1;33m\u001b[0m\u001b[0m\n",
      "\u001b[1;31mSource:\u001b[0m   \n",
      "\u001b[1;33m@\u001b[0m\u001b[0marray_function_dispatch\u001b[0m\u001b[1;33m(\u001b[0m\u001b[0m_stack_dispatcher\u001b[0m\u001b[1;33m)\u001b[0m\u001b[1;33m\n",
      "\u001b[0m\u001b[1;32mdef\u001b[0m \u001b[0mstack\u001b[0m\u001b[1;33m(\u001b[0m\u001b[0marrays\u001b[0m\u001b[1;33m,\u001b[0m \u001b[0maxis\u001b[0m\u001b[1;33m=\u001b[0m\u001b[1;36m0\u001b[0m\u001b[1;33m,\u001b[0m \u001b[0mout\u001b[0m\u001b[1;33m=\u001b[0m\u001b[1;32mNone\u001b[0m\u001b[1;33m)\u001b[0m\u001b[1;33m:\u001b[0m\u001b[1;33m\n",
      "\u001b[0m    \u001b[1;34m\"\"\"\n",
      "    Join a sequence of arrays along a new axis.\n",
      "\n",
      "    The ``axis`` parameter specifies the index of the new axis in the\n",
      "    dimensions of the result. For example, if ``axis=0`` it will be the first\n",
      "    dimension and if ``axis=-1`` it will be the last dimension.\n",
      "\n",
      "    .. versionadded:: 1.10.0\n",
      "\n",
      "    Parameters\n",
      "    ----------\n",
      "    arrays : sequence of array_like\n",
      "        Each array must have the same shape.\n",
      "\n",
      "    axis : int, optional\n",
      "        The axis in the result array along which the input arrays are stacked.\n",
      "\n",
      "    out : ndarray, optional\n",
      "        If provided, the destination to place the result. The shape must be\n",
      "        correct, matching that of what stack would have returned if no\n",
      "        out argument were specified.\n",
      "\n",
      "    Returns\n",
      "    -------\n",
      "    stacked : ndarray\n",
      "        The stacked array has one more dimension than the input arrays.\n",
      "\n",
      "    See Also\n",
      "    --------\n",
      "    concatenate : Join a sequence of arrays along an existing axis.\n",
      "    block : Assemble an nd-array from nested lists of blocks.\n",
      "    split : Split array into a list of multiple sub-arrays of equal size.\n",
      "\n",
      "    Examples\n",
      "    --------\n",
      "    >>> arrays = [np.random.randn(3, 4) for _ in range(10)]\n",
      "    >>> np.stack(arrays, axis=0).shape\n",
      "    (10, 3, 4)\n",
      "\n",
      "    >>> np.stack(arrays, axis=1).shape\n",
      "    (3, 10, 4)\n",
      "\n",
      "    >>> np.stack(arrays, axis=2).shape\n",
      "    (3, 4, 10)\n",
      "\n",
      "    >>> a = np.array([1, 2, 3])\n",
      "    >>> b = np.array([4, 5, 6])\n",
      "    >>> np.stack((a, b))\n",
      "    array([[1, 2, 3],\n",
      "           [4, 5, 6]])\n",
      "\n",
      "    >>> np.stack((a, b), axis=-1)\n",
      "    array([[1, 4],\n",
      "           [2, 5],\n",
      "           [3, 6]])\n",
      "\n",
      "    \"\"\"\u001b[0m\u001b[1;33m\n",
      "\u001b[0m    \u001b[1;32mif\u001b[0m \u001b[1;32mnot\u001b[0m \u001b[0moverrides\u001b[0m\u001b[1;33m.\u001b[0m\u001b[0mARRAY_FUNCTION_ENABLED\u001b[0m\u001b[1;33m:\u001b[0m\u001b[1;33m\n",
      "\u001b[0m        \u001b[1;31m# raise warning if necessary\u001b[0m\u001b[1;33m\n",
      "\u001b[0m        \u001b[0m_arrays_for_stack_dispatcher\u001b[0m\u001b[1;33m(\u001b[0m\u001b[0marrays\u001b[0m\u001b[1;33m,\u001b[0m \u001b[0mstacklevel\u001b[0m\u001b[1;33m=\u001b[0m\u001b[1;36m2\u001b[0m\u001b[1;33m)\u001b[0m\u001b[1;33m\n",
      "\u001b[0m\u001b[1;33m\n",
      "\u001b[0m    \u001b[0marrays\u001b[0m \u001b[1;33m=\u001b[0m \u001b[1;33m[\u001b[0m\u001b[0masanyarray\u001b[0m\u001b[1;33m(\u001b[0m\u001b[0marr\u001b[0m\u001b[1;33m)\u001b[0m \u001b[1;32mfor\u001b[0m \u001b[0marr\u001b[0m \u001b[1;32min\u001b[0m \u001b[0marrays\u001b[0m\u001b[1;33m]\u001b[0m\u001b[1;33m\n",
      "\u001b[0m    \u001b[1;32mif\u001b[0m \u001b[1;32mnot\u001b[0m \u001b[0marrays\u001b[0m\u001b[1;33m:\u001b[0m\u001b[1;33m\n",
      "\u001b[0m        \u001b[1;32mraise\u001b[0m \u001b[0mValueError\u001b[0m\u001b[1;33m(\u001b[0m\u001b[1;34m'need at least one array to stack'\u001b[0m\u001b[1;33m)\u001b[0m\u001b[1;33m\n",
      "\u001b[0m\u001b[1;33m\n",
      "\u001b[0m    \u001b[0mshapes\u001b[0m \u001b[1;33m=\u001b[0m \u001b[1;33m{\u001b[0m\u001b[0marr\u001b[0m\u001b[1;33m.\u001b[0m\u001b[0mshape\u001b[0m \u001b[1;32mfor\u001b[0m \u001b[0marr\u001b[0m \u001b[1;32min\u001b[0m \u001b[0marrays\u001b[0m\u001b[1;33m}\u001b[0m\u001b[1;33m\n",
      "\u001b[0m    \u001b[1;32mif\u001b[0m \u001b[0mlen\u001b[0m\u001b[1;33m(\u001b[0m\u001b[0mshapes\u001b[0m\u001b[1;33m)\u001b[0m \u001b[1;33m!=\u001b[0m \u001b[1;36m1\u001b[0m\u001b[1;33m:\u001b[0m\u001b[1;33m\n",
      "\u001b[0m        \u001b[1;32mraise\u001b[0m \u001b[0mValueError\u001b[0m\u001b[1;33m(\u001b[0m\u001b[1;34m'all input arrays must have the same shape'\u001b[0m\u001b[1;33m)\u001b[0m\u001b[1;33m\n",
      "\u001b[0m\u001b[1;33m\n",
      "\u001b[0m    \u001b[0mresult_ndim\u001b[0m \u001b[1;33m=\u001b[0m \u001b[0marrays\u001b[0m\u001b[1;33m[\u001b[0m\u001b[1;36m0\u001b[0m\u001b[1;33m]\u001b[0m\u001b[1;33m.\u001b[0m\u001b[0mndim\u001b[0m \u001b[1;33m+\u001b[0m \u001b[1;36m1\u001b[0m\u001b[1;33m\n",
      "\u001b[0m    \u001b[0maxis\u001b[0m \u001b[1;33m=\u001b[0m \u001b[0mnormalize_axis_index\u001b[0m\u001b[1;33m(\u001b[0m\u001b[0maxis\u001b[0m\u001b[1;33m,\u001b[0m \u001b[0mresult_ndim\u001b[0m\u001b[1;33m)\u001b[0m\u001b[1;33m\n",
      "\u001b[0m\u001b[1;33m\n",
      "\u001b[0m    \u001b[0msl\u001b[0m \u001b[1;33m=\u001b[0m \u001b[1;33m(\u001b[0m\u001b[0mslice\u001b[0m\u001b[1;33m(\u001b[0m\u001b[1;32mNone\u001b[0m\u001b[1;33m)\u001b[0m\u001b[1;33m,\u001b[0m\u001b[1;33m)\u001b[0m \u001b[1;33m*\u001b[0m \u001b[0maxis\u001b[0m \u001b[1;33m+\u001b[0m \u001b[1;33m(\u001b[0m\u001b[0m_nx\u001b[0m\u001b[1;33m.\u001b[0m\u001b[0mnewaxis\u001b[0m\u001b[1;33m,\u001b[0m\u001b[1;33m)\u001b[0m\u001b[1;33m\n",
      "\u001b[0m    \u001b[0mexpanded_arrays\u001b[0m \u001b[1;33m=\u001b[0m \u001b[1;33m[\u001b[0m\u001b[0marr\u001b[0m\u001b[1;33m[\u001b[0m\u001b[0msl\u001b[0m\u001b[1;33m]\u001b[0m \u001b[1;32mfor\u001b[0m \u001b[0marr\u001b[0m \u001b[1;32min\u001b[0m \u001b[0marrays\u001b[0m\u001b[1;33m]\u001b[0m\u001b[1;33m\n",
      "\u001b[0m    \u001b[1;32mreturn\u001b[0m \u001b[0m_nx\u001b[0m\u001b[1;33m.\u001b[0m\u001b[0mconcatenate\u001b[0m\u001b[1;33m(\u001b[0m\u001b[0mexpanded_arrays\u001b[0m\u001b[1;33m,\u001b[0m \u001b[0maxis\u001b[0m\u001b[1;33m=\u001b[0m\u001b[0maxis\u001b[0m\u001b[1;33m,\u001b[0m \u001b[0mout\u001b[0m\u001b[1;33m=\u001b[0m\u001b[0mout\u001b[0m\u001b[1;33m)\u001b[0m\u001b[1;33m\u001b[0m\u001b[1;33m\u001b[0m\u001b[0m\n",
      "\u001b[1;31mFile:\u001b[0m      c:\\users\\hassan\\appdata\\local\\programs\\python\\python310\\lib\\site-packages\\numpy\\core\\shape_base.py\n",
      "\u001b[1;31mType:\u001b[0m      function\n"
     ]
    }
   ],
   "source": [
    "np.stack??"
   ]
  },
  {
   "cell_type": "code",
   "execution_count": 187,
   "metadata": {},
   "outputs": [
    {
     "data": {
      "text/plain": [
       "array([[0, 1, 2, 3],\n",
       "       [4, 5, 6, 7]])"
      ]
     },
     "execution_count": 187,
     "metadata": {},
     "output_type": "execute_result"
    }
   ],
   "source": [
    "a.reshape((2,-1))"
   ]
  },
  {
   "cell_type": "markdown",
   "metadata": {},
   "source": [
    "# Split"
   ]
  },
  {
   "cell_type": "code",
   "execution_count": 188,
   "metadata": {},
   "outputs": [
    {
     "name": "stdout",
     "output_type": "stream",
     "text": [
      "[[ 0  1  2  3  4  5]\n",
      " [ 6  7  8  9 10 11]\n",
      " [12 13 14 15 16 17]\n",
      " [18 19 20 21 22 23]\n",
      " [24 25 26 27 28 29]\n",
      " [30 31 32 33 34 35]]\n"
     ]
    },
    {
     "data": {
      "text/plain": [
       "[array([[ 0,  1,  2,  3,  4,  5],\n",
       "        [ 6,  7,  8,  9, 10, 11],\n",
       "        [12, 13, 14, 15, 16, 17]]),\n",
       " array([[18, 19, 20, 21, 22, 23],\n",
       "        [24, 25, 26, 27, 28, 29],\n",
       "        [30, 31, 32, 33, 34, 35]])]"
      ]
     },
     "execution_count": 188,
     "metadata": {},
     "output_type": "execute_result"
    }
   ],
   "source": [
    "a = np.arange(6*6).reshape((6,6))\n",
    "print(a)\n",
    "np.split(a, 6, axis=0)\n",
    "np.split(a, 3, axis=0)\n",
    "np.split(a, 2, axis=0)"
   ]
  },
  {
   "cell_type": "code",
   "execution_count": 189,
   "metadata": {},
   "outputs": [
    {
     "name": "stdout",
     "output_type": "stream",
     "text": [
      "[[ 0  1  2  3  4  5]\n",
      " [ 6  7  8  9 10 11]\n",
      " [12 13 14 15 16 17]\n",
      " [18 19 20 21 22 23]\n",
      " [24 25 26 27 28 29]\n",
      " [30 31 32 33 34 35]]\n"
     ]
    },
    {
     "data": {
      "text/plain": [
       "array([[ 0,  1,  2],\n",
       "       [ 6,  7,  8],\n",
       "       [12, 13, 14],\n",
       "       [18, 19, 20],\n",
       "       [24, 25, 26],\n",
       "       [30, 31, 32]])"
      ]
     },
     "execution_count": 189,
     "metadata": {},
     "output_type": "execute_result"
    }
   ],
   "source": [
    "a = np.arange(6*6).reshape((6,6))\n",
    "print(a)\n",
    "np.split(a, 6, axis=1)\n",
    "np.split(a, 3, axis=1)\n",
    "np.split(a, 2, axis=1)[0]"
   ]
  },
  {
   "cell_type": "code",
   "execution_count": 190,
   "metadata": {},
   "outputs": [
    {
     "name": "stdout",
     "output_type": "stream",
     "text": [
      "\u001b[1;31mSignature:\u001b[0m \u001b[0mnp\u001b[0m\u001b[1;33m.\u001b[0m\u001b[0mdsplit\u001b[0m\u001b[1;33m(\u001b[0m\u001b[0mary\u001b[0m\u001b[1;33m,\u001b[0m \u001b[0mindices_or_sections\u001b[0m\u001b[1;33m)\u001b[0m\u001b[1;33m\u001b[0m\u001b[1;33m\u001b[0m\u001b[0m\n",
      "\u001b[1;31mSource:\u001b[0m   \n",
      "\u001b[1;33m@\u001b[0m\u001b[0marray_function_dispatch\u001b[0m\u001b[1;33m(\u001b[0m\u001b[0m_hvdsplit_dispatcher\u001b[0m\u001b[1;33m)\u001b[0m\u001b[1;33m\n",
      "\u001b[0m\u001b[1;32mdef\u001b[0m \u001b[0mdsplit\u001b[0m\u001b[1;33m(\u001b[0m\u001b[0mary\u001b[0m\u001b[1;33m,\u001b[0m \u001b[0mindices_or_sections\u001b[0m\u001b[1;33m)\u001b[0m\u001b[1;33m:\u001b[0m\u001b[1;33m\n",
      "\u001b[0m    \u001b[1;34m\"\"\"\n",
      "    Split array into multiple sub-arrays along the 3rd axis (depth).\n",
      "\n",
      "    Please refer to the `split` documentation.  `dsplit` is equivalent\n",
      "    to `split` with ``axis=2``, the array is always split along the third\n",
      "    axis provided the array dimension is greater than or equal to 3.\n",
      "\n",
      "    See Also\n",
      "    --------\n",
      "    split : Split an array into multiple sub-arrays of equal size.\n",
      "\n",
      "    Examples\n",
      "    --------\n",
      "    >>> x = np.arange(16.0).reshape(2, 2, 4)\n",
      "    >>> x\n",
      "    array([[[ 0.,   1.,   2.,   3.],\n",
      "            [ 4.,   5.,   6.,   7.]],\n",
      "           [[ 8.,   9.,  10.,  11.],\n",
      "            [12.,  13.,  14.,  15.]]])\n",
      "    >>> np.dsplit(x, 2)\n",
      "    [array([[[ 0.,  1.],\n",
      "            [ 4.,  5.]],\n",
      "           [[ 8.,  9.],\n",
      "            [12., 13.]]]), array([[[ 2.,  3.],\n",
      "            [ 6.,  7.]],\n",
      "           [[10., 11.],\n",
      "            [14., 15.]]])]\n",
      "    >>> np.dsplit(x, np.array([3, 6]))\n",
      "    [array([[[ 0.,   1.,   2.],\n",
      "            [ 4.,   5.,   6.]],\n",
      "           [[ 8.,   9.,  10.],\n",
      "            [12.,  13.,  14.]]]),\n",
      "     array([[[ 3.],\n",
      "            [ 7.]],\n",
      "           [[11.],\n",
      "            [15.]]]),\n",
      "    array([], shape=(2, 2, 0), dtype=float64)]\n",
      "    \"\"\"\u001b[0m\u001b[1;33m\n",
      "\u001b[0m    \u001b[1;32mif\u001b[0m \u001b[0m_nx\u001b[0m\u001b[1;33m.\u001b[0m\u001b[0mndim\u001b[0m\u001b[1;33m(\u001b[0m\u001b[0mary\u001b[0m\u001b[1;33m)\u001b[0m \u001b[1;33m<\u001b[0m \u001b[1;36m3\u001b[0m\u001b[1;33m:\u001b[0m\u001b[1;33m\n",
      "\u001b[0m        \u001b[1;32mraise\u001b[0m \u001b[0mValueError\u001b[0m\u001b[1;33m(\u001b[0m\u001b[1;34m'dsplit only works on arrays of 3 or more dimensions'\u001b[0m\u001b[1;33m)\u001b[0m\u001b[1;33m\n",
      "\u001b[0m    \u001b[1;32mreturn\u001b[0m \u001b[0msplit\u001b[0m\u001b[1;33m(\u001b[0m\u001b[0mary\u001b[0m\u001b[1;33m,\u001b[0m \u001b[0mindices_or_sections\u001b[0m\u001b[1;33m,\u001b[0m \u001b[1;36m2\u001b[0m\u001b[1;33m)\u001b[0m\u001b[1;33m\u001b[0m\u001b[1;33m\u001b[0m\u001b[0m\n",
      "\u001b[1;31mFile:\u001b[0m      c:\\users\\hassan\\appdata\\local\\programs\\python\\python310\\lib\\site-packages\\numpy\\lib\\shape_base.py\n",
      "\u001b[1;31mType:\u001b[0m      function\n"
     ]
    }
   ],
   "source": [
    "np.dsplit??"
   ]
  },
  {
   "cell_type": "code",
   "execution_count": 191,
   "metadata": {},
   "outputs": [
    {
     "name": "stdout",
     "output_type": "stream",
     "text": [
      "[[[0 1]\n",
      "  [2 3]]\n",
      "\n",
      " [[4 5]\n",
      "  [6 7]]]\n"
     ]
    },
    {
     "data": {
      "text/plain": [
       "[array([[[0],\n",
       "         [2]],\n",
       " \n",
       "        [[4],\n",
       "         [6]]]),\n",
       " array([[[1],\n",
       "         [3]],\n",
       " \n",
       "        [[5],\n",
       "         [7]]])]"
      ]
     },
     "execution_count": 191,
     "metadata": {},
     "output_type": "execute_result"
    }
   ],
   "source": [
    "a = np.arange(2*2*2).reshape((2,2,2))\n",
    "p=print(a)\n",
    "\n",
    "np.dsplit(a, 2)"
   ]
  },
  {
   "cell_type": "markdown",
   "metadata": {},
   "source": [
    "# Table 4-6. Array set operations"
   ]
  },
  {
   "cell_type": "code",
   "execution_count": 192,
   "metadata": {},
   "outputs": [
    {
     "name": "stdout",
     "output_type": "stream",
     "text": [
      "[5 8 7 5 3 9 6 9 1 1 7 1 7 7 7 5 3 7 3 1]\n"
     ]
    },
    {
     "data": {
      "text/plain": [
       "array([1, 3, 5, 6, 7, 8, 9])"
      ]
     },
     "execution_count": 192,
     "metadata": {},
     "output_type": "execute_result"
    }
   ],
   "source": [
    "a = np.random.randint(1,10, size=20)\n",
    "print(a)\n",
    "np.unique(a)"
   ]
  },
  {
   "cell_type": "code",
   "execution_count": 193,
   "metadata": {},
   "outputs": [
    {
     "name": "stdout",
     "output_type": "stream",
     "text": [
      "[63 76 61  6 36 76 56 25 28  5 27 87 50 39 37 33 41 37 55 52 74 81 33 43\n",
      " 12 99 28 88 90 13]\n",
      "\n",
      "[6 9 3 8 4]\n"
     ]
    }
   ],
   "source": [
    "piaic = np.random.randint(1,100, size=30)\n",
    "cnic = np.random.randint(1,10, size=5)\n",
    "print(piaic, cnic,sep='\\n\\n')"
   ]
  },
  {
   "cell_type": "code",
   "execution_count": 194,
   "metadata": {},
   "outputs": [
    {
     "data": {
      "text/plain": [
       "[True, False, False, False, False]"
      ]
     },
     "execution_count": 194,
     "metadata": {},
     "output_type": "execute_result"
    }
   ],
   "source": [
    "[True if x in piaic else False for x in cnic]"
   ]
  },
  {
   "cell_type": "code",
   "execution_count": 195,
   "metadata": {},
   "outputs": [
    {
     "data": {
      "text/plain": [
       "[True, False, False, False, False]"
      ]
     },
     "execution_count": 195,
     "metadata": {},
     "output_type": "execute_result"
    }
   ],
   "source": [
    "[x in piaic for x in cnic]"
   ]
  },
  {
   "cell_type": "code",
   "execution_count": 196,
   "metadata": {},
   "outputs": [
    {
     "data": {
      "text/plain": [
       "['Yes', 'NO', 'NO', 'NO', 'NO']"
      ]
     },
     "execution_count": 196,
     "metadata": {},
     "output_type": "execute_result"
    }
   ],
   "source": [
    "[\"Yes\" if x in piaic else \"NO\" for x in cnic]"
   ]
  },
  {
   "cell_type": "code",
   "execution_count": 197,
   "metadata": {},
   "outputs": [
    {
     "name": "stdout",
     "output_type": "stream",
     "text": [
      "[63 76 61  6 36 76 56 25 28  5 27 87 50 39 37 33 41 37 55 52 74 81 33 43\n",
      " 12 99 28 88 90 13]\n",
      "\n",
      "[6 9 3 8 4]\n"
     ]
    },
    {
     "data": {
      "text/plain": [
       "array([ True, False, False, False, False])"
      ]
     },
     "execution_count": 197,
     "metadata": {},
     "output_type": "execute_result"
    }
   ],
   "source": [
    "print(piaic, cnic,sep='\\n\\n')\n",
    "np.in1d(cnic, piaic)\n"
   ]
  },
  {
   "cell_type": "code",
   "execution_count": 198,
   "metadata": {},
   "outputs": [
    {
     "name": "stdout",
     "output_type": "stream",
     "text": [
      "[63 76 61  6 36 76 56 25 28  5 27 87 50 39 37 33 41 37 55 52 74 81 33 43\n",
      " 12 99 28 88 90 13]\n",
      "\n",
      "[6 9 3 8 4]\n"
     ]
    },
    {
     "data": {
      "text/plain": [
       "array(['Yes', 'No', 'No', 'No', 'No'], dtype='<U3')"
      ]
     },
     "execution_count": 198,
     "metadata": {},
     "output_type": "execute_result"
    }
   ],
   "source": [
    "print(piaic, cnic,sep='\\n\\n')\n",
    "c = np.in1d(cnic, piaic)\n",
    "np.where(c==True,\"Yes\",\"No\")"
   ]
  },
  {
   "cell_type": "code",
   "execution_count": 199,
   "metadata": {},
   "outputs": [
    {
     "name": "stdout",
     "output_type": "stream",
     "text": [
      "[63 76 61  6 36 76 56 25 28  5 27 87 50 39 37 33 41 37 55 52 74 81 33 43\n",
      " 12 99 28 88 90 13]\n",
      "\n",
      "[6 9 3 8 4]\n"
     ]
    },
    {
     "data": {
      "text/plain": [
       "array([6])"
      ]
     },
     "execution_count": 199,
     "metadata": {},
     "output_type": "execute_result"
    }
   ],
   "source": [
    "print(piaic, cnic,sep='\\n\\n')\n",
    "np.intersect1d(cnic, piaic)"
   ]
  },
  {
   "cell_type": "code",
   "execution_count": 200,
   "metadata": {},
   "outputs": [
    {
     "name": "stdout",
     "output_type": "stream",
     "text": [
      "[63 76 61  6 36 76 56 25 28  5 27 87 50 39 37 33 41 37 55 52 74 81 33 43\n",
      " 12 99 28 88 90 13]\n",
      "\n",
      "[6 9 3 8 4]\n"
     ]
    },
    {
     "data": {
      "text/plain": [
       "array([ 3,  4,  5,  6,  8,  9, 12, 13, 25, 27, 28, 33, 36, 37, 39, 41, 43,\n",
       "       50, 52, 55, 56, 61, 63, 74, 76, 81, 87, 88, 90, 99])"
      ]
     },
     "execution_count": 200,
     "metadata": {},
     "output_type": "execute_result"
    }
   ],
   "source": [
    "print(piaic, cnic,sep='\\n\\n')\n",
    "np.union1d(cnic, piaic)"
   ]
  },
  {
   "cell_type": "code",
   "execution_count": 201,
   "metadata": {},
   "outputs": [
    {
     "name": "stdout",
     "output_type": "stream",
     "text": [
      "[63 76 61  6 36 76 56 25 28  5 27 87 50 39 37 33 41 37 55 52 74 81 33 43\n",
      " 12 99 28 88 90 13]\n",
      "\n",
      "[6 9 3 8 4]\n"
     ]
    },
    {
     "data": {
      "text/plain": [
       "array([3, 4, 8, 9])"
      ]
     },
     "execution_count": 201,
     "metadata": {},
     "output_type": "execute_result"
    }
   ],
   "source": [
    "print(piaic, cnic,sep='\\n\\n')\n",
    "np.setdiff1d(cnic, piaic)"
   ]
  },
  {
   "cell_type": "code",
   "execution_count": 202,
   "metadata": {},
   "outputs": [
    {
     "name": "stdout",
     "output_type": "stream",
     "text": [
      "[63 76 61  6 36 76 56 25 28  5 27 87 50 39 37 33 41 37 55 52 74 81 33 43\n",
      " 12 99 28 88 90 13]\n",
      "\n",
      "[6 9 3 8 4]\n"
     ]
    },
    {
     "data": {
      "text/plain": [
       "array([ 3,  4,  5,  8,  9, 12, 13, 25, 27, 28, 33, 36, 37, 39, 41, 43, 50,\n",
       "       52, 55, 56, 61, 63, 74, 76, 81, 87, 88, 90, 99])"
      ]
     },
     "execution_count": 202,
     "metadata": {},
     "output_type": "execute_result"
    }
   ],
   "source": [
    "# XOR\n",
    "# 0 0 -> 0\n",
    "# 1 0 -> 1\n",
    "# 0 1 -> 1\n",
    "# 1 1 -> 0\n",
    "print(piaic, cnic,sep='\\n\\n')\n",
    "np.setxor1d(cnic, piaic)"
   ]
  },
  {
   "cell_type": "code",
   "execution_count": 203,
   "metadata": {},
   "outputs": [
    {
     "name": "stdout",
     "output_type": "stream",
     "text": [
      "[[0 1]\n",
      " [2 3]]\n",
      "[[4 5]\n",
      " [6 7]]\n",
      "[[ 9 10]\n",
      " [11 12]]\n"
     ]
    },
    {
     "data": {
      "text/plain": [
       "array([[ 0,  1],\n",
       "       [ 2,  3],\n",
       "       [ 4,  5],\n",
       "       [ 6,  7],\n",
       "       [ 9, 10],\n",
       "       [11, 12]])"
      ]
     },
     "execution_count": 203,
     "metadata": {},
     "output_type": "execute_result"
    }
   ],
   "source": [
    "import numpy as np\n",
    "\n",
    "a = np.arange(4).reshape(2 , 2)\n",
    "print(a)\n",
    "\n",
    "b = np.arange(4,8).reshape(2,2)\n",
    "print(b)\n",
    "\n",
    "c = np.arange(9,13).reshape(2,2)\n",
    "print(c)\n",
    "\n",
    "np.vstack((a, b,c))"
   ]
  }
 ],
 "metadata": {
  "kernelspec": {
   "display_name": "Python 3",
   "language": "python",
   "name": "python3"
  },
  "language_info": {
   "codemirror_mode": {
    "name": "ipython",
    "version": 3
   },
   "file_extension": ".py",
   "mimetype": "text/x-python",
   "name": "python",
   "nbconvert_exporter": "python",
   "pygments_lexer": "ipython3",
   "version": "3.10.1"
  }
 },
 "nbformat": 4,
 "nbformat_minor": 2
}
